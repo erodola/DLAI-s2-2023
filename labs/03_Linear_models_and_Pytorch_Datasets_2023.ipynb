{
  "nbformat": 4,
  "nbformat_minor": 0,
  "metadata": {
    "colab": {
      "provenance": [],
      "collapsed_sections": [
        "4C5Ct9yoZKYa",
        "dHLO4Z-T_yxB",
        "GPHftSvUaIhe",
        "0PAIT1NjFUhk",
        "8htU_ACVGQY5",
        "i8kq5mSFOHul",
        "mhRdUyWpwX-v",
        "yTDKBC5GL7MI",
        "CENyGHlSp_FX",
        "FXq55ce581os",
        "5z1iX6ltDTx8",
        "Tvpx3YbdcKlK",
        "ndnx7HJxkvXH",
        "SYYP8rCj2-Ae",
        "Q4l1TIvepi6H",
        "zFEIytCKlMsQ",
        "DUhUSCRNoTQb"
      ],
      "toc_visible": true
    },
    "kernelspec": {
      "name": "python3",
      "display_name": "Python 3"
    },
    "accelerator": "GPU",
    "widgets": {
      "application/vnd.jupyter.widget-state+json": {
        "df2293c2e369468196ccdd9aa8ee589b": {
          "model_module": "@jupyter-widgets/controls",
          "model_name": "HBoxModel",
          "model_module_version": "1.5.0",
          "state": {
            "_dom_classes": [],
            "_model_module": "@jupyter-widgets/controls",
            "_model_module_version": "1.5.0",
            "_model_name": "HBoxModel",
            "_view_count": null,
            "_view_module": "@jupyter-widgets/controls",
            "_view_module_version": "1.5.0",
            "_view_name": "HBoxView",
            "box_style": "",
            "children": [
              "IPY_MODEL_f72b61c1dd6f4ed489c71025b4dd22e8",
              "IPY_MODEL_980e570682ae421db80b510b45ec7fc5",
              "IPY_MODEL_59babf2167d24dbb864639b2d6a753f0"
            ],
            "layout": "IPY_MODEL_1c071d93852140868286ff5ea6361be7"
          }
        },
        "f72b61c1dd6f4ed489c71025b4dd22e8": {
          "model_module": "@jupyter-widgets/controls",
          "model_name": "HTMLModel",
          "model_module_version": "1.5.0",
          "state": {
            "_dom_classes": [],
            "_model_module": "@jupyter-widgets/controls",
            "_model_module_version": "1.5.0",
            "_model_name": "HTMLModel",
            "_view_count": null,
            "_view_module": "@jupyter-widgets/controls",
            "_view_module_version": "1.5.0",
            "_view_name": "HTMLView",
            "description": "",
            "description_tooltip": null,
            "layout": "IPY_MODEL_812d68455889467db753613884922382",
            "placeholder": "​",
            "style": "IPY_MODEL_4dac619916fb4f3b89d159f3380840b1",
            "value": "100%"
          }
        },
        "980e570682ae421db80b510b45ec7fc5": {
          "model_module": "@jupyter-widgets/controls",
          "model_name": "FloatProgressModel",
          "model_module_version": "1.5.0",
          "state": {
            "_dom_classes": [],
            "_model_module": "@jupyter-widgets/controls",
            "_model_module_version": "1.5.0",
            "_model_name": "FloatProgressModel",
            "_view_count": null,
            "_view_module": "@jupyter-widgets/controls",
            "_view_module_version": "1.5.0",
            "_view_name": "ProgressView",
            "bar_style": "success",
            "description": "",
            "description_tooltip": null,
            "layout": "IPY_MODEL_abd13ec924d24aa3b553197701a4091a",
            "max": 20,
            "min": 0,
            "orientation": "horizontal",
            "style": "IPY_MODEL_8261ff60e5a7410393a782fa1e9ac3ab",
            "value": 20
          }
        },
        "59babf2167d24dbb864639b2d6a753f0": {
          "model_module": "@jupyter-widgets/controls",
          "model_name": "HTMLModel",
          "model_module_version": "1.5.0",
          "state": {
            "_dom_classes": [],
            "_model_module": "@jupyter-widgets/controls",
            "_model_module_version": "1.5.0",
            "_model_name": "HTMLModel",
            "_view_count": null,
            "_view_module": "@jupyter-widgets/controls",
            "_view_module_version": "1.5.0",
            "_view_name": "HTMLView",
            "description": "",
            "description_tooltip": null,
            "layout": "IPY_MODEL_ca661c1741264884a7667646b3392346",
            "placeholder": "​",
            "style": "IPY_MODEL_d99f3934a8ca4b9f931e4be5c3beadc1",
            "value": " 20/20 [00:00&lt;00:00, 437.21it/s]"
          }
        },
        "1c071d93852140868286ff5ea6361be7": {
          "model_module": "@jupyter-widgets/base",
          "model_name": "LayoutModel",
          "model_module_version": "1.2.0",
          "state": {
            "_model_module": "@jupyter-widgets/base",
            "_model_module_version": "1.2.0",
            "_model_name": "LayoutModel",
            "_view_count": null,
            "_view_module": "@jupyter-widgets/base",
            "_view_module_version": "1.2.0",
            "_view_name": "LayoutView",
            "align_content": null,
            "align_items": null,
            "align_self": null,
            "border": null,
            "bottom": null,
            "display": null,
            "flex": null,
            "flex_flow": null,
            "grid_area": null,
            "grid_auto_columns": null,
            "grid_auto_flow": null,
            "grid_auto_rows": null,
            "grid_column": null,
            "grid_gap": null,
            "grid_row": null,
            "grid_template_areas": null,
            "grid_template_columns": null,
            "grid_template_rows": null,
            "height": null,
            "justify_content": null,
            "justify_items": null,
            "left": null,
            "margin": null,
            "max_height": null,
            "max_width": null,
            "min_height": null,
            "min_width": null,
            "object_fit": null,
            "object_position": null,
            "order": null,
            "overflow": null,
            "overflow_x": null,
            "overflow_y": null,
            "padding": null,
            "right": null,
            "top": null,
            "visibility": null,
            "width": null
          }
        },
        "812d68455889467db753613884922382": {
          "model_module": "@jupyter-widgets/base",
          "model_name": "LayoutModel",
          "model_module_version": "1.2.0",
          "state": {
            "_model_module": "@jupyter-widgets/base",
            "_model_module_version": "1.2.0",
            "_model_name": "LayoutModel",
            "_view_count": null,
            "_view_module": "@jupyter-widgets/base",
            "_view_module_version": "1.2.0",
            "_view_name": "LayoutView",
            "align_content": null,
            "align_items": null,
            "align_self": null,
            "border": null,
            "bottom": null,
            "display": null,
            "flex": null,
            "flex_flow": null,
            "grid_area": null,
            "grid_auto_columns": null,
            "grid_auto_flow": null,
            "grid_auto_rows": null,
            "grid_column": null,
            "grid_gap": null,
            "grid_row": null,
            "grid_template_areas": null,
            "grid_template_columns": null,
            "grid_template_rows": null,
            "height": null,
            "justify_content": null,
            "justify_items": null,
            "left": null,
            "margin": null,
            "max_height": null,
            "max_width": null,
            "min_height": null,
            "min_width": null,
            "object_fit": null,
            "object_position": null,
            "order": null,
            "overflow": null,
            "overflow_x": null,
            "overflow_y": null,
            "padding": null,
            "right": null,
            "top": null,
            "visibility": null,
            "width": null
          }
        },
        "4dac619916fb4f3b89d159f3380840b1": {
          "model_module": "@jupyter-widgets/controls",
          "model_name": "DescriptionStyleModel",
          "model_module_version": "1.5.0",
          "state": {
            "_model_module": "@jupyter-widgets/controls",
            "_model_module_version": "1.5.0",
            "_model_name": "DescriptionStyleModel",
            "_view_count": null,
            "_view_module": "@jupyter-widgets/base",
            "_view_module_version": "1.2.0",
            "_view_name": "StyleView",
            "description_width": ""
          }
        },
        "abd13ec924d24aa3b553197701a4091a": {
          "model_module": "@jupyter-widgets/base",
          "model_name": "LayoutModel",
          "model_module_version": "1.2.0",
          "state": {
            "_model_module": "@jupyter-widgets/base",
            "_model_module_version": "1.2.0",
            "_model_name": "LayoutModel",
            "_view_count": null,
            "_view_module": "@jupyter-widgets/base",
            "_view_module_version": "1.2.0",
            "_view_name": "LayoutView",
            "align_content": null,
            "align_items": null,
            "align_self": null,
            "border": null,
            "bottom": null,
            "display": null,
            "flex": null,
            "flex_flow": null,
            "grid_area": null,
            "grid_auto_columns": null,
            "grid_auto_flow": null,
            "grid_auto_rows": null,
            "grid_column": null,
            "grid_gap": null,
            "grid_row": null,
            "grid_template_areas": null,
            "grid_template_columns": null,
            "grid_template_rows": null,
            "height": null,
            "justify_content": null,
            "justify_items": null,
            "left": null,
            "margin": null,
            "max_height": null,
            "max_width": null,
            "min_height": null,
            "min_width": null,
            "object_fit": null,
            "object_position": null,
            "order": null,
            "overflow": null,
            "overflow_x": null,
            "overflow_y": null,
            "padding": null,
            "right": null,
            "top": null,
            "visibility": null,
            "width": null
          }
        },
        "8261ff60e5a7410393a782fa1e9ac3ab": {
          "model_module": "@jupyter-widgets/controls",
          "model_name": "ProgressStyleModel",
          "model_module_version": "1.5.0",
          "state": {
            "_model_module": "@jupyter-widgets/controls",
            "_model_module_version": "1.5.0",
            "_model_name": "ProgressStyleModel",
            "_view_count": null,
            "_view_module": "@jupyter-widgets/base",
            "_view_module_version": "1.2.0",
            "_view_name": "StyleView",
            "bar_color": null,
            "description_width": ""
          }
        },
        "ca661c1741264884a7667646b3392346": {
          "model_module": "@jupyter-widgets/base",
          "model_name": "LayoutModel",
          "model_module_version": "1.2.0",
          "state": {
            "_model_module": "@jupyter-widgets/base",
            "_model_module_version": "1.2.0",
            "_model_name": "LayoutModel",
            "_view_count": null,
            "_view_module": "@jupyter-widgets/base",
            "_view_module_version": "1.2.0",
            "_view_name": "LayoutView",
            "align_content": null,
            "align_items": null,
            "align_self": null,
            "border": null,
            "bottom": null,
            "display": null,
            "flex": null,
            "flex_flow": null,
            "grid_area": null,
            "grid_auto_columns": null,
            "grid_auto_flow": null,
            "grid_auto_rows": null,
            "grid_column": null,
            "grid_gap": null,
            "grid_row": null,
            "grid_template_areas": null,
            "grid_template_columns": null,
            "grid_template_rows": null,
            "height": null,
            "justify_content": null,
            "justify_items": null,
            "left": null,
            "margin": null,
            "max_height": null,
            "max_width": null,
            "min_height": null,
            "min_width": null,
            "object_fit": null,
            "object_position": null,
            "order": null,
            "overflow": null,
            "overflow_x": null,
            "overflow_y": null,
            "padding": null,
            "right": null,
            "top": null,
            "visibility": null,
            "width": null
          }
        },
        "d99f3934a8ca4b9f931e4be5c3beadc1": {
          "model_module": "@jupyter-widgets/controls",
          "model_name": "DescriptionStyleModel",
          "model_module_version": "1.5.0",
          "state": {
            "_model_module": "@jupyter-widgets/controls",
            "_model_module_version": "1.5.0",
            "_model_name": "DescriptionStyleModel",
            "_view_count": null,
            "_view_module": "@jupyter-widgets/base",
            "_view_module_version": "1.2.0",
            "_view_name": "StyleView",
            "description_width": ""
          }
        },
        "dd8ab0f7907c4fdfbada86013fde372e": {
          "model_module": "@jupyter-widgets/controls",
          "model_name": "HBoxModel",
          "model_module_version": "1.5.0",
          "state": {
            "_dom_classes": [],
            "_model_module": "@jupyter-widgets/controls",
            "_model_module_version": "1.5.0",
            "_model_name": "HBoxModel",
            "_view_count": null,
            "_view_module": "@jupyter-widgets/controls",
            "_view_module_version": "1.5.0",
            "_view_name": "HBoxView",
            "box_style": "",
            "children": [
              "IPY_MODEL_e6463cb8d7bf4f7386b9d78319242a2b",
              "IPY_MODEL_8b1e7606cc004cbfaa30995eb93f4f33",
              "IPY_MODEL_3958333dc0904478a462c39162060060"
            ],
            "layout": "IPY_MODEL_aa2b352e5cba491ebe01ab363cf11430"
          }
        },
        "e6463cb8d7bf4f7386b9d78319242a2b": {
          "model_module": "@jupyter-widgets/controls",
          "model_name": "HTMLModel",
          "model_module_version": "1.5.0",
          "state": {
            "_dom_classes": [],
            "_model_module": "@jupyter-widgets/controls",
            "_model_module_version": "1.5.0",
            "_model_name": "HTMLModel",
            "_view_count": null,
            "_view_module": "@jupyter-widgets/controls",
            "_view_module_version": "1.5.0",
            "_view_name": "HTMLView",
            "description": "",
            "description_tooltip": null,
            "layout": "IPY_MODEL_cf683aa850bf4f779014fa3791547f88",
            "placeholder": "​",
            "style": "IPY_MODEL_a11a1523d599499087d38741db85582d",
            "value": "100%"
          }
        },
        "8b1e7606cc004cbfaa30995eb93f4f33": {
          "model_module": "@jupyter-widgets/controls",
          "model_name": "FloatProgressModel",
          "model_module_version": "1.5.0",
          "state": {
            "_dom_classes": [],
            "_model_module": "@jupyter-widgets/controls",
            "_model_module_version": "1.5.0",
            "_model_name": "FloatProgressModel",
            "_view_count": null,
            "_view_module": "@jupyter-widgets/controls",
            "_view_module_version": "1.5.0",
            "_view_name": "ProgressView",
            "bar_style": "success",
            "description": "",
            "description_tooltip": null,
            "layout": "IPY_MODEL_2ff2399388d44eb78f0b32119c028688",
            "max": 200,
            "min": 0,
            "orientation": "horizontal",
            "style": "IPY_MODEL_b883bd2276f3449594975e6349fbe5c8",
            "value": 200
          }
        },
        "3958333dc0904478a462c39162060060": {
          "model_module": "@jupyter-widgets/controls",
          "model_name": "HTMLModel",
          "model_module_version": "1.5.0",
          "state": {
            "_dom_classes": [],
            "_model_module": "@jupyter-widgets/controls",
            "_model_module_version": "1.5.0",
            "_model_name": "HTMLModel",
            "_view_count": null,
            "_view_module": "@jupyter-widgets/controls",
            "_view_module_version": "1.5.0",
            "_view_name": "HTMLView",
            "description": "",
            "description_tooltip": null,
            "layout": "IPY_MODEL_dc947649191444f78484ff2dd59ed6ec",
            "placeholder": "​",
            "style": "IPY_MODEL_a212a5fa9e6b4d1c9fd1cf743e126078",
            "value": " 200/200 [00:00&lt;00:00, 8781.49it/s]"
          }
        },
        "aa2b352e5cba491ebe01ab363cf11430": {
          "model_module": "@jupyter-widgets/base",
          "model_name": "LayoutModel",
          "model_module_version": "1.2.0",
          "state": {
            "_model_module": "@jupyter-widgets/base",
            "_model_module_version": "1.2.0",
            "_model_name": "LayoutModel",
            "_view_count": null,
            "_view_module": "@jupyter-widgets/base",
            "_view_module_version": "1.2.0",
            "_view_name": "LayoutView",
            "align_content": null,
            "align_items": null,
            "align_self": null,
            "border": null,
            "bottom": null,
            "display": null,
            "flex": null,
            "flex_flow": null,
            "grid_area": null,
            "grid_auto_columns": null,
            "grid_auto_flow": null,
            "grid_auto_rows": null,
            "grid_column": null,
            "grid_gap": null,
            "grid_row": null,
            "grid_template_areas": null,
            "grid_template_columns": null,
            "grid_template_rows": null,
            "height": null,
            "justify_content": null,
            "justify_items": null,
            "left": null,
            "margin": null,
            "max_height": null,
            "max_width": null,
            "min_height": null,
            "min_width": null,
            "object_fit": null,
            "object_position": null,
            "order": null,
            "overflow": null,
            "overflow_x": null,
            "overflow_y": null,
            "padding": null,
            "right": null,
            "top": null,
            "visibility": null,
            "width": null
          }
        },
        "cf683aa850bf4f779014fa3791547f88": {
          "model_module": "@jupyter-widgets/base",
          "model_name": "LayoutModel",
          "model_module_version": "1.2.0",
          "state": {
            "_model_module": "@jupyter-widgets/base",
            "_model_module_version": "1.2.0",
            "_model_name": "LayoutModel",
            "_view_count": null,
            "_view_module": "@jupyter-widgets/base",
            "_view_module_version": "1.2.0",
            "_view_name": "LayoutView",
            "align_content": null,
            "align_items": null,
            "align_self": null,
            "border": null,
            "bottom": null,
            "display": null,
            "flex": null,
            "flex_flow": null,
            "grid_area": null,
            "grid_auto_columns": null,
            "grid_auto_flow": null,
            "grid_auto_rows": null,
            "grid_column": null,
            "grid_gap": null,
            "grid_row": null,
            "grid_template_areas": null,
            "grid_template_columns": null,
            "grid_template_rows": null,
            "height": null,
            "justify_content": null,
            "justify_items": null,
            "left": null,
            "margin": null,
            "max_height": null,
            "max_width": null,
            "min_height": null,
            "min_width": null,
            "object_fit": null,
            "object_position": null,
            "order": null,
            "overflow": null,
            "overflow_x": null,
            "overflow_y": null,
            "padding": null,
            "right": null,
            "top": null,
            "visibility": null,
            "width": null
          }
        },
        "a11a1523d599499087d38741db85582d": {
          "model_module": "@jupyter-widgets/controls",
          "model_name": "DescriptionStyleModel",
          "model_module_version": "1.5.0",
          "state": {
            "_model_module": "@jupyter-widgets/controls",
            "_model_module_version": "1.5.0",
            "_model_name": "DescriptionStyleModel",
            "_view_count": null,
            "_view_module": "@jupyter-widgets/base",
            "_view_module_version": "1.2.0",
            "_view_name": "StyleView",
            "description_width": ""
          }
        },
        "2ff2399388d44eb78f0b32119c028688": {
          "model_module": "@jupyter-widgets/base",
          "model_name": "LayoutModel",
          "model_module_version": "1.2.0",
          "state": {
            "_model_module": "@jupyter-widgets/base",
            "_model_module_version": "1.2.0",
            "_model_name": "LayoutModel",
            "_view_count": null,
            "_view_module": "@jupyter-widgets/base",
            "_view_module_version": "1.2.0",
            "_view_name": "LayoutView",
            "align_content": null,
            "align_items": null,
            "align_self": null,
            "border": null,
            "bottom": null,
            "display": null,
            "flex": null,
            "flex_flow": null,
            "grid_area": null,
            "grid_auto_columns": null,
            "grid_auto_flow": null,
            "grid_auto_rows": null,
            "grid_column": null,
            "grid_gap": null,
            "grid_row": null,
            "grid_template_areas": null,
            "grid_template_columns": null,
            "grid_template_rows": null,
            "height": null,
            "justify_content": null,
            "justify_items": null,
            "left": null,
            "margin": null,
            "max_height": null,
            "max_width": null,
            "min_height": null,
            "min_width": null,
            "object_fit": null,
            "object_position": null,
            "order": null,
            "overflow": null,
            "overflow_x": null,
            "overflow_y": null,
            "padding": null,
            "right": null,
            "top": null,
            "visibility": null,
            "width": null
          }
        },
        "b883bd2276f3449594975e6349fbe5c8": {
          "model_module": "@jupyter-widgets/controls",
          "model_name": "ProgressStyleModel",
          "model_module_version": "1.5.0",
          "state": {
            "_model_module": "@jupyter-widgets/controls",
            "_model_module_version": "1.5.0",
            "_model_name": "ProgressStyleModel",
            "_view_count": null,
            "_view_module": "@jupyter-widgets/base",
            "_view_module_version": "1.2.0",
            "_view_name": "StyleView",
            "bar_color": null,
            "description_width": ""
          }
        },
        "dc947649191444f78484ff2dd59ed6ec": {
          "model_module": "@jupyter-widgets/base",
          "model_name": "LayoutModel",
          "model_module_version": "1.2.0",
          "state": {
            "_model_module": "@jupyter-widgets/base",
            "_model_module_version": "1.2.0",
            "_model_name": "LayoutModel",
            "_view_count": null,
            "_view_module": "@jupyter-widgets/base",
            "_view_module_version": "1.2.0",
            "_view_name": "LayoutView",
            "align_content": null,
            "align_items": null,
            "align_self": null,
            "border": null,
            "bottom": null,
            "display": null,
            "flex": null,
            "flex_flow": null,
            "grid_area": null,
            "grid_auto_columns": null,
            "grid_auto_flow": null,
            "grid_auto_rows": null,
            "grid_column": null,
            "grid_gap": null,
            "grid_row": null,
            "grid_template_areas": null,
            "grid_template_columns": null,
            "grid_template_rows": null,
            "height": null,
            "justify_content": null,
            "justify_items": null,
            "left": null,
            "margin": null,
            "max_height": null,
            "max_width": null,
            "min_height": null,
            "min_width": null,
            "object_fit": null,
            "object_position": null,
            "order": null,
            "overflow": null,
            "overflow_x": null,
            "overflow_y": null,
            "padding": null,
            "right": null,
            "top": null,
            "visibility": null,
            "width": null
          }
        },
        "a212a5fa9e6b4d1c9fd1cf743e126078": {
          "model_module": "@jupyter-widgets/controls",
          "model_name": "DescriptionStyleModel",
          "model_module_version": "1.5.0",
          "state": {
            "_model_module": "@jupyter-widgets/controls",
            "_model_module_version": "1.5.0",
            "_model_name": "DescriptionStyleModel",
            "_view_count": null,
            "_view_module": "@jupyter-widgets/base",
            "_view_module_version": "1.2.0",
            "_view_name": "StyleView",
            "description_width": ""
          }
        },
        "09718d0407244eadab345e1ebe201c74": {
          "model_module": "@jupyter-widgets/controls",
          "model_name": "HBoxModel",
          "model_module_version": "1.5.0",
          "state": {
            "_dom_classes": [],
            "_model_module": "@jupyter-widgets/controls",
            "_model_module_version": "1.5.0",
            "_model_name": "HBoxModel",
            "_view_count": null,
            "_view_module": "@jupyter-widgets/controls",
            "_view_module_version": "1.5.0",
            "_view_name": "HBoxView",
            "box_style": "",
            "children": [
              "IPY_MODEL_1f84842ab0f74359aa8ee18f195804b6",
              "IPY_MODEL_b81ba0c8d1fd435cbfeac30f3debffad",
              "IPY_MODEL_0397443832484bb9ac9df8faef94db7d"
            ],
            "layout": "IPY_MODEL_13ef383079384058ab690667f51a8a7f"
          }
        },
        "1f84842ab0f74359aa8ee18f195804b6": {
          "model_module": "@jupyter-widgets/controls",
          "model_name": "HTMLModel",
          "model_module_version": "1.5.0",
          "state": {
            "_dom_classes": [],
            "_model_module": "@jupyter-widgets/controls",
            "_model_module_version": "1.5.0",
            "_model_name": "HTMLModel",
            "_view_count": null,
            "_view_module": "@jupyter-widgets/controls",
            "_view_module_version": "1.5.0",
            "_view_name": "HTMLView",
            "description": "",
            "description_tooltip": null,
            "layout": "IPY_MODEL_cb5d0a494ff5493ca1b004f2b570069b",
            "placeholder": "​",
            "style": "IPY_MODEL_e91d7fbe8ad04afda86b217bf2828120",
            "value": "100%"
          }
        },
        "b81ba0c8d1fd435cbfeac30f3debffad": {
          "model_module": "@jupyter-widgets/controls",
          "model_name": "FloatProgressModel",
          "model_module_version": "1.5.0",
          "state": {
            "_dom_classes": [],
            "_model_module": "@jupyter-widgets/controls",
            "_model_module_version": "1.5.0",
            "_model_name": "FloatProgressModel",
            "_view_count": null,
            "_view_module": "@jupyter-widgets/controls",
            "_view_module_version": "1.5.0",
            "_view_name": "ProgressView",
            "bar_style": "success",
            "description": "",
            "description_tooltip": null,
            "layout": "IPY_MODEL_3bb93288c9194f21b98e704d32a7fece",
            "max": 25,
            "min": 0,
            "orientation": "horizontal",
            "style": "IPY_MODEL_3931adf83f0644a19d2ff08016ee4ff8",
            "value": 25
          }
        },
        "0397443832484bb9ac9df8faef94db7d": {
          "model_module": "@jupyter-widgets/controls",
          "model_name": "HTMLModel",
          "model_module_version": "1.5.0",
          "state": {
            "_dom_classes": [],
            "_model_module": "@jupyter-widgets/controls",
            "_model_module_version": "1.5.0",
            "_model_name": "HTMLModel",
            "_view_count": null,
            "_view_module": "@jupyter-widgets/controls",
            "_view_module_version": "1.5.0",
            "_view_name": "HTMLView",
            "description": "",
            "description_tooltip": null,
            "layout": "IPY_MODEL_ded528b5b55c44faabd637c6b985f3b7",
            "placeholder": "​",
            "style": "IPY_MODEL_ca60816d05714c1e86d3e5e66114d87a",
            "value": " 25/25 [00:07&lt;00:00,  7.73s/it]"
          }
        },
        "13ef383079384058ab690667f51a8a7f": {
          "model_module": "@jupyter-widgets/base",
          "model_name": "LayoutModel",
          "model_module_version": "1.2.0",
          "state": {
            "_model_module": "@jupyter-widgets/base",
            "_model_module_version": "1.2.0",
            "_model_name": "LayoutModel",
            "_view_count": null,
            "_view_module": "@jupyter-widgets/base",
            "_view_module_version": "1.2.0",
            "_view_name": "LayoutView",
            "align_content": null,
            "align_items": null,
            "align_self": null,
            "border": null,
            "bottom": null,
            "display": null,
            "flex": null,
            "flex_flow": null,
            "grid_area": null,
            "grid_auto_columns": null,
            "grid_auto_flow": null,
            "grid_auto_rows": null,
            "grid_column": null,
            "grid_gap": null,
            "grid_row": null,
            "grid_template_areas": null,
            "grid_template_columns": null,
            "grid_template_rows": null,
            "height": null,
            "justify_content": null,
            "justify_items": null,
            "left": null,
            "margin": null,
            "max_height": null,
            "max_width": null,
            "min_height": null,
            "min_width": null,
            "object_fit": null,
            "object_position": null,
            "order": null,
            "overflow": null,
            "overflow_x": null,
            "overflow_y": null,
            "padding": null,
            "right": null,
            "top": null,
            "visibility": null,
            "width": null
          }
        },
        "cb5d0a494ff5493ca1b004f2b570069b": {
          "model_module": "@jupyter-widgets/base",
          "model_name": "LayoutModel",
          "model_module_version": "1.2.0",
          "state": {
            "_model_module": "@jupyter-widgets/base",
            "_model_module_version": "1.2.0",
            "_model_name": "LayoutModel",
            "_view_count": null,
            "_view_module": "@jupyter-widgets/base",
            "_view_module_version": "1.2.0",
            "_view_name": "LayoutView",
            "align_content": null,
            "align_items": null,
            "align_self": null,
            "border": null,
            "bottom": null,
            "display": null,
            "flex": null,
            "flex_flow": null,
            "grid_area": null,
            "grid_auto_columns": null,
            "grid_auto_flow": null,
            "grid_auto_rows": null,
            "grid_column": null,
            "grid_gap": null,
            "grid_row": null,
            "grid_template_areas": null,
            "grid_template_columns": null,
            "grid_template_rows": null,
            "height": null,
            "justify_content": null,
            "justify_items": null,
            "left": null,
            "margin": null,
            "max_height": null,
            "max_width": null,
            "min_height": null,
            "min_width": null,
            "object_fit": null,
            "object_position": null,
            "order": null,
            "overflow": null,
            "overflow_x": null,
            "overflow_y": null,
            "padding": null,
            "right": null,
            "top": null,
            "visibility": null,
            "width": null
          }
        },
        "e91d7fbe8ad04afda86b217bf2828120": {
          "model_module": "@jupyter-widgets/controls",
          "model_name": "DescriptionStyleModel",
          "model_module_version": "1.5.0",
          "state": {
            "_model_module": "@jupyter-widgets/controls",
            "_model_module_version": "1.5.0",
            "_model_name": "DescriptionStyleModel",
            "_view_count": null,
            "_view_module": "@jupyter-widgets/base",
            "_view_module_version": "1.2.0",
            "_view_name": "StyleView",
            "description_width": ""
          }
        },
        "3bb93288c9194f21b98e704d32a7fece": {
          "model_module": "@jupyter-widgets/base",
          "model_name": "LayoutModel",
          "model_module_version": "1.2.0",
          "state": {
            "_model_module": "@jupyter-widgets/base",
            "_model_module_version": "1.2.0",
            "_model_name": "LayoutModel",
            "_view_count": null,
            "_view_module": "@jupyter-widgets/base",
            "_view_module_version": "1.2.0",
            "_view_name": "LayoutView",
            "align_content": null,
            "align_items": null,
            "align_self": null,
            "border": null,
            "bottom": null,
            "display": null,
            "flex": null,
            "flex_flow": null,
            "grid_area": null,
            "grid_auto_columns": null,
            "grid_auto_flow": null,
            "grid_auto_rows": null,
            "grid_column": null,
            "grid_gap": null,
            "grid_row": null,
            "grid_template_areas": null,
            "grid_template_columns": null,
            "grid_template_rows": null,
            "height": null,
            "justify_content": null,
            "justify_items": null,
            "left": null,
            "margin": null,
            "max_height": null,
            "max_width": null,
            "min_height": null,
            "min_width": null,
            "object_fit": null,
            "object_position": null,
            "order": null,
            "overflow": null,
            "overflow_x": null,
            "overflow_y": null,
            "padding": null,
            "right": null,
            "top": null,
            "visibility": null,
            "width": null
          }
        },
        "3931adf83f0644a19d2ff08016ee4ff8": {
          "model_module": "@jupyter-widgets/controls",
          "model_name": "ProgressStyleModel",
          "model_module_version": "1.5.0",
          "state": {
            "_model_module": "@jupyter-widgets/controls",
            "_model_module_version": "1.5.0",
            "_model_name": "ProgressStyleModel",
            "_view_count": null,
            "_view_module": "@jupyter-widgets/base",
            "_view_module_version": "1.2.0",
            "_view_name": "StyleView",
            "bar_color": null,
            "description_width": ""
          }
        },
        "ded528b5b55c44faabd637c6b985f3b7": {
          "model_module": "@jupyter-widgets/base",
          "model_name": "LayoutModel",
          "model_module_version": "1.2.0",
          "state": {
            "_model_module": "@jupyter-widgets/base",
            "_model_module_version": "1.2.0",
            "_model_name": "LayoutModel",
            "_view_count": null,
            "_view_module": "@jupyter-widgets/base",
            "_view_module_version": "1.2.0",
            "_view_name": "LayoutView",
            "align_content": null,
            "align_items": null,
            "align_self": null,
            "border": null,
            "bottom": null,
            "display": null,
            "flex": null,
            "flex_flow": null,
            "grid_area": null,
            "grid_auto_columns": null,
            "grid_auto_flow": null,
            "grid_auto_rows": null,
            "grid_column": null,
            "grid_gap": null,
            "grid_row": null,
            "grid_template_areas": null,
            "grid_template_columns": null,
            "grid_template_rows": null,
            "height": null,
            "justify_content": null,
            "justify_items": null,
            "left": null,
            "margin": null,
            "max_height": null,
            "max_width": null,
            "min_height": null,
            "min_width": null,
            "object_fit": null,
            "object_position": null,
            "order": null,
            "overflow": null,
            "overflow_x": null,
            "overflow_y": null,
            "padding": null,
            "right": null,
            "top": null,
            "visibility": null,
            "width": null
          }
        },
        "ca60816d05714c1e86d3e5e66114d87a": {
          "model_module": "@jupyter-widgets/controls",
          "model_name": "DescriptionStyleModel",
          "model_module_version": "1.5.0",
          "state": {
            "_model_module": "@jupyter-widgets/controls",
            "_model_module_version": "1.5.0",
            "_model_name": "DescriptionStyleModel",
            "_view_count": null,
            "_view_module": "@jupyter-widgets/base",
            "_view_module_version": "1.2.0",
            "_view_name": "StyleView",
            "description_width": ""
          }
        },
        "f38ea96fec78448e93eb4d979418097f": {
          "model_module": "@jupyter-widgets/controls",
          "model_name": "HBoxModel",
          "model_module_version": "1.5.0",
          "state": {
            "_dom_classes": [],
            "_model_module": "@jupyter-widgets/controls",
            "_model_module_version": "1.5.0",
            "_model_name": "HBoxModel",
            "_view_count": null,
            "_view_module": "@jupyter-widgets/controls",
            "_view_module_version": "1.5.0",
            "_view_name": "HBoxView",
            "box_style": "",
            "children": [
              "IPY_MODEL_a2101aa18f354dfa99023c3e1a832232",
              "IPY_MODEL_93a40db19efa4f99888345aa1fcb724d",
              "IPY_MODEL_a99cf5948db14396a22ac331d9cf2c77"
            ],
            "layout": "IPY_MODEL_386c63daf6c64e6fb1f20a45bda24834"
          }
        },
        "a2101aa18f354dfa99023c3e1a832232": {
          "model_module": "@jupyter-widgets/controls",
          "model_name": "HTMLModel",
          "model_module_version": "1.5.0",
          "state": {
            "_dom_classes": [],
            "_model_module": "@jupyter-widgets/controls",
            "_model_module_version": "1.5.0",
            "_model_name": "HTMLModel",
            "_view_count": null,
            "_view_module": "@jupyter-widgets/controls",
            "_view_module_version": "1.5.0",
            "_view_name": "HTMLView",
            "description": "",
            "description_tooltip": null,
            "layout": "IPY_MODEL_993b74d31c3949d8970a23d0877ee118",
            "placeholder": "​",
            "style": "IPY_MODEL_c1775c747f38426392e9ef2fc0e774c2",
            "value": "100%"
          }
        },
        "93a40db19efa4f99888345aa1fcb724d": {
          "model_module": "@jupyter-widgets/controls",
          "model_name": "FloatProgressModel",
          "model_module_version": "1.5.0",
          "state": {
            "_dom_classes": [],
            "_model_module": "@jupyter-widgets/controls",
            "_model_module_version": "1.5.0",
            "_model_name": "FloatProgressModel",
            "_view_count": null,
            "_view_module": "@jupyter-widgets/controls",
            "_view_module_version": "1.5.0",
            "_view_name": "ProgressView",
            "bar_style": "success",
            "description": "",
            "description_tooltip": null,
            "layout": "IPY_MODEL_643123ec106b4b3782fd2798f82e8a87",
            "max": 2500,
            "min": 0,
            "orientation": "horizontal",
            "style": "IPY_MODEL_f515c29c39924cb7a2a7d24ff16d2028",
            "value": 2500
          }
        },
        "a99cf5948db14396a22ac331d9cf2c77": {
          "model_module": "@jupyter-widgets/controls",
          "model_name": "HTMLModel",
          "model_module_version": "1.5.0",
          "state": {
            "_dom_classes": [],
            "_model_module": "@jupyter-widgets/controls",
            "_model_module_version": "1.5.0",
            "_model_name": "HTMLModel",
            "_view_count": null,
            "_view_module": "@jupyter-widgets/controls",
            "_view_module_version": "1.5.0",
            "_view_name": "HTMLView",
            "description": "",
            "description_tooltip": null,
            "layout": "IPY_MODEL_8798a632457543f6b15637ada82270bf",
            "placeholder": "​",
            "style": "IPY_MODEL_dac3f7c4f1964e84971857009e94a7c9",
            "value": " 2500/2500 [00:11&lt;00:00, 336.58it/s]"
          }
        },
        "386c63daf6c64e6fb1f20a45bda24834": {
          "model_module": "@jupyter-widgets/base",
          "model_name": "LayoutModel",
          "model_module_version": "1.2.0",
          "state": {
            "_model_module": "@jupyter-widgets/base",
            "_model_module_version": "1.2.0",
            "_model_name": "LayoutModel",
            "_view_count": null,
            "_view_module": "@jupyter-widgets/base",
            "_view_module_version": "1.2.0",
            "_view_name": "LayoutView",
            "align_content": null,
            "align_items": null,
            "align_self": null,
            "border": null,
            "bottom": null,
            "display": null,
            "flex": null,
            "flex_flow": null,
            "grid_area": null,
            "grid_auto_columns": null,
            "grid_auto_flow": null,
            "grid_auto_rows": null,
            "grid_column": null,
            "grid_gap": null,
            "grid_row": null,
            "grid_template_areas": null,
            "grid_template_columns": null,
            "grid_template_rows": null,
            "height": null,
            "justify_content": null,
            "justify_items": null,
            "left": null,
            "margin": null,
            "max_height": null,
            "max_width": null,
            "min_height": null,
            "min_width": null,
            "object_fit": null,
            "object_position": null,
            "order": null,
            "overflow": null,
            "overflow_x": null,
            "overflow_y": null,
            "padding": null,
            "right": null,
            "top": null,
            "visibility": null,
            "width": null
          }
        },
        "993b74d31c3949d8970a23d0877ee118": {
          "model_module": "@jupyter-widgets/base",
          "model_name": "LayoutModel",
          "model_module_version": "1.2.0",
          "state": {
            "_model_module": "@jupyter-widgets/base",
            "_model_module_version": "1.2.0",
            "_model_name": "LayoutModel",
            "_view_count": null,
            "_view_module": "@jupyter-widgets/base",
            "_view_module_version": "1.2.0",
            "_view_name": "LayoutView",
            "align_content": null,
            "align_items": null,
            "align_self": null,
            "border": null,
            "bottom": null,
            "display": null,
            "flex": null,
            "flex_flow": null,
            "grid_area": null,
            "grid_auto_columns": null,
            "grid_auto_flow": null,
            "grid_auto_rows": null,
            "grid_column": null,
            "grid_gap": null,
            "grid_row": null,
            "grid_template_areas": null,
            "grid_template_columns": null,
            "grid_template_rows": null,
            "height": null,
            "justify_content": null,
            "justify_items": null,
            "left": null,
            "margin": null,
            "max_height": null,
            "max_width": null,
            "min_height": null,
            "min_width": null,
            "object_fit": null,
            "object_position": null,
            "order": null,
            "overflow": null,
            "overflow_x": null,
            "overflow_y": null,
            "padding": null,
            "right": null,
            "top": null,
            "visibility": null,
            "width": null
          }
        },
        "c1775c747f38426392e9ef2fc0e774c2": {
          "model_module": "@jupyter-widgets/controls",
          "model_name": "DescriptionStyleModel",
          "model_module_version": "1.5.0",
          "state": {
            "_model_module": "@jupyter-widgets/controls",
            "_model_module_version": "1.5.0",
            "_model_name": "DescriptionStyleModel",
            "_view_count": null,
            "_view_module": "@jupyter-widgets/base",
            "_view_module_version": "1.2.0",
            "_view_name": "StyleView",
            "description_width": ""
          }
        },
        "643123ec106b4b3782fd2798f82e8a87": {
          "model_module": "@jupyter-widgets/base",
          "model_name": "LayoutModel",
          "model_module_version": "1.2.0",
          "state": {
            "_model_module": "@jupyter-widgets/base",
            "_model_module_version": "1.2.0",
            "_model_name": "LayoutModel",
            "_view_count": null,
            "_view_module": "@jupyter-widgets/base",
            "_view_module_version": "1.2.0",
            "_view_name": "LayoutView",
            "align_content": null,
            "align_items": null,
            "align_self": null,
            "border": null,
            "bottom": null,
            "display": null,
            "flex": null,
            "flex_flow": null,
            "grid_area": null,
            "grid_auto_columns": null,
            "grid_auto_flow": null,
            "grid_auto_rows": null,
            "grid_column": null,
            "grid_gap": null,
            "grid_row": null,
            "grid_template_areas": null,
            "grid_template_columns": null,
            "grid_template_rows": null,
            "height": null,
            "justify_content": null,
            "justify_items": null,
            "left": null,
            "margin": null,
            "max_height": null,
            "max_width": null,
            "min_height": null,
            "min_width": null,
            "object_fit": null,
            "object_position": null,
            "order": null,
            "overflow": null,
            "overflow_x": null,
            "overflow_y": null,
            "padding": null,
            "right": null,
            "top": null,
            "visibility": null,
            "width": null
          }
        },
        "f515c29c39924cb7a2a7d24ff16d2028": {
          "model_module": "@jupyter-widgets/controls",
          "model_name": "ProgressStyleModel",
          "model_module_version": "1.5.0",
          "state": {
            "_model_module": "@jupyter-widgets/controls",
            "_model_module_version": "1.5.0",
            "_model_name": "ProgressStyleModel",
            "_view_count": null,
            "_view_module": "@jupyter-widgets/base",
            "_view_module_version": "1.2.0",
            "_view_name": "StyleView",
            "bar_color": null,
            "description_width": ""
          }
        },
        "8798a632457543f6b15637ada82270bf": {
          "model_module": "@jupyter-widgets/base",
          "model_name": "LayoutModel",
          "model_module_version": "1.2.0",
          "state": {
            "_model_module": "@jupyter-widgets/base",
            "_model_module_version": "1.2.0",
            "_model_name": "LayoutModel",
            "_view_count": null,
            "_view_module": "@jupyter-widgets/base",
            "_view_module_version": "1.2.0",
            "_view_name": "LayoutView",
            "align_content": null,
            "align_items": null,
            "align_self": null,
            "border": null,
            "bottom": null,
            "display": null,
            "flex": null,
            "flex_flow": null,
            "grid_area": null,
            "grid_auto_columns": null,
            "grid_auto_flow": null,
            "grid_auto_rows": null,
            "grid_column": null,
            "grid_gap": null,
            "grid_row": null,
            "grid_template_areas": null,
            "grid_template_columns": null,
            "grid_template_rows": null,
            "height": null,
            "justify_content": null,
            "justify_items": null,
            "left": null,
            "margin": null,
            "max_height": null,
            "max_width": null,
            "min_height": null,
            "min_width": null,
            "object_fit": null,
            "object_position": null,
            "order": null,
            "overflow": null,
            "overflow_x": null,
            "overflow_y": null,
            "padding": null,
            "right": null,
            "top": null,
            "visibility": null,
            "width": null
          }
        },
        "dac3f7c4f1964e84971857009e94a7c9": {
          "model_module": "@jupyter-widgets/controls",
          "model_name": "DescriptionStyleModel",
          "model_module_version": "1.5.0",
          "state": {
            "_model_module": "@jupyter-widgets/controls",
            "_model_module_version": "1.5.0",
            "_model_name": "DescriptionStyleModel",
            "_view_count": null,
            "_view_module": "@jupyter-widgets/base",
            "_view_module_version": "1.2.0",
            "_view_name": "StyleView",
            "description_width": ""
          }
        }
      }
    }
  },
  "cells": [
    {
      "cell_type": "markdown",
      "metadata": {
        "id": "4C5Ct9yoZKYa"
      },
      "source": [
        "# Deep Learning & Applied AI\n",
        "\n",
        "# Tutorial 3: Linear models and Pytorch Datasets\n",
        "\n",
        "In this tutorial, we will cover:\n",
        "\n",
        "- Linear models\n",
        "- Pytorch Dataset and DataLoader\n",
        "\n",
        "Our info:\n",
        "\n",
        "- Luca Moschella (moschella@di.uniroma1.it)\n",
        "- Antonio Norelli (norelli@di.uniroma1.it)\n",
        "\n",
        "Course:\n",
        "\n",
        "- Website and notebooks will be available at [DLAI-s2-2023](https://erodola.github.io/DLAI-s2-2023/)\n",
        "\n",
        "#### Instructions\n",
        "We encourage you to form small groups of 2-3 people to read and discuss the notebooks together.\n",
        "\n",
        "Run the code and play with it! It is very easy to edit the code locally and make small experiments. Try whatever comes to your mind, this is the best way to learn! Python notebooks are designed to be used in this way, that's why we chose them for the DLAI lab sessions.\n",
        "\n",
        "There will be some exercises, try to do them by yourself, and when everyone in your group has finished, compare the solutions with each other.\n",
        "\n",
        "When something is not clear or your group have a question, raise your hand and we will come to you.\n",
        "\n",
        "Some sections in the notebooks are marked with 📖. This is deepening content for further reading outside of class. You may want to go through it at home or during class if you finish early. (Some sections are more optional than others, those are marked with more books 📖📖)\n",
        "\n",
        "Let's start!"
      ]
    },
    {
      "cell_type": "markdown",
      "metadata": {
        "id": "dHLO4Z-T_yxB"
      },
      "source": [
        "### Import dependencies"
      ]
    },
    {
      "cell_type": "markdown",
      "source": [
        "In this notebook you will discover **Plotly**, a powerful plotting library (there are manyplotting [libraries](https://pyviz.org/overviews/index.html) in python).\n",
        "Effectively communicating your findings through plots and visualizations is an essential part of any scientific or engineering project. \n",
        "Plotly is a modern library that makes interactive plots very easy to produce, and is becoming very popular among python users.\n",
        "\n",
        "[Here](https://plot.ly/python/) you can find its documentation."
      ],
      "metadata": {
        "id": "GHKiAWxOGLb1"
      }
    },
    {
      "cell_type": "code",
      "metadata": {
        "id": "pRePt-K1_yw9"
      },
      "source": [
        "import torch\n",
        "import numpy as np\n",
        "import plotly.express as px\n",
        "from plotly.subplots import make_subplots\n",
        "import plotly.graph_objects as go"
      ],
      "execution_count": 1,
      "outputs": []
    },
    {
      "cell_type": "code",
      "metadata": {
        "id": "2tGN_bJOcfd3"
      },
      "source": [
        "# Reproducibility stuff\n",
        "\n",
        "import random\n",
        "torch.manual_seed(42)\n",
        "np.random.seed(42)\n",
        "random.seed(0)\n",
        "\n",
        "torch.cuda.manual_seed(0)\n",
        "torch.backends.cudnn.deterministic = True  # Note that this Deterministic mode can have a performance impact\n",
        "torch.backends.cudnn.benchmark = False"
      ],
      "execution_count": 2,
      "outputs": []
    },
    {
      "cell_type": "markdown",
      "metadata": {
        "id": "GPHftSvUaIhe"
      },
      "source": [
        "##Linear models\n"
      ]
    },
    {
      "cell_type": "markdown",
      "metadata": {
        "id": "0PAIT1NjFUhk"
      },
      "source": [
        "###The regression problem\n"
      ]
    },
    {
      "cell_type": "markdown",
      "source": [
        "####The general definition\n",
        "We observe a phenomenon where a variable of interest $t\\in \\mathbb{R}$ depends on a real-valued variable $x$. \n",
        "\n",
        "**Problem**: Given a set of $N$ observations of couples $(x, t)$, $\\mathbf{D}=\\{(x_1, t_1),...,(x_N, t_N)\\}$, and a new *input* instance $x_i$, find the corresponding *target* $t_i$."
      ],
      "metadata": {
        "id": "8htU_ACVGQY5"
      }
    },
    {
      "cell_type": "markdown",
      "metadata": {
        "id": "i8kq5mSFOHul"
      },
      "source": [
        "####Our workspace\n",
        "\n",
        "The underlying law governing our phenomenon $\\mathcal{P}$ links $t$ to a $x \\in [0,1]$ through a $\\sin$ function.\n",
        "For our purposes, we are going to synthetically generate a set of observations --our *dataset*-- following this rule:\n",
        "\n",
        "$$t=\\sin(2\\pi x) + 0.1\\epsilon \\;\\;\\;\\;\\;\\;\\;\\;\\; \\epsilon \\sim \\mathcal{N}(0,1)$$\n",
        "\n",
        "where $\\sim \\mathcal{N}(0,1)$ means \"*sampled from a gaussian distribution with $\\mu=0$ and $\\sigma=1$*\".\n",
        "\n",
        "In this way, we are simulating the measurement process of any phenomenon: there is a global and general regularity (that we wish to discover) but all observations are plagued by uncertainty, here modeled with gaussian noise. Uncertainty usually comes from the finite precision of our measuring instrument, but may also be due to sources of variability of $t$ different from $x$ we do not care about. Sometimes the problem we are tackling is intrinsically stochastic --such as measurements in quantum mechanics or idealized scenarios like the multi-armed bandit-- and we want to figure out just the non-stochastic part of the underlying rule.\n",
        "\n",
        "This is our dataset:"
      ]
    },
    {
      "cell_type": "code",
      "metadata": {
        "id": "qJyjckvQE-aZ"
      },
      "source": [
        "x = np.random.rand(10)\n",
        "t = np.sin(2 * np.pi * x) + 0.1 * np.random.randn(10)"
      ],
      "execution_count": 3,
      "outputs": []
    },
    {
      "cell_type": "code",
      "metadata": {
        "id": "IMJNXRXZGJS0",
        "colab": {
          "base_uri": "https://localhost:8080/",
          "height": 542
        },
        "outputId": "27052eb9-9073-4258-d190-076c1e3bcaed"
      },
      "source": [
        "fig = px.scatter(x=x, y=t)\n",
        "fig.show()"
      ],
      "execution_count": 4,
      "outputs": [
        {
          "output_type": "display_data",
          "data": {
            "text/html": [
              "<html>\n",
              "<head><meta charset=\"utf-8\" /></head>\n",
              "<body>\n",
              "    <div>            <script src=\"https://cdnjs.cloudflare.com/ajax/libs/mathjax/2.7.5/MathJax.js?config=TeX-AMS-MML_SVG\"></script><script type=\"text/javascript\">if (window.MathJax) {MathJax.Hub.Config({SVG: {font: \"STIX-Web\"}});}</script>                <script type=\"text/javascript\">window.PlotlyConfig = {MathJaxConfig: 'local'};</script>\n",
              "        <script src=\"https://cdn.plot.ly/plotly-2.8.3.min.js\"></script>                <div id=\"29d96e67-7a46-40e0-9e27-e3c9d8728822\" class=\"plotly-graph-div\" style=\"height:525px; width:100%;\"></div>            <script type=\"text/javascript\">                                    window.PLOTLYENV=window.PLOTLYENV || {};                                    if (document.getElementById(\"29d96e67-7a46-40e0-9e27-e3c9d8728822\")) {                    Plotly.newPlot(                        \"29d96e67-7a46-40e0-9e27-e3c9d8728822\",                        [{\"hovertemplate\":\"x=%{x}<br>y=%{y}<extra></extra>\",\"legendgroup\":\"\",\"marker\":{\"color\":\"#636efa\",\"symbol\":\"circle\"},\"mode\":\"markers\",\"name\":\"\",\"orientation\":\"v\",\"showlegend\":false,\"x\":[0.3745401188473625,0.9507143064099162,0.7319939418114051,0.5986584841970366,0.15601864044243652,0.15599452033620265,0.05808361216819946,0.8661761457749352,0.6011150117432088,0.7080725777960455],\"xaxis\":\"x\",\"y\":[0.6621995859491285,-0.2504894367193866,-1.0399487832345553,-0.6275182299806012,0.854857342681687,0.6392487011533475,0.18441089666331875,-0.8014323286500792,-0.6947217251134631,-0.9340757540684701],\"yaxis\":\"y\",\"type\":\"scatter\"}],                        {\"template\":{\"data\":{\"bar\":[{\"error_x\":{\"color\":\"#2a3f5f\"},\"error_y\":{\"color\":\"#2a3f5f\"},\"marker\":{\"line\":{\"color\":\"#E5ECF6\",\"width\":0.5},\"pattern\":{\"fillmode\":\"overlay\",\"size\":10,\"solidity\":0.2}},\"type\":\"bar\"}],\"barpolar\":[{\"marker\":{\"line\":{\"color\":\"#E5ECF6\",\"width\":0.5},\"pattern\":{\"fillmode\":\"overlay\",\"size\":10,\"solidity\":0.2}},\"type\":\"barpolar\"}],\"carpet\":[{\"aaxis\":{\"endlinecolor\":\"#2a3f5f\",\"gridcolor\":\"white\",\"linecolor\":\"white\",\"minorgridcolor\":\"white\",\"startlinecolor\":\"#2a3f5f\"},\"baxis\":{\"endlinecolor\":\"#2a3f5f\",\"gridcolor\":\"white\",\"linecolor\":\"white\",\"minorgridcolor\":\"white\",\"startlinecolor\":\"#2a3f5f\"},\"type\":\"carpet\"}],\"choropleth\":[{\"colorbar\":{\"outlinewidth\":0,\"ticks\":\"\"},\"type\":\"choropleth\"}],\"contour\":[{\"colorbar\":{\"outlinewidth\":0,\"ticks\":\"\"},\"colorscale\":[[0.0,\"#0d0887\"],[0.1111111111111111,\"#46039f\"],[0.2222222222222222,\"#7201a8\"],[0.3333333333333333,\"#9c179e\"],[0.4444444444444444,\"#bd3786\"],[0.5555555555555556,\"#d8576b\"],[0.6666666666666666,\"#ed7953\"],[0.7777777777777778,\"#fb9f3a\"],[0.8888888888888888,\"#fdca26\"],[1.0,\"#f0f921\"]],\"type\":\"contour\"}],\"contourcarpet\":[{\"colorbar\":{\"outlinewidth\":0,\"ticks\":\"\"},\"type\":\"contourcarpet\"}],\"heatmap\":[{\"colorbar\":{\"outlinewidth\":0,\"ticks\":\"\"},\"colorscale\":[[0.0,\"#0d0887\"],[0.1111111111111111,\"#46039f\"],[0.2222222222222222,\"#7201a8\"],[0.3333333333333333,\"#9c179e\"],[0.4444444444444444,\"#bd3786\"],[0.5555555555555556,\"#d8576b\"],[0.6666666666666666,\"#ed7953\"],[0.7777777777777778,\"#fb9f3a\"],[0.8888888888888888,\"#fdca26\"],[1.0,\"#f0f921\"]],\"type\":\"heatmap\"}],\"heatmapgl\":[{\"colorbar\":{\"outlinewidth\":0,\"ticks\":\"\"},\"colorscale\":[[0.0,\"#0d0887\"],[0.1111111111111111,\"#46039f\"],[0.2222222222222222,\"#7201a8\"],[0.3333333333333333,\"#9c179e\"],[0.4444444444444444,\"#bd3786\"],[0.5555555555555556,\"#d8576b\"],[0.6666666666666666,\"#ed7953\"],[0.7777777777777778,\"#fb9f3a\"],[0.8888888888888888,\"#fdca26\"],[1.0,\"#f0f921\"]],\"type\":\"heatmapgl\"}],\"histogram\":[{\"marker\":{\"pattern\":{\"fillmode\":\"overlay\",\"size\":10,\"solidity\":0.2}},\"type\":\"histogram\"}],\"histogram2d\":[{\"colorbar\":{\"outlinewidth\":0,\"ticks\":\"\"},\"colorscale\":[[0.0,\"#0d0887\"],[0.1111111111111111,\"#46039f\"],[0.2222222222222222,\"#7201a8\"],[0.3333333333333333,\"#9c179e\"],[0.4444444444444444,\"#bd3786\"],[0.5555555555555556,\"#d8576b\"],[0.6666666666666666,\"#ed7953\"],[0.7777777777777778,\"#fb9f3a\"],[0.8888888888888888,\"#fdca26\"],[1.0,\"#f0f921\"]],\"type\":\"histogram2d\"}],\"histogram2dcontour\":[{\"colorbar\":{\"outlinewidth\":0,\"ticks\":\"\"},\"colorscale\":[[0.0,\"#0d0887\"],[0.1111111111111111,\"#46039f\"],[0.2222222222222222,\"#7201a8\"],[0.3333333333333333,\"#9c179e\"],[0.4444444444444444,\"#bd3786\"],[0.5555555555555556,\"#d8576b\"],[0.6666666666666666,\"#ed7953\"],[0.7777777777777778,\"#fb9f3a\"],[0.8888888888888888,\"#fdca26\"],[1.0,\"#f0f921\"]],\"type\":\"histogram2dcontour\"}],\"mesh3d\":[{\"colorbar\":{\"outlinewidth\":0,\"ticks\":\"\"},\"type\":\"mesh3d\"}],\"parcoords\":[{\"line\":{\"colorbar\":{\"outlinewidth\":0,\"ticks\":\"\"}},\"type\":\"parcoords\"}],\"pie\":[{\"automargin\":true,\"type\":\"pie\"}],\"scatter\":[{\"marker\":{\"colorbar\":{\"outlinewidth\":0,\"ticks\":\"\"}},\"type\":\"scatter\"}],\"scatter3d\":[{\"line\":{\"colorbar\":{\"outlinewidth\":0,\"ticks\":\"\"}},\"marker\":{\"colorbar\":{\"outlinewidth\":0,\"ticks\":\"\"}},\"type\":\"scatter3d\"}],\"scattercarpet\":[{\"marker\":{\"colorbar\":{\"outlinewidth\":0,\"ticks\":\"\"}},\"type\":\"scattercarpet\"}],\"scattergeo\":[{\"marker\":{\"colorbar\":{\"outlinewidth\":0,\"ticks\":\"\"}},\"type\":\"scattergeo\"}],\"scattergl\":[{\"marker\":{\"colorbar\":{\"outlinewidth\":0,\"ticks\":\"\"}},\"type\":\"scattergl\"}],\"scattermapbox\":[{\"marker\":{\"colorbar\":{\"outlinewidth\":0,\"ticks\":\"\"}},\"type\":\"scattermapbox\"}],\"scatterpolar\":[{\"marker\":{\"colorbar\":{\"outlinewidth\":0,\"ticks\":\"\"}},\"type\":\"scatterpolar\"}],\"scatterpolargl\":[{\"marker\":{\"colorbar\":{\"outlinewidth\":0,\"ticks\":\"\"}},\"type\":\"scatterpolargl\"}],\"scatterternary\":[{\"marker\":{\"colorbar\":{\"outlinewidth\":0,\"ticks\":\"\"}},\"type\":\"scatterternary\"}],\"surface\":[{\"colorbar\":{\"outlinewidth\":0,\"ticks\":\"\"},\"colorscale\":[[0.0,\"#0d0887\"],[0.1111111111111111,\"#46039f\"],[0.2222222222222222,\"#7201a8\"],[0.3333333333333333,\"#9c179e\"],[0.4444444444444444,\"#bd3786\"],[0.5555555555555556,\"#d8576b\"],[0.6666666666666666,\"#ed7953\"],[0.7777777777777778,\"#fb9f3a\"],[0.8888888888888888,\"#fdca26\"],[1.0,\"#f0f921\"]],\"type\":\"surface\"}],\"table\":[{\"cells\":{\"fill\":{\"color\":\"#EBF0F8\"},\"line\":{\"color\":\"white\"}},\"header\":{\"fill\":{\"color\":\"#C8D4E3\"},\"line\":{\"color\":\"white\"}},\"type\":\"table\"}]},\"layout\":{\"annotationdefaults\":{\"arrowcolor\":\"#2a3f5f\",\"arrowhead\":0,\"arrowwidth\":1},\"autotypenumbers\":\"strict\",\"coloraxis\":{\"colorbar\":{\"outlinewidth\":0,\"ticks\":\"\"}},\"colorscale\":{\"diverging\":[[0,\"#8e0152\"],[0.1,\"#c51b7d\"],[0.2,\"#de77ae\"],[0.3,\"#f1b6da\"],[0.4,\"#fde0ef\"],[0.5,\"#f7f7f7\"],[0.6,\"#e6f5d0\"],[0.7,\"#b8e186\"],[0.8,\"#7fbc41\"],[0.9,\"#4d9221\"],[1,\"#276419\"]],\"sequential\":[[0.0,\"#0d0887\"],[0.1111111111111111,\"#46039f\"],[0.2222222222222222,\"#7201a8\"],[0.3333333333333333,\"#9c179e\"],[0.4444444444444444,\"#bd3786\"],[0.5555555555555556,\"#d8576b\"],[0.6666666666666666,\"#ed7953\"],[0.7777777777777778,\"#fb9f3a\"],[0.8888888888888888,\"#fdca26\"],[1.0,\"#f0f921\"]],\"sequentialminus\":[[0.0,\"#0d0887\"],[0.1111111111111111,\"#46039f\"],[0.2222222222222222,\"#7201a8\"],[0.3333333333333333,\"#9c179e\"],[0.4444444444444444,\"#bd3786\"],[0.5555555555555556,\"#d8576b\"],[0.6666666666666666,\"#ed7953\"],[0.7777777777777778,\"#fb9f3a\"],[0.8888888888888888,\"#fdca26\"],[1.0,\"#f0f921\"]]},\"colorway\":[\"#636efa\",\"#EF553B\",\"#00cc96\",\"#ab63fa\",\"#FFA15A\",\"#19d3f3\",\"#FF6692\",\"#B6E880\",\"#FF97FF\",\"#FECB52\"],\"font\":{\"color\":\"#2a3f5f\"},\"geo\":{\"bgcolor\":\"white\",\"lakecolor\":\"white\",\"landcolor\":\"#E5ECF6\",\"showlakes\":true,\"showland\":true,\"subunitcolor\":\"white\"},\"hoverlabel\":{\"align\":\"left\"},\"hovermode\":\"closest\",\"mapbox\":{\"style\":\"light\"},\"paper_bgcolor\":\"white\",\"plot_bgcolor\":\"#E5ECF6\",\"polar\":{\"angularaxis\":{\"gridcolor\":\"white\",\"linecolor\":\"white\",\"ticks\":\"\"},\"bgcolor\":\"#E5ECF6\",\"radialaxis\":{\"gridcolor\":\"white\",\"linecolor\":\"white\",\"ticks\":\"\"}},\"scene\":{\"xaxis\":{\"backgroundcolor\":\"#E5ECF6\",\"gridcolor\":\"white\",\"gridwidth\":2,\"linecolor\":\"white\",\"showbackground\":true,\"ticks\":\"\",\"zerolinecolor\":\"white\"},\"yaxis\":{\"backgroundcolor\":\"#E5ECF6\",\"gridcolor\":\"white\",\"gridwidth\":2,\"linecolor\":\"white\",\"showbackground\":true,\"ticks\":\"\",\"zerolinecolor\":\"white\"},\"zaxis\":{\"backgroundcolor\":\"#E5ECF6\",\"gridcolor\":\"white\",\"gridwidth\":2,\"linecolor\":\"white\",\"showbackground\":true,\"ticks\":\"\",\"zerolinecolor\":\"white\"}},\"shapedefaults\":{\"line\":{\"color\":\"#2a3f5f\"}},\"ternary\":{\"aaxis\":{\"gridcolor\":\"white\",\"linecolor\":\"white\",\"ticks\":\"\"},\"baxis\":{\"gridcolor\":\"white\",\"linecolor\":\"white\",\"ticks\":\"\"},\"bgcolor\":\"#E5ECF6\",\"caxis\":{\"gridcolor\":\"white\",\"linecolor\":\"white\",\"ticks\":\"\"}},\"title\":{\"x\":0.05},\"xaxis\":{\"automargin\":true,\"gridcolor\":\"white\",\"linecolor\":\"white\",\"ticks\":\"\",\"title\":{\"standoff\":15},\"zerolinecolor\":\"white\",\"zerolinewidth\":2},\"yaxis\":{\"automargin\":true,\"gridcolor\":\"white\",\"linecolor\":\"white\",\"ticks\":\"\",\"title\":{\"standoff\":15},\"zerolinecolor\":\"white\",\"zerolinewidth\":2}}},\"xaxis\":{\"anchor\":\"y\",\"domain\":[0.0,1.0],\"title\":{\"text\":\"x\"}},\"yaxis\":{\"anchor\":\"x\",\"domain\":[0.0,1.0],\"title\":{\"text\":\"y\"}},\"legend\":{\"tracegroupgap\":0},\"margin\":{\"t\":60}},                        {\"responsive\": true}                    ).then(function(){\n",
              "                            \n",
              "var gd = document.getElementById('29d96e67-7a46-40e0-9e27-e3c9d8728822');\n",
              "var x = new MutationObserver(function (mutations, observer) {{\n",
              "        var display = window.getComputedStyle(gd).display;\n",
              "        if (!display || display === 'none') {{\n",
              "            console.log([gd, 'removed!']);\n",
              "            Plotly.purge(gd);\n",
              "            observer.disconnect();\n",
              "        }}\n",
              "}});\n",
              "\n",
              "// Listen for the removal of the full notebook cells\n",
              "var notebookContainer = gd.closest('#notebook-container');\n",
              "if (notebookContainer) {{\n",
              "    x.observe(notebookContainer, {childList: true});\n",
              "}}\n",
              "\n",
              "// Listen for the clearing of the current output cell\n",
              "var outputEl = gd.closest('.output');\n",
              "if (outputEl) {{\n",
              "    x.observe(outputEl, {childList: true});\n",
              "}}\n",
              "\n",
              "                        })                };                            </script>        </div>\n",
              "</body>\n",
              "</html>"
            ]
          },
          "metadata": {}
        }
      ]
    },
    {
      "cell_type": "markdown",
      "metadata": {
        "id": "SN_Ao9LRMr7s"
      },
      "source": [
        "It seems we have very little, just a handful of noisy points. \n",
        "\n",
        "How it is possible to devise a rule $f$ valid in general --i.e. for all the *infinite* points $x_i$ between 0 and 1 shall occur $t_i=f(x_i)$-- from such a *finite* set of observations?\n",
        "\n",
        "If we collect 10 points and every one of them agrees with a precise rule, why does that give us *any grounds* --even probabilistic grounds-- for expecting the 11[$^{st}$](https://translate.google.com/translate?sl=it&tl=en&u=https://it.wikipedia.org/wiki/Tacchino_induttivista) point to follow the same rule?\n",
        "\n",
        "This is the essence of the so called [*Problem of induction*](https://ar5iv.labs.arxiv.org/html/1108.1791#S7) raised by David Hume more than two centuries ago. Still today this problem is at the core of the philosophical debate on the nature of knowledge."
      ]
    },
    {
      "cell_type": "markdown",
      "metadata": {
        "id": "mhRdUyWpwX-v"
      },
      "source": [
        "### Where to restart from?"
      ]
    },
    {
      "cell_type": "markdown",
      "source": [
        "\n",
        "At this stage, we take a very pragmatic point of view, even if induction cannot be justified in general, we note that \"often it seems to work\". Therefore we proceed with our quest for a proper $f$.\n",
        "\n",
        "First of all, we observe that the quality of our guess $f$ depends crucially on how much information about the phenomenon $\\mathcal{P}$ we are given in advance, i.e. what **priors** do we have.\n",
        "\n",
        "\n",
        "\n",
        "**EXERCISE**: Suppose you have to guess this general rule $f$ to make predictions for new $x_i \\in [0,1]$.\n",
        "In which of the following scenarios would you like to find yourself to make the most accurate predictions? Make a rank from the best to the worse scenario and then compare your rank with the ones of your neighbors.\n",
        "\n",
        "For each scenario you are given a description of the available priors accompained by a plot.\n",
        "\n",
        "\n",
        "> **Scenario A**\n",
        "> \n",
        "> *priors:*\n",
        "> - 20 observations $(x_i,t_i)$ in the interval $[0,1]$ affected by a gaussian noise $0.1*\\epsilon$ where $\\epsilon \\sim \\mathcal{N}(0,1)$.\n",
        "\n",
        "> **Scenario B**\n",
        "> \n",
        "> *priors:*\n",
        "> - 20 observations $(x_i,t_i)$ in the interval $[0,1]$ affected by a gaussian noise $0.5*\\epsilon$ where $\\epsilon \\sim \\mathcal{N}(0,1)$\n",
        "\n",
        "> **Scenario C**\n",
        "> \n",
        "> *priors:*\n",
        "> - 40 observations $(x_i,t_i)$ in the interval $[0,1]$ affected by a gaussian noise $0.1*\\epsilon$ where $\\epsilon \\sim \\mathcal{N}(0,1)$\n",
        "\n",
        "> **Scenario D**\n",
        "> \n",
        "> *priors:*\n",
        "> - 100 observations $(x_i,t_i)$ in the interval $[0,0.3]$ affected by a gaussian noise $0.1*\\epsilon$ where $\\epsilon \\sim \\mathcal{N}(0,1)$\n",
        "\n",
        "> **Scenario E**\n",
        "> \n",
        "> *priors:*\n",
        "> - 10 observations $(x_i,t_i)$ in the interval $[0,1]$ affected by a gaussian noise $0.1*\\epsilon$ where $\\epsilon \\sim \\mathcal{N}(0,1)$\n",
        "> - you know that $f$ is in the form $f(x)=\\sin(kx)$ with $k\\in \\mathbb{R}$\n"
      ],
      "metadata": {
        "id": "4P5vTHieHC2R"
      }
    },
    {
      "cell_type": "code",
      "metadata": {
        "id": "3drUw3Pc8RWr",
        "colab": {
          "base_uri": "https://localhost:8080/",
          "height": 542
        },
        "outputId": "8320064b-3de8-478c-d64f-e2718545efec",
        "cellView": "form"
      },
      "source": [
        "# @title Scenario plots\n",
        "\n",
        "xA = np.random.rand(20)\n",
        "tA = np.sin(2 * np.pi * xA) + 0.1 * np.random.randn(20)\n",
        "\n",
        "xB = np.random.rand(20)\n",
        "tB = np.sin(2 * np.pi * xB) + 0.5 * np.random.randn(20)\n",
        "\n",
        "xC = np.random.rand(40)\n",
        "tC = np.sin(2 * np.pi * xC) + 0.1 * np.random.randn(40)\n",
        "\n",
        "xD = np.random.rand(100) * 0.3\n",
        "tD = np.sin(2 * np.pi * xD) + 0.1 * np.random.randn(100)\n",
        "\n",
        "xE = np.random.rand(10)\n",
        "tE = np.sin(2 * np.pi * xE) + 0.1 * np.random.randn(10)\n",
        "\n",
        "fig = make_subplots(\n",
        "    rows=1, cols=5,\n",
        "    subplot_titles=(\"Scenario A\", \"Scenario B\", \"Scenario C\", \"Scenario D\", \"Scenario E\"))\n",
        "\n",
        "fig.add_trace(go.Scatter(x=xA, y=tA, mode='markers', marker=dict(color=\"mediumpurple\")),\n",
        "              row=1, col=1)\n",
        "\n",
        "fig.add_trace(go.Scatter(x=xB, y=tB, mode='markers', marker=dict(color=\"mediumpurple\")),\n",
        "              row=1, col=2)\n",
        "\n",
        "fig.add_trace(go.Scatter(x=xC, y=tC, mode='markers', marker=dict(color=\"mediumpurple\")),\n",
        "              row=1, col=3)\n",
        "\n",
        "fig.add_trace(go.Scatter(x=xD, y=tD, mode='markers', marker=dict(color=\"mediumpurple\")),\n",
        "              row=1, col=4)\n",
        "\n",
        "fig.add_trace(go.Scatter(x=xE, y=tE, mode='markers', marker=dict(color=\"crimson\")),\n",
        "              row=1, col=5)\n",
        "\n",
        "fig.update_xaxes(title_text=\"x\", range=[0, 1])\n",
        "fig.update_yaxes(title_text=\"\", range=[-1.7, 1.7])\n",
        "fig.update_layout(showlegend=False)\n",
        "\n",
        "fig.show()"
      ],
      "execution_count": 5,
      "outputs": [
        {
          "output_type": "display_data",
          "data": {
            "text/html": [
              "<html>\n",
              "<head><meta charset=\"utf-8\" /></head>\n",
              "<body>\n",
              "    <div>            <script src=\"https://cdnjs.cloudflare.com/ajax/libs/mathjax/2.7.5/MathJax.js?config=TeX-AMS-MML_SVG\"></script><script type=\"text/javascript\">if (window.MathJax) {MathJax.Hub.Config({SVG: {font: \"STIX-Web\"}});}</script>                <script type=\"text/javascript\">window.PlotlyConfig = {MathJaxConfig: 'local'};</script>\n",
              "        <script src=\"https://cdn.plot.ly/plotly-2.8.3.min.js\"></script>                <div id=\"925066ec-90b9-4f8c-898f-dcaafd7edd6b\" class=\"plotly-graph-div\" style=\"height:525px; width:100%;\"></div>            <script type=\"text/javascript\">                                    window.PLOTLYENV=window.PLOTLYENV || {};                                    if (document.getElementById(\"925066ec-90b9-4f8c-898f-dcaafd7edd6b\")) {                    Plotly.newPlot(                        \"925066ec-90b9-4f8c-898f-dcaafd7edd6b\",                        [{\"marker\":{\"color\":\"mediumpurple\"},\"mode\":\"markers\",\"x\":[0.29214464853521815,0.3663618432936917,0.45606998421703593,0.7851759613930136,0.19967378215835974,0.5142344384136116,0.5924145688620425,0.046450412719997725,0.6075448519014384,0.17052412368729153,0.06505159298527952,0.9488855372533332,0.9656320330745594,0.8083973481164611,0.3046137691733707,0.09767211400638387,0.6842330265121569,0.4401524937396013,0.12203823484477883,0.4951769101112702],\"y\":[1.0473986646372184,0.6223406569333729,0.2934152421753372,-1.171641999181489,0.8176025258895546,-0.06963230184878447,-0.4747274365242228,0.3048675877466595,-0.6370273950283458,0.8477780508141505,0.2495931776706199,-0.3876534400464828,-0.26032986655933765,-0.8277239867725625,0.9760618621915267,0.3995856670069373,-0.8834217094123248,0.3287252937868287,0.6261341303657666,0.09146735826145963],\"type\":\"scatter\",\"xaxis\":\"x\",\"yaxis\":\"y\"},{\"marker\":{\"color\":\"mediumpurple\"},\"mode\":\"markers\",\"x\":[0.005522117123602399,0.8154614284548342,0.7068573438476171,0.7290071680409873,0.7712703466859457,0.07404465173409036,0.3584657285442726,0.11586905952512971,0.8631034258755935,0.6232981268275579,0.3308980248526492,0.06355835028602363,0.3109823217156622,0.32518332202674705,0.7296061783380641,0.6375574713552131,0.8872127425763265,0.4722149251619493,0.1195942459383017,0.713244787222995],\"y\":[0.2153873268108042,-0.14758105968559254,-0.9813970771358488,-0.20899172756978435,-2.300955272813918,0.8595852224156049,0.820145717991251,0.515894263730882,-0.7120577767262324,-1.6932897329097907,0.7637385267809292,0.5673748359932289,1.6664337078529434,0.6313478968344268,-1.3960483343758894,-1.0115189555624717,-0.19311838126033076,0.3380688845501171,0.4178063284244009,-0.7168179922721039],\"type\":\"scatter\",\"xaxis\":\"x2\",\"yaxis\":\"y2\"},{\"marker\":{\"color\":\"mediumpurple\"},\"mode\":\"markers\",\"x\":[0.8925589984899778,0.5393422419156507,0.8074401551640625,0.8960912999234932,0.3180034749718639,0.11005192452767676,0.22793516254194168,0.4271077886262563,0.8180147659224931,0.8607305832563434,0.006952130531190703,0.5107473025775657,0.417411003148779,0.22210781047073025,0.1198653673336828,0.33761517140362796,0.9429097039125192,0.32320293202075523,0.5187906217433661,0.7030189588951778,0.363629602379294,0.9717820827209607,0.9624472949421112,0.25178229582536416,0.49724850589238545,0.30087830981676966,0.2848404943774676,0.036886947354532795,0.6095643339798968,0.5026790232288615,0.05147875124998935,0.27864646423661144,0.9082658859666537,0.23956189066697242,0.1448948720912231,0.489452760277563,0.9856504541106007,0.2420552715115004,0.6721355474058786,0.7616196153287176],\"y\":[-0.5458501143397135,-0.3356235442910603,-0.7952974458681501,-0.7476598279337927,0.9687826324163429,0.8567208994483376,0.8913515771922633,0.385521101140059,-0.9001023857248115,-0.8179266757765974,-0.11139870864918461,-0.060619687850113776,0.3897139441639967,1.0320419111183123,0.5919877870607935,1.0072552790717517,-0.4293909417964871,0.8638696133639039,-0.03643913666568993,-1.0798331452977148,0.7785233870777207,-0.045656698970320264,-0.3945156802943589,1.0184006833640145,0.04327556560710827,1.0275189940299556,0.8524398245980173,0.09765248553567893,-0.5831182675564751,0.012866462832574338,0.3428893351058709,1.0184901172314904,-0.612996873677882,1.0210754722494138,0.8190572388783036,-0.00521337654043931,0.09653869820973064,1.0461376373754585,-1.0018221402938086,-0.9316807243537488],\"type\":\"scatter\",\"xaxis\":\"x3\",\"yaxis\":\"y3\"},{\"marker\":{\"color\":\"mediumpurple\"},\"mode\":\"markers\",\"x\":[0.21365376640426076,0.07117472624904002,0.09761990944778032,0.22394742153540723,0.1948898697141644,0.2547670231482534,0.197283867690103,0.1704925810006415,0.028102430348427743,0.11031474091783006,0.07956071030451763,0.07319689301372508,0.29190316642573366,0.11792931740002811,0.26761396655313396,0.18934158779917887,0.23844339106249451,0.15079112793155763,0.17307116538790773,0.14775530814565915,0.058572896339413344,0.2167356345784516,0.08423170873225673,0.007294789929436152,0.19364168877215035,0.05313320382211468,0.2821375753058743,0.2861785731007762,0.2744593170661345,0.11104761007663332,0.004636984958660229,0.2784955687763176,0.1284552444951943,0.28999644571310085,0.28908599312677585,0.255902836640208,0.0883346676208757,0.11552931858057758,0.25534100145505706,0.0950766015468833,0.05084782400582775,0.16704037873750505,0.2808464322482343,0.2088089390024919,0.17101835102680948,0.02915294813123056,0.18450216800975092,0.297016155031279,0.04202520457095721,0.155498895709121,0.26321192157838663,0.22223058532626133,0.20910472229858038,0.21074522519613278,0.10784734536592655,0.088077553279348,0.24280834664355408,0.24303401840375422,0.2601216955740311,0.2739721657669414,0.15340271965828134,0.15045488840615986,0.23948855369003252,0.19498917923332953,0.210590063177311,0.2387378008308303,0.2670016025452699,0.10139854705546074,0.1126748857919832,0.028194581952260697,0.1734840422988522,0.010782682139022625,0.13967940543973803,0.16279339041227298,0.08596237563848531,0.17724997817070323,0.009150074981714829,0.011204456624764325,0.24678016819789747,0.10805719242337887,0.038118153795565435,0.1566729780164413,0.23099806592958325,0.06474630824905295,0.18686714274570007,0.0256042394981304,0.01550451635058231,0.1594063894704444,0.16219053648303194,0.19122897044946197,0.21782740011679846,0.29275562383876036,0.1548901044903586,0.09688694188237379,0.23855585843061108,0.08124967537862227,0.13169142621169083,0.023536914402679788,0.007605223024637253,0.2887945244033775],\"y\":[1.0245354052648041,0.5190217012945867,0.4555918529463594,0.953182037930033,0.8931516164622207,0.9342185464347299,1.122190030978894,0.9182916686226423,0.04956828188807677,0.7307326851603748,0.6915487339294399,0.5471136663375872,0.8136031655938346,0.6265817959130471,1.120573237774318,0.8574786835278394,1.041746826755194,0.8893921576797281,0.792746165799121,0.7946942566945034,0.03564605180553432,0.8757988408299362,0.479623611560726,-0.07895984782191007,1.1011967027453649,0.18466474242996847,0.9356776061269534,0.9873486835895604,1.132341409903907,0.4988957002856807,0.14544728927161799,0.9850378904931532,0.6241393262395908,1.0147990621164746,0.9899013454740325,0.9392906083863244,0.533943129117044,0.6252715681020851,1.010788700843733,0.6286944554831024,0.4726805791729871,0.7434155164684184,1.1945801530163491,0.7714861660612208,0.8641927064886631,0.24098249272510502,0.9446070577950813,0.8944125530060174,0.24018216063614214,0.7795383514712947,0.9376199274539417,1.0697770860337474,1.002870463504912,0.9004460419355562,0.7169043923746283,0.5563191936571572,1.0802654761103807,1.0620051939678787,0.9150789237018115,0.9326598981981646,0.8961273039617218,0.871730691530382,0.995729638158491,0.9525904746979749,1.09726500369009,0.9383402410693642,1.0490094549864089,0.5746523017028511,0.6285151001201837,0.2861043359717379,0.9691835267504757,0.1490487369665766,0.8997755629123495,0.8557022868529239,0.5824320965201186,0.8663086771221707,0.08987658612804088,0.05732723473393957,1.009494960847243,0.6874867641912586,0.15539818555909518,1.0421819125760046,0.8922794190632143,0.2742656316464558,1.0381616330865717,0.23934940494528323,0.15967571818857207,0.9051581002808491,0.8503979210031914,0.8428659029939242,0.987218351156479,0.896416188438326,0.9242042353622808,0.5571437776983994,0.9148661818902639,0.45648087773868695,0.7774955244282766,0.09097586884858652,-0.0344551973712225,0.9948077146690533],\"type\":\"scatter\",\"xaxis\":\"x4\",\"yaxis\":\"y4\"},{\"marker\":{\"color\":\"crimson\"},\"mode\":\"markers\",\"x\":[0.08410680611499743,0.70096913145912,0.07276300636419353,0.8218600592903562,0.7062422271564962,0.08134878064189976,0.08483771408519192,0.9866395785011755,0.3742707957561203,0.3706421470668909],\"y\":[0.4323584300469619,-0.9742652642366553,0.4725133315290869,-0.7522536264180602,-0.8766760163182921,0.47316881517583953,0.5062618555254742,-0.18410038163147216,0.7084878034927269,0.697334875506115],\"type\":\"scatter\",\"xaxis\":\"x5\",\"yaxis\":\"y5\"}],                        {\"template\":{\"data\":{\"bar\":[{\"error_x\":{\"color\":\"#2a3f5f\"},\"error_y\":{\"color\":\"#2a3f5f\"},\"marker\":{\"line\":{\"color\":\"#E5ECF6\",\"width\":0.5},\"pattern\":{\"fillmode\":\"overlay\",\"size\":10,\"solidity\":0.2}},\"type\":\"bar\"}],\"barpolar\":[{\"marker\":{\"line\":{\"color\":\"#E5ECF6\",\"width\":0.5},\"pattern\":{\"fillmode\":\"overlay\",\"size\":10,\"solidity\":0.2}},\"type\":\"barpolar\"}],\"carpet\":[{\"aaxis\":{\"endlinecolor\":\"#2a3f5f\",\"gridcolor\":\"white\",\"linecolor\":\"white\",\"minorgridcolor\":\"white\",\"startlinecolor\":\"#2a3f5f\"},\"baxis\":{\"endlinecolor\":\"#2a3f5f\",\"gridcolor\":\"white\",\"linecolor\":\"white\",\"minorgridcolor\":\"white\",\"startlinecolor\":\"#2a3f5f\"},\"type\":\"carpet\"}],\"choropleth\":[{\"colorbar\":{\"outlinewidth\":0,\"ticks\":\"\"},\"type\":\"choropleth\"}],\"contour\":[{\"colorbar\":{\"outlinewidth\":0,\"ticks\":\"\"},\"colorscale\":[[0.0,\"#0d0887\"],[0.1111111111111111,\"#46039f\"],[0.2222222222222222,\"#7201a8\"],[0.3333333333333333,\"#9c179e\"],[0.4444444444444444,\"#bd3786\"],[0.5555555555555556,\"#d8576b\"],[0.6666666666666666,\"#ed7953\"],[0.7777777777777778,\"#fb9f3a\"],[0.8888888888888888,\"#fdca26\"],[1.0,\"#f0f921\"]],\"type\":\"contour\"}],\"contourcarpet\":[{\"colorbar\":{\"outlinewidth\":0,\"ticks\":\"\"},\"type\":\"contourcarpet\"}],\"heatmap\":[{\"colorbar\":{\"outlinewidth\":0,\"ticks\":\"\"},\"colorscale\":[[0.0,\"#0d0887\"],[0.1111111111111111,\"#46039f\"],[0.2222222222222222,\"#7201a8\"],[0.3333333333333333,\"#9c179e\"],[0.4444444444444444,\"#bd3786\"],[0.5555555555555556,\"#d8576b\"],[0.6666666666666666,\"#ed7953\"],[0.7777777777777778,\"#fb9f3a\"],[0.8888888888888888,\"#fdca26\"],[1.0,\"#f0f921\"]],\"type\":\"heatmap\"}],\"heatmapgl\":[{\"colorbar\":{\"outlinewidth\":0,\"ticks\":\"\"},\"colorscale\":[[0.0,\"#0d0887\"],[0.1111111111111111,\"#46039f\"],[0.2222222222222222,\"#7201a8\"],[0.3333333333333333,\"#9c179e\"],[0.4444444444444444,\"#bd3786\"],[0.5555555555555556,\"#d8576b\"],[0.6666666666666666,\"#ed7953\"],[0.7777777777777778,\"#fb9f3a\"],[0.8888888888888888,\"#fdca26\"],[1.0,\"#f0f921\"]],\"type\":\"heatmapgl\"}],\"histogram\":[{\"marker\":{\"pattern\":{\"fillmode\":\"overlay\",\"size\":10,\"solidity\":0.2}},\"type\":\"histogram\"}],\"histogram2d\":[{\"colorbar\":{\"outlinewidth\":0,\"ticks\":\"\"},\"colorscale\":[[0.0,\"#0d0887\"],[0.1111111111111111,\"#46039f\"],[0.2222222222222222,\"#7201a8\"],[0.3333333333333333,\"#9c179e\"],[0.4444444444444444,\"#bd3786\"],[0.5555555555555556,\"#d8576b\"],[0.6666666666666666,\"#ed7953\"],[0.7777777777777778,\"#fb9f3a\"],[0.8888888888888888,\"#fdca26\"],[1.0,\"#f0f921\"]],\"type\":\"histogram2d\"}],\"histogram2dcontour\":[{\"colorbar\":{\"outlinewidth\":0,\"ticks\":\"\"},\"colorscale\":[[0.0,\"#0d0887\"],[0.1111111111111111,\"#46039f\"],[0.2222222222222222,\"#7201a8\"],[0.3333333333333333,\"#9c179e\"],[0.4444444444444444,\"#bd3786\"],[0.5555555555555556,\"#d8576b\"],[0.6666666666666666,\"#ed7953\"],[0.7777777777777778,\"#fb9f3a\"],[0.8888888888888888,\"#fdca26\"],[1.0,\"#f0f921\"]],\"type\":\"histogram2dcontour\"}],\"mesh3d\":[{\"colorbar\":{\"outlinewidth\":0,\"ticks\":\"\"},\"type\":\"mesh3d\"}],\"parcoords\":[{\"line\":{\"colorbar\":{\"outlinewidth\":0,\"ticks\":\"\"}},\"type\":\"parcoords\"}],\"pie\":[{\"automargin\":true,\"type\":\"pie\"}],\"scatter\":[{\"marker\":{\"colorbar\":{\"outlinewidth\":0,\"ticks\":\"\"}},\"type\":\"scatter\"}],\"scatter3d\":[{\"line\":{\"colorbar\":{\"outlinewidth\":0,\"ticks\":\"\"}},\"marker\":{\"colorbar\":{\"outlinewidth\":0,\"ticks\":\"\"}},\"type\":\"scatter3d\"}],\"scattercarpet\":[{\"marker\":{\"colorbar\":{\"outlinewidth\":0,\"ticks\":\"\"}},\"type\":\"scattercarpet\"}],\"scattergeo\":[{\"marker\":{\"colorbar\":{\"outlinewidth\":0,\"ticks\":\"\"}},\"type\":\"scattergeo\"}],\"scattergl\":[{\"marker\":{\"colorbar\":{\"outlinewidth\":0,\"ticks\":\"\"}},\"type\":\"scattergl\"}],\"scattermapbox\":[{\"marker\":{\"colorbar\":{\"outlinewidth\":0,\"ticks\":\"\"}},\"type\":\"scattermapbox\"}],\"scatterpolar\":[{\"marker\":{\"colorbar\":{\"outlinewidth\":0,\"ticks\":\"\"}},\"type\":\"scatterpolar\"}],\"scatterpolargl\":[{\"marker\":{\"colorbar\":{\"outlinewidth\":0,\"ticks\":\"\"}},\"type\":\"scatterpolargl\"}],\"scatterternary\":[{\"marker\":{\"colorbar\":{\"outlinewidth\":0,\"ticks\":\"\"}},\"type\":\"scatterternary\"}],\"surface\":[{\"colorbar\":{\"outlinewidth\":0,\"ticks\":\"\"},\"colorscale\":[[0.0,\"#0d0887\"],[0.1111111111111111,\"#46039f\"],[0.2222222222222222,\"#7201a8\"],[0.3333333333333333,\"#9c179e\"],[0.4444444444444444,\"#bd3786\"],[0.5555555555555556,\"#d8576b\"],[0.6666666666666666,\"#ed7953\"],[0.7777777777777778,\"#fb9f3a\"],[0.8888888888888888,\"#fdca26\"],[1.0,\"#f0f921\"]],\"type\":\"surface\"}],\"table\":[{\"cells\":{\"fill\":{\"color\":\"#EBF0F8\"},\"line\":{\"color\":\"white\"}},\"header\":{\"fill\":{\"color\":\"#C8D4E3\"},\"line\":{\"color\":\"white\"}},\"type\":\"table\"}]},\"layout\":{\"annotationdefaults\":{\"arrowcolor\":\"#2a3f5f\",\"arrowhead\":0,\"arrowwidth\":1},\"autotypenumbers\":\"strict\",\"coloraxis\":{\"colorbar\":{\"outlinewidth\":0,\"ticks\":\"\"}},\"colorscale\":{\"diverging\":[[0,\"#8e0152\"],[0.1,\"#c51b7d\"],[0.2,\"#de77ae\"],[0.3,\"#f1b6da\"],[0.4,\"#fde0ef\"],[0.5,\"#f7f7f7\"],[0.6,\"#e6f5d0\"],[0.7,\"#b8e186\"],[0.8,\"#7fbc41\"],[0.9,\"#4d9221\"],[1,\"#276419\"]],\"sequential\":[[0.0,\"#0d0887\"],[0.1111111111111111,\"#46039f\"],[0.2222222222222222,\"#7201a8\"],[0.3333333333333333,\"#9c179e\"],[0.4444444444444444,\"#bd3786\"],[0.5555555555555556,\"#d8576b\"],[0.6666666666666666,\"#ed7953\"],[0.7777777777777778,\"#fb9f3a\"],[0.8888888888888888,\"#fdca26\"],[1.0,\"#f0f921\"]],\"sequentialminus\":[[0.0,\"#0d0887\"],[0.1111111111111111,\"#46039f\"],[0.2222222222222222,\"#7201a8\"],[0.3333333333333333,\"#9c179e\"],[0.4444444444444444,\"#bd3786\"],[0.5555555555555556,\"#d8576b\"],[0.6666666666666666,\"#ed7953\"],[0.7777777777777778,\"#fb9f3a\"],[0.8888888888888888,\"#fdca26\"],[1.0,\"#f0f921\"]]},\"colorway\":[\"#636efa\",\"#EF553B\",\"#00cc96\",\"#ab63fa\",\"#FFA15A\",\"#19d3f3\",\"#FF6692\",\"#B6E880\",\"#FF97FF\",\"#FECB52\"],\"font\":{\"color\":\"#2a3f5f\"},\"geo\":{\"bgcolor\":\"white\",\"lakecolor\":\"white\",\"landcolor\":\"#E5ECF6\",\"showlakes\":true,\"showland\":true,\"subunitcolor\":\"white\"},\"hoverlabel\":{\"align\":\"left\"},\"hovermode\":\"closest\",\"mapbox\":{\"style\":\"light\"},\"paper_bgcolor\":\"white\",\"plot_bgcolor\":\"#E5ECF6\",\"polar\":{\"angularaxis\":{\"gridcolor\":\"white\",\"linecolor\":\"white\",\"ticks\":\"\"},\"bgcolor\":\"#E5ECF6\",\"radialaxis\":{\"gridcolor\":\"white\",\"linecolor\":\"white\",\"ticks\":\"\"}},\"scene\":{\"xaxis\":{\"backgroundcolor\":\"#E5ECF6\",\"gridcolor\":\"white\",\"gridwidth\":2,\"linecolor\":\"white\",\"showbackground\":true,\"ticks\":\"\",\"zerolinecolor\":\"white\"},\"yaxis\":{\"backgroundcolor\":\"#E5ECF6\",\"gridcolor\":\"white\",\"gridwidth\":2,\"linecolor\":\"white\",\"showbackground\":true,\"ticks\":\"\",\"zerolinecolor\":\"white\"},\"zaxis\":{\"backgroundcolor\":\"#E5ECF6\",\"gridcolor\":\"white\",\"gridwidth\":2,\"linecolor\":\"white\",\"showbackground\":true,\"ticks\":\"\",\"zerolinecolor\":\"white\"}},\"shapedefaults\":{\"line\":{\"color\":\"#2a3f5f\"}},\"ternary\":{\"aaxis\":{\"gridcolor\":\"white\",\"linecolor\":\"white\",\"ticks\":\"\"},\"baxis\":{\"gridcolor\":\"white\",\"linecolor\":\"white\",\"ticks\":\"\"},\"bgcolor\":\"#E5ECF6\",\"caxis\":{\"gridcolor\":\"white\",\"linecolor\":\"white\",\"ticks\":\"\"}},\"title\":{\"x\":0.05},\"xaxis\":{\"automargin\":true,\"gridcolor\":\"white\",\"linecolor\":\"white\",\"ticks\":\"\",\"title\":{\"standoff\":15},\"zerolinecolor\":\"white\",\"zerolinewidth\":2},\"yaxis\":{\"automargin\":true,\"gridcolor\":\"white\",\"linecolor\":\"white\",\"ticks\":\"\",\"title\":{\"standoff\":15},\"zerolinecolor\":\"white\",\"zerolinewidth\":2}}},\"xaxis\":{\"anchor\":\"y\",\"domain\":[0.0,0.16799999999999998],\"title\":{\"text\":\"x\"},\"range\":[0,1]},\"yaxis\":{\"anchor\":\"x\",\"domain\":[0.0,1.0],\"title\":{\"text\":\"\"},\"range\":[-1.7,1.7]},\"xaxis2\":{\"anchor\":\"y2\",\"domain\":[0.208,0.376],\"title\":{\"text\":\"x\"},\"range\":[0,1]},\"yaxis2\":{\"anchor\":\"x2\",\"domain\":[0.0,1.0],\"title\":{\"text\":\"\"},\"range\":[-1.7,1.7]},\"xaxis3\":{\"anchor\":\"y3\",\"domain\":[0.416,0.584],\"title\":{\"text\":\"x\"},\"range\":[0,1]},\"yaxis3\":{\"anchor\":\"x3\",\"domain\":[0.0,1.0],\"title\":{\"text\":\"\"},\"range\":[-1.7,1.7]},\"xaxis4\":{\"anchor\":\"y4\",\"domain\":[0.624,0.792],\"title\":{\"text\":\"x\"},\"range\":[0,1]},\"yaxis4\":{\"anchor\":\"x4\",\"domain\":[0.0,1.0],\"title\":{\"text\":\"\"},\"range\":[-1.7,1.7]},\"xaxis5\":{\"anchor\":\"y5\",\"domain\":[0.832,1.0],\"title\":{\"text\":\"x\"},\"range\":[0,1]},\"yaxis5\":{\"anchor\":\"x5\",\"domain\":[0.0,1.0],\"title\":{\"text\":\"\"},\"range\":[-1.7,1.7]},\"annotations\":[{\"font\":{\"size\":16},\"showarrow\":false,\"text\":\"Scenario A\",\"x\":0.08399999999999999,\"xanchor\":\"center\",\"xref\":\"paper\",\"y\":1.0,\"yanchor\":\"bottom\",\"yref\":\"paper\"},{\"font\":{\"size\":16},\"showarrow\":false,\"text\":\"Scenario B\",\"x\":0.292,\"xanchor\":\"center\",\"xref\":\"paper\",\"y\":1.0,\"yanchor\":\"bottom\",\"yref\":\"paper\"},{\"font\":{\"size\":16},\"showarrow\":false,\"text\":\"Scenario C\",\"x\":0.5,\"xanchor\":\"center\",\"xref\":\"paper\",\"y\":1.0,\"yanchor\":\"bottom\",\"yref\":\"paper\"},{\"font\":{\"size\":16},\"showarrow\":false,\"text\":\"Scenario D\",\"x\":0.708,\"xanchor\":\"center\",\"xref\":\"paper\",\"y\":1.0,\"yanchor\":\"bottom\",\"yref\":\"paper\"},{\"font\":{\"size\":16},\"showarrow\":false,\"text\":\"Scenario E\",\"x\":0.9159999999999999,\"xanchor\":\"center\",\"xref\":\"paper\",\"y\":1.0,\"yanchor\":\"bottom\",\"yref\":\"paper\"}],\"showlegend\":false},                        {\"responsive\": true}                    ).then(function(){\n",
              "                            \n",
              "var gd = document.getElementById('925066ec-90b9-4f8c-898f-dcaafd7edd6b');\n",
              "var x = new MutationObserver(function (mutations, observer) {{\n",
              "        var display = window.getComputedStyle(gd).display;\n",
              "        if (!display || display === 'none') {{\n",
              "            console.log([gd, 'removed!']);\n",
              "            Plotly.purge(gd);\n",
              "            observer.disconnect();\n",
              "        }}\n",
              "}});\n",
              "\n",
              "// Listen for the removal of the full notebook cells\n",
              "var notebookContainer = gd.closest('#notebook-container');\n",
              "if (notebookContainer) {{\n",
              "    x.observe(notebookContainer, {childList: true});\n",
              "}}\n",
              "\n",
              "// Listen for the clearing of the current output cell\n",
              "var outputEl = gd.closest('.output');\n",
              "if (outputEl) {{\n",
              "    x.observe(outputEl, {childList: true});\n",
              "}}\n",
              "\n",
              "                        })                };                            </script>        </div>\n",
              "</body>\n",
              "</html>"
            ]
          },
          "metadata": {}
        }
      ]
    },
    {
      "cell_type": "markdown",
      "metadata": {
        "id": "uQDNfE2ADPUG"
      },
      "source": [
        "If you want to learn more, [here](http://bit.ly/3BLUE1BROWN2TWY9iI) you can find a nice discussion about an analogous exercise:\n",
        "> Three Amazon resellers offer a book at essentially the same price. These are their ratings:\n",
        ">\n",
        "> - 100% positive out of 10 reviews\n",
        "> - 96% positive out of 50 reviews\n",
        "> - 93% positive out of 200 reviews\n",
        ">\n",
        "> Which rating is better?\n",
        "\n",
        "> **EXERCISE (optional)**: You probably realized that in the previous exercise you wanted to be in the scenario with the largest amount of relevant information about the phenomenon $\\mathcal{P}$. Now a tricky question: the dataset of which scenario, A or B, contains more *absolute* information? (i.e. Shannon information)\n",
        ">\n",
        ">Answer [here](http://bit.ly/VeritasiumRandom3b0rPBe), or more directly [here](https://en.wikipedia.org/wiki/Quantities_of_information#Self-information)."
      ]
    },
    {
      "cell_type": "markdown",
      "metadata": {
        "id": "yTDKBC5GL7MI"
      },
      "source": [
        "### Being linear in the parameters does not mean linear in the input\n",
        "\n",
        "In this tutorial we will restrict our search of $f$ among parametrized functions $f_\\theta$ that depend *linearly* on their finite set of parameters $\\theta = \\{a,b,c,...\\}$.\n",
        "\n",
        "Possible choices of $f$ are\n",
        "- $f_1(x) = ax + b$\n",
        "- $f_2(x) = ax^2 + bx + c$\n",
        "- $f_3(x) = a \\sin(2 \\pi x) + bx + c$"
      ]
    },
    {
      "cell_type": "code",
      "metadata": {
        "id": "1C9ECfD-Q65g",
        "colab": {
          "base_uri": "https://localhost:8080/",
          "height": 542
        },
        "outputId": "fe381508-45be-47d5-cbd1-94a424a777c5",
        "cellView": "form"
      },
      "source": [
        "# @title Linear models plots\n",
        "\n",
        "\n",
        "x_funcs = np.arange(0., 1.1, 2./51)\n",
        "theta_funcs = np.random.randn(10, 3)\n",
        "\n",
        "fig = make_subplots(\n",
        "    rows=1, cols=3,\n",
        "    subplot_titles=(\"f1\", \"f2\", \"f3\"))\n",
        "\n",
        "for a, b in theta_funcs[:,:2]:\n",
        "    fig.add_trace(go.Scatter(x=x_funcs, y=a*x_funcs + b, mode='lines'),\n",
        "                row=1, col=1)\n",
        "\n",
        "for a, b, c in theta_funcs:\n",
        "    fig.add_trace(go.Scatter(x=x_funcs, y=a*x_funcs**2 + b*x_funcs + c, mode='lines'),\n",
        "                row=1, col=2)\n",
        "\n",
        "for a, b, c in theta_funcs:\n",
        "    fig.add_trace(go.Scatter(x=x_funcs, y=a*np.sin(2 * np.pi * x_funcs) + b*x_funcs + c, mode='lines'),\n",
        "                row=1, col=3)\n",
        "\n",
        "for i in range(3):\n",
        "    fig.add_trace(go.Scatter(x=x, y=t, mode='markers', marker=dict(color=\"mediumpurple\")),\n",
        "                row=1, col=i + 1)\n",
        "\n",
        "fig.update_xaxes(title_text=\"x\", range = [0,1])\n",
        "fig.update_yaxes(title_text=\"t\", range = [-2,2])\n",
        "fig.update_layout(showlegend=False)\n",
        "\n",
        "fig.show()"
      ],
      "execution_count": 6,
      "outputs": [
        {
          "output_type": "display_data",
          "data": {
            "text/html": [
              "<html>\n",
              "<head><meta charset=\"utf-8\" /></head>\n",
              "<body>\n",
              "    <div>            <script src=\"https://cdnjs.cloudflare.com/ajax/libs/mathjax/2.7.5/MathJax.js?config=TeX-AMS-MML_SVG\"></script><script type=\"text/javascript\">if (window.MathJax) {MathJax.Hub.Config({SVG: {font: \"STIX-Web\"}});}</script>                <script type=\"text/javascript\">window.PlotlyConfig = {MathJaxConfig: 'local'};</script>\n",
              "        <script src=\"https://cdn.plot.ly/plotly-2.8.3.min.js\"></script>                <div id=\"ebe88380-bcf6-4479-a73e-425b0792ee2d\" class=\"plotly-graph-div\" style=\"height:525px; width:100%;\"></div>            <script type=\"text/javascript\">                                    window.PLOTLYENV=window.PLOTLYENV || {};                                    if (document.getElementById(\"ebe88380-bcf6-4479-a73e-425b0792ee2d\")) {                    Plotly.newPlot(                        \"ebe88380-bcf6-4479-a73e-425b0792ee2d\",                        [{\"mode\":\"lines\",\"x\":[0.0,0.0392156862745098,0.0784313725490196,0.11764705882352941,0.1568627450980392,0.19607843137254902,0.23529411764705882,0.27450980392156865,0.3137254901960784,0.3529411764705882,0.39215686274509803,0.43137254901960786,0.47058823529411764,0.5098039215686274,0.5490196078431373,0.5882352941176471,0.6274509803921569,0.6666666666666666,0.7058823529411764,0.7450980392156863,0.7843137254901961,0.8235294117647058,0.8627450980392157,0.9019607843137255,0.9411764705882353,0.9803921568627451,1.0196078431372548,1.0588235294117647,1.0980392156862746],\"y\":[-0.827230943552323,-0.814575313735143,-0.801919683917963,-0.789264054100783,-0.776608424283603,-0.7639527944664231,-0.7512971646492431,-0.7386415348320631,-0.7259859050148831,-0.7133302751977032,-0.7006746453805232,-0.6880190155633432,-0.6753633857461632,-0.6627077559289832,-0.6500521261118032,-0.6373964962946232,-0.6247408664774433,-0.6120852366602634,-0.5994296068430833,-0.5867739770259033,-0.5741183472087233,-0.5614627173915434,-0.5488070875743634,-0.5361514577571834,-0.5234958279400035,-0.5108401981228234,-0.4981845683056435,-0.4855289384884635,-0.47287330867128347],\"type\":\"scatter\",\"xaxis\":\"x\",\"yaxis\":\"y\"},{\"mode\":\"lines\",\"x\":[0.0,0.0392156862745098,0.0784313725490196,0.11764705882352941,0.1568627450980392,0.19607843137254902,0.23529411764705882,0.27450980392156865,0.3137254901960784,0.3529411764705882,0.39215686274509803,0.43137254901960786,0.47058823529411764,0.5098039215686274,0.5490196078431373,0.5882352941176471,0.6274509803921569,0.6666666666666666,0.7058823529411764,0.7450980392156863,0.7843137254901961,0.8235294117647058,0.8627450980392157,0.9019607843137255,0.9411764705882353,0.9803921568627451,1.0196078431372548,1.0588235294117647,1.0980392156862746],\"y\":[-0.1087601484568576,-0.04865274010381533,0.011454668249226932,0.0715620766022692,0.13166948495531144,0.19177689330835368,0.25188430166139597,0.31199171001443826,0.3720991183674805,0.4322065267205227,0.49231393507356497,0.5524213434266073,0.6125287517796496,0.6726361601326918,0.7327435684857342,0.7928509768387764,0.8529583851918187,0.9130657935448608,0.973173201897903,1.0332806102509453,1.0933880186039875,1.15349542695703,1.213602835310072,1.2737102436631145,1.3338176520161567,1.3939250603691988,1.454032468722241,1.5141398770752834,1.5742472854283258],\"type\":\"scatter\",\"xaxis\":\"x\",\"yaxis\":\"y\"},{\"mode\":\"lines\",\"x\":[0.0,0.0392156862745098,0.0784313725490196,0.11764705882352941,0.1568627450980392,0.19607843137254902,0.23529411764705882,0.27450980392156865,0.3137254901960784,0.3529411764705882,0.39215686274509803,0.43137254901960786,0.47058823529411764,0.5098039215686274,0.5490196078431373,0.5882352941176471,0.6274509803921569,0.6666666666666666,0.7058823529411764,0.7450980392156863,0.7843137254901961,0.8235294117647058,0.8627450980392157,0.9019607843137255,0.9411764705882353,0.9803921568627451,1.0196078431372548,1.0588235294117647,1.0980392156862746],\"y\":[-0.40122047188583626,-0.3741560016226554,-0.3470915313594745,-0.32002706109629364,-0.2929625908331127,-0.26589812056993184,-0.23883365030675097,-0.21176918004357007,-0.1847047097803892,-0.15764023951720835,-0.13057576925402742,-0.10351129899084655,-0.07644682872766567,-0.0493823584644848,-0.02231788820130387,0.004746582061877003,0.031811052325057876,0.05887552258823875,0.08593999285141957,0.1130044631146005,0.14006893337778142,0.16713340364096224,0.19419787390414317,0.2212623441673241,0.24832681443050492,0.27539128469368573,0.30245575495686666,0.3295202252200476,0.3565846954832285],\"type\":\"scatter\",\"xaxis\":\"x\",\"yaxis\":\"y\"},{\"mode\":\"lines\",\"x\":[0.0,0.0392156862745098,0.0784313725490196,0.11764705882352941,0.1568627450980392,0.19607843137254902,0.23529411764705882,0.27450980392156865,0.3137254901960784,0.3529411764705882,0.39215686274509803,0.43137254901960786,0.47058823529411764,0.5098039215686274,0.5490196078431373,0.5882352941176471,0.6274509803921569,0.6666666666666666,0.7058823529411764,0.7450980392156863,0.7843137254901961,0.8235294117647058,0.8627450980392157,0.9019607843137255,0.9411764705882353,0.9803921568627451,1.0196078431372548,1.0588235294117647,1.0980392156862746],\"y\":[0.09767609854883172,0.09816991818733348,0.09866373782583523,0.09915755746433699,0.09965137710283875,0.10014519674134051,0.10063901637984228,0.10113283601834404,0.1016266556568458,0.10212047529534755,0.10261429493384931,0.10310811457235107,0.10360193421085283,0.10409575384935459,0.10458957348785634,0.1050833931263581,0.10557721276485987,0.10607103240336163,0.10656485204186339,0.10705867168036515,0.1075524913188669,0.10804631095736866,0.10854013059587042,0.10903395023437218,0.10952776987287394,0.1100215895113757,0.11051540914987745,0.11100922878837921,0.11150304842688098],\"type\":\"scatter\",\"xaxis\":\"x\",\"yaxis\":\"y\"},{\"mode\":\"lines\",\"x\":[0.0,0.0392156862745098,0.0784313725490196,0.11764705882352941,0.1568627450980392,0.19607843137254902,0.23529411764705882,0.27450980392156865,0.3137254901960784,0.3529411764705882,0.39215686274509803,0.43137254901960786,0.47058823529411764,0.5098039215686274,0.5490196078431373,0.5882352941176471,0.6274509803921569,0.6666666666666666,0.7058823529411764,0.7450980392156863,0.7843137254901961,0.8235294117647058,0.8627450980392157,0.9019607843137255,0.9411764705882353,0.9803921568627451,1.0196078431372548,1.0588235294117647,1.0980392156862746],\"y\":[0.49799829124544975,0.498959474549722,0.49992065785399425,0.5008818411582665,0.5018430244625388,0.5028042077668111,0.5037653910710833,0.5047265743753556,0.5056877576796278,0.5066489409839001,0.5076101242881724,0.5085713075924446,0.5095324908967169,0.5104936742009891,0.5114548575052614,0.5124160408095337,0.5133772241138059,0.5143384074180782,0.5152995907223505,0.5162607740266227,0.517221957330895,0.5181831406351672,0.5191443239394395,0.5201055072437119,0.521066690547984,0.5220278738522564,0.5229890571565285,0.5239502404608009,0.5249114237650732],\"type\":\"scatter\",\"xaxis\":\"x\",\"yaxis\":\"y\"},{\"mode\":\"lines\",\"x\":[0.0,0.0392156862745098,0.0784313725490196,0.11764705882352941,0.1568627450980392,0.19607843137254902,0.23529411764705882,0.27450980392156865,0.3137254901960784,0.3529411764705882,0.39215686274509803,0.43137254901960786,0.47058823529411764,0.5098039215686274,0.5490196078431373,0.5882352941176471,0.6274509803921569,0.6666666666666666,0.7058823529411764,0.7450980392156863,0.7843137254901961,0.8235294117647058,0.8627450980392157,0.9019607843137255,0.9411764705882353,0.9803921568627451,1.0196078431372548,1.0588235294117647,1.0980392156862746],\"y\":[2.1531824575115563,2.1908009212796036,2.228419385047651,2.2660378488156985,2.3036563125837457,2.341274776351793,2.37889324011984,2.416511703887888,2.454130167655935,2.4917486314239823,2.5293670951920295,2.566985558960077,2.6046040227281244,2.6422224864961716,2.679840950264219,2.717459414032266,2.7550778778003133,2.792696341568361,2.8303148053364082,2.8679332691044555,2.905551732872503,2.9431701966405504,2.9807886604085976,3.018407124176645,3.056025587944692,3.0936440517127393,3.131262515480787,3.168880979248834,3.206499443016882],\"type\":\"scatter\",\"xaxis\":\"x\",\"yaxis\":\"y\"},{\"mode\":\"lines\",\"x\":[0.0,0.0392156862745098,0.0784313725490196,0.11764705882352941,0.1568627450980392,0.19607843137254902,0.23529411764705882,0.27450980392156865,0.3137254901960784,0.3529411764705882,0.39215686274509803,0.43137254901960786,0.47058823529411764,0.5098039215686274,0.5490196078431373,0.5882352941176471,0.6274509803921569,0.6666666666666666,0.7058823529411764,0.7450980392156863,0.7843137254901961,0.8235294117647058,0.8627450980392157,0.9019607843137255,0.9411764705882353,0.9803921568627451,1.0196078431372548,1.0588235294117647,1.0980392156862746],\"y\":[0.18334200573835174,0.2175506581587705,0.25175931057918927,0.285967962999608,0.32017661542002673,0.3543852678404455,0.38859392026086426,0.422802572681283,0.4570112251017018,0.4912198775221205,0.5254285299425392,0.559637182362958,0.5938458347833768,0.6280544872037954,0.6622631396242142,0.696471792044633,0.7306804444650519,0.7648890968854705,0.7990977493058893,0.8333064017263081,0.8675150541467267,0.9017237065671455,0.9359323589875643,0.9701410114079831,1.0043496638284017,1.0385583162488206,1.0727669686692392,1.106975621089658,1.1411842735100768],\"type\":\"scatter\",\"xaxis\":\"x\",\"yaxis\":\"y\"},{\"mode\":\"lines\",\"x\":[0.0,0.0392156862745098,0.0784313725490196,0.11764705882352941,0.1568627450980392,0.19607843137254902,0.23529411764705882,0.27450980392156865,0.3137254901960784,0.3529411764705882,0.39215686274509803,0.43137254901960786,0.47058823529411764,0.5098039215686274,0.5490196078431373,0.5882352941176471,0.6274509803921569,0.6666666666666666,0.7058823529411764,0.7450980392156863,0.7843137254901961,0.8235294117647058,0.8627450980392157,0.9019607843137255,0.9411764705882353,0.9803921568627451,1.0196078431372548,1.0588235294117647,1.0980392156862746],\"y\":[-0.8397218421807761,-0.8714198141554879,-0.9031177861301997,-0.9348157581049115,-0.9665137300796234,-0.9982117020543352,-1.029909674029047,-1.061607646003759,-1.0933056179784706,-1.1250035899531825,-1.1567015619278942,-1.188399533902606,-1.2200975058773178,-1.2517954778520297,-1.2834934498267416,-1.3151914218014533,-1.3468893937761652,-1.3785873657508771,-1.4102853377255888,-1.4419833097003005,-1.4736812816750124,-1.5053792536497244,-1.537077225624436,-1.568775197599148,-1.6004731695738599,-1.6321711415485716,-1.6638691135232833,-1.6955670854979954,-1.727265057472707],\"type\":\"scatter\",\"xaxis\":\"x\",\"yaxis\":\"y\"},{\"mode\":\"lines\",\"x\":[0.0,0.0392156862745098,0.0784313725490196,0.11764705882352941,0.1568627450980392,0.19607843137254902,0.23529411764705882,0.27450980392156865,0.3137254901960784,0.3529411764705882,0.39215686274509803,0.43137254901960786,0.47058823529411764,0.5098039215686274,0.5490196078431373,0.5882352941176471,0.6274509803921569,0.6666666666666666,0.7058823529411764,0.7450980392156863,0.7843137254901961,0.8235294117647058,0.8627450980392157,0.9019607843137255,0.9411764705882353,0.9803921568627451,1.0196078431372548,1.0588235294117647,1.0980392156862746],\"y\":[-0.525755021680761,-0.6090450500850672,-0.6923350784893734,-0.7756251068936795,-0.8589151352979856,-0.9422051637022918,-1.025495192106598,-1.1087852205109041,-1.1920752489152102,-1.2753652773195163,-1.3586553057238224,-1.4419453341281288,-1.5252353625324349,-1.608525390936741,-1.6918154193410473,-1.7751054477453532,-1.8583954761496595,-1.9416855045539654,-2.0249755329582717,-2.108265561362578,-2.191555589766884,-2.2748456181711902,-2.3581356465754966,-2.4414256749798025,-2.524715703384109,-2.6080057317884147,-2.6912957601927205,-2.774585788597027,-2.857875817001333],\"type\":\"scatter\",\"xaxis\":\"x\",\"yaxis\":\"y\"},{\"mode\":\"lines\",\"x\":[0.0,0.0392156862745098,0.0784313725490196,0.11764705882352941,0.1568627450980392,0.19607843137254902,0.23529411764705882,0.27450980392156865,0.3137254901960784,0.3529411764705882,0.39215686274509803,0.43137254901960786,0.47058823529411764,0.5098039215686274,0.5490196078431373,0.5882352941176471,0.6274509803921569,0.6666666666666666,0.7058823529411764,0.7450980392156863,0.7843137254901961,0.8235294117647058,0.8627450980392157,0.9019607843137255,0.9411764705882353,0.9803921568627451,1.0196078431372548,1.0588235294117647,1.0980392156862746],\"y\":[0.34175597577715944,0.347653771325246,0.35355156687333256,0.35944936242141917,0.36534715796950573,0.3712449535175923,0.3771427490656789,0.38304054461376547,0.388938340161852,0.3948361357099386,0.40073393125802514,0.40663172680611176,0.4125295223541983,0.4184273179022849,0.4243251134503715,0.43022290899845805,0.4361207045465446,0.4420185000946312,0.44791629564271773,0.45381409119080435,0.4597118867388909,0.46560968228697747,0.4715074778350641,0.47740527338315064,0.4833030689312372,0.48920086447932376,0.4950986600274103,0.5009964555754969,0.5068942511235836],\"type\":\"scatter\",\"xaxis\":\"x\",\"yaxis\":\"y\"},{\"mode\":\"lines\",\"x\":[0.0,0.0392156862745098,0.0784313725490196,0.11764705882352941,0.1568627450980392,0.19607843137254902,0.23529411764705882,0.27450980392156865,0.3137254901960784,0.3529411764705882,0.39215686274509803,0.43137254901960786,0.47058823529411764,0.5098039215686274,0.5490196078431373,0.5882352941176471,0.6274509803921569,0.6666666666666666,0.7058823529411764,0.7450980392156863,0.7843137254901961,0.8235294117647058,0.8627450980392157,0.9019607843137255,0.9411764705882353,0.9803921568627451,1.0196078431372548,1.0588235294117647,1.0980392156862746],\"y\":[0.5193465142411723,0.48740238429077454,0.4564508527574105,0.4264919196410802,0.3975255849417836,0.36955184865952073,0.3425707107942916,0.3165821713460961,0.29158623031493447,0.2675828877008065,0.24457214350371226,0.2225539977236517,0.20152845036062494,0.18149550141463183,0.16245515088567247,0.14440739877374686,0.12735224507885495,0.11128968980099674,0.09621973294017239,0.08214237449638151,0.06905761446962455,0.05696545285990129,0.04586588966721172,0.035758924891555854,0.026644558532933793,0.018522790591345317,0.01139362106679076,0.005257049959269788,0.00011307726878262425],\"type\":\"scatter\",\"xaxis\":\"x2\",\"yaxis\":\"y2\"},{\"mode\":\"lines\",\"x\":[0.0,0.0392156862745098,0.0784313725490196,0.11764705882352941,0.1568627450980392,0.19607843137254902,0.23529411764705882,0.27450980392156865,0.3137254901960784,0.3529411764705882,0.39215686274509803,0.43137254901960786,0.47058823529411764,0.5098039215686274,0.5490196078431373,0.5882352941176471,0.6274509803921569,0.6666666666666666,0.7058823529411764,0.7450980392156863,0.7843137254901961,0.8235294117647058,0.8627450980392157,0.9019607843137255,0.9411764705882353,0.9803921568627451,1.0196078431372548,1.0588235294117647,1.0980392156862746],\"y\":[0.40171172209894146,0.399803771506635,0.402610127451822,0.4101307899345025,0.4223657589546766,0.43931503451234416,0.4609786166075052,0.48735650524015983,0.5184487004103079,0.5542552021179494,0.5947760103630846,0.6400111251457132,0.6899605464658354,0.744624274323451,0.8040023087185603,0.8680946496511629,0.936901297121259,1.0104222511288485,1.0886575116739317,1.1716070787565087,1.2592709523765788,1.3516491325341424,1.4487416192292,1.5505484124617506,1.6570695122317949,1.7683049185393325,1.8842546313843636,2.004918650766889,2.1302969766869078],\"type\":\"scatter\",\"xaxis\":\"x2\",\"yaxis\":\"y2\"},{\"mode\":\"lines\",\"x\":[0.0,0.0392156862745098,0.0784313725490196,0.11764705882352941,0.1568627450980392,0.19607843137254902,0.23529411764705882,0.27450980392156865,0.3137254901960784,0.3529411764705882,0.39215686274509803,0.43137254901960786,0.47058823529411764,0.5098039215686274,0.5490196078431373,0.5882352941176471,0.6274509803921569,0.6666666666666666,0.7058823529411764,0.7450980392156863,0.7843137254901961,0.8235294117647058,0.8627450980392157,0.9019607843137255,0.9411764705882353,0.9803921568627451,1.0196078431372548,1.0588235294117647,1.0980392156862746],\"y\":[0.22409248181041677,0.20941969743305774,0.1968696166057521,0.18644223932849988,0.17813756560130106,0.17195559542415562,0.1678963287970636,0.165959765720025,0.16614590619303976,0.16845475021610795,0.17288629778922954,0.17944054891240452,0.18811750358563292,0.1989171618089147,0.21183952358224997,0.22688458890563853,0.24405235777908055,0.263342830202576,0.28475600617612473,0.308291885699727,0.3339504687733825,0.36173175539709157,0.391635745570854,0.42366243929466985,0.4578118365685391,0.4940839373924617,0.5324787417664376,0.5729962496904673,0.6156364611645502],\"type\":\"scatter\",\"xaxis\":\"x2\",\"yaxis\":\"y2\"},{\"mode\":\"lines\",\"x\":[0.0,0.0392156862745098,0.0784313725490196,0.11764705882352941,0.1568627450980392,0.19607843137254902,0.23529411764705882,0.27450980392156865,0.3137254901960784,0.3529411764705882,0.39215686274509803,0.43137254901960786,0.47058823529411764,0.5098039215686274,0.5490196078431373,0.5882352941176471,0.6274509803921569,0.6666666666666666,0.7058823529411764,0.7450980392156863,0.7843137254901961,0.8235294117647058,0.8627450980392157,0.9019607843137255,0.9411764705882353,0.9803921568627451,1.0196078431372548,1.0588235294117647,1.0980392156862746],\"y\":[-0.7730097838554665,-0.7691599831422378,-0.7652714514769696,-0.7613441888596622,-0.7573781952903154,-0.7533734707689291,-0.7493300152955036,-0.7452478288700387,-0.7411269114925345,-0.7369672631629909,-0.7327688838814079,-0.7285317736477857,-0.7242559324621239,-0.719941360324423,-0.7155880572346826,-0.7111960231929029,-0.7067652581990838,-0.7022957622532254,-0.6977875353553277,-0.6932405775053905,-0.688654888703414,-0.6840304689493981,-0.679367318243343,-0.6746654365852485,-0.6699248239751145,-0.6651454804129413,-0.6603274058987287,-0.6554706004324767,-0.6505750640141854],\"type\":\"scatter\",\"xaxis\":\"x2\",\"yaxis\":\"y2\"},{\"mode\":\"lines\",\"x\":[0.0,0.0392156862745098,0.0784313725490196,0.11764705882352941,0.1568627450980392,0.19607843137254902,0.23529411764705882,0.27450980392156865,0.3137254901960784,0.3529411764705882,0.39215686274509803,0.43137254901960786,0.47058823529411764,0.5098039215686274,0.5490196078431373,0.5882352941176471,0.6274509803921569,0.6666666666666666,0.7058823529411764,0.7450980392156863,0.7843137254901961,0.8235294117647058,0.8627450980392157,0.9019607843137255,0.9411764705882353,0.9803921568627451,1.0196078431372548,1.0588235294117647,1.0980392156862746],\"y\":[1.4511436077950417,1.4707106460126778,1.4903530711561392,1.510070883225426,1.529864082220538,1.5497326681414751,1.569676640988238,1.5896960007608256,1.6097907474592388,1.629960881083477,1.6502064016335407,1.6705273091094295,1.6909236035111437,1.7113952848386833,1.7319423530920481,1.752564808271238,1.7732626503762532,1.7940358794070939,1.8148844953637597,1.8358084982462508,1.856807888054567,1.8778826647887088,1.899032828448676,1.920258379034468,1.9415593165460856,1.9629356409835284,1.9843873523467963,2.0059144506358897,2.0275169358508083],\"type\":\"scatter\",\"xaxis\":\"x2\",\"yaxis\":\"y2\"},{\"mode\":\"lines\",\"x\":[0.0,0.0392156862745098,0.0784313725490196,0.11764705882352941,0.1568627450980392,0.19607843137254902,0.23529411764705882,0.27450980392156865,0.3137254901960784,0.3529411764705882,0.39215686274509803,0.43137254901960786,0.47058823529411764,0.5098039215686274,0.5490196078431373,0.5882352941176471,0.6274509803921569,0.6666666666666666,0.7058823529411764,0.7450980392156863,0.7843137254901961,0.8235294117647058,0.8627450980392157,0.9019607843137255,0.9411764705882353,0.9803921568627451,1.0196078431372548,1.0588235294117647,1.0980392156862746],\"y\":[-0.7673475628880495,-0.6814338012692416,-0.59256957190392,-0.5007548747920849,-0.40598970993373645,-0.3082740773288744,-0.20760797697749878,-0.10399140887960967,0.0025756269647928542,0.11209313055570891,0.2245611018931386,0.33997954097708183,0.4583484478075386,0.5796678223845084,0.7039376647079925,0.8311579747779896,0.9613287525945002,1.0944499981575242,1.2305217114670621,1.3695438925231134,1.5115165413256784,1.6564396578747567,1.8043132421703487,1.9551372942124536,2.1089118140010727,2.2656368015362047,2.4253122568178505,2.58793817984601,2.7535145706206836],\"type\":\"scatter\",\"xaxis\":\"x2\",\"yaxis\":\"y2\"},{\"mode\":\"lines\",\"x\":[0.0,0.0392156862745098,0.0784313725490196,0.11764705882352941,0.1568627450980392,0.19607843137254902,0.23529411764705882,0.27450980392156865,0.3137254901960784,0.3529411764705882,0.39215686274509803,0.43137254901960786,0.47058823529411764,0.5098039215686274,0.5490196078431373,0.5882352941176471,0.6274509803921569,0.6666666666666666,0.7058823529411764,0.7450980392156863,0.7843137254901961,0.8235294117647058,0.8627450980392157,0.9019607843137255,0.9411764705882353,0.9803921568627451,1.0196078431372548,1.0588235294117647,1.0980392156862746],\"y\":[2.1898029332176723,2.1983343315768398,2.209548761498393,2.223446222982332,2.2400267160286567,2.2592902406373674,2.281236796808464,2.3058663845419463,2.333179003837814,2.363174654696068,2.3958533371167072,2.431215051099733,2.4692597966451437,2.5099875737529405,2.5533983824231234,2.599492222655692,2.648269094450646,2.699728997807986,2.7538719327277117,2.8106978992098233,2.8702068972543207,2.932398926861204,2.997273988030473,3.0648320807621277,3.1350732050561683,3.2079973609125942,3.2836045483314065,3.3618947673126045,3.4428680178561883],\"type\":\"scatter\",\"xaxis\":\"x2\",\"yaxis\":\"y2\"},{\"mode\":\"lines\",\"x\":[0.0,0.0392156862745098,0.0784313725490196,0.11764705882352941,0.1568627450980392,0.19607843137254902,0.23529411764705882,0.27450980392156865,0.3137254901960784,0.3529411764705882,0.39215686274509803,0.43137254901960786,0.47058823529411764,0.5098039215686274,0.5490196078431373,0.5882352941176471,0.6274509803921569,0.6666666666666666,0.7058823529411764,0.7450980392156863,0.7843137254901961,0.8235294117647058,0.8627450980392157,0.9019607843137255,0.9411764705882353,0.9803921568627451,1.0196078431372548,1.0588235294117647,1.0980392156862746],\"y\":[-0.5993926454440222,-0.6335659714893354,-0.6702254129836457,-0.7093709699269529,-0.7510026423192572,-0.7951204301605584,-0.8417243334508567,-0.890814352190152,-0.9423904863784444,-0.9964527360157336,-1.05300110110202,-1.1120355816373033,-1.1735561776215835,-1.237562889054861,-1.3040557159371353,-1.3730346582684065,-1.444499716048675,-1.5184508892779403,-1.5948881779562023,-1.6738115820834618,-1.7552211016597181,-1.8391167366849714,-1.925498487159222,-2.0143663530824694,-2.1057203344547135,-2.199560431275955,-2.295886643546193,-2.394698971265429,-2.4959974144336616],\"type\":\"scatter\",\"xaxis\":\"x2\",\"yaxis\":\"y2\"},{\"mode\":\"lines\",\"x\":[0.0,0.0392156862745098,0.0784313725490196,0.11764705882352941,0.1568627450980392,0.19607843137254902,0.23529411764705882,0.27450980392156865,0.3137254901960784,0.3529411764705882,0.39215686274509803,0.43137254901960786,0.47058823529411764,0.5098039215686274,0.5490196078431373,0.5882352941176471,0.6274509803921569,0.6666666666666666,0.7058823529411764,0.7450980392156863,0.7843137254901961,0.8235294117647058,0.8627450980392157,0.9019607843137255,0.9411764705882353,0.9803921568627451,1.0196078431372548,1.0588235294117647,1.0980392156862746],\"y\":[-0.759132661553698,-0.783016781164877,-0.8134334520234527,-0.8503826741294249,-0.8938644474827937,-0.9438787720835591,-1.000425647931721,-1.0635050750272796,-1.1331170533702344,-1.2092615829605862,-1.291938663798334,-1.381148295883479,-1.4768904792160202,-1.579165213795958,-1.6879724996232928,-1.8033123366980235,-1.925184725020151,-2.053589664589675,-2.1885271554065957,-2.329997197470913,-2.4779997907826266,-2.632534935341737,-2.793602631148244,-2.9612028782021476,-3.1353356765034475,-3.3160010260521435,-3.5031989268482366,-3.696929378891727,-3.897192382182614],\"type\":\"scatter\",\"xaxis\":\"x2\",\"yaxis\":\"y2\"},{\"mode\":\"lines\",\"x\":[0.0,0.0392156862745098,0.0784313725490196,0.11764705882352941,0.1568627450980392,0.19607843137254902,0.23529411764705882,0.27450980392156865,0.3137254901960784,0.3529411764705882,0.39215686274509803,0.43137254901960786,0.47058823529411764,0.5098039215686274,0.5490196078431373,0.5882352941176471,0.6274509803921569,0.6666666666666666,0.7058823529411764,0.7450980392156863,0.7843137254901961,0.8235294117647058,0.8627450980392157,0.9019607843137255,0.9411764705882353,0.9803921568627451,1.0196078431372548,1.0588235294117647,1.0980392156862746],\"y\":[1.8761708392158862,1.8898043204443273,1.9039003738726181,1.918458999500759,1.9334801973287499,1.9489639673565906,1.9649103095842813,1.9813192240118218,1.9981907106392123,2.015524769466453,2.033321400493543,2.0515806037204833,2.0703023791472734,2.089486726773914,2.109133646600404,2.129243138626744,2.149815202852934,2.170849839278974,2.1923470479048635,2.2143068287306034,2.2367291817561927,2.2596141069816325,2.282961604406922,2.306771674032061,2.3310443158570506,2.35577952988189,2.380977316106579,2.4066376745311184,2.4327606051555075],\"type\":\"scatter\",\"xaxis\":\"x2\",\"yaxis\":\"y2\"},{\"mode\":\"lines\",\"x\":[0.0,0.0392156862745098,0.0784313725490196,0.11764705882352941,0.1568627450980392,0.19607843137254902,0.23529411764705882,0.27450980392156865,0.3137254901960784,0.3529411764705882,0.39215686274509803,0.43137254901960786,0.47058823529411764,0.5098039215686274,0.5490196078431373,0.5882352941176471,0.6274509803921569,0.6666666666666666,0.7058823529411764,0.7450980392156863,0.7843137254901961,0.8235294117647058,0.8627450980392157,0.9019607843137255,0.9411764705882353,0.9803921568627451,1.0196078431372548,1.0588235294117647,1.0980392156862746],\"y\":[0.5193465142411723,0.5656215696823408,0.6071417274906863,0.6394393149880879,0.6586037592584709,0.6615178097156548,0.6460458391410515,0.6111628486546425,0.5570163839284534,0.4849176225238136,0.39726217073184794,0.2973853542733854,0.1893607441867785,0.07775408817462798,-0.03265248853603597,-0.13714935286199403,-0.23138385456236754,-0.311623252985903,-0.3749801974802801,-0.41958714106499584,-0.44470915171318304,-0.45078830674964643,-0.4394169886714233,-0.413241695486957,-0.3758031760188294,-0.3313225469774188,-0.2844463116448829,-0.23996568260347206,-0.20252716313534436],\"type\":\"scatter\",\"xaxis\":\"x3\",\"yaxis\":\"y3\"},{\"mode\":\"lines\",\"x\":[0.0,0.0392156862745098,0.0784313725490196,0.11764705882352941,0.1568627450980392,0.19607843137254902,0.23529411764705882,0.27450980392156865,0.3137254901960784,0.3529411764705882,0.39215686274509803,0.43137254901960786,0.47058823529411764,0.5098039215686274,0.5490196078431373,0.5882352941176471,0.6274509803921569,0.6666666666666666,0.7058823529411764,0.7450980392156863,0.7843137254901961,0.8235294117647058,0.8627450980392157,0.9019607843137255,0.9411764705882353,0.9803921568627451,1.0196078431372548,1.0588235294117647,1.0980392156862746],\"y\":[0.40171172209894146,0.7713026684632172,1.1183104184301844,1.421515939053178,1.6623461204549033,1.825995705478742,1.9023216179465903,1.8864556666160772,1.7790986137635396,1.586477844848308,1.3199711962699807,0.9954196643273064,0.6321705119692205,0.25190857555405655,-0.1226536321496553,-0.4691478969150914,-0.7669014802672929,-0.998185879568142,-1.1492877382147286,-1.2113372164126537,-1.1808437838533703,-1.059907069134545,-0.8560900293263782,-0.5819621010193008,-0.2543399293292733,0.10672846051843055,0.4791746867657351,0.8402430766134402,1.1678652483034688],\"type\":\"scatter\",\"xaxis\":\"x3\",\"yaxis\":\"y3\"},{\"mode\":\"lines\",\"x\":[0.0,0.0392156862745098,0.0784313725490196,0.11764705882352941,0.1568627450980392,0.19607843137254902,0.23529411764705882,0.27450980392156865,0.3137254901960784,0.3529411764705882,0.39215686274509803,0.43137254901960786,0.47058823529411764,0.5098039215686274,0.5490196078431373,0.5882352941176471,0.6274509803921569,0.6666666666666666,0.7058823529411764,0.7450980392156863,0.7843137254901961,0.8235294117647058,0.8627450980392157,0.9019607843137255,0.9411764705882353,0.9803921568627451,1.0196078431372548,1.0588235294117647,1.0980392156862746],\"y\":[0.22409248181041677,0.37669393408673346,0.5191268852732573,0.6418370740578817,0.7364616148372817,0.7963341672545324,0.816887624007534,0.7959299921169728,0.7337768027346507,0.6332320511283638,0.49941881818504075,0.33946980493129153,0.162096473682708,-0.02293717766323,-0.20540442093325764,-0.37523355472866216,-0.52311629690845,-0.641070061871161,-0.7229201576419239,-0.7646727751058172,-0.764756238552194,-0.7241159445187242,-0.6461572540471937,-0.5365397880087691,-0.40283555132161597,-0.2540715374531284,-0.10018444269771151,0.04857957117077663,0.18228380785793033],\"type\":\"scatter\",\"xaxis\":\"x3\",\"yaxis\":\"y3\"},{\"mode\":\"lines\",\"x\":[0.0,0.0392156862745098,0.0784313725490196,0.11764705882352941,0.1568627450980392,0.19607843137254902,0.23529411764705882,0.27450980392156865,0.3137254901960784,0.3529411764705882,0.39215686274509803,0.43137254901960786,0.47058823529411764,0.5098039215686274,0.5490196078431373,0.5882352941176471,0.6274509803921569,0.6666666666666666,0.7058823529411764,0.7450980392156863,0.7843137254901961,0.8235294117647058,0.8627450980392157,0.9019607843137255,0.9411764705882353,0.9803921568627451,1.0196078431372548,1.0588235294117647,1.0980392156862746],\"y\":[-0.7730097838554665,-0.7661078892984742,-0.7593915297060845,-0.7530350325940925,-0.7471909875792656,-0.7419810290314316,-0.7374884886121745,-0.7337533615318241,-0.7307698905936646,-0.7284869139638952,-0.7268109556599088,-0.7256118720724549,-0.7247307134371497,-0.7239893253742774,-0.7232011105050435,-0.7221823000767089,-0.7207630547213776,-0.7187977237945814,-0.7161736435667426,-0.7128179428028365,-0.7087019446315357,-0.7038428988039692,-0.6983029397030481,-0.6921853330459833,-0.6856282380021603,-0.6787963615326791,-0.6718710090805905,-0.6650391326111091,-0.6584820375672862],\"type\":\"scatter\",\"xaxis\":\"x3\",\"yaxis\":\"y3\"},{\"mode\":\"lines\",\"x\":[0.0,0.0392156862745098,0.0784313725490196,0.11764705882352941,0.1568627450980392,0.19607843137254902,0.23529411764705882,0.27450980392156865,0.3137254901960784,0.3529411764705882,0.39215686274509803,0.43137254901960786,0.47058823529411764,0.5098039215686274,0.5490196078431373,0.5882352941176471,0.6274509803921569,0.6666666666666666,0.7058823529411764,0.7450980392156863,0.7843137254901961,0.8235294117647058,0.8627450980392157,0.9019607843137255,0.9411764705882353,0.9803921568627451,1.0196078431372548,1.0588235294117647,1.0980392156862746],\"y\":[1.4511436077950417,1.4766513203337686,1.5017979028233224,1.52624403968248,1.5496927265383758,1.571907211110645,1.5927252944999588,1.6120691289954885,1.6299499205536825,1.6464672518898302,1.661803067071821,1.6762106809835033,1.6899994775534048,1.703516221069566,1.7171241094915959,1.7311808350682585,1.7460169775337357,1.7619160350659138,1.7790972992591796,1.797702608568319,1.817787780396669,1.8393192393829143,1.8621760455586545,1.8861571998636095,1.910993785720568,1.936365213244554,1.961918584836429,1.9872900123604147,2.0121265982173737],\"type\":\"scatter\",\"xaxis\":\"x3\",\"yaxis\":\"y3\"},{\"mode\":\"lines\",\"x\":[0.0,0.0392156862745098,0.0784313725490196,0.11764705882352941,0.1568627450980392,0.19607843137254902,0.23529411764705882,0.27450980392156865,0.3137254901960784,0.3529411764705882,0.39215686274509803,0.43137254901960786,0.47058823529411764,0.5098039215686274,0.5490196078431373,0.5882352941176471,0.6274509803921569,0.6666666666666666,0.7058823529411764,0.7450980392156863,0.7843137254901961,0.8235294117647058,0.8627450980392157,0.9019607843137255,0.9411764705882353,0.9803921568627451,1.0196078431372548,1.0588235294117647,1.0980392156862746],\"y\":[-0.7673475628880495,-0.44892971936061943,-0.14464566031527892,0.13222459695944233,0.37005699679181747,0.5595856093208951,0.6944623494410687,0.7716404400430772,0.7915584560218414,0.7581138316652534,0.6784274317399843,0.5624134076234166,0.4221803218072253,0.27129971652245555,0.1239863094233089,-0.005760662465964406,-0.10500308245367629,-0.16264549571275178,-0.170105342744453,-0.12183139856542768,-0.0156391007142217,0.14715748978920273,0.36182506578154916,0.6204969947142205,0.9126485114654332,1.2257324786485908,1.545937310598421,1.8590212777815798,2.1511727945327936],\"type\":\"scatter\",\"xaxis\":\"x3\",\"yaxis\":\"y3\"},{\"mode\":\"lines\",\"x\":[0.0,0.0392156862745098,0.0784313725490196,0.11764705882352941,0.1568627450980392,0.19607843137254902,0.23529411764705882,0.27450980392156865,0.3137254901960784,0.3529411764705882,0.39215686274509803,0.43137254901960786,0.47058823529411764,0.5098039215686274,0.5490196078431373,0.5882352941176471,0.6274509803921569,0.6666666666666666,0.7058823529411764,0.7450980392156863,0.7843137254901961,0.8235294117647058,0.8627450980392157,0.9019607843137255,0.9411764705882353,0.9803921568627451,1.0196078431372548,1.0588235294117647,1.0980392156862746],\"y\":[2.1898029332176723,2.409763787425496,2.61687197110126,2.799051193773308,2.9457310269775334,3.048485422911461,3.101541699355744,3.102129245054808,3.0506468816147967,2.9506387722346124,2.808580332530316,2.6334870757510256,2.4363700205322356,2.229570557895479,2.0260149556034497,1.838433532375872,1.678591668628325,1.5565791053977165,1.4802004621544254,1.4545037899601319,1.4814756382495857,1.5599210550713123,1.6855357695080655,1.851166196016496,2.047241554830646,2.262352005708877,2.48393787220317,2.6990483230814015,2.8951236818955524],\"type\":\"scatter\",\"xaxis\":\"x3\",\"yaxis\":\"y3\"},{\"mode\":\"lines\",\"x\":[0.0,0.0392156862745098,0.0784313725490196,0.11764705882352941,0.1568627450980392,0.19607843137254902,0.23529411764705882,0.27450980392156865,0.3137254901960784,0.3529411764705882,0.39215686274509803,0.43137254901960786,0.47058823529411764,0.5098039215686274,0.5490196078431373,0.5882352941176471,0.6274509803921569,0.6666666666666666,0.7058823529411764,0.7450980392156863,0.7843137254901961,0.8235294117647058,0.8627450980392157,0.9019607843137255,0.9411764705882353,0.9803921568627451,1.0196078431372548,1.0588235294117647,1.0980392156862746],\"y\":[-0.5993926454440222,-0.8294779555030345,-1.0476538928887684,-1.2427304840172138,-1.4049130973694766,-1.526394099256337,-1.6018244827377113,-1.6286369804201712,-1.6072011431395439,-1.5408010168258448,-1.4354367660047016,-1.2994622270914191,-1.1430802854797688,-0.9777265587416386,-0.8153786152490263,-0.6678324556466728,-0.5459899621280504,-0.45920035794490854,-0.41469545703148214,-0.41715281812681493,-0.46841319156316774,-0.5673693266659608,-0.7100328564796753,-0.8897752195723954,-1.0977280657656623,-1.3233189588298764,-1.554910016419719,-1.7805009094839337,-1.9884537556772013],\"type\":\"scatter\",\"xaxis\":\"x3\",\"yaxis\":\"y3\"},{\"mode\":\"lines\",\"x\":[0.0,0.0392156862745098,0.0784313725490196,0.11764705882352941,0.1568627450980392,0.19607843137254902,0.23529411764705882,0.27450980392156865,0.3137254901960784,0.3529411764705882,0.39215686274509803,0.43137254901960786,0.47058823529411764,0.5098039215686274,0.5490196078431373,0.5882352941176471,0.6274509803921569,0.6666666666666666,0.7058823529411764,0.7450980392156863,0.7843137254901961,0.8235294117647058,0.8627450980392157,0.9019607843137255,0.9411764705882353,0.9803921568627451,1.0196078431372548,1.0588235294117647,1.0980392156862746],\"y\":[-0.759132661553698,-1.29779781277986,-1.80516973209118,-2.2518454905432064,-2.6120885792492134,-2.865383552228482,-2.9976752850607538,-3.002217990530032,-2.87998270551014,-2.6395986343870934,-2.2968318922350304,-1.8736331348520783,-1.3968116046380703,-0.8964156880684307,-0.40391780901665153,0.04968669850846963,0.4357518984742077,0.7297116429005708,0.9125635177379274,0.9720167051210666,0.9032344240855292,0.709126101777316,0.400171626224501,-0.00621170311967667,-0.48672128699579287,-1.01357684613019,-1.5561985203387252,-2.083054079473124,-2.563563663349242],\"type\":\"scatter\",\"xaxis\":\"x3\",\"yaxis\":\"y3\"},{\"mode\":\"lines\",\"x\":[0.0,0.0392156862745098,0.0784313725490196,0.11764705882352941,0.1568627450980392,0.19607843137254902,0.23529411764705882,0.27450980392156865,0.3137254901960784,0.3529411764705882,0.39215686274509803,0.43137254901960786,0.47058823529411764,0.5098039215686274,0.5490196078431373,0.5882352941176471,0.6274509803921569,0.6666666666666666,0.7058823529411764,0.7450980392156863,0.7843137254901961,0.8235294117647058,0.8627450980392157,0.9019607843137255,0.9411764705882353,0.9803921568627451,1.0196078431372548,1.0588235294117647,1.0980392156862746],\"y\":[1.8761708392158862,1.926256142284999,1.9741255608429829,2.017697063381966,2.055148238858953,2.085026381490428,2.1063362430837604,2.1186001521268483,2.1218868680745895,2.1168074278564504,2.1044782355015363,2.0864536244939877,2.0646319665056905,2.041140998114205,2.0182092924748627,1.998031639845642,1.9826364688060658,1.9737633167409308,1.9727577511225012,1.9804900889896415,1.9973028244654274,2.022989940013331,2.0568093511588894,2.0975277329394024,2.1434950202894116,2.1927440820821325,2.2431095479039587,2.29235860969668,2.3383258970466887],\"type\":\"scatter\",\"xaxis\":\"x3\",\"yaxis\":\"y3\"},{\"marker\":{\"color\":\"mediumpurple\"},\"mode\":\"markers\",\"x\":[0.3745401188473625,0.9507143064099162,0.7319939418114051,0.5986584841970366,0.15601864044243652,0.15599452033620265,0.05808361216819946,0.8661761457749352,0.6011150117432088,0.7080725777960455],\"y\":[0.6621995859491285,-0.2504894367193866,-1.0399487832345553,-0.6275182299806012,0.854857342681687,0.6392487011533475,0.18441089666331875,-0.8014323286500792,-0.6947217251134631,-0.9340757540684701],\"type\":\"scatter\",\"xaxis\":\"x\",\"yaxis\":\"y\"},{\"marker\":{\"color\":\"mediumpurple\"},\"mode\":\"markers\",\"x\":[0.3745401188473625,0.9507143064099162,0.7319939418114051,0.5986584841970366,0.15601864044243652,0.15599452033620265,0.05808361216819946,0.8661761457749352,0.6011150117432088,0.7080725777960455],\"y\":[0.6621995859491285,-0.2504894367193866,-1.0399487832345553,-0.6275182299806012,0.854857342681687,0.6392487011533475,0.18441089666331875,-0.8014323286500792,-0.6947217251134631,-0.9340757540684701],\"type\":\"scatter\",\"xaxis\":\"x2\",\"yaxis\":\"y2\"},{\"marker\":{\"color\":\"mediumpurple\"},\"mode\":\"markers\",\"x\":[0.3745401188473625,0.9507143064099162,0.7319939418114051,0.5986584841970366,0.15601864044243652,0.15599452033620265,0.05808361216819946,0.8661761457749352,0.6011150117432088,0.7080725777960455],\"y\":[0.6621995859491285,-0.2504894367193866,-1.0399487832345553,-0.6275182299806012,0.854857342681687,0.6392487011533475,0.18441089666331875,-0.8014323286500792,-0.6947217251134631,-0.9340757540684701],\"type\":\"scatter\",\"xaxis\":\"x3\",\"yaxis\":\"y3\"}],                        {\"template\":{\"data\":{\"bar\":[{\"error_x\":{\"color\":\"#2a3f5f\"},\"error_y\":{\"color\":\"#2a3f5f\"},\"marker\":{\"line\":{\"color\":\"#E5ECF6\",\"width\":0.5},\"pattern\":{\"fillmode\":\"overlay\",\"size\":10,\"solidity\":0.2}},\"type\":\"bar\"}],\"barpolar\":[{\"marker\":{\"line\":{\"color\":\"#E5ECF6\",\"width\":0.5},\"pattern\":{\"fillmode\":\"overlay\",\"size\":10,\"solidity\":0.2}},\"type\":\"barpolar\"}],\"carpet\":[{\"aaxis\":{\"endlinecolor\":\"#2a3f5f\",\"gridcolor\":\"white\",\"linecolor\":\"white\",\"minorgridcolor\":\"white\",\"startlinecolor\":\"#2a3f5f\"},\"baxis\":{\"endlinecolor\":\"#2a3f5f\",\"gridcolor\":\"white\",\"linecolor\":\"white\",\"minorgridcolor\":\"white\",\"startlinecolor\":\"#2a3f5f\"},\"type\":\"carpet\"}],\"choropleth\":[{\"colorbar\":{\"outlinewidth\":0,\"ticks\":\"\"},\"type\":\"choropleth\"}],\"contour\":[{\"colorbar\":{\"outlinewidth\":0,\"ticks\":\"\"},\"colorscale\":[[0.0,\"#0d0887\"],[0.1111111111111111,\"#46039f\"],[0.2222222222222222,\"#7201a8\"],[0.3333333333333333,\"#9c179e\"],[0.4444444444444444,\"#bd3786\"],[0.5555555555555556,\"#d8576b\"],[0.6666666666666666,\"#ed7953\"],[0.7777777777777778,\"#fb9f3a\"],[0.8888888888888888,\"#fdca26\"],[1.0,\"#f0f921\"]],\"type\":\"contour\"}],\"contourcarpet\":[{\"colorbar\":{\"outlinewidth\":0,\"ticks\":\"\"},\"type\":\"contourcarpet\"}],\"heatmap\":[{\"colorbar\":{\"outlinewidth\":0,\"ticks\":\"\"},\"colorscale\":[[0.0,\"#0d0887\"],[0.1111111111111111,\"#46039f\"],[0.2222222222222222,\"#7201a8\"],[0.3333333333333333,\"#9c179e\"],[0.4444444444444444,\"#bd3786\"],[0.5555555555555556,\"#d8576b\"],[0.6666666666666666,\"#ed7953\"],[0.7777777777777778,\"#fb9f3a\"],[0.8888888888888888,\"#fdca26\"],[1.0,\"#f0f921\"]],\"type\":\"heatmap\"}],\"heatmapgl\":[{\"colorbar\":{\"outlinewidth\":0,\"ticks\":\"\"},\"colorscale\":[[0.0,\"#0d0887\"],[0.1111111111111111,\"#46039f\"],[0.2222222222222222,\"#7201a8\"],[0.3333333333333333,\"#9c179e\"],[0.4444444444444444,\"#bd3786\"],[0.5555555555555556,\"#d8576b\"],[0.6666666666666666,\"#ed7953\"],[0.7777777777777778,\"#fb9f3a\"],[0.8888888888888888,\"#fdca26\"],[1.0,\"#f0f921\"]],\"type\":\"heatmapgl\"}],\"histogram\":[{\"marker\":{\"pattern\":{\"fillmode\":\"overlay\",\"size\":10,\"solidity\":0.2}},\"type\":\"histogram\"}],\"histogram2d\":[{\"colorbar\":{\"outlinewidth\":0,\"ticks\":\"\"},\"colorscale\":[[0.0,\"#0d0887\"],[0.1111111111111111,\"#46039f\"],[0.2222222222222222,\"#7201a8\"],[0.3333333333333333,\"#9c179e\"],[0.4444444444444444,\"#bd3786\"],[0.5555555555555556,\"#d8576b\"],[0.6666666666666666,\"#ed7953\"],[0.7777777777777778,\"#fb9f3a\"],[0.8888888888888888,\"#fdca26\"],[1.0,\"#f0f921\"]],\"type\":\"histogram2d\"}],\"histogram2dcontour\":[{\"colorbar\":{\"outlinewidth\":0,\"ticks\":\"\"},\"colorscale\":[[0.0,\"#0d0887\"],[0.1111111111111111,\"#46039f\"],[0.2222222222222222,\"#7201a8\"],[0.3333333333333333,\"#9c179e\"],[0.4444444444444444,\"#bd3786\"],[0.5555555555555556,\"#d8576b\"],[0.6666666666666666,\"#ed7953\"],[0.7777777777777778,\"#fb9f3a\"],[0.8888888888888888,\"#fdca26\"],[1.0,\"#f0f921\"]],\"type\":\"histogram2dcontour\"}],\"mesh3d\":[{\"colorbar\":{\"outlinewidth\":0,\"ticks\":\"\"},\"type\":\"mesh3d\"}],\"parcoords\":[{\"line\":{\"colorbar\":{\"outlinewidth\":0,\"ticks\":\"\"}},\"type\":\"parcoords\"}],\"pie\":[{\"automargin\":true,\"type\":\"pie\"}],\"scatter\":[{\"marker\":{\"colorbar\":{\"outlinewidth\":0,\"ticks\":\"\"}},\"type\":\"scatter\"}],\"scatter3d\":[{\"line\":{\"colorbar\":{\"outlinewidth\":0,\"ticks\":\"\"}},\"marker\":{\"colorbar\":{\"outlinewidth\":0,\"ticks\":\"\"}},\"type\":\"scatter3d\"}],\"scattercarpet\":[{\"marker\":{\"colorbar\":{\"outlinewidth\":0,\"ticks\":\"\"}},\"type\":\"scattercarpet\"}],\"scattergeo\":[{\"marker\":{\"colorbar\":{\"outlinewidth\":0,\"ticks\":\"\"}},\"type\":\"scattergeo\"}],\"scattergl\":[{\"marker\":{\"colorbar\":{\"outlinewidth\":0,\"ticks\":\"\"}},\"type\":\"scattergl\"}],\"scattermapbox\":[{\"marker\":{\"colorbar\":{\"outlinewidth\":0,\"ticks\":\"\"}},\"type\":\"scattermapbox\"}],\"scatterpolar\":[{\"marker\":{\"colorbar\":{\"outlinewidth\":0,\"ticks\":\"\"}},\"type\":\"scatterpolar\"}],\"scatterpolargl\":[{\"marker\":{\"colorbar\":{\"outlinewidth\":0,\"ticks\":\"\"}},\"type\":\"scatterpolargl\"}],\"scatterternary\":[{\"marker\":{\"colorbar\":{\"outlinewidth\":0,\"ticks\":\"\"}},\"type\":\"scatterternary\"}],\"surface\":[{\"colorbar\":{\"outlinewidth\":0,\"ticks\":\"\"},\"colorscale\":[[0.0,\"#0d0887\"],[0.1111111111111111,\"#46039f\"],[0.2222222222222222,\"#7201a8\"],[0.3333333333333333,\"#9c179e\"],[0.4444444444444444,\"#bd3786\"],[0.5555555555555556,\"#d8576b\"],[0.6666666666666666,\"#ed7953\"],[0.7777777777777778,\"#fb9f3a\"],[0.8888888888888888,\"#fdca26\"],[1.0,\"#f0f921\"]],\"type\":\"surface\"}],\"table\":[{\"cells\":{\"fill\":{\"color\":\"#EBF0F8\"},\"line\":{\"color\":\"white\"}},\"header\":{\"fill\":{\"color\":\"#C8D4E3\"},\"line\":{\"color\":\"white\"}},\"type\":\"table\"}]},\"layout\":{\"annotationdefaults\":{\"arrowcolor\":\"#2a3f5f\",\"arrowhead\":0,\"arrowwidth\":1},\"autotypenumbers\":\"strict\",\"coloraxis\":{\"colorbar\":{\"outlinewidth\":0,\"ticks\":\"\"}},\"colorscale\":{\"diverging\":[[0,\"#8e0152\"],[0.1,\"#c51b7d\"],[0.2,\"#de77ae\"],[0.3,\"#f1b6da\"],[0.4,\"#fde0ef\"],[0.5,\"#f7f7f7\"],[0.6,\"#e6f5d0\"],[0.7,\"#b8e186\"],[0.8,\"#7fbc41\"],[0.9,\"#4d9221\"],[1,\"#276419\"]],\"sequential\":[[0.0,\"#0d0887\"],[0.1111111111111111,\"#46039f\"],[0.2222222222222222,\"#7201a8\"],[0.3333333333333333,\"#9c179e\"],[0.4444444444444444,\"#bd3786\"],[0.5555555555555556,\"#d8576b\"],[0.6666666666666666,\"#ed7953\"],[0.7777777777777778,\"#fb9f3a\"],[0.8888888888888888,\"#fdca26\"],[1.0,\"#f0f921\"]],\"sequentialminus\":[[0.0,\"#0d0887\"],[0.1111111111111111,\"#46039f\"],[0.2222222222222222,\"#7201a8\"],[0.3333333333333333,\"#9c179e\"],[0.4444444444444444,\"#bd3786\"],[0.5555555555555556,\"#d8576b\"],[0.6666666666666666,\"#ed7953\"],[0.7777777777777778,\"#fb9f3a\"],[0.8888888888888888,\"#fdca26\"],[1.0,\"#f0f921\"]]},\"colorway\":[\"#636efa\",\"#EF553B\",\"#00cc96\",\"#ab63fa\",\"#FFA15A\",\"#19d3f3\",\"#FF6692\",\"#B6E880\",\"#FF97FF\",\"#FECB52\"],\"font\":{\"color\":\"#2a3f5f\"},\"geo\":{\"bgcolor\":\"white\",\"lakecolor\":\"white\",\"landcolor\":\"#E5ECF6\",\"showlakes\":true,\"showland\":true,\"subunitcolor\":\"white\"},\"hoverlabel\":{\"align\":\"left\"},\"hovermode\":\"closest\",\"mapbox\":{\"style\":\"light\"},\"paper_bgcolor\":\"white\",\"plot_bgcolor\":\"#E5ECF6\",\"polar\":{\"angularaxis\":{\"gridcolor\":\"white\",\"linecolor\":\"white\",\"ticks\":\"\"},\"bgcolor\":\"#E5ECF6\",\"radialaxis\":{\"gridcolor\":\"white\",\"linecolor\":\"white\",\"ticks\":\"\"}},\"scene\":{\"xaxis\":{\"backgroundcolor\":\"#E5ECF6\",\"gridcolor\":\"white\",\"gridwidth\":2,\"linecolor\":\"white\",\"showbackground\":true,\"ticks\":\"\",\"zerolinecolor\":\"white\"},\"yaxis\":{\"backgroundcolor\":\"#E5ECF6\",\"gridcolor\":\"white\",\"gridwidth\":2,\"linecolor\":\"white\",\"showbackground\":true,\"ticks\":\"\",\"zerolinecolor\":\"white\"},\"zaxis\":{\"backgroundcolor\":\"#E5ECF6\",\"gridcolor\":\"white\",\"gridwidth\":2,\"linecolor\":\"white\",\"showbackground\":true,\"ticks\":\"\",\"zerolinecolor\":\"white\"}},\"shapedefaults\":{\"line\":{\"color\":\"#2a3f5f\"}},\"ternary\":{\"aaxis\":{\"gridcolor\":\"white\",\"linecolor\":\"white\",\"ticks\":\"\"},\"baxis\":{\"gridcolor\":\"white\",\"linecolor\":\"white\",\"ticks\":\"\"},\"bgcolor\":\"#E5ECF6\",\"caxis\":{\"gridcolor\":\"white\",\"linecolor\":\"white\",\"ticks\":\"\"}},\"title\":{\"x\":0.05},\"xaxis\":{\"automargin\":true,\"gridcolor\":\"white\",\"linecolor\":\"white\",\"ticks\":\"\",\"title\":{\"standoff\":15},\"zerolinecolor\":\"white\",\"zerolinewidth\":2},\"yaxis\":{\"automargin\":true,\"gridcolor\":\"white\",\"linecolor\":\"white\",\"ticks\":\"\",\"title\":{\"standoff\":15},\"zerolinecolor\":\"white\",\"zerolinewidth\":2}}},\"xaxis\":{\"anchor\":\"y\",\"domain\":[0.0,0.2888888888888889],\"title\":{\"text\":\"x\"},\"range\":[0,1]},\"yaxis\":{\"anchor\":\"x\",\"domain\":[0.0,1.0],\"title\":{\"text\":\"t\"},\"range\":[-2,2]},\"xaxis2\":{\"anchor\":\"y2\",\"domain\":[0.35555555555555557,0.6444444444444445],\"title\":{\"text\":\"x\"},\"range\":[0,1]},\"yaxis2\":{\"anchor\":\"x2\",\"domain\":[0.0,1.0],\"title\":{\"text\":\"t\"},\"range\":[-2,2]},\"xaxis3\":{\"anchor\":\"y3\",\"domain\":[0.7111111111111111,1.0],\"title\":{\"text\":\"x\"},\"range\":[0,1]},\"yaxis3\":{\"anchor\":\"x3\",\"domain\":[0.0,1.0],\"title\":{\"text\":\"t\"},\"range\":[-2,2]},\"annotations\":[{\"font\":{\"size\":16},\"showarrow\":false,\"text\":\"f1\",\"x\":0.14444444444444446,\"xanchor\":\"center\",\"xref\":\"paper\",\"y\":1.0,\"yanchor\":\"bottom\",\"yref\":\"paper\"},{\"font\":{\"size\":16},\"showarrow\":false,\"text\":\"f2\",\"x\":0.5,\"xanchor\":\"center\",\"xref\":\"paper\",\"y\":1.0,\"yanchor\":\"bottom\",\"yref\":\"paper\"},{\"font\":{\"size\":16},\"showarrow\":false,\"text\":\"f3\",\"x\":0.8555555555555556,\"xanchor\":\"center\",\"xref\":\"paper\",\"y\":1.0,\"yanchor\":\"bottom\",\"yref\":\"paper\"}],\"showlegend\":false},                        {\"responsive\": true}                    ).then(function(){\n",
              "                            \n",
              "var gd = document.getElementById('ebe88380-bcf6-4479-a73e-425b0792ee2d');\n",
              "var x = new MutationObserver(function (mutations, observer) {{\n",
              "        var display = window.getComputedStyle(gd).display;\n",
              "        if (!display || display === 'none') {{\n",
              "            console.log([gd, 'removed!']);\n",
              "            Plotly.purge(gd);\n",
              "            observer.disconnect();\n",
              "        }}\n",
              "}});\n",
              "\n",
              "// Listen for the removal of the full notebook cells\n",
              "var notebookContainer = gd.closest('#notebook-container');\n",
              "if (notebookContainer) {{\n",
              "    x.observe(notebookContainer, {childList: true});\n",
              "}}\n",
              "\n",
              "// Listen for the clearing of the current output cell\n",
              "var outputEl = gd.closest('.output');\n",
              "if (outputEl) {{\n",
              "    x.observe(outputEl, {childList: true});\n",
              "}}\n",
              "\n",
              "                        })                };                            </script>        </div>\n",
              "</body>\n",
              "</html>"
            ]
          },
          "metadata": {}
        }
      ]
    },
    {
      "cell_type": "markdown",
      "metadata": {
        "id": "CENyGHlSp_FX"
      },
      "source": [
        "###Loss landscapes\n",
        "\n",
        "Let's focus now on the simple $f(x) = ax + b$.\n",
        "Given our dataset $(\\mathbf{x}, \\mathbf{t})$ we will choose the parameters $a$ and $b$ that minimize an global error $E$, also known as *loss*.\n",
        "\n",
        "The standard choice for $E$ in a regression problem is the Mean Squared Error, defined as:\n",
        "\n",
        "$$E(\\theta) = \\frac{1}{N} \\sum_{i=1}^N(f_\\theta(x_i) - t_i)^2$$\n",
        "\n",
        "Notice that apart from normalization factors, the MSE corresponds to the $L_2$ norm of the residual vector $|f_\\theta(x_i) - t_i|$.\n",
        "\n",
        "Let's visualize the MSE **loss landscape** for our dataset.\n",
        "\n",
        "\n",
        "\n"
      ]
    },
    {
      "cell_type": "code",
      "metadata": {
        "id": "OXuXlT5Sx-UE"
      },
      "source": [
        "resolution = 51\n",
        "\n",
        "mse_losses = np.empty((resolution, resolution))\n",
        "a_range = np.linspace(-5, 5, resolution)\n",
        "b_range = np.linspace(-5, 5, resolution)\n",
        "\n",
        "for i, a in enumerate(a_range):\n",
        "    for j, b in enumerate(b_range):\n",
        "        y_pred = a * x + b\n",
        "        residuals = t - y_pred\n",
        "        loss = np.einsum('i,i->', residuals, residuals)\n",
        "        mse_losses[i][j] = loss"
      ],
      "execution_count": 7,
      "outputs": []
    },
    {
      "cell_type": "markdown",
      "metadata": {
        "id": "VDZ63eJt6Uj5"
      },
      "source": [
        ">**EXERCISE** Vectorize the piece of code above. i.e. the two `for` cycles should disappear."
      ]
    },
    {
      "cell_type": "code",
      "metadata": {
        "id": "uAiwop63Qc1Q",
        "cellView": "both"
      },
      "source": [
        "# ✏️ your code here"
      ],
      "execution_count": 8,
      "outputs": []
    },
    {
      "cell_type": "code",
      "metadata": {
        "id": "AutBpNSt0nAI",
        "cellView": "form"
      },
      "source": [
        "# @title Solution\n",
        "\n",
        "a_times_x = np.einsum('i,j->ij', a_range, x)\n",
        "Y_pred = a_times_x[:, :, None] + b_range[None, None, :]\n",
        "residuals = t[None, :, None] - Y_pred\n",
        "mse_losses = np.einsum('ijk->ik', residuals ** 2)"
      ],
      "execution_count": 9,
      "outputs": []
    },
    {
      "cell_type": "code",
      "metadata": {
        "id": "6B6SVoGH3kvN",
        "colab": {
          "base_uri": "https://localhost:8080/",
          "height": 542
        },
        "outputId": "e4ffbc35-f3a1-43c2-b562-02fe78b87581"
      },
      "source": [
        "# @title MSE loss landscape plot \n",
        "fig = go.Figure(data=[go.Surface(z=mse_losses, x=a_range, y=b_range)])\n",
        "fig.update_traces(contours_z=dict(show=True, usecolormap=True,\n",
        "                                  highlightcolor=\"limegreen\", project_z=True))\n",
        "fig.update_layout(\n",
        "    title=\"MSE loss landscape\",\n",
        "    scene = dict(\n",
        "                xaxis_title='a',\n",
        "                yaxis_title='b',\n",
        "                zaxis_title='loss')\n",
        ")\n",
        "\n",
        "\n",
        "fig.show()"
      ],
      "execution_count": 10,
      "outputs": [
        {
          "output_type": "display_data",
          "data": {
            "text/html": [
              "<html>\n",
              "<head><meta charset=\"utf-8\" /></head>\n",
              "<body>\n",
              "    <div>            <script src=\"https://cdnjs.cloudflare.com/ajax/libs/mathjax/2.7.5/MathJax.js?config=TeX-AMS-MML_SVG\"></script><script type=\"text/javascript\">if (window.MathJax) {MathJax.Hub.Config({SVG: {font: \"STIX-Web\"}});}</script>                <script type=\"text/javascript\">window.PlotlyConfig = {MathJaxConfig: 'local'};</script>\n",
              "        <script src=\"https://cdn.plot.ly/plotly-2.8.3.min.js\"></script>                <div id=\"b35e9b61-9f20-4b77-b08f-9c03270e3e97\" class=\"plotly-graph-div\" style=\"height:525px; width:100%;\"></div>            <script type=\"text/javascript\">                                    window.PLOTLYENV=window.PLOTLYENV || {};                                    if (document.getElementById(\"b35e9b61-9f20-4b77-b08f-9c03270e3e97\")) {                    Plotly.newPlot(                        \"b35e9b61-9f20-4b77-b08f-9c03270e3e97\",                        [{\"x\":[-5.0,-4.8,-4.6,-4.4,-4.2,-4.0,-3.8,-3.5999999999999996,-3.4,-3.2,-3.0,-2.8,-2.5999999999999996,-2.4,-2.1999999999999997,-2.0,-1.7999999999999998,-1.5999999999999996,-1.4,-1.1999999999999997,-1.0,-0.7999999999999998,-0.5999999999999996,-0.39999999999999947,-0.1999999999999993,0.0,0.20000000000000018,0.40000000000000036,0.6000000000000005,0.8000000000000007,1.0,1.2000000000000002,1.4000000000000004,1.6000000000000005,1.8000000000000007,2.0,2.2,2.4000000000000004,2.6000000000000005,2.8000000000000007,3.0,3.200000000000001,3.4000000000000004,3.5999999999999996,3.8000000000000007,4.0,4.200000000000001,4.4,4.600000000000001,4.800000000000001,5.0],\"y\":[-5.0,-4.8,-4.6,-4.4,-4.2,-4.0,-3.8,-3.5999999999999996,-3.4,-3.2,-3.0,-2.8,-2.5999999999999996,-2.4,-2.1999999999999997,-2.0,-1.7999999999999998,-1.5999999999999996,-1.4,-1.1999999999999997,-1.0,-0.7999999999999998,-0.5999999999999996,-0.39999999999999947,-0.1999999999999993,0.0,0.20000000000000018,0.40000000000000036,0.6000000000000005,0.8000000000000007,1.0,1.2000000000000002,1.4000000000000004,1.6000000000000005,1.8000000000000007,2.0,2.2,2.4000000000000004,2.6000000000000005,2.8000000000000007,3.0,3.200000000000001,3.4000000000000004,3.5999999999999996,3.8000000000000007,4.0,4.200000000000001,4.4,4.600000000000001,4.800000000000001,5.0],\"z\":[[558.6610318169367,529.4612849904108,501.06153816388496,473.46179133735916,446.6620445108333,420.66229768430736,395.46255085778154,371.0628040312556,347.46305720472975,324.66331037820396,302.66356355167807,281.4638167251521,261.06406989862626,241.46432307210046,222.6645762455745,204.6648294190487,187.46508259252283,171.0653357659969,155.46558893947108,140.6658421129452,126.66609528641936,113.46634845989348,101.0666016333676,89.46685480684172,78.66710798031585,68.66736115379003,59.467614327264144,51.067867500738274,43.4681206742124,36.66837384768653,30.668627021160685,25.46888019463481,21.069133368108943,17.46938654158307,14.669639715057205,12.669892888531347,11.47014606200548,11.070399235479613,11.470652408953747,12.670905582427885,14.671158755902011,17.471411929376163,21.071665102850286,25.471918276324402,30.67217144979856,36.672424623272676,43.47267779674685,51.07293097022095,59.47318414369514,68.67343731716923,78.67369049064334],[542.2582703799138,513.4746329421499,485.49099550438626,458.30735806662267,431.9237206288589,406.3400831910951,381.5564457533314,357.5728083155676,334.3891708778039,312.0055334400402,290.42189600227647,269.63825856451274,249.65462112674896,230.47098368898526,212.08734625122153,194.50370881345785,177.7200713756941,161.73643393793037,146.55279650016666,132.1691590624029,118.58552162463921,105.80188418687547,93.8182467491117,82.63460931134799,72.25097187358425,62.66733443582056,53.88369699805681,45.90005956029309,38.71642212252935,32.33278468476563,26.749147247001922,21.965509809238185,17.98187237147446,14.798234933710734,12.414597495947008,10.830960058183287,10.047322620419559,10.063685182655831,10.880047744892108,12.496410307128384,14.912772869364648,18.129135431600936,22.145497993837203,26.96186055607346,32.578223118309765,38.99458568054602,46.21094824278234,54.227310805018575,63.043673367254904,72.66003592949114,83.07639849172737],[526.1437779081236,497.77624985912195,470.2087218101205,443.4411937611189,417.47366571211734,392.30613766311575,367.938609614114,344.3710815651124,321.60355351611094,299.63602546710933,278.46849741810775,258.1009693691061,238.53344132010454,219.76591327110296,201.79838522210136,184.6308571730998,168.26332912409822,152.69580107509665,137.92827302609504,123.96074497709347,110.79321692809191,98.42568887909027,86.85816083008869,76.09063278108708,66.1231047320855,56.95557668308395,48.58804863408234,41.02052058508076,34.25299253607916,28.28546448707757,23.117936438076008,18.750408389074416,15.182880340072828,12.41535229107124,10.447824242069656,9.280296193068073,8.912768144066488,9.345240095064902,10.577712046063317,12.610183997061736,15.442655948060137,19.07512789905857,23.507599850056973,28.740071801055368,34.772543752053814,41.6050157030522,49.23748765405065,57.669959605049044,66.9024315560475,76.9349035070459,87.76737545804428],[510.3175544015665,482.366135741327,455.21471708108743,428.8632984208481,403.31187976060863,378.5604611003692,354.60904244012966,331.4576237798902,309.10620511965084,287.5547864594114,266.80336779917195,246.85194913893247,227.700530478693,209.3491118184536,191.79769315821414,175.0462744979747,159.0948558377352,143.94343717749578,129.59201851725632,116.04059985701687,103.28918119677745,91.337762536538,80.18634387629852,69.83492521605906,60.28350655581962,51.532087895580204,43.58066923534074,36.42925057510129,30.07783191486184,24.526413254622387,19.774994594382957,15.823575934143504,12.672157273904055,10.320738613664606,8.769319953425159,8.017901293185718,8.066482632946268,8.915063972706823,10.563645312467376,13.012226652227929,16.26080799198847,20.309389331749042,25.157970671509585,30.806552011270114,37.2551333510307,44.50371469079123,52.55229603055182,61.400877370312344,71.04945871007297,81.49804004983349,92.746621389594],[494.77959986024194,467.2442905887647,440.50898131728735,414.5736720458101,389.43836277433275,365.10305350285546,341.56774423137813,318.83243495990087,296.8971256884235,275.76181641694626,255.42650714546892,235.89119787399162,217.15588860251427,199.220579331037,182.08527005955963,165.7499607880824,150.21465151660504,135.47934224512773,121.54403297365045,108.40872370217312,96.07341443069582,84.5381051592185,73.80279588774118,63.867486616263875,54.73217734478655,46.396868073309285,38.86155880183197,32.12624953035465,26.19094025887734,21.055630987400033,16.720321715922736,13.185012444445427,10.44970317296812,8.514393901490811,7.379084630013506,7.043775358536201,7.508466087058893,8.773156815581586,10.837847544104282,13.702538272626978,17.367229001149656,21.831919729672375,27.096610458195048,33.16130118671772,40.02599191524045,47.69068264376312,56.15537337228585,65.42006410080852,75.48475482933128,86.34944555785393,98.01413628637657],[479.52991428415044,452.41071440143526,426.09151451872003,400.57231463600493,375.8531147532898,351.93391487057454,328.8147149878594,306.49551510514414,284.9763152224291,264.2571153397139,244.3379154569987,225.2187155742836,206.89951569156835,189.38031580885325,172.66111592613802,156.7419160434229,141.62271616070774,127.30351627799254,113.78431639527736,101.0651165125622,89.14591662984705,78.02671674713189,67.70751686441669,58.18831698170153,49.469117098986345,41.54991721627122,34.43071733355604,28.111517450840868,22.592317568125694,17.873117685410524,13.95391780269537,10.834717919980202,8.515518037265034,6.996318154549865,6.2771182718347,6.357918389119534,7.238718506404367,8.919518623689202,11.400318740974036,14.681118858258872,18.76191897554369,23.642719092828553,29.323519210113364,35.80431932739817,43.08511944468305,51.16591956196785,60.046719679252725,69.72751979653752,80.20831991382242,91.48912003110722,103.56992014839201],[464.56849767329174,437.8654071793386,411.96231668538553,386.85922619143264,362.5561356974796,339.0530452035265,316.3499547095735,294.44686421562045,273.3437737216675,253.04068322771445,233.53759273376141,214.83450223980836,196.9314117458553,179.82832125190237,163.52523075794926,148.02214026399628,133.31904977004325,119.4159592760902,106.31286878213719,94.00977828818415,82.50668779423113,71.8035973002781,61.90050680632506,52.79741631237203,44.49432581841899,36.99123532446598,30.288144830512962,24.38505433655993,19.281963842606896,14.978873348653867,11.475782854700853,8.772692360747826,6.869601866794797,5.766511372841769,5.463420878888745,5.960330384935717,7.257239890982689,9.354149397029664,12.251058903076641,15.947968409123618,20.44487791517058,25.741787421217584,31.83869692726453,38.73560643331148,46.432515939358495,54.92942544540543,64.22633495145246,74.32324445749938,85.22015396354642,96.91706346959336,109.41397297564029],[449.89535002766576,423.60836892247494,398.1213878172841,373.43440671209316,349.5474256069023,326.4604445017114,304.1734633965205,282.6864822913295,261.9995011861388,242.11252008094786,223.02553897575692,204.73855787056604,187.25157676537515,170.56459566018427,154.67761455499334,139.59063344980248,125.30365234461162,111.8166712394207,99.12969013422983,87.24270902903893,76.15572792384805,65.86874681865716,56.38176571346627,47.694784608275384,39.807803503084486,32.72082239789362,26.43384129270273,20.946860187511835,16.259879082320946,12.372897977130059,9.285916871939184,6.998935766748294,5.511954661557407,4.824973556366522,4.937992451175637,5.851011345984747,7.56403024079386,10.077049135602977,13.390068030412092,17.50308692522121,22.416105820030307,28.129124714839453,34.64214360964854,41.95516250445763,50.068181399266784,58.98120029407587,68.69421918888503,79.20723808369411,90.52025697850328,102.63327587331236,115.54629476812143],[435.5104713472728,409.63959963084403,384.56872791441526,360.2978561979866,336.8269844815578,314.1561127651291,292.2852410487003,271.21436933227153,250.94349761584283,231.47262589941408,212.80175418298535,194.93088246655657,177.8600107501278,161.5891390336991,146.11826731727032,131.4473956008416,117.57652388441284,104.50565216798408,92.23478045155532,80.76390873512658,70.09303701869786,60.22216530226909,51.151293585840335,42.88042186941159,35.40955015298284,28.73867843655411,22.867806720125355,17.796935003696603,13.52606328726785,10.055191570839103,7.384319854410367,5.513448137981618,4.442576421552869,4.171704705124122,4.700832988695376,6.0299612722666245,8.15908955583788,11.088217839409134,14.81734612298039,19.34647440655165,24.675602690122883,30.80473097369417,37.7338592572654,45.46298754083662,53.99211582440793,63.32124410797914,73.45037239155046,84.37950067512166,96.10862895869299,108.6377572422642,121.9668855258354],[421.4138616321126,395.959099304446,371.3043369767794,347.44957464911283,324.39481232144624,302.1400499937796,280.685287666113,260.03052533844635,240.17576301077983,221.1210006831132,202.86623835544657,185.41147602777994,168.75671370011332,152.90195137244672,137.84718904478012,123.59242671711351,110.1376643894469,97.48290206178028,85.6281397341137,74.57337740644708,64.31861507878047,54.86385275111386,46.20909042344725,38.35432809578063,31.29956576811402,25.04480344044744,19.590041112780828,14.935278785114214,11.080516457447606,8.025754129780996,5.770991802114397,4.316229474447787,3.6614671467811797,3.8067048191145725,4.7519424914479655,6.497180163781354,9.042417836114748,12.387655508448143,16.53289318078154,21.478130853114934,27.223368525448308,33.76860619778174,41.113843870115105,49.25908154244848,58.20431921478192,67.94955688711526,78.49479455944874,89.84003223178209,101.98526990411554,114.93050757644887,128.67574524878225],[407.6055208821853,382.56686794328084,358.3282150043764,334.889562065472,312.2509091265675,290.412256187663,269.3736032487585,249.13495030985402,229.6962973709496,211.05764443204515,193.21899149314066,176.1803385542362,159.9416856153317,144.50303267642724,129.86437973752277,116.02572679861832,102.98707385971382,90.74842092080935,79.3097679819049,68.67111504300043,58.83246210409596,49.79380916519149,41.55515622628701,34.11650328738253,27.477850348478068,21.63919740957362,16.60054447066915,12.361891531764673,8.923238592860203,6.284585653955735,4.445932715051274,3.407279776146804,3.168626837242336,3.72997389833787,5.091320959433405,7.25266802052893,10.214015081624463,13.975362142719998,18.536709203815537,23.898056264911073,30.059403326006585,37.020750387102154,44.78209744819766,53.343444509293164,62.70479157038874,72.86613863148423,83.82748569257984,95.58883275367533,108.15017981477094,121.51152687586641,135.67287393696188],[394.0854490974908,369.4629055473485,345.6403619972062,322.61781844706394,300.39527489692165,278.9727313467792,258.3501877966369,238.52764424649456,219.5051006963522,201.28255714620994,183.86001359606755,167.23747004592528,151.41492649578288,136.3923829456406,122.16983939549824,108.74729584535592,96.1247522952136,84.30220874507125,73.27966519492892,63.05712164478659,53.63457809464428,45.01203454450195,37.189490994359616,30.16694744421728,23.944403894074952,18.52186034393264,13.899316793790309,10.076773243647978,7.054229693505647,4.83168614336332,3.409142593220998,2.7865990430786702,2.964055492936343,3.9415119427940173,5.718968392651692,8.296424842509355,11.67388129236703,15.851337742224706,20.828794192082384,26.60625064194006,33.183707091797714,40.561163541655425,48.73861999151306,57.71607644137071,67.49353289122843,78.07098934108606,89.4484457909438,101.62590224080144,114.60335869065918,128.3808151405168,142.95827159037444],[380.85364627802926,356.647212116649,333.24077795526875,310.63434379388866,288.82790963250847,267.8214754711282,247.6150413097481,228.2086071483679,209.6021729869877,191.79573882560757,174.78930466422733,158.58287050284716,143.1764363414669,128.57000218008676,114.76356801870655,101.75713385732642,89.55069969594621,78.14426553456602,67.53783137318582,57.731397211805636,48.72496305042545,40.518528889045264,33.112094727665074,26.505660566284877,20.699226404904685,15.692792243524517,11.486358082144323,8.07992392076413,5.473489759383943,3.667055598003756,2.6606214366235723,2.4541872752433846,3.0477531138631977,4.441318952483012,6.63488479110283,9.628450629722632,13.422016468342447,18.015582306962262,23.409148145582083,29.602713984201902,36.596279822821685,44.38984566144155,52.98341150006132,62.3769773386811,72.57054317730096,83.56410901592075,95.35767485454062,107.95124069316039,121.34480653178026,135.53837237040005,150.5319382090198],[367.91011242380046,344.1197876511823,321.12946287856437,298.9391381059463,277.54881333332827,256.9584885607102,237.1681637880922,218.1778390154741,199.9875142428561,182.59718947023805,166.00686469761996,150.21653992500194,135.22621515238384,121.03589037976582,107.64556560714774,95.05524083452973,83.26491606191166,72.27459128929361,62.08426651667557,52.69394174405752,44.103616971439486,36.31329219882143,29.322967426203377,23.132642653585318,17.74231788096727,13.15199310834924,9.361668335731187,6.371343563113136,4.181018790495089,2.790694017877041,2.200369245258996,2.410044472640947,3.419719700022901,5.229394927404855,7.839070154786812,11.248745382168753,15.458420609550707,20.46809583693266,26.27777106431462,32.887446291696584,40.29712151907851,48.5067967464605,57.51647197384242,67.32614720122434,77.93582242860636,89.34549765598825,101.55517288337026,114.56484811075218,128.37452333813422,142.98419856551612,158.393873792898],[355.2548475348046,331.8806321509486,309.3064167670927,287.53220138323684,266.5579859993809,246.383770615525,227.00955523166908,208.43533984781314,190.66112446395724,173.68690908010134,157.51269369624544,142.1384783123895,127.56426292853362,113.7900475446777,100.81583216082178,88.6416167769659,77.26740139310998,66.69318600925406,56.91897062539817,47.94475524154225,39.77053985768636,32.39632447383043,25.82210908997452,20.047893706118614,15.073678322262703,10.89946293840681,7.5252475545509,4.951032170694989,3.1768167868390806,2.202601402983174,2.028386019127267,2.6541706352713597,4.079955251415454,6.3057398675595495,9.331524483703646,13.157309099847724,17.78309371599182,23.20887833213592,29.434662948280014,36.460447564424115,44.286232180568184,52.91201679671232,62.337801412856386,72.56358602900043,83.5893706451446,95.41515526128863,108.04093987743279,121.46672449357686,135.69250910972102,150.71829372586504,166.5440783420091],[342.88785161104147,319.92974561594764,297.7716396208539,276.4135336257602,255.85542763066644,236.0973216355726,217.13921564047882,198.98110964538506,181.62300365029128,165.06489765519757,149.30679166010376,134.34868566500998,120.19057966991622,106.83247367482245,94.2743676797287,82.51626168463494,71.55815568954115,61.40004969444736,52.041943699353624,43.48383770425984,35.725731709166084,28.767625714072302,22.609519718978532,17.251413723884756,12.693307728790987,8.935201733697234,5.977095738603462,3.8189897435096927,2.460883748415924,1.9027777533221564,2.1446717582283883,3.1865657631346203,5.028459768040853,7.670353772947088,11.112247777853325,15.354141782759543,20.396035787665777,26.237929792572015,32.87982379747825,40.32171780238449,48.5636118072907,57.605505812196974,67.44739981710316,78.08929382200935,89.53118782691567,101.77308183182186,114.81497583672814,128.65686984163435,143.29876384654065,158.74065785144685,174.982551856353],[330.80912465251123,308.26712804617955,286.52513143984794,265.5831348335164,245.44113822718475,226.0991416208531,207.55714501452144,189.8151484081898,172.8731518018582,156.73115519552658,141.38915858919495,126.8471619828633,113.10516537653166,100.16316877020004,88.02117216386839,76.67917555753681,66.13717895120516,56.39518234487351,47.4531857385419,39.31118913221027,31.969192525878643,25.427195919547014,19.68519931321538,14.74320270688375,10.601206100552119,7.259209494220503,4.717212887888872,2.9752162815572425,2.0332196752256135,1.891223068893987,2.5492264625623573,4.00722985623073,6.2652332498991035,9.32323664356748,13.181240037235858,17.83924343090421,23.29724682457259,29.555250218240968,36.61325361190934,44.47125700557772,53.12926039924608,62.587263792914484,72.84526718658282,83.90327058025116,95.7612739739196,108.41927736758792,121.87728076125637,136.13528415492468,151.19328754859316,167.0512909422615,183.7092943359298],[319.0186666592138,296.8927794416444,275.5668922240748,255.04100500650546,235.31511778893594,216.3892305713664,198.26334335379687,180.93745613622738,164.41156891865793,148.68568170108844,133.75979448351896,119.63390726594947,106.30802004837996,93.78213283081048,82.05624561324096,71.13035839567151,61.004471178102015,51.67858396053251,43.15269674296303,35.42680952539354,28.500922307824062,22.375035090254567,17.049147872685076,12.523260655115585,8.797373437546097,5.871486219976619,3.7455990024071286,2.41971178483764,1.8938245672681524,2.1679373496986667,3.2420501321291755,5.116162914559689,7.7902756969902045,11.26438847942072,15.538501261851234,20.61261404428173,26.48672682671225,33.16083960914277,40.634952391573286,48.909065174003814,57.98317795643428,67.85729073886485,78.53140352129533,90.00551630372581,102.27962908615638,115.35374186858684,129.22785465101742,143.9019674334479,159.3760802158785,175.65019299830897,192.7243057807394],[307.5164776311493,285.80669980234194,264.8969219735346,244.78714414472728,225.47736631591994,206.9675884871126,189.2578106583052,172.34803282949784,156.23825500069051,140.9284771718832,126.41869934307584,112.70892151426847,99.7991436854611,87.6893658566538,76.37958802784642,65.8698101990391,56.16003237023172,47.25025454142436,39.14047671261704,31.830698883809678,25.32092105500233,19.611143226194983,14.70136539738763,10.591587568580275,7.281809739772927,4.772031910965587,3.0622540821582374,2.1524762533508874,2.04269842454354,2.7329205957361937,4.223142766928841,6.5133649381214935,9.603587109314148,13.493809280506804,18.18403145169946,23.674253622892092,29.964475794084752,37.054697965277406,44.94492013647007,53.63514230766272,63.125364478855346,73.41558665004806,84.50580882124066,96.39603099243327,109.086253163626,122.57647533481858,136.86669750601135,151.95691967720393,167.8471418483967,184.53736401958926,202.02758619078185],[296.3025575683177,275.0088891282724,254.51522068822715,234.821552248182,215.92788380813678,197.83421536809158,180.54054692804638,164.04687848800114,148.35321004795594,133.45954160791078,119.36587316786557,106.07220472782035,93.57853628777511,81.88486784772992,70.99119940768469,60.8975309676395,51.60386252759428,43.110194087549054,35.41652564750387,28.522857207458646,22.429188767413446,17.135520327368233,12.641851887323021,8.94818344727781,6.054515007232602,3.9608465671874016,2.667178127142192,2.173509687096983,2.4798412470517763,3.5861728070065704,5.492504366961358,8.19883592691615,11.705167486870947,16.01149904682574,21.11783060678054,27.024162166735312,33.730493726690106,41.2368252866449,49.54315684659971,58.6494884065545,68.55581996650926,79.26215152646411,90.76848308641885,103.07481464637361,116.18114620632846,130.0874777662832,144.7938093262381,160.30014088619285,176.6064724461477,193.71280400610243,211.61913556605717],[285.37690647071884,264.4993474194357,244.4217883681526,225.1442293168696,206.66667026558656,188.98911121430345,172.1115521630204,156.0339931117373,140.75643406045424,126.2788750091712,112.60131595788812,99.72375690660505,87.64619785532197,76.3686388040389,65.89107975275581,56.21352070147277,47.33596165018969,39.25840259890661,31.980843547623557,25.503284496340477,19.825725445057422,14.948166393774343,10.870607342491267,7.5930482912081985,5.11548923992513,3.437930188642066,2.5603711373589957,2.4828120860759273,3.20525303479286,4.727693983509795,7.050134932226717,10.17257588094365,14.095016829660587,18.817457778377523,24.339898727094457,30.662339675811367,37.7847806245283,45.70722157324525,54.429662521962186,63.95210347067912,74.27454441939601,85.39698536811301,97.31942631682989,110.04186726554678,123.5643082142638,137.8867491629807,153.00919011169768,168.9316310604146,185.65407200913157,203.17651295784847,221.4989539065653],[274.73952433835285,254.27807467583185,234.61662501331088,215.75517535079004,197.69372568826915,180.43227602574817,163.97082636322725,148.30937670070628,133.44792703818538,119.38647737566446,106.12502771314354,93.66357805062259,82.00212838810165,71.14067872558074,61.0792290630598,51.817779400538875,43.35632973801793,35.694880075497004,28.83343041297608,22.771980750455153,17.51053108793423,13.049081425413295,9.387631762892362,6.5261821003714315,4.464732437850502,3.203282775329579,2.741833112808649,3.080383450287721,4.218933787766794,6.157484125245869,8.896034462724932,12.434584800204005,16.773135137683077,21.91168547516216,27.85023581264123,34.58878615012028,42.12733648759936,50.46588682507844,59.604437162557524,69.5429875000366,80.28153783751563,91.82008817499477,104.15863851247379,117.29718884995283,131.23573918743196,145.97428952491097,161.51283986239014,177.85139019986912,194.98994053734836,212.92849087482733,231.66704121230637],[264.3904111712197,244.34507089746083,225.09973062370204,206.65439034994336,189.0090500761845,172.16370980242576,156.1183695286669,140.87302925490812,126.42768898114934,112.7823487073906,99.93700843363179,87.89166815987299,76.64632788611418,66.2009876123554,56.555647338596614,47.71030706483785,39.66496679107904,32.41962651732024,25.974286243561462,20.328945969802664,15.483605696043886,11.438265422285092,8.192925148526303,5.747584874767515,4.102244601008725,3.2569043272499405,3.2115640534911507,3.966223779732363,5.520883505973577,7.875543232214792,11.030202958455995,14.984862684697205,19.739522410938424,25.29418213717964,31.648841863420856,38.80350158966205,46.758161315903266,55.51282104214448,65.0674807683857,75.42214049462692,86.57680022086808,98.53145994710937,111.28611967335051,124.84077939959171,139.19543912583296,154.35009885207415,170.30475857831541,187.0594183045566,204.6140780307979,222.9687377570391,242.1233974832802],[254.32956696931942,234.70033608432271,215.87110519932602,197.84187431432946,180.6126434293328,164.18341254433614,148.5541816593395,133.7249507743428,119.69571988934618,106.46648900434955,94.03725811935288,82.40802723435623,71.57879634935956,61.549565464362935,52.32033457936629,43.89110369436965,36.26187280937298,29.432641924376327,23.40341103937969,18.174180154383038,13.744949269386398,10.115718384389746,7.286487499393093,5.257256614396445,4.028025729399797,3.5987948444031503,3.9695639594065026,5.140333074409854,7.111102189413209,9.881871304416565,13.452640419419906,17.823409534423263,22.99417864942662,28.964947764429976,35.73571687943333,43.306485994436656,51.67725510944002,60.848024224443385,70.81879333944674,81.5895624544501,93.1603315694534,105.53110068445685,118.70186979946014,132.67263891446345,147.44340802946687,163.01417714447015,179.3849462594736,196.55571537447688,214.52648448948034,233.29725360448361,252.86802271948696],[244.5569917326519,225.34387023641742,206.9307487401829,189.31762724394844,172.5045057477139,156.49138425147936,141.27826275524484,126.86514125901036,113.25201976277587,100.43889826654136,88.42577677030685,77.21265527407232,66.79953377783781,57.18641228160331,48.373290785368795,40.3601692891343,33.147047792899784,26.73392629666527,21.12080480043077,16.307683304196257,12.294561807961752,9.081440311727244,6.668318815492733,5.055197319258224,4.242075823023717,4.22895432678921,5.015832830554702,6.602711334320196,8.98958983808569,12.176468341851187,16.163346845616665,20.95022534938216,26.537103853147663,32.92398235691316,40.110860860678656,48.09773936444413,56.884617868209624,66.47149637197512,76.85837487574062,88.04525337950612,100.03213188327157,112.81901038703712,126.4058888908026,140.79276739456802,155.97964589833362,171.96652440209903,188.75340290586462,206.34028140963002,224.72715991339564,243.91403841716107,263.9009169209265],[235.07268546121736,216.27567335374496,198.27866124627258,181.08164913880026,164.6846370313279,149.08762492385551,134.29061281638315,120.29360070891074,107.09658860143841,94.69957649396606,83.10256438649367,72.3055522790213,62.30854017154891,53.11152806407655,44.71451595660418,37.11750384913182,30.320491741659445,24.323479634187066,19.126467526714706,14.729455419242333,11.132443311769967,8.335431204297594,6.338419096825223,5.141406989352852,4.744394881880485,5.147382774408113,6.350370666935746,8.353358559463377,11.156346451991013,14.759334344518644,19.16232223704626,24.365310129573892,30.368298022101527,37.171285914629166,44.7742738071568,53.17726169968441,62.38024959221205,72.38323748473967,83.18622537726733,94.78921326979497,107.19220116232255,120.39518905485025,134.39817694737786,149.2011648399054,164.80415273243312,181.2071406249607,198.41012851748843,216.413116410016,235.21610430254373,254.81909219507128,275.22208008759884],[225.87664815501563,207.49574543630536,189.91484271759515,173.13393999888496,157.15303728017471,141.9721345614645,127.59123184275421,114.01032912404399,101.22942640533377,89.24852368662357,78.06762096791333,67.68671824920308,58.105815530492855,49.32491281178263,41.34401009307239,34.16310737436217,27.782204655651935,22.2013019369417,17.42039921823148,13.43949649952125,10.25859378081102,7.877691062100789,6.296788343390559,5.515885624680329,5.5349829059701,6.3540801872598704,7.9731774685496415,10.392274749839414,13.61137203112919,17.630469312418967,22.449566593708717,28.068663874998492,34.48776115628826,41.70685843757805,49.72595571886783,58.545053000157566,68.16415028144735,78.58324756273713,89.8023448440269,101.82144212531668,114.64053940660642,128.2596366878963,142.678733969186,157.89783125047566,173.91692853176556,190.73602581305528,208.3551230943451,226.77422037563483,245.99331765692472,266.0124149382144,286.83151221950413],[216.96887981404672,199.00408648409862,181.8392931541505,165.4744998242025,149.90970649425438,135.1449131643063,121.18011983435815,108.01532650441008,95.65053317446201,84.08573984451392,73.32094651456582,63.35615318461773,54.19135985466962,45.82656652472156,38.26177319477346,31.496979864825374,25.53218653487728,20.36739320492919,16.0025998749811,12.437806545033009,9.673013215084925,7.708219885136834,6.543426555188743,6.178633225240656,6.6138398952925685,7.8490465653444765,9.884253235396386,12.719459905448304,16.354666575500218,20.789873245552137,26.025079915604024,32.060286585655945,38.895493255707855,46.530699925759784,54.965906595811695,64.20111326586357,74.23631993591549,85.07152660596742,96.70673327601934,109.14193994607126,122.37714661612311,136.41235328617512,151.24755995622695,166.88276662627882,183.31797329633085,200.55317996638266,218.58838663643468,237.4235933064865,257.0587999765385,277.4940066465904,298.72921331664224],[208.3493804383107,190.80069649712473,174.05201255593877,158.10332861475288,142.9546446735669,128.60596073238094,115.05727679119497,102.308592850009,90.35990890882306,79.21122496763715,68.86254102645118,59.31385708526523,50.56517314407927,42.61648920289333,35.46780526170737,29.11912132052143,23.570437379335473,18.82175343814952,14.873069496963577,11.724385555777625,9.375701614591678,7.827017673405729,7.078333732219778,7.12964979103383,7.980965849847884,9.63228190866193,12.083597967475981,15.334914026290036,19.386230085104092,24.237546143918152,29.88886220273218,36.340178261546235,43.5914943203603,51.64281037917435,60.49412643798841,70.14544249680243,80.5967585556165,91.84807461443054,103.89939067324462,116.75070673205869,130.40202279087268,144.85333884968682,160.1046549085008,176.1559709673148,193.00728702612892,210.65860308494288,229.10991914375708,248.36123520257107,268.4125512613852,289.26386732019915,310.9151833790132],[200.01815002780748,182.88557547538363,166.5530009229598,151.02042637053606,136.28785181811222,122.35527726568841,109.22270271326461,96.89012816084079,85.35755360841699,74.6249790559932,64.69240450356938,55.55982995114555,47.227255398721745,39.69468084629794,32.96210629387413,27.029531741450327,21.89695718902651,17.5643826366027,14.031808084178897,11.299233531755087,9.36665897933128,8.234084426907469,7.901509874483663,8.368935322059857,9.636360769636049,11.703786217212233,14.571211664788429,18.238637112364625,22.70606255994082,27.973488007517016,34.04091345509319,40.908338902669385,48.575764350245585,57.04318979782178,66.31061524539798,76.37804069297415,87.24546614055033,98.91289158812654,111.38031703570275,124.64774248327893,138.71516793085507,153.58259337843137,169.25001882600748,185.71744427358365,202.9848697211599,221.05229516873604,239.9197206163123,259.58714606388844,280.0545715114648,301.3219969590409,323.38942240661703],[191.97518858253716,175.25872341887546,159.34225825521378,144.22579309155216,129.9093279278905,116.39286276422881,103.67639760056711,91.75993243690544,80.64346727324379,70.32700210958212,60.81053694592044,52.09407178225877,44.17760661859709,37.06114145493544,30.744676291273752,25.228211127612084,20.51174596395041,16.59528080028874,13.478815636627075,11.162350472965402,9.645885309303731,8.92942014564206,9.012954981980391,9.89648981831872,11.580024654657052,14.063559490995374,17.347094327333707,21.43062916367204,26.314164000010376,31.99769883634871,38.48123367268702,45.764768509025345,53.84830334536368,62.731838181702024,72.41537301804038,82.89890785437866,94.18244269071698,106.26597752705534,119.14951236339367,132.83304719973202,147.31658203607032,162.6001168724087,178.683651708747,195.56718654508524,213.25072138142366,231.7342562177619,251.01779105410037,271.10132589043866,291.984860726777,313.6683955631154,336.1519303994536],[184.22049610249965,167.9201403276001,152.41978455270058,137.71942877780106,123.81907300290155,110.718717228002,98.41836145310246,86.91800567820293,76.21764990330341,66.31729412840387,57.21693835350435,48.91658257860481,41.416226803705264,34.71587102880574,28.815515253906213,23.715159479006687,19.41480370410715,15.91444792920762,13.21409215430809,11.31373637940856,10.21338060450903,9.913024829609501,10.41266905470997,11.712313279810441,13.811957504910914,16.711601730011377,20.41124595511185,24.91089018021232,30.210534405312796,36.310178630413276,43.209822855513714,50.90946708061419,59.40911130571467,68.70875553081514,78.80839975591563,89.70804398101606,101.40768820611652,113.90733243121701,127.2069766563175,141.30662088141798,156.2062651065184,171.90590933161897,188.40555355671938,205.7051977818198,223.80484200692032,242.70448623202077,262.40413045712137,282.9037746822217,304.20341890732226,326.3030631324227,349.2027073575231],[176.754072587695,160.86982620155757,145.7855798154202,131.50133342928285,118.01708704314545,105.33284065700805,93.44859427087064,82.36434788473323,72.08010149859588,62.595855112458494,53.911608726321084,46.02736234018369,38.94311595404629,32.658869567908916,27.174623181771516,22.49037679563413,18.60613040949674,15.521884023359345,13.237637637221958,11.753391251084565,11.069144864947178,11.184898478809789,12.100652092672401,13.816405706535011,16.332159320397626,19.647912934260226,23.763666548122842,28.679420161985455,34.39517377584807,40.910927389710686,48.226681003573276,56.3424346174359,65.2581882312985,74.97394184516112,85.48969545902375,96.8054490728863,108.92120268674894,121.83695630061156,135.5527099144742,150.06846352833682,165.38421714219936,181.49997075606203,198.4157243699246,216.13147798378714,234.64723159764984,253.96298521151238,274.0787388253751,294.99449243923766,316.7102460531004,339.22599966696293,362.54175328082545],[169.57591803812315,154.1077810407479,139.43964404337262,125.57150704599744,112.5033700486222,100.23523305124691,88.76709605387167,78.09895905649643,68.23082205912117,59.16268506174595,50.89454806437069,43.426411066995435,36.75827406962017,30.890137072244933,25.822000074869674,21.553863077494423,18.085726080119176,15.417589082743921,13.549452085368674,12.481315087993423,12.213178090618177,12.745041093242925,14.076904095867679,16.20876709849243,19.140630101117186,22.872493103741924,27.404356106366677,32.736219108991435,38.86808211161619,45.79994511424095,53.531808116865676,62.06367111949044,71.3955341221152,81.52739712473995,92.45926012736471,104.19112312998942,116.72298613261418,130.05484913523895,144.1867121378637,159.11857514048847,174.8504381431132,191.382301145738,208.71416414836267,226.84602715098737,245.77789015361225,265.5097531562369,286.04161615886176,307.3734791614865,329.5053421641113,352.437205166736,376.1690681693606],[162.6860324537842,147.6340048451711,133.38197723655796,119.92994962794488,107.27792201933181,95.42589441071866,84.37386680210557,74.12183919349243,64.66981158487934,56.01778397626625,48.165756367653124,41.11372875904001,34.8617011504269,29.40967354181379,24.757645933200678,20.905618324587575,17.853590715974462,15.60156310736135,14.149535498748243,13.497507890135132,13.645480281522023,14.593452672908914,16.341425064295805,18.8893974556827,22.237369847069594,26.385342238456474,31.333314629843365,37.08128702123027,43.629259412617166,50.977231804004056,59.12520419539092,68.07317658677783,77.82114897816471,88.3691213695516,99.71709376093852,111.86506615232537,124.81303854371227,138.56101093509918,153.10898332648605,168.45695571787297,184.60492810925984,201.55290050064679,219.30087289203362,237.84884528342047,257.19681767480745,277.34479006619426,298.29276245758126,320.0407348489681,342.5887072403551,365.936679631742,390.08465202312874],[156.0844158346781,141.44849761482718,127.61257939497618,114.57666117512522,102.34074295527427,90.90482473542326,80.26890651557231,70.43298829572133,61.397070075870374,53.1611518560194,45.72523363616842,39.089315416317454,33.25339719646647,28.21747897661551,23.981560756764537,20.54564253691357,17.909724317062594,16.073806097211623,15.037887877360655,14.80196965750968,15.366051437658708,16.73013321780774,18.894214997956773,21.858296778105803,25.62237855825484,30.186460338403855,35.55054211855288,41.71462389870192,48.678705678850946,56.442787458999994,65.006869239149,74.37095101929802,84.53503279944708,95.49911457959611,107.26319635974515,119.82727813989412,133.19135992004317,147.35544170019222,162.31952348034125,178.08360526049032,194.64768704063925,212.01176882078838,230.17585060093734,249.13993238108634,268.9040141612354,289.4680959413844,310.8321777215335,332.9962595016825,355.96034128183163,379.7244230619806,404.28850484212944],[149.7710681808049,135.55125934971602,122.13145051862718,109.5116416875384,97.69183285644957,86.67202402536073,76.45221519427187,67.03240636318304,58.41259753209424,50.59278870100541,43.572979869916566,37.35317103882774,31.933362207738902,27.313553376650077,23.493744545561242,20.47393571447241,18.254126883383577,16.834318052294744,16.214509221205915,16.394700390117084,17.374891559028253,19.155082727939423,21.735273896850597,25.115465065761768,29.295656234672943,34.2758474035841,40.056038572495275,46.636229741406446,54.01642091031762,62.1966120792288,71.17680324813995,80.9569944170511,91.53718558596229,102.91737675487347,115.09756792378467,128.0777590926958,141.85795026160696,156.43814143051816,171.8183325994293,187.9985237683405,204.97871493725162,222.7589061061629,241.339097275074,260.7192884439851,280.89947961289636,301.8796707818075,323.6598619507188,346.2400531196299,369.6202442885412,393.80043545745224,418.78062662636336],[143.74598949216445,129.9422900498378,116.93859060751107,104.73489116518442,93.33119172285772,82.72749228053102,72.92379283820432,63.920093395877615,55.71639395355094,48.31269451122426,41.70899506889756,35.90529562657086,30.901596184244166,26.697896741917486,23.29419729959079,20.690497857264102,18.886798414937406,17.883098972610718,17.679399530284027,18.27570008795734,19.672000645630646,21.86830120330396,24.864601760977273,28.660902318650585,33.25720287632391,38.653503433997194,44.84980399167051,51.84610454934383,59.64240510701714,68.23870566469046,77.63500622236374,87.83130678003704,98.82760733771036,110.6239078953837,123.22020845305701,136.61650901073028,150.8128095684036,165.8091101260769,181.60541068375025,198.20171124142357,215.5980117990968,233.79431235677018,252.79061291444347,272.5869134721167,293.1832140297901,314.57951458746334,336.77581514513673,359.77211570280997,383.56841626048345,408.16471681815665,433.5610173758299],[138.00917976875687,124.62158971519233,112.03399966162776,100.24640960806327,89.2588195544987,79.07122950093415,69.6836394473696,61.096049393805046,53.308459340240496,46.32086928667596,40.1332792331114,34.74568917954685,30.158099125982297,26.37050907241775,23.38291901885319,21.19532896528865,19.80773891172409,19.220148858159543,19.43255880459499,20.44496875103044,22.257378697465885,24.86978864390134,28.28219859033679,32.49460853677225,37.5070184832077,43.31942842964313,49.931838376078595,57.34424832251405,65.5566582689495,74.56906821538497,84.38147816182037,94.99388810825583,106.40629805469129,118.61870800112676,131.6311179475622,145.4435278939976,160.05593784043307,175.46834778686855,191.680757733304,208.69316767973947,226.50557762617484,245.1179875726104,264.5303975190458,284.74280746548123,305.75521741191676,327.56762735835207,350.1800373047876,373.592447251223,397.8048571976586,422.817267144094,448.6296770905293],[132.5606390105822,119.58915834577975,107.41767768097735,96.04619701617499,85.47471635137256,75.70323568657012,66.73175502176773,58.56027435696531,51.18879369216291,44.6173130273605,38.845832362558085,33.87435169775568,29.70287103295326,26.331390368150853,23.75990970334845,21.98842903854603,21.01694837374362,20.845467708941214,21.473987044138802,22.902506379336394,25.131025714533983,28.159545049731566,31.988064384929167,36.616583720126755,42.045103055324354,48.273622390521936,55.302141725719515,63.13066106091712,71.75918039611471,81.1876997313123,91.41621906650985,102.44473840170747,114.27325773690508,126.90177707210266,140.3302964073003,154.5588157424978,169.5873350776954,185.41585441289305,202.04437374809063,219.47289308328823,237.70141241848575,256.72993175368345,276.55845108888093,297.1869704240784,318.6154897592762,340.8440090944737,363.87252842967143,387.7010477648689,412.3295671000667,437.75808643526415,463.98660577046167],[127.40036721764034,114.84499594160008,103.0896246655598,92.13425338951954,81.97888211347924,72.623510837439,64.06813956139872,56.312768285358445,49.35739700931817,43.20202573327791,37.84665445723763,33.29128318119735,29.535911905157082,26.58054062911681,24.42516935307654,23.06979807703627,22.514426800995995,22.759055524955723,23.803684248915452,25.648312972875186,28.2929416968349,31.737570420794636,35.98219914475437,41.02682786871411,46.87145659267383,53.51608531663355,60.96071404059328,69.20534276455301,78.24997148851276,88.09460021247249,98.7392289364322,110.18385766039191,122.42848638435167,135.47311510831142,149.31774383227113,163.96237255623083,179.40700128019054,195.6516300041503,212.69625872811002,230.5408874520698,249.18551617602944,268.6301448999893,288.87477362394895,309.9194023479086,331.76403107186843,354.40865979582816,377.85328851978795,402.0979172437476,427.1425459677075,452.9871746916671,479.63180341562673],[122.52836438993131,110.38910250265316,99.04984061537503,88.51057872809695,78.7713168408188,69.83205495354066,61.69279306626251,54.35353117898439,47.81426929170627,42.07500740442815,37.135745517150006,32.99648362987188,29.657221742593748,27.117959855315622,25.378697968037486,24.43943608075936,24.300174193481233,24.960912306203102,26.421650418924973,28.682388531646847,31.74312664436871,35.603864757090584,40.26460286981246,45.725340982534334,51.986079095256216,59.046817207978066,66.90755532069994,75.56829343342181,85.0290315461437,95.2897696588656,106.35050777158742,118.21124588430929,130.87198399703115,144.33272210975306,158.59346022247493,173.65419833519672,189.51493644791864,206.17567456064052,223.63641267336237,241.89715078608427,260.9578888988061,280.81862701152806,301.47936512424985,322.9401032369717,345.2008413496937,368.26157946241545,392.12231757513746,416.78305568785925,442.2437938005812,468.50453191330297,495.56527002602473],[117.94463052745516,106.22147802893916,95.29832553042317,85.17517303190722,75.8520205333912,67.32886803487521,59.6057155363592,52.68256303784322,46.55941053932722,41.23625804081125,36.71310554229526,32.98995304377925,30.066800545263263,27.943648046747278,26.620495548231286,26.09734304971529,26.374190551199295,27.45103805268331,29.327885554167317,32.00473305565132,35.48158055713533,39.758428058619344,44.835275560103355,50.71212306158737,57.38897056307139,64.86581806455536,73.14266556603938,82.2195130675234,92.0963605690074,102.77320807049145,114.25005557197541,126.52690307345941,139.60375057494346,153.48059807642747,168.1574455779115,183.63429307939543,199.91114058087942,216.98798808236347,234.8648355838475,253.54168308533158,273.0185305868155,293.29537808829957,314.37222558978357,336.24907309126746,358.9259205927516,382.4027680942355,406.67961559571967,431.7564630972036,457.63331059868773,484.31015810017163,511.7870056016556],[113.64916563021185,102.34212252045799,91.83507941070414,82.12803630095033,73.22099319119647,65.11395008144261,57.80690697168875,51.29986386193489,45.592820752181034,40.6857776424272,36.57873453267333,33.27169142291948,30.764648313165626,29.057605203411775,28.150562093657918,28.04351898390406,28.736475874150212,30.229432764396364,32.5223896546425,35.61534654488866,39.5083034351348,44.20126032538095,49.694217215627106,55.98717410587326,63.08013099611941,70.97308788636553,79.66604477661167,89.15900166685785,99.451958557104,110.54491544735014,122.43787233759625,135.13082922784244,148.6237861180886,162.91674300833472,178.00969989858092,193.902656788827,210.59561367907315,228.08857056931933,246.3815274595655,265.47448434981163,285.36744124005776,306.06039813030395,327.55335502055004,349.8463119107961,372.93926880104243,396.8322256912885,421.52518258153475,447.0181394717808,473.3110963620271,500.4040532522731,528.2970101425192],[109.64196969820136,98.75103597720967,88.66010225621794,79.36916853522627,70.87823481423455,63.187301093242816,56.29636737225111,50.20543365125939,44.91449993026768,40.423566209275975,36.732632488284274,33.84169876729255,31.75076504630084,30.45983132530913,29.96889760431742,30.277963883325707,31.387030162334,33.29609644134229,36.005162720350576,39.51422899935886,43.823295278367155,48.932361557375444,54.841427836383744,61.550494115392034,69.05956039440034,77.3686266734086,86.4776929524169,96.38675923142519,107.09582551043349,118.60489178944178,130.91395806845003,144.02302434745835,157.93209062646662,172.64115690547496,188.1502231844832,204.45928946349147,221.56835574249982,239.47742202150803,258.1864883005164,277.6955545795247,298.0046208585329,319.11368713754126,341.02275341654945,363.73181969555776,387.2408859745662,411.54995225357436,436.65901853258276,462.568084811591,489.27715109059943,516.7862173696076,545.0952836486158],[105.92304273142375,95.44821839919419,85.7733940669646,76.89856973473505,68.82374540250548,61.5489210702759,55.074096738046336,49.39927240581676,44.52444807358719,40.44962374135762,37.17479940912804,34.69997507689847,33.0251507446689,32.15032641243933,32.07550208020975,32.80067774798018,34.32585341575061,36.65102908352104,39.77620475129146,43.70138041906189,48.42655608683231,53.95173175460275,60.27690742237318,67.40208309014362,75.32725875791405,84.05243442568444,93.57761009345488,103.90278576122532,115.02796142899577,126.95313709676618,139.67831276453657,153.20348843230704,167.52866410007746,182.65383976784793,198.57901543561832,215.3041911033887,232.8293667711592,251.15454243892958,270.27971810670005,290.2048937744705,310.9300694422408,332.45524511001133,354.7804207777817,377.9055964455521,401.83077211332267,426.5559477810929,452.0811234488635,478.4062991166339,505.53147478440445,533.4566504521748,562.1818261199451],[102.49238472987898,92.43366978641154,83.1749548429441,74.71623989947672,67.05752495600926,60.198810012541834,54.14009506907439,48.88138012560697,44.42266518213953,40.7639502386721,37.90523529520468,35.84652035173725,34.587805408269816,34.12909046480239,34.47037552133496,35.611660577867525,37.55294563440009,40.294230690932665,43.83551574746523,48.17680080399779,53.31808586053037,59.259370917062945,66.00065597359551,73.5419410301281,81.88322608666067,91.02451114319321,100.96579619972579,111.70708125625836,123.24836631279098,135.58965136932355,148.73093642585607,162.67222148238864,177.4135065389212,192.9547915954538,209.29607665198637,226.4373617085189,244.37864676505149,263.11993182158403,282.66121687811665,303.0025019346492,324.14378699118174,346.08507204771445,368.8263571042469,392.3676421607794,416.70892721731207,441.85021227384453,467.7914973303773,494.53278238690984,522.0740674434425,550.4153524999749,579.5566375565074],[99.34999569356707,89.70739013886178,80.86478458415647,72.82217902945119,65.57957347474591,59.13696792004062,53.49436236533532,48.65175681063001,44.609151255924736,41.36654570121946,38.923940146514155,37.28133459180886,36.43872903710356,36.39612348239827,37.153517927692974,38.71091237298769,41.068306818282394,44.225701263577115,48.18309570887181,52.940490154166525,58.49788459946122,64.85527904475595,72.01267349005066,79.97006793534536,88.72746238064008,98.28485682593475,108.64225127122947,119.7996457165242,131.7570401618189,144.51443460711363,158.0718290524083,172.429223497703,187.58661794299775,203.54401238829246,220.30140683358718,237.85880127888183,256.21619572417654,275.3735901694713,295.33098461476595,316.0883790600607,337.64577350535535,360.00316795065027,383.1605623959448,407.1179568412395,431.8753512865342,457.43274573182896,483.7901401771239,510.9475346224184,538.9049290677132,567.6623235130079,597.2197179583025],[96.49587562248797,87.26937945654483,78.84288329060168,71.21638712465855,64.38989095871538,58.36339479277223,53.13689862682908,48.71040246088594,45.083906294942786,42.257410128999645,40.230913963056494,39.00441779711334,38.577921631170184,38.95142546522704,40.124929299283885,42.098433133340734,44.87193696739759,48.44544080145444,52.818944635511286,57.99244846956814,63.965952303624974,70.73945613768184,78.3129599717387,86.68646380579555,95.8599676398524,105.83347147390924,116.6069753079661,128.18047914202293,140.5539829760798,153.72748681013667,167.7009906441935,182.47449447825034,198.0479983123072,214.42150214636405,231.59500598042092,249.5685098144777,268.3420136485346,287.91551748259144,308.2890213166483,329.4625251507052,351.43602898476195,374.2095328188189,397.78303665287564,422.15654048693244,447.33004432098943,473.3035481550462,500.07705198910327,527.65055582316,556.0240596572171,585.1975634912737,615.1710673253305],[93.93002451664177,85.11963773946076,77.10925096227972,69.89886418509876,63.488477407917735,57.878090630736715,53.067703853555706,49.05731707637468,45.84693029919368,43.43654352201268,41.82615674483166,41.01576996765065,41.00538319046963,41.794996413288615,43.38460963610761,45.77422285892659,48.96383608174558,52.95344930456458,57.74306252738356,63.332675750202554,69.72228897302153,76.91190219584053,84.90151541865953,93.69112864147851,103.28074186429751,113.67035508711649,124.85996830993548,136.84958153275448,149.6391947555735,163.22880797839247,177.61842120121145,192.8080344240304,208.79764764684944,225.5872608696684,243.17687409248745,261.56648731530635,280.7561005381254,300.74571376094434,321.5353269837633,343.12494020658244,365.5145534294013,388.70416665222035,412.69377987503924,437.4833930978582,463.07300632067734,489.4626195434962,516.6522327663154,544.6418459891344,573.4314592119534,603.0210724347722,633.4106856575912],[91.65244237602839,83.25816498760952,75.66388759919066,68.8696102107718,62.87533282235292,57.68105543393404,53.28677804551516,49.69250065709628,46.89822326867741,44.903945880258554,43.70966849183967,43.315391103420794,43.72111371500193,44.92683632658305,46.93255893816417,49.7382815497453,53.34400416132644,57.749726772907565,62.955449384488674,68.96117199606982,75.76689460765094,83.37261721923205,91.77833983081318,100.98406244239433,110.98978505397545,121.79550766555656,133.4012302771377,145.80695288871883,159.0126755003,173.0183981118811,187.82412072346216,203.42984333504333,219.83556594662446,237.0412885582056,255.04701116978674,273.8527337813678,293.45845639294896,313.8641790045301,335.0699016161113,357.0756242276924,379.8813468392735,403.48706945085473,427.8927920624357,453.09851467401677,479.104237285598,505.909959897179,533.5156825087604,561.9214051203414,591.1271277319227,621.1328503435036,651.9385729550846]],\"type\":\"surface\",\"contours\":{\"z\":{\"project\":{\"z\":true},\"highlightcolor\":\"limegreen\",\"show\":true,\"usecolormap\":true}}}],                        {\"template\":{\"data\":{\"bar\":[{\"error_x\":{\"color\":\"#2a3f5f\"},\"error_y\":{\"color\":\"#2a3f5f\"},\"marker\":{\"line\":{\"color\":\"#E5ECF6\",\"width\":0.5},\"pattern\":{\"fillmode\":\"overlay\",\"size\":10,\"solidity\":0.2}},\"type\":\"bar\"}],\"barpolar\":[{\"marker\":{\"line\":{\"color\":\"#E5ECF6\",\"width\":0.5},\"pattern\":{\"fillmode\":\"overlay\",\"size\":10,\"solidity\":0.2}},\"type\":\"barpolar\"}],\"carpet\":[{\"aaxis\":{\"endlinecolor\":\"#2a3f5f\",\"gridcolor\":\"white\",\"linecolor\":\"white\",\"minorgridcolor\":\"white\",\"startlinecolor\":\"#2a3f5f\"},\"baxis\":{\"endlinecolor\":\"#2a3f5f\",\"gridcolor\":\"white\",\"linecolor\":\"white\",\"minorgridcolor\":\"white\",\"startlinecolor\":\"#2a3f5f\"},\"type\":\"carpet\"}],\"choropleth\":[{\"colorbar\":{\"outlinewidth\":0,\"ticks\":\"\"},\"type\":\"choropleth\"}],\"contour\":[{\"colorbar\":{\"outlinewidth\":0,\"ticks\":\"\"},\"colorscale\":[[0.0,\"#0d0887\"],[0.1111111111111111,\"#46039f\"],[0.2222222222222222,\"#7201a8\"],[0.3333333333333333,\"#9c179e\"],[0.4444444444444444,\"#bd3786\"],[0.5555555555555556,\"#d8576b\"],[0.6666666666666666,\"#ed7953\"],[0.7777777777777778,\"#fb9f3a\"],[0.8888888888888888,\"#fdca26\"],[1.0,\"#f0f921\"]],\"type\":\"contour\"}],\"contourcarpet\":[{\"colorbar\":{\"outlinewidth\":0,\"ticks\":\"\"},\"type\":\"contourcarpet\"}],\"heatmap\":[{\"colorbar\":{\"outlinewidth\":0,\"ticks\":\"\"},\"colorscale\":[[0.0,\"#0d0887\"],[0.1111111111111111,\"#46039f\"],[0.2222222222222222,\"#7201a8\"],[0.3333333333333333,\"#9c179e\"],[0.4444444444444444,\"#bd3786\"],[0.5555555555555556,\"#d8576b\"],[0.6666666666666666,\"#ed7953\"],[0.7777777777777778,\"#fb9f3a\"],[0.8888888888888888,\"#fdca26\"],[1.0,\"#f0f921\"]],\"type\":\"heatmap\"}],\"heatmapgl\":[{\"colorbar\":{\"outlinewidth\":0,\"ticks\":\"\"},\"colorscale\":[[0.0,\"#0d0887\"],[0.1111111111111111,\"#46039f\"],[0.2222222222222222,\"#7201a8\"],[0.3333333333333333,\"#9c179e\"],[0.4444444444444444,\"#bd3786\"],[0.5555555555555556,\"#d8576b\"],[0.6666666666666666,\"#ed7953\"],[0.7777777777777778,\"#fb9f3a\"],[0.8888888888888888,\"#fdca26\"],[1.0,\"#f0f921\"]],\"type\":\"heatmapgl\"}],\"histogram\":[{\"marker\":{\"pattern\":{\"fillmode\":\"overlay\",\"size\":10,\"solidity\":0.2}},\"type\":\"histogram\"}],\"histogram2d\":[{\"colorbar\":{\"outlinewidth\":0,\"ticks\":\"\"},\"colorscale\":[[0.0,\"#0d0887\"],[0.1111111111111111,\"#46039f\"],[0.2222222222222222,\"#7201a8\"],[0.3333333333333333,\"#9c179e\"],[0.4444444444444444,\"#bd3786\"],[0.5555555555555556,\"#d8576b\"],[0.6666666666666666,\"#ed7953\"],[0.7777777777777778,\"#fb9f3a\"],[0.8888888888888888,\"#fdca26\"],[1.0,\"#f0f921\"]],\"type\":\"histogram2d\"}],\"histogram2dcontour\":[{\"colorbar\":{\"outlinewidth\":0,\"ticks\":\"\"},\"colorscale\":[[0.0,\"#0d0887\"],[0.1111111111111111,\"#46039f\"],[0.2222222222222222,\"#7201a8\"],[0.3333333333333333,\"#9c179e\"],[0.4444444444444444,\"#bd3786\"],[0.5555555555555556,\"#d8576b\"],[0.6666666666666666,\"#ed7953\"],[0.7777777777777778,\"#fb9f3a\"],[0.8888888888888888,\"#fdca26\"],[1.0,\"#f0f921\"]],\"type\":\"histogram2dcontour\"}],\"mesh3d\":[{\"colorbar\":{\"outlinewidth\":0,\"ticks\":\"\"},\"type\":\"mesh3d\"}],\"parcoords\":[{\"line\":{\"colorbar\":{\"outlinewidth\":0,\"ticks\":\"\"}},\"type\":\"parcoords\"}],\"pie\":[{\"automargin\":true,\"type\":\"pie\"}],\"scatter\":[{\"marker\":{\"colorbar\":{\"outlinewidth\":0,\"ticks\":\"\"}},\"type\":\"scatter\"}],\"scatter3d\":[{\"line\":{\"colorbar\":{\"outlinewidth\":0,\"ticks\":\"\"}},\"marker\":{\"colorbar\":{\"outlinewidth\":0,\"ticks\":\"\"}},\"type\":\"scatter3d\"}],\"scattercarpet\":[{\"marker\":{\"colorbar\":{\"outlinewidth\":0,\"ticks\":\"\"}},\"type\":\"scattercarpet\"}],\"scattergeo\":[{\"marker\":{\"colorbar\":{\"outlinewidth\":0,\"ticks\":\"\"}},\"type\":\"scattergeo\"}],\"scattergl\":[{\"marker\":{\"colorbar\":{\"outlinewidth\":0,\"ticks\":\"\"}},\"type\":\"scattergl\"}],\"scattermapbox\":[{\"marker\":{\"colorbar\":{\"outlinewidth\":0,\"ticks\":\"\"}},\"type\":\"scattermapbox\"}],\"scatterpolar\":[{\"marker\":{\"colorbar\":{\"outlinewidth\":0,\"ticks\":\"\"}},\"type\":\"scatterpolar\"}],\"scatterpolargl\":[{\"marker\":{\"colorbar\":{\"outlinewidth\":0,\"ticks\":\"\"}},\"type\":\"scatterpolargl\"}],\"scatterternary\":[{\"marker\":{\"colorbar\":{\"outlinewidth\":0,\"ticks\":\"\"}},\"type\":\"scatterternary\"}],\"surface\":[{\"colorbar\":{\"outlinewidth\":0,\"ticks\":\"\"},\"colorscale\":[[0.0,\"#0d0887\"],[0.1111111111111111,\"#46039f\"],[0.2222222222222222,\"#7201a8\"],[0.3333333333333333,\"#9c179e\"],[0.4444444444444444,\"#bd3786\"],[0.5555555555555556,\"#d8576b\"],[0.6666666666666666,\"#ed7953\"],[0.7777777777777778,\"#fb9f3a\"],[0.8888888888888888,\"#fdca26\"],[1.0,\"#f0f921\"]],\"type\":\"surface\"}],\"table\":[{\"cells\":{\"fill\":{\"color\":\"#EBF0F8\"},\"line\":{\"color\":\"white\"}},\"header\":{\"fill\":{\"color\":\"#C8D4E3\"},\"line\":{\"color\":\"white\"}},\"type\":\"table\"}]},\"layout\":{\"annotationdefaults\":{\"arrowcolor\":\"#2a3f5f\",\"arrowhead\":0,\"arrowwidth\":1},\"autotypenumbers\":\"strict\",\"coloraxis\":{\"colorbar\":{\"outlinewidth\":0,\"ticks\":\"\"}},\"colorscale\":{\"diverging\":[[0,\"#8e0152\"],[0.1,\"#c51b7d\"],[0.2,\"#de77ae\"],[0.3,\"#f1b6da\"],[0.4,\"#fde0ef\"],[0.5,\"#f7f7f7\"],[0.6,\"#e6f5d0\"],[0.7,\"#b8e186\"],[0.8,\"#7fbc41\"],[0.9,\"#4d9221\"],[1,\"#276419\"]],\"sequential\":[[0.0,\"#0d0887\"],[0.1111111111111111,\"#46039f\"],[0.2222222222222222,\"#7201a8\"],[0.3333333333333333,\"#9c179e\"],[0.4444444444444444,\"#bd3786\"],[0.5555555555555556,\"#d8576b\"],[0.6666666666666666,\"#ed7953\"],[0.7777777777777778,\"#fb9f3a\"],[0.8888888888888888,\"#fdca26\"],[1.0,\"#f0f921\"]],\"sequentialminus\":[[0.0,\"#0d0887\"],[0.1111111111111111,\"#46039f\"],[0.2222222222222222,\"#7201a8\"],[0.3333333333333333,\"#9c179e\"],[0.4444444444444444,\"#bd3786\"],[0.5555555555555556,\"#d8576b\"],[0.6666666666666666,\"#ed7953\"],[0.7777777777777778,\"#fb9f3a\"],[0.8888888888888888,\"#fdca26\"],[1.0,\"#f0f921\"]]},\"colorway\":[\"#636efa\",\"#EF553B\",\"#00cc96\",\"#ab63fa\",\"#FFA15A\",\"#19d3f3\",\"#FF6692\",\"#B6E880\",\"#FF97FF\",\"#FECB52\"],\"font\":{\"color\":\"#2a3f5f\"},\"geo\":{\"bgcolor\":\"white\",\"lakecolor\":\"white\",\"landcolor\":\"#E5ECF6\",\"showlakes\":true,\"showland\":true,\"subunitcolor\":\"white\"},\"hoverlabel\":{\"align\":\"left\"},\"hovermode\":\"closest\",\"mapbox\":{\"style\":\"light\"},\"paper_bgcolor\":\"white\",\"plot_bgcolor\":\"#E5ECF6\",\"polar\":{\"angularaxis\":{\"gridcolor\":\"white\",\"linecolor\":\"white\",\"ticks\":\"\"},\"bgcolor\":\"#E5ECF6\",\"radialaxis\":{\"gridcolor\":\"white\",\"linecolor\":\"white\",\"ticks\":\"\"}},\"scene\":{\"xaxis\":{\"backgroundcolor\":\"#E5ECF6\",\"gridcolor\":\"white\",\"gridwidth\":2,\"linecolor\":\"white\",\"showbackground\":true,\"ticks\":\"\",\"zerolinecolor\":\"white\"},\"yaxis\":{\"backgroundcolor\":\"#E5ECF6\",\"gridcolor\":\"white\",\"gridwidth\":2,\"linecolor\":\"white\",\"showbackground\":true,\"ticks\":\"\",\"zerolinecolor\":\"white\"},\"zaxis\":{\"backgroundcolor\":\"#E5ECF6\",\"gridcolor\":\"white\",\"gridwidth\":2,\"linecolor\":\"white\",\"showbackground\":true,\"ticks\":\"\",\"zerolinecolor\":\"white\"}},\"shapedefaults\":{\"line\":{\"color\":\"#2a3f5f\"}},\"ternary\":{\"aaxis\":{\"gridcolor\":\"white\",\"linecolor\":\"white\",\"ticks\":\"\"},\"baxis\":{\"gridcolor\":\"white\",\"linecolor\":\"white\",\"ticks\":\"\"},\"bgcolor\":\"#E5ECF6\",\"caxis\":{\"gridcolor\":\"white\",\"linecolor\":\"white\",\"ticks\":\"\"}},\"title\":{\"x\":0.05},\"xaxis\":{\"automargin\":true,\"gridcolor\":\"white\",\"linecolor\":\"white\",\"ticks\":\"\",\"title\":{\"standoff\":15},\"zerolinecolor\":\"white\",\"zerolinewidth\":2},\"yaxis\":{\"automargin\":true,\"gridcolor\":\"white\",\"linecolor\":\"white\",\"ticks\":\"\",\"title\":{\"standoff\":15},\"zerolinecolor\":\"white\",\"zerolinewidth\":2}}},\"title\":{\"text\":\"MSE loss landscape\"},\"scene\":{\"xaxis\":{\"title\":{\"text\":\"a\"}},\"yaxis\":{\"title\":{\"text\":\"b\"}},\"zaxis\":{\"title\":{\"text\":\"loss\"}}}},                        {\"responsive\": true}                    ).then(function(){\n",
              "                            \n",
              "var gd = document.getElementById('b35e9b61-9f20-4b77-b08f-9c03270e3e97');\n",
              "var x = new MutationObserver(function (mutations, observer) {{\n",
              "        var display = window.getComputedStyle(gd).display;\n",
              "        if (!display || display === 'none') {{\n",
              "            console.log([gd, 'removed!']);\n",
              "            Plotly.purge(gd);\n",
              "            observer.disconnect();\n",
              "        }}\n",
              "}});\n",
              "\n",
              "// Listen for the removal of the full notebook cells\n",
              "var notebookContainer = gd.closest('#notebook-container');\n",
              "if (notebookContainer) {{\n",
              "    x.observe(notebookContainer, {childList: true});\n",
              "}}\n",
              "\n",
              "// Listen for the clearing of the current output cell\n",
              "var outputEl = gd.closest('.output');\n",
              "if (outputEl) {{\n",
              "    x.observe(outputEl, {childList: true});\n",
              "}}\n",
              "\n",
              "                        })                };                            </script>        </div>\n",
              "</body>\n",
              "</html>"
            ]
          },
          "metadata": {}
        }
      ]
    },
    {
      "cell_type": "markdown",
      "metadata": {
        "id": "jZy5qkSz6_2S"
      },
      "source": [
        "Look at the [convexity](https://en.wikipedia.org/wiki/Convex_function) of the MSE loss. Can you do the linear regression by sight hovering the mouse over it? \n",
        "\n",
        ">**EXERCISE** Visualize the **loss landscape** of other loss choices, such as the $L_1$ norm of the residual vector $|f_\\theta(x_i) - t_i|$ (absolute error) or the $L_{50}$ norm. Are these still convex?  "
      ]
    },
    {
      "cell_type": "code",
      "metadata": {
        "id": "DhhE2MtUi3g_"
      },
      "source": [
        "# ✏️ your code here "
      ],
      "execution_count": 11,
      "outputs": []
    },
    {
      "cell_type": "code",
      "metadata": {
        "cellView": "form",
        "id": "IrlLWxcm0tb9",
        "colab": {
          "base_uri": "https://localhost:8080/",
          "height": 542
        },
        "outputId": "fa1539b8-c6d3-4762-e544-e2281af8ba3b"
      },
      "source": [
        "#@title Solution { run: \"auto\" }\n",
        "\n",
        "p = 1  #@param {type:\"slider\", min:1, max:50, step:1}\n",
        "\n",
        "predictions = a_range[:, None, None] * x[None, None, :]  + b_range[None, :, None]\n",
        "residuals = np.abs(t[None, None, :] - predictions) ** p\n",
        "losses = (residuals.sum(-1) ** (1/p)) / predictions.shape[-1]\n",
        "\n",
        "\n",
        "fig = go.Figure(data=[go.Surface(z=losses, x=a_range, y=b_range)])\n",
        "fig.update_traces(contours_z=dict(show=True, usecolormap=True,\n",
        "                                  highlightcolor=\"limegreen\", project_z=True))\n",
        "fig.update_layout(\n",
        "    title=f\"L{p} landscape\",\n",
        "    scene = dict(\n",
        "                xaxis_title='a',\n",
        "                yaxis_title='b',\n",
        "                zaxis_title='loss')\n",
        ")\n",
        "fig.show()"
      ],
      "execution_count": 12,
      "outputs": [
        {
          "output_type": "display_data",
          "data": {
            "text/html": [
              "<html>\n",
              "<head><meta charset=\"utf-8\" /></head>\n",
              "<body>\n",
              "    <div>            <script src=\"https://cdnjs.cloudflare.com/ajax/libs/mathjax/2.7.5/MathJax.js?config=TeX-AMS-MML_SVG\"></script><script type=\"text/javascript\">if (window.MathJax) {MathJax.Hub.Config({SVG: {font: \"STIX-Web\"}});}</script>                <script type=\"text/javascript\">window.PlotlyConfig = {MathJaxConfig: 'local'};</script>\n",
              "        <script src=\"https://cdn.plot.ly/plotly-2.8.3.min.js\"></script>                <div id=\"5be3af3d-57b4-41d2-af39-739ef1db4ea9\" class=\"plotly-graph-div\" style=\"height:525px; width:100%;\"></div>            <script type=\"text/javascript\">                                    window.PLOTLYENV=window.PLOTLYENV || {};                                    if (document.getElementById(\"5be3af3d-57b4-41d2-af39-739ef1db4ea9\")) {                    Plotly.newPlot(                        \"5be3af3d-57b4-41d2-af39-739ef1db4ea9\",                        [{\"x\":[-5.0,-4.8,-4.6,-4.4,-4.2,-4.0,-3.8,-3.5999999999999996,-3.4,-3.2,-3.0,-2.8,-2.5999999999999996,-2.4,-2.1999999999999997,-2.0,-1.7999999999999998,-1.5999999999999996,-1.4,-1.1999999999999997,-1.0,-0.7999999999999998,-0.5999999999999996,-0.39999999999999947,-0.1999999999999993,0.0,0.20000000000000018,0.40000000000000036,0.6000000000000005,0.8000000000000007,1.0,1.2000000000000002,1.4000000000000004,1.6000000000000005,1.8000000000000007,2.0,2.2,2.4000000000000004,2.6000000000000005,2.8000000000000007,3.0,3.200000000000001,3.4000000000000004,3.5999999999999996,3.8000000000000007,4.0,4.200000000000001,4.4,4.600000000000001,4.800000000000001,5.0],\"y\":[-5.0,-4.8,-4.6,-4.4,-4.2,-4.0,-3.8,-3.5999999999999996,-3.4,-3.2,-3.0,-2.8,-2.5999999999999996,-2.4,-2.1999999999999997,-2.0,-1.7999999999999998,-1.5999999999999996,-1.4,-1.1999999999999997,-1.0,-0.7999999999999998,-0.5999999999999996,-0.39999999999999947,-0.1999999999999993,0.0,0.20000000000000018,0.40000000000000036,0.6000000000000005,0.8000000000000007,1.0,1.2000000000000002,1.4000000000000004,1.6000000000000005,1.8000000000000007,2.0,2.2,2.4000000000000004,2.6000000000000005,2.8000000000000007,3.0,3.200000000000001,3.4000000000000004,3.5999999999999996,3.8000000000000007,4.0,4.200000000000001,4.4,4.600000000000001,4.800000000000001,5.0],\"z\":[[7.3999367066314665,7.199936706631467,6.999936706631466,6.799936706631466,6.599936706631468,6.3999367066314665,6.199936706631467,5.999936706631466,5.799936706631466,5.599936706631467,5.3999367066314665,5.199936706631467,4.999936706631466,4.799936706631467,4.599936706631467,4.3999367066314665,4.199936706631467,3.999936706631466,3.799936706631467,3.5999367066314663,3.399936706631467,3.1999367066314663,2.999936706631467,2.799936706631466,2.599936706631466,2.3999367066314665,2.1999367066314663,1.9999367066314666,1.8249709151306035,1.6649709151306031,1.5049709151306037,1.3449709151306035,1.184970915130603,1.061126654563731,0.974136545584957,0.8941365455849575,0.8141365455849574,0.7588110406635249,0.7718310046263368,0.8865693924794918,1.0065693924794914,1.126569392479492,1.2465693924794914,1.3806797124345715,1.5406797124345726,1.700679712434572,1.8606797124345724,2.020679712434572,2.200063293368535,2.400063293368534,2.6000632933685335],[7.295909359440932,7.095909359440933,6.895909359440931,6.6959093594409325,6.495909359440932,6.295909359440932,6.095909359440933,5.895909359440931,5.695909359440932,5.495909359440932,5.295909359440932,5.095909359440933,4.895909359440931,4.695909359440932,4.495909359440931,4.295909359440932,4.095909359440933,3.8959093594409318,3.6959093594409316,3.495909359440932,3.2959093594409317,3.0959093594409315,2.8959093594409318,2.6959093594409307,2.4959093594409305,2.2959093594409317,2.095909359440932,1.8959093594409318,1.723266912426796,1.563266912426796,1.4032669124267965,1.2432669124267963,1.0856624326733724,0.9656624326733724,0.8849130693122957,0.804913069312296,0.7267870030615082,0.7175785042284734,0.7979211215826325,0.9179211215826326,1.0379211215826323,1.1579211215826328,1.2866784873687105,1.44667848736871,1.6066784873687108,1.7666784873687102,1.9266784873687108,2.1040906405590682,2.30409064055907,2.5040906405590695,2.704090640559069],[7.191882012250396,6.991882012250396,6.791882012250397,6.591882012250397,6.391882012250397,6.191882012250398,5.991882012250397,5.7918820122503964,5.591882012250396,5.391882012250397,5.191882012250398,4.991882012250397,4.7918820122503964,4.591882012250396,4.391882012250397,4.191882012250398,3.9918820122503966,3.791882012250396,3.591882012250397,3.391882012250396,3.191882012250397,2.9918820122503966,2.791882012250396,2.591882012250396,2.391882012250396,2.191882012250397,1.9918820122503966,1.7918820122503962,1.6215629097229889,1.4615629097229887,1.3015629097229895,1.1415629097229893,0.9901982107830133,0.8756895930396343,0.7956895930396343,0.7156895930396345,0.6763459677934217,0.7092728506857734,0.8292728506857735,0.9492728506857734,1.069272850685773,1.1926772623028494,1.352677262302849,1.5126772623028484,1.6726772623028492,1.8326772623028487,2.0081179877496043,2.208117987749604,2.4081179877496046,2.608117987749604,2.808117987749603],[7.087854665059862,6.887854665059862,6.687854665059862,6.487854665059864,6.287854665059863,6.087854665059862,5.887854665059861,5.687854665059861,5.487854665059862,5.287854665059863,5.087854665059862,4.887854665059862,4.687854665059861,4.487854665059862,4.287854665059863,4.087854665059862,3.887854665059862,3.6878546650598616,3.4878546650598623,3.287854665059862,3.087854665059862,2.8878546650598613,2.6878546650598616,2.4878546650598614,2.2878546650598617,2.0878546650598624,1.8878546650598618,1.6878546650598618,1.5198589070191824,1.359858907019182,1.1998589070191827,1.0398589070191826,0.8947339888926547,0.7864661167669731,0.706466116766973,0.6364292514556423,0.6426598015644188,0.7406245797889143,0.8606245797889143,0.9806245797889146,1.100624579788914,1.2586760372369876,1.418676037236987,1.5786760372369868,1.7386760372369874,1.9121453349401378,2.1121453349401387,2.312145334940138,2.512145334940139,2.7121453349401383,2.9121453349401376],[6.983827317869327,6.783827317869327,6.583827317869327,6.3838273178693274,6.183827317869327,5.983827317869327,5.783827317869326,5.583827317869327,5.3838273178693274,5.183827317869327,4.983827317869327,4.783827317869326,4.583827317869327,4.3838273178693274,4.183827317869327,3.983827317869327,3.783827317869327,3.583827317869327,3.383827317869327,3.1838273178693264,2.983827317869327,2.783827317869327,2.583827317869327,2.3838273178693266,2.1838273178693264,1.983827317869327,1.7838273178693267,1.5838273178693267,1.4181549043153754,1.2581549043153752,1.0981549043153758,0.9381549043153754,0.7992697670022958,0.6972426404943117,0.6172426404943117,0.5938808949233186,0.6590299259136653,0.7719763088920552,0.8919763088920553,1.0119763088920553,1.1646748121711252,1.324674812171126,1.4846748121711255,1.6446748121711248,1.816172682130674,2.016172682130673,2.216172682130674,2.416172682130673,2.6161726821306743,2.8161726821306736,3.016172682130673],[6.879799970678792,6.679799970678792,6.479799970678792,6.279799970678793,6.079799970678792,5.879799970678792,5.679799970678792,5.479799970678791,5.279799970678793,5.079799970678793,4.879799970678792,4.6797999706787925,4.479799970678791,4.279799970678793,4.079799970678792,3.879799970678792,3.679799970678792,3.4797999706787914,3.279799970678792,3.079799970678791,2.879799970678792,2.679799970678792,2.4797999706787914,2.2797999706787913,2.079799970678791,1.879799970678792,1.6797999706787916,1.4797999706787917,1.3164509016115682,1.156450901611568,0.9964509016115686,0.8364509016115684,0.7038055451119367,0.6080191642216501,0.5526483584882671,0.5954000502629115,0.683328037995196,0.8033280379951963,0.9233280379951962,1.0706735871052642,1.2306735871052636,1.3906735871052645,1.550673587105264,1.7202000293212076,1.9202000293212087,2.120200029321208,2.3202000293212093,2.5202000293212086,2.7202000293212096,2.920200029321209,3.120200029321208],[6.7757726234882565,6.575772623488257,6.375772623488257,6.175772623488257,5.9757726234882576,5.7757726234882565,5.575772623488257,5.375772623488257,5.175772623488257,4.9757726234882576,4.7757726234882565,4.575772623488257,4.375772623488257,4.175772623488257,3.9757726234882567,3.775772623488257,3.5757726234882568,3.375772623488256,3.175772623488257,2.9757726234882567,2.775772623488257,2.5757726234882563,2.375772623488256,2.175772623488256,1.9757726234882562,1.775772623488257,1.5757726234882568,1.3757726234882566,1.2147468989077612,1.0547468989077609,0.8947468989077617,0.7347468989077616,0.608341323221578,0.5208926240468428,0.5317701746121583,0.611770174612158,0.7146797670983369,0.8346797670983372,0.9766723620394024,1.1366723620394026,1.296672362039402,1.4566723620394026,1.6242273765117434,1.8242273765117427,2.0242273765117433,2.2242273765117426,2.4242273765117437,2.624227376511744,2.8242273765117445,3.024227376511744,3.224227376511743],[6.671745276297722,6.471745276297722,6.271745276297721,6.071745276297722,5.871745276297722,5.671745276297721,5.471745276297723,5.271745276297722,5.0717452762977215,4.871745276297722,4.671745276297722,4.471745276297723,4.271745276297722,4.0717452762977215,3.871745276297722,3.6717452762977216,3.471745276297722,3.2717452762977217,3.0717452762977215,2.871745276297722,2.671745276297722,2.471745276297722,2.2717452762977213,2.0717452762977215,1.8717452762977214,1.6717452762977216,1.4717452762977217,1.2730428962039544,1.1130428962039542,0.9530428962039539,0.7930428962039545,0.6330428962039545,0.512877101331219,0.4711374041608633,0.5481402989614048,0.6281402989614044,0.7460314962014779,0.8826711369735408,1.0426711369735409,1.202671136973541,1.3626711369735405,1.5282547237022794,1.7282547237022787,1.928254723702278,2.1282547237022786,2.328254723702278,2.5282547237022794,2.7282547237022787,2.9282547237022793,3.1282547237022786,3.3282547237022784],[6.567717929107187,6.367717929107187,6.167717929107186,5.967717929107187,5.767717929107187,5.567717929107188,5.367717929107187,5.167717929107186,4.967717929107186,4.767717929107187,4.567717929107188,4.367717929107187,4.167717929107186,3.9677179291071867,3.7677179291071865,3.567717929107187,3.3677179291071866,3.1677179291071864,2.9677179291071867,2.767717929107187,2.567717929107187,2.3677179291071866,2.1677179291071864,1.9677179291071867,1.7677179291071865,1.567717929107187,1.367717929107187,1.1713388935001474,1.0113388935001475,0.8513388935001471,0.6913388935001477,0.5374128794408602,0.4305348724409768,0.4845104233106511,0.5645104233106512,0.6573832253046186,0.7886699119076788,0.9486699119076789,1.1086699119076788,1.2686699119076792,1.432282070892813,1.632282070892814,1.8322820708928134,2.032282070892813,2.2322820708928135,2.432282070892813,2.6322820708928143,2.8322820708928136,3.032282070892814,3.2322820708928135,3.432282070892813],[6.463690581916653,6.263690581916651,6.063690581916652,5.863690581916653,5.6636905819166525,5.463690581916652,5.263690581916651,5.063690581916652,4.863690581916652,4.6636905819166525,4.463690581916652,4.263690581916651,4.063690581916652,3.8636905819166523,3.663690581916652,3.4636905819166524,3.2636905819166513,3.063690581916652,2.8636905819166523,2.663690581916652,2.4636905819166524,2.2636905819166517,2.063690581916652,1.8636905819166518,1.6636905819166514,1.4636905819166521,1.2636905819166517,1.0696348907963404,0.9096348907963403,0.74963489079634,0.5896348907963407,0.44194865755050133,0.42088054765989746,0.5008805476598975,0.5808805476598976,0.6946686868418169,0.8546686868418171,1.014668686841817,1.1746686868418172,1.3363094180833486,1.5363094180833479,1.736309418083349,1.9363094180833482,2.1363094180833473,2.336309418083349,2.5363094180833476,2.7363094180833487,2.936309418083348,3.136309418083349,3.3363094180833484,3.5363094180833476],[6.359663234726118,6.159663234726117,5.959663234726117,5.759663234726117,5.559663234726117,5.359663234726118,5.159663234726117,4.959663234726117,4.759663234726117,4.559663234726117,4.359663234726118,4.159663234726117,3.959663234726117,3.759663234726118,3.5596632347261163,3.359663234726118,3.159663234726117,2.959663234726117,2.759663234726117,2.559663234726117,2.3596632347261175,2.159663234726117,1.9596632347261171,1.7596632347261167,1.5596632347261166,1.3596632347261173,1.159663234726117,0.9679308880925335,0.8079308880925333,0.6479308880925332,0.4879308880925338,0.381833324810943,0.43725067200914386,0.5172506720091439,0.6006674617759556,0.7606674617759551,0.9206674617759554,1.0806674617759555,1.2406674617759554,1.4403367652738834,1.6403367652738825,1.8403367652738836,2.040336765273883,2.240336765273882,2.4403367652738837,2.6403367652738825,2.8403367652738836,3.040336765273883,3.2403367652738835,3.4403367652738837,3.640336765273882],[6.255635887535582,6.0556358875355825,5.855635887535582,5.655635887535582,5.455635887535584,5.255635887535582,5.0556358875355825,4.855635887535582,4.655635887535582,4.455635887535584,4.255635887535582,4.055635887535582,3.855635887535582,3.655635887535582,3.455635887535581,3.2556358875355818,3.055635887535582,2.855635887535582,2.655635887535582,2.4556358875355815,2.2556358875355818,2.055635887535582,1.8556358875355816,1.6556358875355817,1.4556358875355815,1.2556358875355822,1.055635887535582,0.8662268853887264,0.7062268853887262,0.5462268853887261,0.38854682383522243,0.39196270354249196,0.45362079635839014,0.5336207963583904,0.6666662367100942,0.8266662367100934,0.9866662367100938,1.1466662367100937,1.3443641124644183,1.5443641124644185,1.7443641124644178,1.944364112464419,2.1443641124644186,2.344364112464418,2.544364112464419,2.7443641124644182,2.944364112464419,3.144364112464418,3.3443641124644197,3.544364112464419,3.7443641124644182],[6.1516085403450464,5.951608540345047,5.751608540345046,5.551608540345048,5.3516085403450475,5.1516085403450464,4.951608540345047,4.751608540345046,4.551608540345048,4.3516085403450475,4.1516085403450464,3.9516085403450476,3.751608540345047,3.5516085403450477,3.3516085403450466,3.1516085403450473,2.9516085403450476,2.751608540345047,2.5516085403450472,2.3516085403450466,2.1516085403450473,1.9516085403450467,1.7516085403450468,1.5516085403450466,1.3516085403450462,1.151608540345047,0.9516085403450469,0.7645228826849193,0.6045228826849192,0.444522882684919,0.3710589730795358,0.4020920822740409,0.46999092070763665,0.5798657906346865,0.7326650116442325,0.892665011644232,1.052665011644232,1.2483914596549532,1.4483914596549534,1.6483914596549536,1.8483914596549529,2.0483914596549537,2.248391459654953,2.4483914596549523,2.6483914596549534,2.8483914596549527,3.0483914596549537,3.248391459654953,3.4483914596549545,3.6483914596549534,3.848391459654953],[6.047581193154512,5.847581193154513,5.647581193154513,5.447581193154512,5.247581193154512,5.047581193154512,4.847581193154513,4.647581193154513,4.4475811931545115,4.247581193154512,4.047581193154512,3.8475811931545123,3.6475811931545126,3.4475811931545124,3.2475811931545118,3.0475811931545125,2.847581193154512,2.647581193154512,2.4475811931545115,2.2475811931545118,2.047581193154512,1.847581193154512,1.6475811931545121,1.4475811931545117,1.2475811931545115,1.0475811931545123,0.8475811931545121,0.6628188799811124,0.5028188799811123,0.37680099741609374,0.3749485709976366,0.4122214610055899,0.5108829608149301,0.6386637865783705,0.7986637865783708,0.9586637865783703,1.152418806845488,1.352418806845488,1.5524188068454883,1.7524188068454882,1.9524188068454875,2.1524188068454886,2.352418806845488,2.552418806845487,2.7524188068454882,2.9524188068454875,3.1524188068454886,3.3524188068454874,3.552418806845489,3.7524188068454882,3.9524188068454875],[5.943553845963978,5.7435538459639774,5.543553845963977,5.343553845963978,5.143553845963977,4.943553845963978,4.7435538459639774,4.543553845963977,4.343553845963976,4.143553845963977,3.943553845963978,3.7435538459639774,3.5435538459639764,3.3435538459639766,3.1435538459639765,2.9435538459639767,2.743553845963977,2.543553845963977,2.343553845963977,2.1435538459639765,1.943553845963977,1.743553845963977,1.5435538459639766,1.3435538459639766,1.1435538459639762,0.943553845963977,0.7435538459639769,0.5611148772773054,0.40702729952719807,0.37883816891573746,0.3823508397371388,0.4419001309951739,0.5619001309951741,0.7046625615125091,0.8646625615125092,1.0564461540360228,1.256446154036023,1.4564461540360232,1.6564461540360234,1.8564461540360235,2.056446154036023,2.256446154036024,2.456446154036023,2.6564461540360225,2.856446154036024,3.0564461540360233,3.2564461540360243,3.4564461540360236,3.6564461540360242,3.8564461540360235,4.056446154036022],[5.839526498773442,5.639526498773441,5.439526498773442,5.239526498773443,5.0395264987734425,4.839526498773442,4.639526498773441,4.439526498773442,4.239526498773442,4.0395264987734425,3.8395264987734423,3.639526498773442,3.439526498773442,3.2395264987734422,3.0395264987734416,2.8395264987734423,2.6395264987734426,2.439526498773442,2.239526498773442,2.0395264987734416,1.8395264987734425,1.6395264987734421,1.4395264987734417,1.2395264987734418,1.0395264987734416,0.8395264987734423,0.6395264987734421,0.4594108745734985,0.38272776683383836,0.38272776683383836,0.40629622588872955,0.49291730117541765,0.6129173011754178,0.7706613364466472,0.9604735012265584,1.1604735012265577,1.3604735012265579,1.5604735012265578,1.7604735012265582,1.9604735012265582,2.1604735012265577,2.3604735012265587,2.560473501226558,2.7604735012265573,2.9604735012265584,3.1604735012265577,3.3604735012265587,3.560473501226558,3.760473501226559,3.960473501226558,4.160473501226558],[5.735499151582908,5.535499151582907,5.335499151582907,5.135499151582907,4.935499151582907,4.735499151582908,4.535499151582907,4.335499151582907,4.135499151582907,3.935499151582907,3.735499151582908,3.535499151582907,3.335499151582907,3.135499151582907,2.935499151582907,2.7354991515829075,2.535499151582907,2.3354991515829067,2.135499151582907,1.935499151582907,1.7354991515829075,1.535499151582907,1.335499151582907,1.1354991515829067,0.9354991515829066,0.7354991515829072,0.5354991515829071,0.396630773066752,0.3866173647519392,0.39508041800297855,0.451072650451276,0.5439344713556615,0.6766601113807854,0.8645008484170933,1.0645008484170932,1.2645008484170925,1.464500848417093,1.664500848417093,1.8645008484170933,2.0645008484170932,2.2645008484170925,2.4645008484170936,2.6645008484170933,2.864500848417092,3.0645008484170932,3.264500848417093,3.4645008484170936,3.664500848417093,3.8645008484170944,4.064500848417094,4.264500848417092],[5.631471804392372,5.4314718043923715,5.231471804392372,5.031471804392372,4.831471804392373,4.631471804392372,4.4314718043923715,4.231471804392372,4.031471804392372,3.831471804392373,3.6314718043923717,3.431471804392372,3.231471804392372,3.031471804392372,2.8314718043923723,2.6314718043923717,2.431471804392372,2.2314718043923714,2.031471804392372,1.831471804392372,1.6314718043923722,1.431471804392372,1.2314718043923718,1.0314718043923716,0.8314718043923716,0.6314718043923722,0.445455425578593,0.39050696267004004,0.39361706175207684,0.43361706175207687,0.49584907501382236,0.5949516415359054,0.7685281956076282,0.9685281956076283,1.1685281956076286,1.3685281956076278,1.568528195607628,1.7685281956076282,1.9685281956076282,2.168528195607629,2.3685281956076283,2.5685281956076293,2.7685281956076286,2.968528195607628,3.168528195607629,3.3685281956076283,3.5685281956076293,3.768528195607628,3.9685281956076297,4.168528195607629,4.368528195607628],[5.527444457201836,5.327444457201837,5.127444457201837,4.927444457201838,4.7274444572018375,4.527444457201836,4.327444457201837,4.127444457201837,3.9274444572018377,3.7274444572018375,3.5274444572018373,3.3274444572018376,3.127444457201837,2.9274444572018377,2.7274444572018375,2.5274444572018373,2.3274444572018376,2.127444457201837,1.9274444572018374,1.7274444572018375,1.5274444572018373,1.327444457201837,1.1274444572018372,0.9274444572018368,0.7274444572018367,0.5304759101415552,0.40966288090695047,0.3943965605881409,0.432153705501175,0.472153705501175,0.5406254995763685,0.6725555427981629,0.872555542798163,1.0725555427981632,1.2725555427981634,1.4725555427981627,1.6725555427981629,1.8725555427981628,2.0725555427981632,2.2725555427981634,2.4725555427981627,2.6725555427981638,2.872555542798163,3.0725555427981623,3.2725555427981634,3.4725555427981627,3.6725555427981638,3.872555542798163,4.072555542798165,4.272555542798164,4.472555542798164],[5.423417110011302,5.223417110011302,5.0234171100113025,4.823417110011302,4.623417110011303,4.423417110011302,4.223417110011302,4.023417110011303,3.8234171100113015,3.623417110011303,3.4234171100113024,3.223417110011302,3.023417110011302,2.8234171100113015,2.6234171100113017,2.4234171100113024,2.223417110011302,2.023417110011302,1.8234171100113024,1.623417110011302,1.4234171100113022,1.2234171100113023,1.0234171100113019,0.8234171100113018,0.6234171100113016,0.47260605276611933,0.4091084047592733,0.4306903492502732,0.47069034925027314,0.5106903492502732,0.6073283779444125,0.7765828899886978,0.9765828899886981,1.176582889988698,1.3765828899886985,1.5765828899886976,1.7765828899886977,1.976582889988698,2.1765828899886985,2.3765828899886983,2.5765828899886976,2.7765828899886986,2.976582889988698,3.176582889988697,3.3765828899886983,3.5765828899886976,3.776582889988699,3.9765828899886975,4.176582889988699,4.376582889988699,4.576582889988698],[5.319389762820768,5.119389762820767,4.919389762820767,4.719389762820769,4.519389762820767,4.319389762820768,4.119389762820767,3.9193897628207672,3.719389762820768,3.5193897628207673,3.319389762820768,3.1193897628207674,2.9193897628207672,2.719389762820767,2.5193897628207673,2.319389762820768,2.1193897628207674,1.9193897628207672,1.7193897628207673,1.5193897628207673,1.3193897628207674,1.1193897628207672,0.919389762820767,0.7193897628207668,0.546181366359882,0.4506746581906462,0.4377258947656751,0.46922699299937143,0.5092269929993715,0.5701333747633559,0.6901333747633555,0.8806102371792328,1.0806102371792328,1.2806102371792332,1.4806102371792333,1.6806102371792329,1.8806102371792328,2.0806102371792328,2.280610237179233,2.4806102371792327,2.680610237179232,2.8806102371792335,3.0806102371792328,3.280610237179232,3.4806102371792327,3.680610237179232,3.8806102371792326,4.080610237179233,4.280610237179234,4.480610237179233,4.680610237179232],[5.215362415630233,5.015362415630232,4.815362415630233,4.615362415630233,4.4153624156302325,4.215362415630233,4.015362415630232,3.815362415630232,3.615362415630232,3.415362415630233,3.2153624156302327,3.015362415630232,2.815362415630232,2.615362415630232,2.415362415630232,2.2153624156302327,2.015362415630232,1.8153624156302317,1.6153624156302324,1.415362415630232,1.2153624156302325,1.0153624156302323,0.8153624156302322,0.6262331415873181,0.5025226230974245,0.4739391940280453,0.4739391940280453,0.5077636367484698,0.5657472350667606,0.652938371582299,0.7846375843697676,0.9846375843697677,1.1846375843697678,1.3846375843697678,1.5846375843697682,1.7846375843697675,1.984637584369768,2.184637584369768,2.384637584369768,2.5846375843697684,2.7846375843697673,2.984637584369769,3.184637584369768,3.3846375843697674,3.5846375843697684,3.7846375843697673,3.984637584369769,4.184637584369767,4.384637584369768,4.584637584369768,4.784637584369767],[5.111335068439697,4.911335068439698,4.711335068439697,4.511335068439697,4.311335068439698,4.111335068439697,3.9113350684396977,3.711335068439697,3.511335068439698,3.3113350684396976,3.111335068439697,2.911335068439697,2.711335068439697,2.511335068439698,2.3113350684396976,2.111335068439697,1.911335068439697,1.711335068439697,1.5113350684396973,1.311335068439697,1.1113350684396974,0.911335068439697,0.7114855520692396,0.5733319935474082,0.5101524932904156,0.5101524932904156,0.5101524932904156,0.5623124510722556,0.6423124510722557,0.735743368401242,0.8886649315603027,1.0886649315603028,1.288664931560303,1.4886649315603033,1.6886649315603033,1.888664931560303,2.088664931560303,2.288664931560303,2.488664931560303,2.688664931560303,2.888664931560303,3.0886649315603036,3.288664931560303,3.488664931560302,3.688664931560303,3.888664931560303,4.088664931560304,4.288664931560303,4.488664931560304,4.688664931560303,4.888664931560303],[5.007307721249163,4.807307721249162,4.607307721249161,4.407307721249163,4.207307721249162,4.007307721249163,3.807307721249162,3.6073077212491613,3.4073077212491625,3.2073077212491627,3.0073077212491617,2.807307721249162,2.6073077212491618,2.4073077212491625,2.207307721249162,2.0073077212491617,1.8073077212491622,1.6073077212491618,1.4073077212491623,1.2073077212491623,1.0073077212491626,0.8073077212491622,0.6469073071411713,0.5487548252924286,0.5463657925527861,0.546365792552786,0.5604065353838701,0.6388776670777505,0.7188776670777506,0.8185483652201851,0.9926922787508378,1.192692278750838,1.3926922787508378,1.5926922787508384,1.7926922787508386,1.9926922787508379,2.192692278750838,2.3926922787508382,2.592692278750838,2.792692278750839,2.9926922787508383,3.192692278750839,3.3926922787508382,3.5926922787508375,3.792692278750839,3.9926922787508374,4.1926922787508385,4.392692278750839,4.592692278750839,4.792692278750839,4.992692278750837],[4.903280374058626,4.703280374058627,4.503280374058627,4.303280374058627,4.103280374058628,3.903280374058627,3.7032803740586275,3.503280374058627,3.3032803740586276,3.103280374058627,2.9032803740586273,2.703280374058627,2.5032803740586274,2.303280374058627,2.1032803740586266,1.9032803740586275,1.703280374058627,1.503280374058627,1.3032803740586272,1.103280374058627,0.903280374058627,0.721990373033082,0.6061220406339529,0.5825790918151562,0.5825790918151562,0.594648406902637,0.6354428830832455,0.7154428830832454,0.7954428830832455,0.9139318400954082,1.096719625941373,1.296719625941373,1.4967196259413733,1.6967196259413733,1.8967196259413737,2.0967196259413727,2.296719625941373,2.496719625941373,2.6967196259413733,2.8967196259413734,3.0967196259413727,3.296719625941374,3.496719625941373,3.6967196259413724,3.896719625941374,4.096719625941373,4.296719625941374,4.496719625941373,4.696719625941375,4.896719625941374,5.096719625941374],[4.799253026868094,4.599253026868093,4.3992530268680925,4.199253026868094,3.999253026868092,3.7992530268680924,3.5992530268680922,3.3992530268680925,3.1992530268680928,2.999253026868093,2.799253026868093,2.5992530268680927,2.3992530268680925,2.1992530268680928,1.9992530268680924,1.7992530268680926,1.5992530268680925,1.3992530268680923,1.1992530268680928,0.9992530268680925,0.8072427835150038,0.6743444000587135,0.6187923910775264,0.6187923910775264,0.6288902784214039,0.6688902784214037,0.7120080990887401,0.7920080990887401,0.8720080990887402,1.0117184416682452,1.2007469731319074,1.4007469731319073,1.6007469731319077,1.8007469731319077,2.000746973131908,2.200746973131907,2.4007469731319073,2.6007469731319075,2.800746973131908,3.000746973131908,3.2007469731319076,3.400746973131908,3.6007469731319075,3.800746973131907,4.000746973131908,4.200746973131906,4.400746973131907,4.6007469731319075,4.800746973131908,5.000746973131908,5.200746973131906],[4.6952256796775576,4.4952256796775565,4.295225679677558,4.095225679677558,3.8952256796775573,3.695225679677558,3.4952256796775574,3.295225679677558,3.095225679677557,2.8952256796775577,2.695225679677558,2.4952256796775574,2.2952256796775576,2.095225679677557,1.8952256796775573,1.6952256796775576,1.4952256796775574,1.295225679677557,1.0952256796775575,0.8952256796775572,0.7476332479224607,0.665555704975895,0.6550056903398968,0.6631321499401708,0.7031321499401708,0.7431321499401707,0.788573315094235,0.8685733150942353,0.9511150026583041,1.109505043241083,1.3047743203224424,1.5047743203224426,1.7047743203224428,1.9047743203224428,2.1047743203224427,2.304774320322442,2.504774320322442,2.7047743203224424,2.904774320322443,3.1047743203224427,3.304774320322442,3.5047743203224435,3.704774320322442,3.904774320322442,4.104774320322443,4.3047743203224424,4.5047743203224435,4.704774320322442,4.904774320322444,5.104774320322443,5.3047743203224424],[4.591198332487023,4.391198332487023,4.191198332487022,3.9911983324870235,3.791198332487023,3.5911983324870227,3.391198332487023,3.191198332487022,2.991198332487022,2.791198332487023,2.5911983324870222,2.3911983324870225,2.191198332487022,1.9911983324870224,1.7911983324870224,1.5911983324870225,1.3911983324870223,1.1911983324870223,0.9911983324870224,0.8212085615162236,0.7307891189082344,0.691218989602267,0.6973740214589378,0.7373740214589379,0.7773740214589379,0.8173740214589376,0.86513853109973,0.9451385310997301,1.0472916448139205,1.208801667512978,1.4088016675129775,1.608801667512978,1.8088016675129779,2.008801667512978,2.208801667512978,2.4088016675129773,2.6088016675129775,2.808801667512978,3.008801667512978,3.208801667512978,3.4088016675129773,3.608801667512978,3.808801667512978,4.0088016675129765,4.208801667512978,4.408801667512977,4.608801667512978,4.808801667512978,5.008801667512979,5.208801667512978,5.408801667512977],[4.487170985296488,4.287170985296488,4.087170985296487,3.8871709852964877,3.6871709852964876,3.487170985296488,3.2871709852964868,3.087170985296487,2.8871709852964877,2.687170985296487,2.4871709852964874,2.287170985296487,2.087170985296487,1.8871709852964873,1.687170985296487,1.4871709852964874,1.2871709852964872,1.087170985296487,0.9030000149607671,0.7990114783329948,0.7300896247648725,0.7316158929777046,0.7716158929777047,0.8116158929777049,0.8516158929777049,0.8916158929777047,0.941703747105225,1.021703747105225,1.145078246386758,1.3128290147035133,1.5128290147035126,1.712829014703513,1.912829014703513,2.112829014703513,2.3128290147035133,2.5128290147035126,2.712829014703513,2.912829014703513,3.112829014703513,3.312829014703513,3.512829014703512,3.7128290147035137,3.912829014703513,4.112829014703513,4.312829014703514,4.512829014703512,4.712829014703514,4.912829014703513,5.112829014703514,5.312829014703514,5.512829014703512],[4.383143638105952,4.183143638105952,3.9831436381059517,3.7831436381059524,3.583143638105953,3.3831436381059516,3.1831436381059524,2.9831436381059517,2.783143638105952,2.5831436381059523,2.383143638105952,2.1831436381059524,1.9831436381059517,1.7831436381059522,1.5831436381059523,1.3831436381059525,1.1831436381059521,0.9882524254426883,0.8672338377577551,0.7872338377577554,0.7658577644964717,0.8058577644964717,0.845857764496472,0.8858577644964718,0.9258577644964718,0.9658577644964715,1.01826896311072,1.1057554649364723,1.2428648479595956,1.4168563618940482,1.6168563618940475,1.8168563618940479,2.0168563618940483,2.216856361894048,2.416856361894048,2.616856361894048,2.8168563618940476,3.0168563618940483,3.216856361894048,3.416856361894048,3.6168563618940484,3.816856361894049,4.016856361894048,4.216856361894047,4.416856361894048,4.616856361894048,4.8168563618940485,5.016856361894048,5.21685636189405,5.416856361894048,5.616856361894048],[4.279116290915418,4.079116290915417,3.879116290915418,3.679116290915419,3.4791162909154183,3.279116290915418,3.079116290915418,2.879116290915417,2.6791162909154176,2.479116290915418,2.2791162909154177,2.079116290915418,1.879116290915417,1.6791162909154178,1.4791162909154179,1.2791162909154177,1.0791162909154175,0.9354561971825156,0.8554561971825159,0.8000996360152385,0.8400996360152384,0.8800996360152384,0.9200996360152385,0.9600996360152385,1.0000996360152385,1.0400996360152384,1.0948341791162146,1.1973022856958615,1.3406514495324326,1.5208837090845828,1.7208837090845823,1.9208837090845823,2.1208837090845827,2.320883709084583,2.520883709084583,2.7208837090845823,2.920883709084582,3.1208837090845827,3.3208837090845824,3.5208837090845835,3.720883709084582,3.9208837090845834,4.120883709084582,4.3208837090845815,4.5208837090845835,4.720883709084582,4.920883709084583,5.120883709084582,5.320883709084583,5.520883709084583,5.720883709084582],[4.175088943724883,3.975088943724882,3.775088943724883,3.575088943724883,3.375088943724883,3.1750889437248833,2.975088943724883,2.7750889437248825,2.5750889437248827,2.375088943724883,2.175088943724883,1.9750889437248822,1.7750889437248822,1.5750889437248827,1.3750889437248826,1.1750889437248826,1.0069259871225313,0.9236785566072762,0.846890504448339,0.8743415075340053,0.9143415075340056,0.9543415075340054,0.9943415075340054,1.0343415075340054,1.0743415075340055,1.1143415075340053,1.1713993951217094,1.2888491064552512,1.4384380511052703,1.6249110562751177,1.824911056275117,2.024911056275117,2.2249110562751175,2.4249110562751173,2.6249110562751174,2.8249110562751167,3.024911056275117,3.224911056275117,3.424911056275117,3.624911056275118,3.824911056275117,4.024911056275118,4.224911056275117,4.424911056275116,4.624911056275118,4.824911056275118,5.024911056275118,5.2249110562751175,5.4249110562751195,5.624911056275119,5.824911056275118],[4.0710615965343475,3.871061596534348,3.671061596534348,3.471061596534348,3.2710615965343477,3.071061596534348,2.8710615965343473,2.6710615965343476,2.4710615965343474,2.271061596534348,2.071061596534348,1.8710615965343476,1.6710615965343476,1.4710615965343474,1.2710615965343472,1.08682544343545,0.9919009160320368,0.9119009160320365,0.9085833790527722,0.9485833790527725,0.9885833790527723,1.0285833790527723,1.0685833790527723,1.1085833790527724,1.1485833790527724,1.1885833790527722,1.2603959272146403,1.3803959272146404,1.536224652678108,1.7289384034656532,1.9289384034656525,2.1289384034656527,2.328938403465653,2.528938403465653,2.7289384034656528,2.928938403465652,3.1289384034656527,3.328938403465652,3.528938403465653,3.7289384034656528,3.928938403465652,4.1289384034656536,4.328938403465652,4.528938403465652,4.728938403465653,4.9289384034656525,5.1289384034656536,5.328938403465652,5.528938403465654,5.728938403465653,5.9289384034656525],[3.9670342493438127,3.767034249343812,3.5670342493438114,3.3670342493438126,3.167034249343813,2.967034249343812,2.7670342493438125,2.5670342493438123,2.3670342493438126,2.167034249343813,1.9670342493438124,1.7670342493438125,1.5670342493438123,1.3670342493438126,1.1692620673703733,1.0601232754567973,0.980123275456797,0.9457508896323672,0.9828252505715392,1.0228252505715392,1.0628252505715392,1.1028252505715392,1.1428252505715393,1.1828252505715393,1.2228252505715393,1.2628252505715394,1.3519427479740298,1.4740112542509454,1.6340112542509455,1.832965750656188,2.032965750656188,2.2329657506561875,2.4329657506561877,2.632965750656188,2.832965750656188,3.032965750656188,3.232965750656187,3.432965750656188,3.632965750656188,3.832965750656188,4.032965750656187,4.232965750656189,4.432965750656188,4.6329657506561865,4.832965750656188,5.032965750656187,5.232965750656189,5.432965750656188,5.632965750656188,5.832965750656188,6.032965750656187],[3.863006902153278,3.6630069021532767,3.463006902153277,3.2630069021532777,3.0630069021532775,2.8630069021532774,2.663006902153277,2.463006902153277,2.2630069021532777,2.063006902153278,1.8630069021532774,1.6630069021532776,1.4630069021532772,1.2630069021532773,1.1283456348815577,1.0483456348815579,1.000700672533005,1.0170671220903063,1.0570671220903063,1.0970671220903063,1.1370671220903061,1.1770671220903064,1.2170671220903062,1.2570671220903065,1.2970671220903065,1.339461647685531,1.4434895687334195,1.571797855823783,1.7369930978467232,1.9369930978467234,2.1369930978467226,2.336993097846723,2.536993097846723,2.736993097846723,2.9369930978467234,3.1369930978467226,3.3369930978467233,3.536993097846723,3.736993097846723,3.936993097846724,4.136993097846722,4.336993097846724,4.536993097846723,4.736993097846723,4.936993097846724,5.136993097846722,5.336993097846724,5.536993097846723,5.736993097846724,5.936993097846724,6.136993097846722],[3.7589795549627425,3.558979554962743,3.3589795549627426,3.158979554962743,2.958979554962743,2.758979554962743,2.5589795549627428,2.3589795549627426,2.158979554962743,1.9589795549627431,1.7589795549627432,1.5589795549627428,1.3589795549627428,1.206523812374206,1.116567994306318,1.0669516042141618,1.0513089936090732,1.091308993609073,1.131308993609073,1.171308993609073,1.2113089936090728,1.251308993609073,1.291308993609073,1.3313089936090732,1.3713089936090732,1.4286851239581921,1.5350363894928085,1.66958445739662,1.8410204450372576,2.0410204450372573,2.241020445037257,2.4410204450372577,2.6410204450372574,2.8410204450372576,3.0410204450372573,3.2410204450372575,3.4410204450372577,3.6410204450372574,3.8410204450372576,4.041020445037257,4.2410204450372575,4.441020445037259,4.641020445037258,4.841020445037256,5.041020445037257,5.2410204450372575,5.441020445037259,5.641020445037258,5.841020445037259,6.041020445037258,6.2410204450372575],[3.654952207772208,3.4549522077722075,3.2549522077722073,3.054952207772208,2.854952207772208,2.6549522077722076,2.4549522077722075,2.2549522077722077,2.054952207772208,1.8549522077722078,1.654952207772208,1.4549522077722077,1.2864232686871244,1.1847903537310787,1.1332025358953193,1.0966374860850236,1.1255508651278399,1.16555086512784,1.20555086512784,1.24555086512784,1.28555086512784,1.3255508651278398,1.3655508651278399,1.40555086512784,1.4455508651278401,1.517908600230854,1.626583210252198,1.767371058969458,1.9450477922277927,2.1450477922277935,2.345047792227793,2.5450477922277925,2.7450477922277927,2.9450477922277924,3.1450477922277935,3.345047792227793,3.5450477922277925,3.7450477922277927,3.9450477922277924,4.1450477922277935,4.345047792227792,4.545047792227793,4.745047792227792,4.945047792227792,5.1450477922277935,5.345047792227792,5.545047792227793,5.745047792227792,5.945047792227793,6.1450477922277935,6.345047792227792],[3.550924860581673,3.350924860581672,3.1509248605816724,2.950924860581673,2.750924860581673,2.550924860581673,2.3509248605816726,2.150924860581673,1.9509248605816727,1.750924860581673,1.5509248605816728,1.3669758762836577,1.2530127131558388,1.1994534675764763,1.1594534675764763,1.1597927366466068,1.1997927366466068,1.2397927366466068,1.279792736646607,1.319792736646607,1.359792736646607,1.399792736646607,1.439792736646607,1.479792736646607,1.5271320765035157,1.6071320765035153,1.7181300310115872,1.8651576605422953,2.0490751394183278,2.249075139418328,2.449075139418327,2.6490751394183274,2.8490751394183276,3.0490751394183278,3.249075139418328,3.449075139418327,3.649075139418328,3.849075139418327,4.049075139418328,4.249075139418327,4.449075139418327,4.649075139418327,4.849075139418327,5.049075139418326,5.249075139418327,5.449075139418327,5.649075139418327,5.849075139418327,6.049075139418329,6.249075139418327,6.449075139418326],[3.4468975133911384,3.2468975133911377,3.046897513391138,2.8468975133911387,2.6468975133911377,2.446897513391138,2.2468975133911377,2.046897513391138,1.8468975133911374,1.6468975133911379,1.4575955749241198,1.326222181312962,1.2657043992576333,1.2257043992576335,1.197228550386795,1.2340346081653741,1.274034608165374,1.3140346081653742,1.354034608165374,1.394034608165374,1.434034608165374,1.4740346081653737,1.514034608165374,1.5540346081653742,1.6163555527761773,1.6963555527761767,1.8096768517709765,1.9629442621151327,2.153102486608863,2.353102486608863,2.553102486608862,2.7531024866088623,2.953102486608862,3.153102486608863,3.353102486608863,3.553102486608862,3.7531024866088623,3.953102486608863,4.153102486608862,4.353102486608863,4.553102486608862,4.753102486608863,4.953102486608863,5.153102486608861,5.353102486608863,5.553102486608862,5.753102486608863,5.953102486608863,6.153102486608863,6.353102486608863,6.553102486608862],[3.3428701662006026,3.142870166200603,2.9428701662006023,2.7428701662006025,2.542870166200603,2.3428701662006026,2.142870166200603,1.9428701662006023,1.7428701662006023,1.5482152735645824,1.4061216376258805,1.3319553309387904,1.2919553309387903,1.2519553309387905,1.268276479684141,1.308276479684141,1.348276479684141,1.3882764796841411,1.428276479684141,1.468276479684141,1.508276479684141,1.548276479684141,1.588276479684141,1.628276479684141,1.7055790290488386,1.7855790290488383,1.9012236725303666,2.0607308636879704,2.257129833799398,2.457129833799398,2.6571298337993974,2.857129833799397,3.0571298337993977,3.257129833799398,3.457129833799398,3.6571298337993974,3.857129833799397,4.057129833799397,4.2571298337993975,4.457129833799398,4.657129833799397,4.857129833799399,5.057129833799397,5.2571298337993975,5.457129833799398,5.657129833799397,5.857129833799399,6.057129833799397,6.257129833799398,6.457129833799398,6.657129833799397],[3.238842819010068,3.0388428190100676,2.8388428190100674,2.6388428190100686,2.438842819010068,2.238842819010068,2.038842819010068,1.8388428190100676,1.6388428190100677,1.4860210939387994,1.3982062626199476,1.3582062626199474,1.3182062626199476,1.3025183512029075,1.3425183512029075,1.3825183512029078,1.4225183512029078,1.4625183512029079,1.5025183512029074,1.5425183512029075,1.5825183512029075,1.6225183512029075,1.6625183512029078,1.7148025053214997,1.7948025053214995,1.8748025053214996,1.9985174652608073,2.1611571809899326,2.3611571809899323,2.5611571809899325,2.761157180989932,2.9611571809899315,3.1611571809899326,3.3611571809899323,3.5611571809899325,3.761157180989932,3.9611571809899315,4.161157180989933,4.361157180989932,4.561157180989932,4.761157180989931,4.961157180989932,5.161157180989933,5.361157180989931,5.561157180989932,5.761157180989931,5.961157180989932,6.161157180989933,6.361157180989934,6.561157180989933,6.761157180989931],[3.1348154718195325,2.9348154718195323,2.7348154718195326,2.5348154718195333,2.3348154718195326,2.134815471819533,1.9348154718195325,1.734815471819532,1.569454670845507,1.4644755936979414,1.4244571943011046,1.3844571943011048,1.3481151468394512,1.376760222721675,1.416760222721675,1.456760222721675,1.496760222721675,1.536760222721675,1.576760222721675,1.616760222721675,1.656760222721675,1.6967602227216751,1.736760222721675,1.8040259815941617,1.8840259815941618,1.9643173140491452,2.0963040668336452,2.265184528180468,2.465184528180468,2.6651845281804682,2.8651845281804675,3.0651845281804677,3.2651845281804683,3.4651845281804676,3.6651845281804682,3.8651845281804675,4.065184528180468,4.265184528180468,4.465184528180467,4.665184528180469,4.8651845281804675,5.065184528180469,5.265184528180468,5.465184528180467,5.665184528180469,5.8651845281804675,6.065184528180469,6.265184528180468,6.46518452818047,6.665184528180468,6.865184528180467],[3.0307881246289985,2.830788124628998,2.630788124628998,2.4307881246289984,2.2307881246289982,2.0307881246289985,1.8307881246289976,1.6600743694859694,1.5424036222672568,1.4907081259822617,1.4507081259822616,1.4107081259822616,1.4110020942404415,1.4510020942404418,1.4910020942404416,1.5310020942404416,1.5710020942404417,1.6110020942404415,1.6510020942404418,1.6910020942404416,1.7310020942404414,1.7710020942404412,1.8132494578668226,1.8932494578668226,1.9732494578668227,2.0558641348085342,2.1940906684064823,2.3692118753710023,2.5692118753710025,2.769211875371003,2.9692118753710024,3.1692118753710017,3.3692118753710028,3.569211875371002,3.7692118753710027,3.969211875371002,4.169211875371002,4.369211875371002,4.569211875371003,4.769211875371002,4.969211875371002,5.169211875371002,5.369211875371002,5.569211875371001,5.769211875371002,5.969211875371002,6.169211875371002,6.369211875371002,6.569211875371003,6.769211875371002,6.969211875371002],[2.926760777438463,2.7267607774384635,2.526760777438463,2.3267607774384635,2.1267607774384634,1.9267607774384632,1.7506940681264325,1.620331650836572,1.5569590576634185,1.5169590576634187,1.476959057663419,1.4487062111412217,1.4852439657592083,1.5252439657592083,1.5652439657592083,1.6052439657592081,1.6452439657592084,1.6852439657592082,1.7252439657592085,1.7652439657592083,1.805243965759208,1.8452439657592083,1.9024729341394835,1.9824729341394836,2.062472934139484,2.1474109555679233,2.2918772699793197,2.473239222561537,2.673239222561537,2.8732392225615375,3.073239222561537,3.273239222561537,3.473239222561537,3.673239222561537,3.873239222561538,4.073239222561536,4.273239222561537,4.473239222561537,4.673239222561537,4.873239222561538,5.073239222561536,5.273239222561537,5.473239222561537,5.673239222561536,5.873239222561538,6.073239222561536,6.273239222561537,6.473239222561537,6.673239222561539,6.873239222561537,7.073239222561537],[2.822733430247928,2.6227334302479277,2.422733430247927,2.222733430247928,2.022733430247928,1.8413137667668944,1.6982596794058875,1.6232099893445764,1.5832099893445757,1.543209989344576,1.503209989344576,1.5194858372779758,1.5594858372779756,1.5994858372779757,1.639485837277976,1.6794858372779757,1.7194858372779755,1.7594858372779758,1.7994858372779756,1.8394858372779754,1.8794858372779752,1.9194858372779755,1.9916964104121457,2.0716964104121454,2.1516964104121454,2.238957776327313,2.389663871552158,2.5772665697520725,2.7772665697520726,2.9772665697520724,3.1772665697520717,3.3772665697520723,3.577266569752072,3.777266569752073,3.9772665697520724,4.1772665697520726,4.377266569752072,4.577266569752072,4.777266569752073,4.977266569752072,5.1772665697520726,5.377266569752073,5.577266569752072,5.777266569752071,5.977266569752072,6.1772665697520726,6.377266569752073,6.577266569752072,6.777266569752074,6.977266569752072,7.1772665697520726],[2.718706083057393,2.518706083057393,2.3187060830573922,2.118706083057393,1.9319334654073574,1.7826027978791674,1.6961877079752021,1.649460921025733,1.6094609210257331,1.5694609210257329,1.5537277087967425,1.593727708796742,1.6337277087967426,1.6737277087967424,1.7137277087967426,1.7537277087967424,1.7937277087967423,1.8337277087967425,1.8737277087967423,1.9137277087967424,1.9537277087967422,2.0009198866848066,2.0809198866848067,2.1609198866848067,2.2409198866848064,2.330504597086702,2.487450473124995,2.681293916942607,2.8812939169426075,3.081293916942607,3.2812939169426065,3.481293916942607,3.6812939169426064,3.8812939169426075,4.081293916942608,4.281293916942607,4.481293916942606,4.681293916942606,4.8812939169426075,5.081293916942608,5.281293916942607,5.481293916942607,5.681293916942606,5.881293916942606,6.081293916942608,6.281293916942607,6.481293916942609,6.681293916942607,6.881293916942608,7.081293916942609,7.281293916942607],[2.6146787358668577,2.4146787358668576,2.2146787358668574,2.02255316404782,1.8712510687760269,1.774115736544518,1.71571185270689,1.6757118527068902,1.6357118527068901,1.5995928075938786,1.6279695803155092,1.6679695803155095,1.7079695803155093,1.7479695803155095,1.7879695803155093,1.8279695803155096,1.8679695803155094,1.9079695803155097,1.9479695803155093,1.9879695803155095,2.0279695803155096,2.0901433629574684,2.1701433629574685,2.2501433629574685,2.330143362957469,2.4252370746978333,2.5853212641331424,2.7853212641331426,2.9853212641331424,3.185321264133143,3.3853212641331423,3.5853212641331424,3.7853212641331426,3.9853212641331424,4.185321264133142,4.385321264133141,4.585321264133142,4.785321264133143,4.985321264133143,5.185321264133143,5.385321264133142,5.585321264133144,5.785321264133143,5.985321264133143,6.185321264133142,6.385321264133141,6.5853212641331424,6.785321264133143,6.985321264133144,7.185321264133142,7.385321264133142],[2.510651388676323,2.3106513886763227,2.113172862688282,1.959899339672886,1.852043765113833,1.7819627843880472,1.7419627843880474,1.7019627843880472,1.6619627843880473,1.6622114518342763,1.7022114518342761,1.7422114518342764,1.7822114518342762,1.822211451834276,1.8622114518342763,1.9022114518342765,1.9422114518342763,1.9822114518342762,2.022211451834276,2.0622114518342767,2.1022114518342763,2.1793668392301297,2.2593668392301294,2.3393668392301294,2.41936683923013,2.5230236762706704,2.689348611323677,2.889348611323677,3.0893486113236777,3.2893486113236774,3.4893486113236767,3.6893486113236778,3.889348611323677,4.089348611323677,4.2893486113236765,4.489348611323676,4.689348611323678,4.889348611323678,5.089348611323677,5.289348611323677,5.489348611323676,5.689348611323678,5.889348611323678,6.089348611323676,6.2893486113236765,6.489348611323676,6.689348611323678,6.889348611323678,7.089348611323677,7.289348611323679,7.489348611323678],[2.406624041485787,2.2066240414857874,2.048547610569744,1.9299717936831484,1.8499717936831483,1.8082137160692047,1.7682137160692044,1.7282137160692046,1.7001838718956495,1.7364533233530437,1.7764533233530435,1.8164533233530435,1.8564533233530436,1.8964533233530436,1.9364533233530437,1.9764533233530437,2.0164533233530433,2.0564533233530438,2.0964533233530434,2.136453323353044,2.1885903155027915,2.2685903155027916,2.3485903155027916,2.4285903155027917,2.5085903155027918,2.6208102778435083,2.7933759585142126,2.993375958514213,3.193375958514213,3.3933759585142127,3.593375958514213,3.7933759585142126,3.993375958514213,4.1933759585142125,4.393375958514213,4.593375958514213,4.793375958514213,4.993375958514212,5.1933759585142125,5.393375958514213,5.593375958514213,5.793375958514213,5.993375958514213,6.1933759585142125,6.393375958514214,6.593375958514213,6.793375958514214,6.993375958514212,7.193375958514214,7.393375958514213,7.593375958514211],[2.3025966942952527,2.1371958814666034,2.0171958814666033,1.927899822252464,1.874464647750361,1.8344646477503612,1.7944646477503619,1.7544646477503616,1.7706951948718104,1.8106951948718102,1.85069519487181,1.8906951948718103,1.93069519487181,1.9706951948718099,2.0106951948718104,2.05069519487181,2.0906951948718104,2.13069519487181,2.17069519487181,2.21069519487181,2.2778137917754524,2.3578137917754525,2.4378137917754525,2.517813791775453,2.5978137917754527,2.718596879416345,2.897403305704747,3.097403305704747,3.297403305704748,3.497403305704748,3.6974033057047473,3.897403305704747,4.097403305704747,4.297403305704747,4.497403305704748,4.697403305704746,4.8974033057047475,5.097403305704747,5.297403305704747,5.497403305704748,5.697403305704746,5.8974033057047475,6.097403305704747,6.297403305704746,6.497403305704748,6.697403305704746,6.8974033057047475,7.097403305704748,7.29740330570475,7.497403305704748,7.697403305704748],[2.225844152363463,2.1058441523634626,2.005827850821779,1.9407155794315187,1.9007155794315183,1.8607155794315182,1.8207155794315184,1.8049370663905768,1.8449370663905769,1.884937066390577,1.924937066390577,1.964937066390577,2.004937066390577,2.0449370663905766,2.084937066390577,2.1249370663905767,2.164937066390577,2.2049370663905767,2.2449370663905768,2.2870372680481137,2.3670372680481138,2.4470372680481143,2.527037268048114,2.607037268048114,2.6870372680481136,2.816383480989182,3.0014306528952814,3.2014306528952816,3.4014306528952813,3.6014306528952824,3.8014306528952817,4.001430652895282,4.201430652895281,4.401430652895283,4.6014306528952815,4.801430652895282,5.001430652895281,5.201430652895281,5.401430652895281,5.6014306528952815,5.801430652895282,6.001430652895282,6.201430652895281,6.401430652895281,6.6014306528952815,6.801430652895282,7.001430652895283,7.201430652895281,7.401430652895283,7.6014306528952815,7.801430652895282]],\"type\":\"surface\",\"contours\":{\"z\":{\"project\":{\"z\":true},\"highlightcolor\":\"limegreen\",\"show\":true,\"usecolormap\":true}}}],                        {\"template\":{\"data\":{\"bar\":[{\"error_x\":{\"color\":\"#2a3f5f\"},\"error_y\":{\"color\":\"#2a3f5f\"},\"marker\":{\"line\":{\"color\":\"#E5ECF6\",\"width\":0.5},\"pattern\":{\"fillmode\":\"overlay\",\"size\":10,\"solidity\":0.2}},\"type\":\"bar\"}],\"barpolar\":[{\"marker\":{\"line\":{\"color\":\"#E5ECF6\",\"width\":0.5},\"pattern\":{\"fillmode\":\"overlay\",\"size\":10,\"solidity\":0.2}},\"type\":\"barpolar\"}],\"carpet\":[{\"aaxis\":{\"endlinecolor\":\"#2a3f5f\",\"gridcolor\":\"white\",\"linecolor\":\"white\",\"minorgridcolor\":\"white\",\"startlinecolor\":\"#2a3f5f\"},\"baxis\":{\"endlinecolor\":\"#2a3f5f\",\"gridcolor\":\"white\",\"linecolor\":\"white\",\"minorgridcolor\":\"white\",\"startlinecolor\":\"#2a3f5f\"},\"type\":\"carpet\"}],\"choropleth\":[{\"colorbar\":{\"outlinewidth\":0,\"ticks\":\"\"},\"type\":\"choropleth\"}],\"contour\":[{\"colorbar\":{\"outlinewidth\":0,\"ticks\":\"\"},\"colorscale\":[[0.0,\"#0d0887\"],[0.1111111111111111,\"#46039f\"],[0.2222222222222222,\"#7201a8\"],[0.3333333333333333,\"#9c179e\"],[0.4444444444444444,\"#bd3786\"],[0.5555555555555556,\"#d8576b\"],[0.6666666666666666,\"#ed7953\"],[0.7777777777777778,\"#fb9f3a\"],[0.8888888888888888,\"#fdca26\"],[1.0,\"#f0f921\"]],\"type\":\"contour\"}],\"contourcarpet\":[{\"colorbar\":{\"outlinewidth\":0,\"ticks\":\"\"},\"type\":\"contourcarpet\"}],\"heatmap\":[{\"colorbar\":{\"outlinewidth\":0,\"ticks\":\"\"},\"colorscale\":[[0.0,\"#0d0887\"],[0.1111111111111111,\"#46039f\"],[0.2222222222222222,\"#7201a8\"],[0.3333333333333333,\"#9c179e\"],[0.4444444444444444,\"#bd3786\"],[0.5555555555555556,\"#d8576b\"],[0.6666666666666666,\"#ed7953\"],[0.7777777777777778,\"#fb9f3a\"],[0.8888888888888888,\"#fdca26\"],[1.0,\"#f0f921\"]],\"type\":\"heatmap\"}],\"heatmapgl\":[{\"colorbar\":{\"outlinewidth\":0,\"ticks\":\"\"},\"colorscale\":[[0.0,\"#0d0887\"],[0.1111111111111111,\"#46039f\"],[0.2222222222222222,\"#7201a8\"],[0.3333333333333333,\"#9c179e\"],[0.4444444444444444,\"#bd3786\"],[0.5555555555555556,\"#d8576b\"],[0.6666666666666666,\"#ed7953\"],[0.7777777777777778,\"#fb9f3a\"],[0.8888888888888888,\"#fdca26\"],[1.0,\"#f0f921\"]],\"type\":\"heatmapgl\"}],\"histogram\":[{\"marker\":{\"pattern\":{\"fillmode\":\"overlay\",\"size\":10,\"solidity\":0.2}},\"type\":\"histogram\"}],\"histogram2d\":[{\"colorbar\":{\"outlinewidth\":0,\"ticks\":\"\"},\"colorscale\":[[0.0,\"#0d0887\"],[0.1111111111111111,\"#46039f\"],[0.2222222222222222,\"#7201a8\"],[0.3333333333333333,\"#9c179e\"],[0.4444444444444444,\"#bd3786\"],[0.5555555555555556,\"#d8576b\"],[0.6666666666666666,\"#ed7953\"],[0.7777777777777778,\"#fb9f3a\"],[0.8888888888888888,\"#fdca26\"],[1.0,\"#f0f921\"]],\"type\":\"histogram2d\"}],\"histogram2dcontour\":[{\"colorbar\":{\"outlinewidth\":0,\"ticks\":\"\"},\"colorscale\":[[0.0,\"#0d0887\"],[0.1111111111111111,\"#46039f\"],[0.2222222222222222,\"#7201a8\"],[0.3333333333333333,\"#9c179e\"],[0.4444444444444444,\"#bd3786\"],[0.5555555555555556,\"#d8576b\"],[0.6666666666666666,\"#ed7953\"],[0.7777777777777778,\"#fb9f3a\"],[0.8888888888888888,\"#fdca26\"],[1.0,\"#f0f921\"]],\"type\":\"histogram2dcontour\"}],\"mesh3d\":[{\"colorbar\":{\"outlinewidth\":0,\"ticks\":\"\"},\"type\":\"mesh3d\"}],\"parcoords\":[{\"line\":{\"colorbar\":{\"outlinewidth\":0,\"ticks\":\"\"}},\"type\":\"parcoords\"}],\"pie\":[{\"automargin\":true,\"type\":\"pie\"}],\"scatter\":[{\"marker\":{\"colorbar\":{\"outlinewidth\":0,\"ticks\":\"\"}},\"type\":\"scatter\"}],\"scatter3d\":[{\"line\":{\"colorbar\":{\"outlinewidth\":0,\"ticks\":\"\"}},\"marker\":{\"colorbar\":{\"outlinewidth\":0,\"ticks\":\"\"}},\"type\":\"scatter3d\"}],\"scattercarpet\":[{\"marker\":{\"colorbar\":{\"outlinewidth\":0,\"ticks\":\"\"}},\"type\":\"scattercarpet\"}],\"scattergeo\":[{\"marker\":{\"colorbar\":{\"outlinewidth\":0,\"ticks\":\"\"}},\"type\":\"scattergeo\"}],\"scattergl\":[{\"marker\":{\"colorbar\":{\"outlinewidth\":0,\"ticks\":\"\"}},\"type\":\"scattergl\"}],\"scattermapbox\":[{\"marker\":{\"colorbar\":{\"outlinewidth\":0,\"ticks\":\"\"}},\"type\":\"scattermapbox\"}],\"scatterpolar\":[{\"marker\":{\"colorbar\":{\"outlinewidth\":0,\"ticks\":\"\"}},\"type\":\"scatterpolar\"}],\"scatterpolargl\":[{\"marker\":{\"colorbar\":{\"outlinewidth\":0,\"ticks\":\"\"}},\"type\":\"scatterpolargl\"}],\"scatterternary\":[{\"marker\":{\"colorbar\":{\"outlinewidth\":0,\"ticks\":\"\"}},\"type\":\"scatterternary\"}],\"surface\":[{\"colorbar\":{\"outlinewidth\":0,\"ticks\":\"\"},\"colorscale\":[[0.0,\"#0d0887\"],[0.1111111111111111,\"#46039f\"],[0.2222222222222222,\"#7201a8\"],[0.3333333333333333,\"#9c179e\"],[0.4444444444444444,\"#bd3786\"],[0.5555555555555556,\"#d8576b\"],[0.6666666666666666,\"#ed7953\"],[0.7777777777777778,\"#fb9f3a\"],[0.8888888888888888,\"#fdca26\"],[1.0,\"#f0f921\"]],\"type\":\"surface\"}],\"table\":[{\"cells\":{\"fill\":{\"color\":\"#EBF0F8\"},\"line\":{\"color\":\"white\"}},\"header\":{\"fill\":{\"color\":\"#C8D4E3\"},\"line\":{\"color\":\"white\"}},\"type\":\"table\"}]},\"layout\":{\"annotationdefaults\":{\"arrowcolor\":\"#2a3f5f\",\"arrowhead\":0,\"arrowwidth\":1},\"autotypenumbers\":\"strict\",\"coloraxis\":{\"colorbar\":{\"outlinewidth\":0,\"ticks\":\"\"}},\"colorscale\":{\"diverging\":[[0,\"#8e0152\"],[0.1,\"#c51b7d\"],[0.2,\"#de77ae\"],[0.3,\"#f1b6da\"],[0.4,\"#fde0ef\"],[0.5,\"#f7f7f7\"],[0.6,\"#e6f5d0\"],[0.7,\"#b8e186\"],[0.8,\"#7fbc41\"],[0.9,\"#4d9221\"],[1,\"#276419\"]],\"sequential\":[[0.0,\"#0d0887\"],[0.1111111111111111,\"#46039f\"],[0.2222222222222222,\"#7201a8\"],[0.3333333333333333,\"#9c179e\"],[0.4444444444444444,\"#bd3786\"],[0.5555555555555556,\"#d8576b\"],[0.6666666666666666,\"#ed7953\"],[0.7777777777777778,\"#fb9f3a\"],[0.8888888888888888,\"#fdca26\"],[1.0,\"#f0f921\"]],\"sequentialminus\":[[0.0,\"#0d0887\"],[0.1111111111111111,\"#46039f\"],[0.2222222222222222,\"#7201a8\"],[0.3333333333333333,\"#9c179e\"],[0.4444444444444444,\"#bd3786\"],[0.5555555555555556,\"#d8576b\"],[0.6666666666666666,\"#ed7953\"],[0.7777777777777778,\"#fb9f3a\"],[0.8888888888888888,\"#fdca26\"],[1.0,\"#f0f921\"]]},\"colorway\":[\"#636efa\",\"#EF553B\",\"#00cc96\",\"#ab63fa\",\"#FFA15A\",\"#19d3f3\",\"#FF6692\",\"#B6E880\",\"#FF97FF\",\"#FECB52\"],\"font\":{\"color\":\"#2a3f5f\"},\"geo\":{\"bgcolor\":\"white\",\"lakecolor\":\"white\",\"landcolor\":\"#E5ECF6\",\"showlakes\":true,\"showland\":true,\"subunitcolor\":\"white\"},\"hoverlabel\":{\"align\":\"left\"},\"hovermode\":\"closest\",\"mapbox\":{\"style\":\"light\"},\"paper_bgcolor\":\"white\",\"plot_bgcolor\":\"#E5ECF6\",\"polar\":{\"angularaxis\":{\"gridcolor\":\"white\",\"linecolor\":\"white\",\"ticks\":\"\"},\"bgcolor\":\"#E5ECF6\",\"radialaxis\":{\"gridcolor\":\"white\",\"linecolor\":\"white\",\"ticks\":\"\"}},\"scene\":{\"xaxis\":{\"backgroundcolor\":\"#E5ECF6\",\"gridcolor\":\"white\",\"gridwidth\":2,\"linecolor\":\"white\",\"showbackground\":true,\"ticks\":\"\",\"zerolinecolor\":\"white\"},\"yaxis\":{\"backgroundcolor\":\"#E5ECF6\",\"gridcolor\":\"white\",\"gridwidth\":2,\"linecolor\":\"white\",\"showbackground\":true,\"ticks\":\"\",\"zerolinecolor\":\"white\"},\"zaxis\":{\"backgroundcolor\":\"#E5ECF6\",\"gridcolor\":\"white\",\"gridwidth\":2,\"linecolor\":\"white\",\"showbackground\":true,\"ticks\":\"\",\"zerolinecolor\":\"white\"}},\"shapedefaults\":{\"line\":{\"color\":\"#2a3f5f\"}},\"ternary\":{\"aaxis\":{\"gridcolor\":\"white\",\"linecolor\":\"white\",\"ticks\":\"\"},\"baxis\":{\"gridcolor\":\"white\",\"linecolor\":\"white\",\"ticks\":\"\"},\"bgcolor\":\"#E5ECF6\",\"caxis\":{\"gridcolor\":\"white\",\"linecolor\":\"white\",\"ticks\":\"\"}},\"title\":{\"x\":0.05},\"xaxis\":{\"automargin\":true,\"gridcolor\":\"white\",\"linecolor\":\"white\",\"ticks\":\"\",\"title\":{\"standoff\":15},\"zerolinecolor\":\"white\",\"zerolinewidth\":2},\"yaxis\":{\"automargin\":true,\"gridcolor\":\"white\",\"linecolor\":\"white\",\"ticks\":\"\",\"title\":{\"standoff\":15},\"zerolinecolor\":\"white\",\"zerolinewidth\":2}}},\"title\":{\"text\":\"L1 landscape\"},\"scene\":{\"xaxis\":{\"title\":{\"text\":\"a\"}},\"yaxis\":{\"title\":{\"text\":\"b\"}},\"zaxis\":{\"title\":{\"text\":\"loss\"}}}},                        {\"responsive\": true}                    ).then(function(){\n",
              "                            \n",
              "var gd = document.getElementById('5be3af3d-57b4-41d2-af39-739ef1db4ea9');\n",
              "var x = new MutationObserver(function (mutations, observer) {{\n",
              "        var display = window.getComputedStyle(gd).display;\n",
              "        if (!display || display === 'none') {{\n",
              "            console.log([gd, 'removed!']);\n",
              "            Plotly.purge(gd);\n",
              "            observer.disconnect();\n",
              "        }}\n",
              "}});\n",
              "\n",
              "// Listen for the removal of the full notebook cells\n",
              "var notebookContainer = gd.closest('#notebook-container');\n",
              "if (notebookContainer) {{\n",
              "    x.observe(notebookContainer, {childList: true});\n",
              "}}\n",
              "\n",
              "// Listen for the clearing of the current output cell\n",
              "var outputEl = gd.closest('.output');\n",
              "if (outputEl) {{\n",
              "    x.observe(outputEl, {childList: true});\n",
              "}}\n",
              "\n",
              "                        })                };                            </script>        </div>\n",
              "</body>\n",
              "</html>"
            ]
          },
          "metadata": {}
        }
      ]
    },
    {
      "cell_type": "markdown",
      "metadata": {
        "id": "FXq55ce581os"
      },
      "source": [
        "### \"Tear down this loss[!](https://youtu.be/IguMXrgfrg8)\"\n",
        "\n",
        "Now we will explicitily compute the parameters $\\theta$ for several polynomial fits, defined in matrix notation as: \n",
        "\n",
        "(here $\\mathbf{y} \\equiv \\mathbf{t}$)\n",
        "\n",
        "\n",
        "![polyfit matrix notation](https://drive.google.com/uc?export=view&id=1e4AsSC00ivIXW4c35VNLladTcCTY4dpL)\n",
        "\n",
        "As seen in lecture, we can analytically find the parameters $\\theta$ that minimize the MSE loss:\n",
        "\n",
        "$$\\theta = (X^TX)^{-1}X^T\\mathbf{y}$$\n",
        "\n",
        "Let's do it for a 3-degree polynomial fit using pytorch\n",
        "\n",
        "\n",
        "\n"
      ]
    },
    {
      "cell_type": "code",
      "metadata": {
        "id": "g1Oq4K-CbWqa"
      },
      "source": [
        "# Poly3 fit\n",
        "y = torch.from_numpy(t)\n",
        "x_tens = torch.from_numpy(x)\n",
        "X = torch.ones((y.shape[0], 4), dtype=torch.float64)  # double precision is needed for this calculation, especially with high degree polyfits\n",
        "\n",
        "X[:,0] = x_tens ** 3\n",
        "X[:,1] = x_tens ** 2\n",
        "X[:,2] = x_tens"
      ],
      "execution_count": 13,
      "outputs": []
    },
    {
      "cell_type": "markdown",
      "metadata": {
        "id": "Tv9COWdXnovB"
      },
      "source": [
        ">**EXERCISE**: complete the code"
      ]
    },
    {
      "cell_type": "code",
      "metadata": {
        "id": "4v9Puu-9qosN"
      },
      "source": [
        "# ✏️ your code here (look at the formula above!)\n",
        "theta = None"
      ],
      "execution_count": 14,
      "outputs": []
    },
    {
      "cell_type": "code",
      "metadata": {
        "id": "4di4c5yUqkdE"
      },
      "source": [
        "#@title Solution (double click here to peek 👀)\n",
        "\n",
        "temp_inverse = torch.inverse(torch.einsum('ij,jk->ik', X.t(), X))  # or torch.einsum('ji,jk->ik', X, X)\n",
        "theta = torch.einsum('ij,jk,k->i', temp_inverse, X.t(), y)"
      ],
      "execution_count": 15,
      "outputs": []
    },
    {
      "cell_type": "code",
      "metadata": {
        "id": "tOJse7C9bojf",
        "colab": {
          "base_uri": "https://localhost:8080/",
          "height": 542
        },
        "outputId": "2ddc2d12-0e64-489c-f379-1afeb76012d2"
      },
      "source": [
        "#@title 3-degree polynomial fit\n",
        "\n",
        "a, b, c, d = theta.numpy()\n",
        "fig = go.Figure()\n",
        "fig.add_trace(go.Scatter(x=x, y=t, name='dataset', mode='markers', marker=dict(color=\"mediumpurple\")))\n",
        "fig.add_trace(go.Scatter(x=x_funcs, y=np.sin(2*np.pi*x_funcs), name='ground truth', mode='lines', line=dict(color=\"lightgreen\")))\n",
        "fig.add_trace(go.Scatter(x=x_funcs, y=a*x_funcs**3 + b*x_funcs**2 + c*x_funcs + d, name='poly3 fit', mode='lines', line=dict(color=\"lightsalmon\")))\n",
        "fig.update_xaxes(title_text=\"x\", range = [0,1])\n",
        "fig.update_yaxes(title_text=\"t\", range = [-1.5,1.5])\n",
        "fig.show()"
      ],
      "execution_count": 16,
      "outputs": [
        {
          "output_type": "display_data",
          "data": {
            "text/html": [
              "<html>\n",
              "<head><meta charset=\"utf-8\" /></head>\n",
              "<body>\n",
              "    <div>            <script src=\"https://cdnjs.cloudflare.com/ajax/libs/mathjax/2.7.5/MathJax.js?config=TeX-AMS-MML_SVG\"></script><script type=\"text/javascript\">if (window.MathJax) {MathJax.Hub.Config({SVG: {font: \"STIX-Web\"}});}</script>                <script type=\"text/javascript\">window.PlotlyConfig = {MathJaxConfig: 'local'};</script>\n",
              "        <script src=\"https://cdn.plot.ly/plotly-2.8.3.min.js\"></script>                <div id=\"a6157a70-9529-4fc4-aeba-58b5cb5b112f\" class=\"plotly-graph-div\" style=\"height:525px; width:100%;\"></div>            <script type=\"text/javascript\">                                    window.PLOTLYENV=window.PLOTLYENV || {};                                    if (document.getElementById(\"a6157a70-9529-4fc4-aeba-58b5cb5b112f\")) {                    Plotly.newPlot(                        \"a6157a70-9529-4fc4-aeba-58b5cb5b112f\",                        [{\"marker\":{\"color\":\"mediumpurple\"},\"mode\":\"markers\",\"name\":\"dataset\",\"x\":[0.3745401188473625,0.9507143064099162,0.7319939418114051,0.5986584841970366,0.15601864044243652,0.15599452033620265,0.05808361216819946,0.8661761457749352,0.6011150117432088,0.7080725777960455],\"y\":[0.6621995859491285,-0.2504894367193866,-1.0399487832345553,-0.6275182299806012,0.854857342681687,0.6392487011533475,0.18441089666331875,-0.8014323286500792,-0.6947217251134631,-0.9340757540684701],\"type\":\"scatter\"},{\"line\":{\"color\":\"lightgreen\"},\"mode\":\"lines\",\"name\":\"ground truth\",\"x\":[0.0,0.0392156862745098,0.0784313725490196,0.11764705882352941,0.1568627450980392,0.19607843137254902,0.23529411764705882,0.27450980392156865,0.3137254901960784,0.3529411764705882,0.39215686274509803,0.43137254901960786,0.47058823529411764,0.5098039215686274,0.5490196078431373,0.5882352941176471,0.6274509803921569,0.6666666666666666,0.7058823529411764,0.7450980392156863,0.7843137254901961,0.8235294117647058,0.8627450980392157,0.9019607843137255,0.9411764705882353,0.9803921568627451,1.0196078431372548,1.0588235294117647,1.0980392156862746],\"y\":[0.0,0.24391372010837714,0.47309355683601007,0.6736956436465572,0.8336023852211194,0.9431544344712774,0.9957341762950345,0.9881654720812594,0.9209055179449537,0.7980172272802396,0.6269238058941065,0.41796034488678324,0.18374951781657037,-0.061560906133942536,-0.3031526741130438,-0.5264321628773558,-0.7179119230644417,-0.8660254037844384,-0.961825643172819,-0.9995257197133659,-0.9768483177596007,-0.8951632913550626,-0.7594049166547069,-0.5777738314082513,-0.36124166618715303,-0.12288829066471489,0.12288829066471353,0.3612416661871526,0.5777738314082517],\"type\":\"scatter\"},{\"line\":{\"color\":\"lightsalmon\"},\"mode\":\"lines\",\"name\":\"poly3 fit\",\"x\":[0.0,0.0392156862745098,0.0784313725490196,0.11764705882352941,0.1568627450980392,0.19607843137254902,0.23529411764705882,0.27450980392156865,0.3137254901960784,0.3529411764705882,0.39215686274509803,0.43137254901960786,0.47058823529411764,0.5098039215686274,0.5490196078431373,0.5882352941176471,0.6274509803921569,0.6666666666666666,0.7058823529411764,0.7450980392156863,0.7843137254901961,0.8235294117647058,0.8627450980392157,0.9019607843137255,0.9411764705882353,0.9803921568627451,1.0196078431372548,1.0588235294117647,1.0980392156862746],\"y\":[-0.5120931109716338,-0.03449154327017967,0.33456591105147204,0.6043139768506225,0.7839873789845724,0.882820842310623,0.9100490916860751,0.8749068519682295,0.7866288480143875,0.654449804681851,0.4876044468279188,0.29532749930989244,0.08685368698507467,-0.12858226528923566,-0.3417456326557371,-0.5434016902571237,-0.7243157132361056,-0.8752529767353714,-0.9869787558976224,-1.0502583258655633,-1.0558569617818865,-0.9945399387892948,-0.8570725320304842,-0.6342200166481557,-0.31674766778501073,0.10457923941625857,0.6389954298129439,1.2957356282623511,2.0840345596217844],\"type\":\"scatter\"}],                        {\"template\":{\"data\":{\"bar\":[{\"error_x\":{\"color\":\"#2a3f5f\"},\"error_y\":{\"color\":\"#2a3f5f\"},\"marker\":{\"line\":{\"color\":\"#E5ECF6\",\"width\":0.5},\"pattern\":{\"fillmode\":\"overlay\",\"size\":10,\"solidity\":0.2}},\"type\":\"bar\"}],\"barpolar\":[{\"marker\":{\"line\":{\"color\":\"#E5ECF6\",\"width\":0.5},\"pattern\":{\"fillmode\":\"overlay\",\"size\":10,\"solidity\":0.2}},\"type\":\"barpolar\"}],\"carpet\":[{\"aaxis\":{\"endlinecolor\":\"#2a3f5f\",\"gridcolor\":\"white\",\"linecolor\":\"white\",\"minorgridcolor\":\"white\",\"startlinecolor\":\"#2a3f5f\"},\"baxis\":{\"endlinecolor\":\"#2a3f5f\",\"gridcolor\":\"white\",\"linecolor\":\"white\",\"minorgridcolor\":\"white\",\"startlinecolor\":\"#2a3f5f\"},\"type\":\"carpet\"}],\"choropleth\":[{\"colorbar\":{\"outlinewidth\":0,\"ticks\":\"\"},\"type\":\"choropleth\"}],\"contour\":[{\"colorbar\":{\"outlinewidth\":0,\"ticks\":\"\"},\"colorscale\":[[0.0,\"#0d0887\"],[0.1111111111111111,\"#46039f\"],[0.2222222222222222,\"#7201a8\"],[0.3333333333333333,\"#9c179e\"],[0.4444444444444444,\"#bd3786\"],[0.5555555555555556,\"#d8576b\"],[0.6666666666666666,\"#ed7953\"],[0.7777777777777778,\"#fb9f3a\"],[0.8888888888888888,\"#fdca26\"],[1.0,\"#f0f921\"]],\"type\":\"contour\"}],\"contourcarpet\":[{\"colorbar\":{\"outlinewidth\":0,\"ticks\":\"\"},\"type\":\"contourcarpet\"}],\"heatmap\":[{\"colorbar\":{\"outlinewidth\":0,\"ticks\":\"\"},\"colorscale\":[[0.0,\"#0d0887\"],[0.1111111111111111,\"#46039f\"],[0.2222222222222222,\"#7201a8\"],[0.3333333333333333,\"#9c179e\"],[0.4444444444444444,\"#bd3786\"],[0.5555555555555556,\"#d8576b\"],[0.6666666666666666,\"#ed7953\"],[0.7777777777777778,\"#fb9f3a\"],[0.8888888888888888,\"#fdca26\"],[1.0,\"#f0f921\"]],\"type\":\"heatmap\"}],\"heatmapgl\":[{\"colorbar\":{\"outlinewidth\":0,\"ticks\":\"\"},\"colorscale\":[[0.0,\"#0d0887\"],[0.1111111111111111,\"#46039f\"],[0.2222222222222222,\"#7201a8\"],[0.3333333333333333,\"#9c179e\"],[0.4444444444444444,\"#bd3786\"],[0.5555555555555556,\"#d8576b\"],[0.6666666666666666,\"#ed7953\"],[0.7777777777777778,\"#fb9f3a\"],[0.8888888888888888,\"#fdca26\"],[1.0,\"#f0f921\"]],\"type\":\"heatmapgl\"}],\"histogram\":[{\"marker\":{\"pattern\":{\"fillmode\":\"overlay\",\"size\":10,\"solidity\":0.2}},\"type\":\"histogram\"}],\"histogram2d\":[{\"colorbar\":{\"outlinewidth\":0,\"ticks\":\"\"},\"colorscale\":[[0.0,\"#0d0887\"],[0.1111111111111111,\"#46039f\"],[0.2222222222222222,\"#7201a8\"],[0.3333333333333333,\"#9c179e\"],[0.4444444444444444,\"#bd3786\"],[0.5555555555555556,\"#d8576b\"],[0.6666666666666666,\"#ed7953\"],[0.7777777777777778,\"#fb9f3a\"],[0.8888888888888888,\"#fdca26\"],[1.0,\"#f0f921\"]],\"type\":\"histogram2d\"}],\"histogram2dcontour\":[{\"colorbar\":{\"outlinewidth\":0,\"ticks\":\"\"},\"colorscale\":[[0.0,\"#0d0887\"],[0.1111111111111111,\"#46039f\"],[0.2222222222222222,\"#7201a8\"],[0.3333333333333333,\"#9c179e\"],[0.4444444444444444,\"#bd3786\"],[0.5555555555555556,\"#d8576b\"],[0.6666666666666666,\"#ed7953\"],[0.7777777777777778,\"#fb9f3a\"],[0.8888888888888888,\"#fdca26\"],[1.0,\"#f0f921\"]],\"type\":\"histogram2dcontour\"}],\"mesh3d\":[{\"colorbar\":{\"outlinewidth\":0,\"ticks\":\"\"},\"type\":\"mesh3d\"}],\"parcoords\":[{\"line\":{\"colorbar\":{\"outlinewidth\":0,\"ticks\":\"\"}},\"type\":\"parcoords\"}],\"pie\":[{\"automargin\":true,\"type\":\"pie\"}],\"scatter\":[{\"marker\":{\"colorbar\":{\"outlinewidth\":0,\"ticks\":\"\"}},\"type\":\"scatter\"}],\"scatter3d\":[{\"line\":{\"colorbar\":{\"outlinewidth\":0,\"ticks\":\"\"}},\"marker\":{\"colorbar\":{\"outlinewidth\":0,\"ticks\":\"\"}},\"type\":\"scatter3d\"}],\"scattercarpet\":[{\"marker\":{\"colorbar\":{\"outlinewidth\":0,\"ticks\":\"\"}},\"type\":\"scattercarpet\"}],\"scattergeo\":[{\"marker\":{\"colorbar\":{\"outlinewidth\":0,\"ticks\":\"\"}},\"type\":\"scattergeo\"}],\"scattergl\":[{\"marker\":{\"colorbar\":{\"outlinewidth\":0,\"ticks\":\"\"}},\"type\":\"scattergl\"}],\"scattermapbox\":[{\"marker\":{\"colorbar\":{\"outlinewidth\":0,\"ticks\":\"\"}},\"type\":\"scattermapbox\"}],\"scatterpolar\":[{\"marker\":{\"colorbar\":{\"outlinewidth\":0,\"ticks\":\"\"}},\"type\":\"scatterpolar\"}],\"scatterpolargl\":[{\"marker\":{\"colorbar\":{\"outlinewidth\":0,\"ticks\":\"\"}},\"type\":\"scatterpolargl\"}],\"scatterternary\":[{\"marker\":{\"colorbar\":{\"outlinewidth\":0,\"ticks\":\"\"}},\"type\":\"scatterternary\"}],\"surface\":[{\"colorbar\":{\"outlinewidth\":0,\"ticks\":\"\"},\"colorscale\":[[0.0,\"#0d0887\"],[0.1111111111111111,\"#46039f\"],[0.2222222222222222,\"#7201a8\"],[0.3333333333333333,\"#9c179e\"],[0.4444444444444444,\"#bd3786\"],[0.5555555555555556,\"#d8576b\"],[0.6666666666666666,\"#ed7953\"],[0.7777777777777778,\"#fb9f3a\"],[0.8888888888888888,\"#fdca26\"],[1.0,\"#f0f921\"]],\"type\":\"surface\"}],\"table\":[{\"cells\":{\"fill\":{\"color\":\"#EBF0F8\"},\"line\":{\"color\":\"white\"}},\"header\":{\"fill\":{\"color\":\"#C8D4E3\"},\"line\":{\"color\":\"white\"}},\"type\":\"table\"}]},\"layout\":{\"annotationdefaults\":{\"arrowcolor\":\"#2a3f5f\",\"arrowhead\":0,\"arrowwidth\":1},\"autotypenumbers\":\"strict\",\"coloraxis\":{\"colorbar\":{\"outlinewidth\":0,\"ticks\":\"\"}},\"colorscale\":{\"diverging\":[[0,\"#8e0152\"],[0.1,\"#c51b7d\"],[0.2,\"#de77ae\"],[0.3,\"#f1b6da\"],[0.4,\"#fde0ef\"],[0.5,\"#f7f7f7\"],[0.6,\"#e6f5d0\"],[0.7,\"#b8e186\"],[0.8,\"#7fbc41\"],[0.9,\"#4d9221\"],[1,\"#276419\"]],\"sequential\":[[0.0,\"#0d0887\"],[0.1111111111111111,\"#46039f\"],[0.2222222222222222,\"#7201a8\"],[0.3333333333333333,\"#9c179e\"],[0.4444444444444444,\"#bd3786\"],[0.5555555555555556,\"#d8576b\"],[0.6666666666666666,\"#ed7953\"],[0.7777777777777778,\"#fb9f3a\"],[0.8888888888888888,\"#fdca26\"],[1.0,\"#f0f921\"]],\"sequentialminus\":[[0.0,\"#0d0887\"],[0.1111111111111111,\"#46039f\"],[0.2222222222222222,\"#7201a8\"],[0.3333333333333333,\"#9c179e\"],[0.4444444444444444,\"#bd3786\"],[0.5555555555555556,\"#d8576b\"],[0.6666666666666666,\"#ed7953\"],[0.7777777777777778,\"#fb9f3a\"],[0.8888888888888888,\"#fdca26\"],[1.0,\"#f0f921\"]]},\"colorway\":[\"#636efa\",\"#EF553B\",\"#00cc96\",\"#ab63fa\",\"#FFA15A\",\"#19d3f3\",\"#FF6692\",\"#B6E880\",\"#FF97FF\",\"#FECB52\"],\"font\":{\"color\":\"#2a3f5f\"},\"geo\":{\"bgcolor\":\"white\",\"lakecolor\":\"white\",\"landcolor\":\"#E5ECF6\",\"showlakes\":true,\"showland\":true,\"subunitcolor\":\"white\"},\"hoverlabel\":{\"align\":\"left\"},\"hovermode\":\"closest\",\"mapbox\":{\"style\":\"light\"},\"paper_bgcolor\":\"white\",\"plot_bgcolor\":\"#E5ECF6\",\"polar\":{\"angularaxis\":{\"gridcolor\":\"white\",\"linecolor\":\"white\",\"ticks\":\"\"},\"bgcolor\":\"#E5ECF6\",\"radialaxis\":{\"gridcolor\":\"white\",\"linecolor\":\"white\",\"ticks\":\"\"}},\"scene\":{\"xaxis\":{\"backgroundcolor\":\"#E5ECF6\",\"gridcolor\":\"white\",\"gridwidth\":2,\"linecolor\":\"white\",\"showbackground\":true,\"ticks\":\"\",\"zerolinecolor\":\"white\"},\"yaxis\":{\"backgroundcolor\":\"#E5ECF6\",\"gridcolor\":\"white\",\"gridwidth\":2,\"linecolor\":\"white\",\"showbackground\":true,\"ticks\":\"\",\"zerolinecolor\":\"white\"},\"zaxis\":{\"backgroundcolor\":\"#E5ECF6\",\"gridcolor\":\"white\",\"gridwidth\":2,\"linecolor\":\"white\",\"showbackground\":true,\"ticks\":\"\",\"zerolinecolor\":\"white\"}},\"shapedefaults\":{\"line\":{\"color\":\"#2a3f5f\"}},\"ternary\":{\"aaxis\":{\"gridcolor\":\"white\",\"linecolor\":\"white\",\"ticks\":\"\"},\"baxis\":{\"gridcolor\":\"white\",\"linecolor\":\"white\",\"ticks\":\"\"},\"bgcolor\":\"#E5ECF6\",\"caxis\":{\"gridcolor\":\"white\",\"linecolor\":\"white\",\"ticks\":\"\"}},\"title\":{\"x\":0.05},\"xaxis\":{\"automargin\":true,\"gridcolor\":\"white\",\"linecolor\":\"white\",\"ticks\":\"\",\"title\":{\"standoff\":15},\"zerolinecolor\":\"white\",\"zerolinewidth\":2},\"yaxis\":{\"automargin\":true,\"gridcolor\":\"white\",\"linecolor\":\"white\",\"ticks\":\"\",\"title\":{\"standoff\":15},\"zerolinecolor\":\"white\",\"zerolinewidth\":2}}},\"xaxis\":{\"title\":{\"text\":\"x\"},\"range\":[0,1]},\"yaxis\":{\"title\":{\"text\":\"t\"},\"range\":[-1.5,1.5]}},                        {\"responsive\": true}                    ).then(function(){\n",
              "                            \n",
              "var gd = document.getElementById('a6157a70-9529-4fc4-aeba-58b5cb5b112f');\n",
              "var x = new MutationObserver(function (mutations, observer) {{\n",
              "        var display = window.getComputedStyle(gd).display;\n",
              "        if (!display || display === 'none') {{\n",
              "            console.log([gd, 'removed!']);\n",
              "            Plotly.purge(gd);\n",
              "            observer.disconnect();\n",
              "        }}\n",
              "}});\n",
              "\n",
              "// Listen for the removal of the full notebook cells\n",
              "var notebookContainer = gd.closest('#notebook-container');\n",
              "if (notebookContainer) {{\n",
              "    x.observe(notebookContainer, {childList: true});\n",
              "}}\n",
              "\n",
              "// Listen for the clearing of the current output cell\n",
              "var outputEl = gd.closest('.output');\n",
              "if (outputEl) {{\n",
              "    x.observe(outputEl, {childList: true});\n",
              "}}\n",
              "\n",
              "                        })                };                            </script>        </div>\n",
              "</body>\n",
              "</html>"
            ]
          },
          "metadata": {}
        }
      ]
    },
    {
      "cell_type": "markdown",
      "metadata": {
        "id": "xV6sseHGnDCZ"
      },
      "source": [
        "Let's now compare several polynomial fits with different degrees.\n",
        "\n",
        "Play a bit with the degrees taking a look at the coefficients $\\theta$.\n",
        "\n",
        "Which one is the best in *your judgement*?\n",
        "Which one is the best according to the MSE loss? \n",
        "\n",
        "An evergreen reminder that here fits well:\n",
        "> **be skeptical!** Especially about the numbers that should evaluate results. Are these really evaluating what should be evaluated?"
      ]
    },
    {
      "cell_type": "code",
      "metadata": {
        "id": "uFyk0X9cfcis",
        "colab": {
          "base_uri": "https://localhost:8080/",
          "height": 737
        },
        "cellView": "form",
        "outputId": "030448fa-d32e-43c9-b8c2-0403d250bab3"
      },
      "source": [
        "# @title Polynomial fits { run: \"auto\" }\n",
        "\n",
        "degree = {}\n",
        "deg_a = 5  #@param {type:\"slider\", min:0, max:15, step:1}\n",
        "deg_b = 4  #@param {type:\"slider\", min:0, max:15, step:1}\n",
        "deg_c = 12 #@param {type:\"slider\", min:0, max:15, step:1}\n",
        "\n",
        "degree[0], degree[1], degree[2] = deg_a, deg_b, deg_c\n",
        "\n",
        "max_degree = max(degree.values())\n",
        "y = torch.from_numpy(t)\n",
        "X_full = torch.ones((y.shape[0], max_degree + 1), dtype=torch.float64)  # double precision is needed for this calculation! \n",
        "for i in range(max_degree):\n",
        "    X_full[:,i] =  torch.from_numpy(x) ** (max_degree - i)\n",
        "\n",
        "theta_collection = {}\n",
        "\n",
        "for i in range(3):\n",
        "    X = X_full[:,-(degree[i] + 1):]\n",
        "    temp_inverse = torch.inverse(torch.einsum('ij,jk->ik', X.t(), X)) \n",
        "    theta_collection[i] = torch.einsum('ij,jk,k->i', temp_inverse, X.t(), y)\n",
        "\n",
        "fig = make_subplots(\n",
        "    rows=1, cols=3,\n",
        "    subplot_titles=(f\"poly{degree[0]} fit\", f\"poly{degree[1]} fit\", f\"poly{degree[2]} fit\"))\n",
        "\n",
        "x_funcs = np.arange(0,1,1./100)\n",
        "y_funcs = {}\n",
        "for i in range(3):\n",
        "    theta_funcs = theta_collection[i].numpy()\n",
        "    X_funcs = np.ones((x_funcs.shape[0], degree[i] + 1), dtype=np.float64)\n",
        "    for j in range(degree[i]):\n",
        "        X_funcs[:,j] =  x_funcs ** (degree[i] - j)\n",
        "    y_funcs[i] = np.einsum('ij,j->i', X_funcs, theta_funcs)\n",
        "    coefficients_string = '<br><br><br>' + '<br>'.join([c + f': {np.round(theta_funcs[i], decimals=2)}' for i, c in enumerate('abcdefghijklmnopqrstuvwxyz'[:len(theta_funcs)])])\n",
        "\n",
        "    fig.add_trace(go.Scatter(x=x, y=t, mode='markers', marker=dict(color=\"mediumpurple\")), row=1, col=i + 1)\n",
        "    fig.add_trace(go.Scatter(x=x_funcs, y=np.sin(2*np.pi*x_funcs), mode='lines', line=dict(color=\"lightgreen\")), row=1, col=i + 1)\n",
        "    fig.add_trace(go.Scatter(x=x_funcs, y=y_funcs[i], mode='lines', line=dict(color=\"lightsalmon\")), row=1, col=i + 1)\n",
        "    fig.update_xaxes(title_text=\"x\" + coefficients_string, range = [0,1], row=1, col=i+1)\n",
        "\n",
        "fig.update_layout(showlegend=False)\n",
        "fig.update_yaxes(title_text=\"t\", range = [-5,5])\n",
        "fig.update_layout(height=700, width=1300, title_text=\"Polynomial fits and their coefficients\")\n",
        "fig.show()"
      ],
      "execution_count": 17,
      "outputs": [
        {
          "output_type": "display_data",
          "data": {
            "text/html": [
              "<html>\n",
              "<head><meta charset=\"utf-8\" /></head>\n",
              "<body>\n",
              "    <div>            <script src=\"https://cdnjs.cloudflare.com/ajax/libs/mathjax/2.7.5/MathJax.js?config=TeX-AMS-MML_SVG\"></script><script type=\"text/javascript\">if (window.MathJax) {MathJax.Hub.Config({SVG: {font: \"STIX-Web\"}});}</script>                <script type=\"text/javascript\">window.PlotlyConfig = {MathJaxConfig: 'local'};</script>\n",
              "        <script src=\"https://cdn.plot.ly/plotly-2.8.3.min.js\"></script>                <div id=\"467fe6da-2418-42ef-b676-f82e6ce07d70\" class=\"plotly-graph-div\" style=\"height:700px; width:1300px;\"></div>            <script type=\"text/javascript\">                                    window.PLOTLYENV=window.PLOTLYENV || {};                                    if (document.getElementById(\"467fe6da-2418-42ef-b676-f82e6ce07d70\")) {                    Plotly.newPlot(                        \"467fe6da-2418-42ef-b676-f82e6ce07d70\",                        [{\"marker\":{\"color\":\"mediumpurple\"},\"mode\":\"markers\",\"x\":[0.3745401188473625,0.9507143064099162,0.7319939418114051,0.5986584841970366,0.15601864044243652,0.15599452033620265,0.05808361216819946,0.8661761457749352,0.6011150117432088,0.7080725777960455],\"y\":[0.6621995859491285,-0.2504894367193866,-1.0399487832345553,-0.6275182299806012,0.854857342681687,0.6392487011533475,0.18441089666331875,-0.8014323286500792,-0.6947217251134631,-0.9340757540684701],\"type\":\"scatter\",\"xaxis\":\"x\",\"yaxis\":\"y\"},{\"line\":{\"color\":\"lightgreen\"},\"mode\":\"lines\",\"x\":[0.0,0.01,0.02,0.03,0.04,0.05,0.06,0.07,0.08,0.09,0.1,0.11,0.12,0.13,0.14,0.15,0.16,0.17,0.18,0.19,0.2,0.21,0.22,0.23,0.24,0.25,0.26,0.27,0.28,0.29,0.3,0.31,0.32,0.33,0.34,0.35000000000000003,0.36,0.37,0.38,0.39,0.4,0.41000000000000003,0.42,0.43,0.44,0.45,0.46,0.47000000000000003,0.48,0.49,0.5,0.51,0.52,0.53,0.54,0.55,0.56,0.5700000000000001,0.58,0.59,0.6,0.61,0.62,0.63,0.64,0.65,0.66,0.67,0.68,0.6900000000000001,0.7000000000000001,0.71,0.72,0.73,0.74,0.75,0.76,0.77,0.78,0.79,0.8,0.81,0.8200000000000001,0.8300000000000001,0.84,0.85,0.86,0.87,0.88,0.89,0.9,0.91,0.92,0.93,0.9400000000000001,0.9500000000000001,0.96,0.97,0.98,0.99],\"y\":[0.0,0.06279051952931337,0.12533323356430426,0.1873813145857246,0.2486898871648548,0.3090169943749474,0.3681245526846779,0.4257792915650727,0.4817536741017153,0.5358267949789967,0.5877852522924731,0.6374239897486896,0.6845471059286886,0.7289686274214116,0.7705132427757893,0.8090169943749475,0.8443279255020151,0.8763066800438637,0.9048270524660196,0.9297764858882513,0.9510565162951535,0.9685831611286311,0.9822872507286886,0.9921147013144779,0.9980267284282716,1.0,0.9980267284282716,0.9921147013144778,0.9822872507286886,0.9685831611286312,0.9510565162951536,0.9297764858882513,0.9048270524660195,0.8763066800438635,0.844327925502015,0.8090169943749475,0.7705132427757893,0.7289686274214114,0.6845471059286888,0.6374239897486899,0.5877852522924732,0.5358267949789967,0.4817536741017156,0.4257792915650729,0.36812455268467814,0.3090169943749475,0.24868988716485482,0.18738131458572457,0.12533323356430454,0.06279051952931358,1.2246467991473532e-16,-0.06279051952931335,-0.12533323356430429,-0.18738131458572477,-0.24868988716485502,-0.30901699437494773,-0.3681245526846783,-0.42577929156507266,-0.481753674101715,-0.5358267949789964,-0.587785252292473,-0.6374239897486896,-0.6845471059286887,-0.7289686274214113,-0.7705132427757894,-0.8090169943749473,-0.8443279255020153,-0.8763066800438636,-0.9048270524660198,-0.9297764858882515,-0.9510565162951535,-0.968583161128631,-0.9822872507286887,-0.9921147013144778,-0.9980267284282716,-1.0,-0.9980267284282716,-0.9921147013144779,-0.9822872507286887,-0.9685831611286311,-0.9510565162951536,-0.9297764858882512,-0.9048270524660196,-0.8763066800438634,-0.8443279255020155,-0.8090169943749476,-0.7705132427757896,-0.7289686274214116,-0.684547105928689,-0.6374239897486896,-0.5877852522924734,-0.5358267949789963,-0.4817536741017153,-0.4257792915650722,-0.36812455268467786,-0.3090169943749476,-0.24868988716485535,-0.18738131458572468,-0.12533323356430465,-0.06279051952931326],\"type\":\"scatter\",\"xaxis\":\"x\",\"yaxis\":\"y\"},{\"line\":{\"color\":\"lightsalmon\"},\"mode\":\"lines\",\"x\":[0.0,0.01,0.02,0.03,0.04,0.05,0.06,0.07,0.08,0.09,0.1,0.11,0.12,0.13,0.14,0.15,0.16,0.17,0.18,0.19,0.2,0.21,0.22,0.23,0.24,0.25,0.26,0.27,0.28,0.29,0.3,0.31,0.32,0.33,0.34,0.35000000000000003,0.36,0.37,0.38,0.39,0.4,0.41000000000000003,0.42,0.43,0.44,0.45,0.46,0.47000000000000003,0.48,0.49,0.5,0.51,0.52,0.53,0.54,0.55,0.56,0.5700000000000001,0.58,0.59,0.6,0.61,0.62,0.63,0.64,0.65,0.66,0.67,0.68,0.6900000000000001,0.7000000000000001,0.71,0.72,0.73,0.74,0.75,0.76,0.77,0.78,0.79,0.8,0.81,0.8200000000000001,0.8300000000000001,0.84,0.85,0.86,0.87,0.88,0.89,0.9,0.91,0.92,0.93,0.9400000000000001,0.9500000000000001,0.96,0.97,0.98,0.99],\"y\":[-0.2801571895285022,-0.1979283188049355,-0.11647240380361154,-0.03617845836477801,0.04258972759629387,0.11949305644918223,0.1942165912081888,0.26646902389221144,0.3359821438846174,0.40251030629311707,0.4658299003096373,0.5257388175701945,0.5820559205147677,0.6346205107471725,0.6832917973949337,0.7279483654691592,0.7684876442244131,0.8048253755185886,0.8368950821727819,0.8646475363311654,0.8880502278208605,0.9070868325118122,0.9217566806766607,0.9320742253506155,0.938068510691329,0.9397826403387697,0.9372732457750953,0.9306099546845258,0.9198748593132177,0.9051619848291359,0.8865767576819283,0.8642354739627987,0.8382647677643802,0.8088010795406073,0.7759901244665914,0.7399863607984929,0.700952458233393,0.6590587662691711,0.6144827825643739,0.567408621298092,0.5180264815298283,0.46653211555938023,0.4131262972867007,0.358014290571782,0.30140531759452793,0.24351202721461762,0.18454996333139295,0.12473703324371854,0.06429297600986494,0.0034388308073758367,-0.057603594707053674,-0.11861225603770809,-0.17936540348997632,-0.23964211381047917,-0.29922282182719506,-0.35788985208958657,-0.4154279505087288,-0.47162481599743344,-0.5262716321103742,-0.5791635986842323,-0.6301004634777723,-0.678887053812053,-0.7253338082104559,-0.7692573080388918,-0.8104808091458828,-0.8488347735027091,-0.8841574008435273,-0.9162951603055021,-0.9451033220689133,-0.9704464889973288,-0.9921991282776652,-1.0102461030603855,-1.0244832040995853,-1.0348176813930792,-1.0411687758226513,-1.0434682507940352,-1.0416609238771457,-1.0357051984461663,-1.0255735953196634,-1.0112532844007376,-0.9927466163171701,-0.9700716540614636,-0.9432627046310671,-0.9123708506684594,-0.8774644821012387,-0.8386298277823556,-0.7959714871301173,-0.749612961768392,-0.6996971871667057,-0.6463870642803897,-0.5898659911906634,-0.5303383947448452,-0.4680302621963506,-0.40318967284498797,-0.33608732967691424,-0.2670170910048313,-0.19629650210822547,-0.12426732687328013,-0.051296079433129194,0.022225444191988686],\"type\":\"scatter\",\"xaxis\":\"x\",\"yaxis\":\"y\"},{\"marker\":{\"color\":\"mediumpurple\"},\"mode\":\"markers\",\"x\":[0.3745401188473625,0.9507143064099162,0.7319939418114051,0.5986584841970366,0.15601864044243652,0.15599452033620265,0.05808361216819946,0.8661761457749352,0.6011150117432088,0.7080725777960455],\"y\":[0.6621995859491285,-0.2504894367193866,-1.0399487832345553,-0.6275182299806012,0.854857342681687,0.6392487011533475,0.18441089666331875,-0.8014323286500792,-0.6947217251134631,-0.9340757540684701],\"type\":\"scatter\",\"xaxis\":\"x2\",\"yaxis\":\"y2\"},{\"line\":{\"color\":\"lightgreen\"},\"mode\":\"lines\",\"x\":[0.0,0.01,0.02,0.03,0.04,0.05,0.06,0.07,0.08,0.09,0.1,0.11,0.12,0.13,0.14,0.15,0.16,0.17,0.18,0.19,0.2,0.21,0.22,0.23,0.24,0.25,0.26,0.27,0.28,0.29,0.3,0.31,0.32,0.33,0.34,0.35000000000000003,0.36,0.37,0.38,0.39,0.4,0.41000000000000003,0.42,0.43,0.44,0.45,0.46,0.47000000000000003,0.48,0.49,0.5,0.51,0.52,0.53,0.54,0.55,0.56,0.5700000000000001,0.58,0.59,0.6,0.61,0.62,0.63,0.64,0.65,0.66,0.67,0.68,0.6900000000000001,0.7000000000000001,0.71,0.72,0.73,0.74,0.75,0.76,0.77,0.78,0.79,0.8,0.81,0.8200000000000001,0.8300000000000001,0.84,0.85,0.86,0.87,0.88,0.89,0.9,0.91,0.92,0.93,0.9400000000000001,0.9500000000000001,0.96,0.97,0.98,0.99],\"y\":[0.0,0.06279051952931337,0.12533323356430426,0.1873813145857246,0.2486898871648548,0.3090169943749474,0.3681245526846779,0.4257792915650727,0.4817536741017153,0.5358267949789967,0.5877852522924731,0.6374239897486896,0.6845471059286886,0.7289686274214116,0.7705132427757893,0.8090169943749475,0.8443279255020151,0.8763066800438637,0.9048270524660196,0.9297764858882513,0.9510565162951535,0.9685831611286311,0.9822872507286886,0.9921147013144779,0.9980267284282716,1.0,0.9980267284282716,0.9921147013144778,0.9822872507286886,0.9685831611286312,0.9510565162951536,0.9297764858882513,0.9048270524660195,0.8763066800438635,0.844327925502015,0.8090169943749475,0.7705132427757893,0.7289686274214114,0.6845471059286888,0.6374239897486899,0.5877852522924732,0.5358267949789967,0.4817536741017156,0.4257792915650729,0.36812455268467814,0.3090169943749475,0.24868988716485482,0.18738131458572457,0.12533323356430454,0.06279051952931358,1.2246467991473532e-16,-0.06279051952931335,-0.12533323356430429,-0.18738131458572477,-0.24868988716485502,-0.30901699437494773,-0.3681245526846783,-0.42577929156507266,-0.481753674101715,-0.5358267949789964,-0.587785252292473,-0.6374239897486896,-0.6845471059286887,-0.7289686274214113,-0.7705132427757894,-0.8090169943749473,-0.8443279255020153,-0.8763066800438636,-0.9048270524660198,-0.9297764858882515,-0.9510565162951535,-0.968583161128631,-0.9822872507286887,-0.9921147013144778,-0.9980267284282716,-1.0,-0.9980267284282716,-0.9921147013144779,-0.9822872507286887,-0.9685831611286311,-0.9510565162951536,-0.9297764858882512,-0.9048270524660196,-0.8763066800438634,-0.8443279255020155,-0.8090169943749476,-0.7705132427757896,-0.7289686274214116,-0.684547105928689,-0.6374239897486896,-0.5877852522924734,-0.5358267949789963,-0.4817536741017153,-0.4257792915650722,-0.36812455268467786,-0.3090169943749476,-0.24868988716485535,-0.18738131458572468,-0.12533323356430465,-0.06279051952931326],\"type\":\"scatter\",\"xaxis\":\"x2\",\"yaxis\":\"y2\"},{\"line\":{\"color\":\"lightsalmon\"},\"mode\":\"lines\",\"x\":[0.0,0.01,0.02,0.03,0.04,0.05,0.06,0.07,0.08,0.09,0.1,0.11,0.12,0.13,0.14,0.15,0.16,0.17,0.18,0.19,0.2,0.21,0.22,0.23,0.24,0.25,0.26,0.27,0.28,0.29,0.3,0.31,0.32,0.33,0.34,0.35000000000000003,0.36,0.37,0.38,0.39,0.4,0.41000000000000003,0.42,0.43,0.44,0.45,0.46,0.47000000000000003,0.48,0.49,0.5,0.51,0.52,0.53,0.54,0.55,0.56,0.5700000000000001,0.58,0.59,0.6,0.61,0.62,0.63,0.64,0.65,0.66,0.67,0.68,0.6900000000000001,0.7000000000000001,0.71,0.72,0.73,0.74,0.75,0.76,0.77,0.78,0.79,0.8,0.81,0.8200000000000001,0.8300000000000001,0.84,0.85,0.86,0.87,0.88,0.89,0.9,0.91,0.92,0.93,0.9400000000000001,0.9500000000000001,0.96,0.97,0.98,0.99],\"y\":[-0.5302142008549406,-0.3947423063721347,-0.26702228174168746,-0.14688946483405685,-0.0341794304894355,0.0712720094822481,0.16962880630133037,0.2610546742184131,0.3457130905143617,0.423767295500307,0.4953802925176448,0.5607148479380348,0.619933491163402,0.6731985146259367,0.7206719737880927,0.7625156871425887,0.7988912362124099,0.8299599655508034,0.8558829827412837,0.8768211583976282,0.8929351261638794,0.9043852827143462,0.9113317877535985,0.9139345640164755,0.9123532972680786,0.9067474363037737,0.8972761929491919,0.8840985420602294,0.8673732215230472,0.8472587322540699,0.8239133381999872,0.7974950663377562,0.7681617066745945,0.7360708122479869,0.7013796991256838,0.6642454464056966,0.6248248962163059,0.5832746537160531,0.5397510870937499,0.49441032756846326,0.44740826938953493,0.39890056983656663,0.3490426492194256,0.29798969087824023,0.24589664118341226,0.1929182095355948,0.13920886836572244,0.08492285313498193,0.030214162334829098,-0.02476344251301299,-0.07985643685656818,-0.13491153311357884,-0.18977568067153427,-0.24429606588765473,-0.2983201120888932,-0.3516954795719478,-0.4042700656032405,-0.45589200441893496,-0.5064096672249256,-0.5556716621968487,-0.603526834480073,-0.6498242661896967,-0.6944132764105628,-0.7371434211972439,-0.7778644935740431,-0.8164265235350143,-0.8526797780439352,-0.8864747610343109,-0.9176622134094004,-0.9460931130421848,-0.9716186747753852,-0.9940903504214589,-1.0133598287625993,-1.0292790355507293,-1.0417001335075113,-1.0504755223243407,-1.055457838662349,-1.0564999561524004,-1.053454985395117,-1.0461762739608105,-1.0345174063895755,-1.0183322041911964,-0.9974747258452439,-0.9717992668009714,-0.9411603594774149,-0.9054127732633077,-0.8644115145171511,-0.8180118265671545,-0.7660691897112706,-0.7084393212171918,-0.6449781753223576,-0.5755419432339011,-0.49998705312873426,-0.4181701701534948,-0.3299481964245601,-0.2351782710279906,-0.13371777001966478,-0.025424306425136933,0.0898442697602917,0.2122298715715587],\"type\":\"scatter\",\"xaxis\":\"x2\",\"yaxis\":\"y2\"},{\"marker\":{\"color\":\"mediumpurple\"},\"mode\":\"markers\",\"x\":[0.3745401188473625,0.9507143064099162,0.7319939418114051,0.5986584841970366,0.15601864044243652,0.15599452033620265,0.05808361216819946,0.8661761457749352,0.6011150117432088,0.7080725777960455],\"y\":[0.6621995859491285,-0.2504894367193866,-1.0399487832345553,-0.6275182299806012,0.854857342681687,0.6392487011533475,0.18441089666331875,-0.8014323286500792,-0.6947217251134631,-0.9340757540684701],\"type\":\"scatter\",\"xaxis\":\"x3\",\"yaxis\":\"y3\"},{\"line\":{\"color\":\"lightgreen\"},\"mode\":\"lines\",\"x\":[0.0,0.01,0.02,0.03,0.04,0.05,0.06,0.07,0.08,0.09,0.1,0.11,0.12,0.13,0.14,0.15,0.16,0.17,0.18,0.19,0.2,0.21,0.22,0.23,0.24,0.25,0.26,0.27,0.28,0.29,0.3,0.31,0.32,0.33,0.34,0.35000000000000003,0.36,0.37,0.38,0.39,0.4,0.41000000000000003,0.42,0.43,0.44,0.45,0.46,0.47000000000000003,0.48,0.49,0.5,0.51,0.52,0.53,0.54,0.55,0.56,0.5700000000000001,0.58,0.59,0.6,0.61,0.62,0.63,0.64,0.65,0.66,0.67,0.68,0.6900000000000001,0.7000000000000001,0.71,0.72,0.73,0.74,0.75,0.76,0.77,0.78,0.79,0.8,0.81,0.8200000000000001,0.8300000000000001,0.84,0.85,0.86,0.87,0.88,0.89,0.9,0.91,0.92,0.93,0.9400000000000001,0.9500000000000001,0.96,0.97,0.98,0.99],\"y\":[0.0,0.06279051952931337,0.12533323356430426,0.1873813145857246,0.2486898871648548,0.3090169943749474,0.3681245526846779,0.4257792915650727,0.4817536741017153,0.5358267949789967,0.5877852522924731,0.6374239897486896,0.6845471059286886,0.7289686274214116,0.7705132427757893,0.8090169943749475,0.8443279255020151,0.8763066800438637,0.9048270524660196,0.9297764858882513,0.9510565162951535,0.9685831611286311,0.9822872507286886,0.9921147013144779,0.9980267284282716,1.0,0.9980267284282716,0.9921147013144778,0.9822872507286886,0.9685831611286312,0.9510565162951536,0.9297764858882513,0.9048270524660195,0.8763066800438635,0.844327925502015,0.8090169943749475,0.7705132427757893,0.7289686274214114,0.6845471059286888,0.6374239897486899,0.5877852522924732,0.5358267949789967,0.4817536741017156,0.4257792915650729,0.36812455268467814,0.3090169943749475,0.24868988716485482,0.18738131458572457,0.12533323356430454,0.06279051952931358,1.2246467991473532e-16,-0.06279051952931335,-0.12533323356430429,-0.18738131458572477,-0.24868988716485502,-0.30901699437494773,-0.3681245526846783,-0.42577929156507266,-0.481753674101715,-0.5358267949789964,-0.587785252292473,-0.6374239897486896,-0.6845471059286887,-0.7289686274214113,-0.7705132427757894,-0.8090169943749473,-0.8443279255020153,-0.8763066800438636,-0.9048270524660198,-0.9297764858882515,-0.9510565162951535,-0.968583161128631,-0.9822872507286887,-0.9921147013144778,-0.9980267284282716,-1.0,-0.9980267284282716,-0.9921147013144779,-0.9822872507286887,-0.9685831611286311,-0.9510565162951536,-0.9297764858882512,-0.9048270524660196,-0.8763066800438634,-0.8443279255020155,-0.8090169943749476,-0.7705132427757896,-0.7289686274214116,-0.684547105928689,-0.6374239897486896,-0.5877852522924734,-0.5358267949789963,-0.4817536741017153,-0.4257792915650722,-0.36812455268467786,-0.3090169943749476,-0.24868988716485535,-0.18738131458572468,-0.12533323356430465,-0.06279051952931326],\"type\":\"scatter\",\"xaxis\":\"x3\",\"yaxis\":\"y3\"},{\"line\":{\"color\":\"lightsalmon\"},\"mode\":\"lines\",\"x\":[0.0,0.01,0.02,0.03,0.04,0.05,0.06,0.07,0.08,0.09,0.1,0.11,0.12,0.13,0.14,0.15,0.16,0.17,0.18,0.19,0.2,0.21,0.22,0.23,0.24,0.25,0.26,0.27,0.28,0.29,0.3,0.31,0.32,0.33,0.34,0.35000000000000003,0.36,0.37,0.38,0.39,0.4,0.41000000000000003,0.42,0.43,0.44,0.45,0.46,0.47000000000000003,0.48,0.49,0.5,0.51,0.52,0.53,0.54,0.55,0.56,0.5700000000000001,0.58,0.59,0.6,0.61,0.62,0.63,0.64,0.65,0.66,0.67,0.68,0.6900000000000001,0.7000000000000001,0.71,0.72,0.73,0.74,0.75,0.76,0.77,0.78,0.79,0.8,0.81,0.8200000000000001,0.8300000000000001,0.84,0.85,0.86,0.87,0.88,0.89,0.9,0.91,0.92,0.93,0.9400000000000001,0.9500000000000001,0.96,0.97,0.98,0.99],\"y\":[1238.2319220900536,876.5923495518061,589.8936130313458,367.0203898076652,198.01389719472604,73.99656641309048,-12.901534138815805,-69.61441853992801,-102.20993815151633,-115.95746460067403,-115.39339577625105,-104.38438254322136,-86.18817786469663,-63.51201513784872,-38.56842880310978,-13.128437658546318,11.427980231335823,34.06418265193861,54.041979540932516,70.87961029129656,84.31260972876044,94.25757760629494,100.77885305030941,104.05808153277758,104.36664775955433,102.04093349576578,97.4603449351489,91.02803990722168,83.15427115242346,74.24224822795077,64.67640748713166,54.81296714799828,44.97263287617534,35.43530869630922,26.436658547230763,18.166355537774507,10.76784906553803,4.339474536507623,-1.063273424457293,-5.424485568451928,-8.763782166905003,-11.131637094425969,-12.604259041516343,-13.278201968234498,-13.264869950944558,-12.685072726453654,-11.663777552428655,-10.325190505711362,-8.788286131166387,-7.162888509512413,-5.546389476396143,-4.021171033848077,-2.6527791410917416,-1.4888752590632066,-0.5589704873273149,0.12507482909131795,0.5678252645302564,0.7883793918881565,0.8178962281672284,0.696641827817075,0.47067766648251563,0.18832936824765056,-0.10341122117824852,-0.3623862618114799,-0.5545023824088275,-0.6565159929450601,-0.6581997754983604,-0.5637242260854691,-0.3921023264992982,-0.17656706715933979,0.03721834160387516,0.19417828950099647,0.2340814946219325,0.09698620578274131,-0.2702504717744887,-0.9066111496649683,-1.8290193765424192,-3.0243373243138194,-4.4418305195868015,-5.98682610783726,-7.516467722132802,-8.838668751064688,-9.715588454157114,-9.873203431721777,-9.018822469748557,-6.868697304278612,-3.1882175034843385,2.152453688904643,9.104041886981577,17.34142090054229,26.14028679439798,34.22254243167117,39.56512202671729,39.16637233016081,28.763445212505758,2.4934427367988974,-47.50971222296357,-131.59153198159765,-263.136084143538,-459.2186616944746],\"type\":\"scatter\",\"xaxis\":\"x3\",\"yaxis\":\"y3\"}],                        {\"template\":{\"data\":{\"bar\":[{\"error_x\":{\"color\":\"#2a3f5f\"},\"error_y\":{\"color\":\"#2a3f5f\"},\"marker\":{\"line\":{\"color\":\"#E5ECF6\",\"width\":0.5},\"pattern\":{\"fillmode\":\"overlay\",\"size\":10,\"solidity\":0.2}},\"type\":\"bar\"}],\"barpolar\":[{\"marker\":{\"line\":{\"color\":\"#E5ECF6\",\"width\":0.5},\"pattern\":{\"fillmode\":\"overlay\",\"size\":10,\"solidity\":0.2}},\"type\":\"barpolar\"}],\"carpet\":[{\"aaxis\":{\"endlinecolor\":\"#2a3f5f\",\"gridcolor\":\"white\",\"linecolor\":\"white\",\"minorgridcolor\":\"white\",\"startlinecolor\":\"#2a3f5f\"},\"baxis\":{\"endlinecolor\":\"#2a3f5f\",\"gridcolor\":\"white\",\"linecolor\":\"white\",\"minorgridcolor\":\"white\",\"startlinecolor\":\"#2a3f5f\"},\"type\":\"carpet\"}],\"choropleth\":[{\"colorbar\":{\"outlinewidth\":0,\"ticks\":\"\"},\"type\":\"choropleth\"}],\"contour\":[{\"colorbar\":{\"outlinewidth\":0,\"ticks\":\"\"},\"colorscale\":[[0.0,\"#0d0887\"],[0.1111111111111111,\"#46039f\"],[0.2222222222222222,\"#7201a8\"],[0.3333333333333333,\"#9c179e\"],[0.4444444444444444,\"#bd3786\"],[0.5555555555555556,\"#d8576b\"],[0.6666666666666666,\"#ed7953\"],[0.7777777777777778,\"#fb9f3a\"],[0.8888888888888888,\"#fdca26\"],[1.0,\"#f0f921\"]],\"type\":\"contour\"}],\"contourcarpet\":[{\"colorbar\":{\"outlinewidth\":0,\"ticks\":\"\"},\"type\":\"contourcarpet\"}],\"heatmap\":[{\"colorbar\":{\"outlinewidth\":0,\"ticks\":\"\"},\"colorscale\":[[0.0,\"#0d0887\"],[0.1111111111111111,\"#46039f\"],[0.2222222222222222,\"#7201a8\"],[0.3333333333333333,\"#9c179e\"],[0.4444444444444444,\"#bd3786\"],[0.5555555555555556,\"#d8576b\"],[0.6666666666666666,\"#ed7953\"],[0.7777777777777778,\"#fb9f3a\"],[0.8888888888888888,\"#fdca26\"],[1.0,\"#f0f921\"]],\"type\":\"heatmap\"}],\"heatmapgl\":[{\"colorbar\":{\"outlinewidth\":0,\"ticks\":\"\"},\"colorscale\":[[0.0,\"#0d0887\"],[0.1111111111111111,\"#46039f\"],[0.2222222222222222,\"#7201a8\"],[0.3333333333333333,\"#9c179e\"],[0.4444444444444444,\"#bd3786\"],[0.5555555555555556,\"#d8576b\"],[0.6666666666666666,\"#ed7953\"],[0.7777777777777778,\"#fb9f3a\"],[0.8888888888888888,\"#fdca26\"],[1.0,\"#f0f921\"]],\"type\":\"heatmapgl\"}],\"histogram\":[{\"marker\":{\"pattern\":{\"fillmode\":\"overlay\",\"size\":10,\"solidity\":0.2}},\"type\":\"histogram\"}],\"histogram2d\":[{\"colorbar\":{\"outlinewidth\":0,\"ticks\":\"\"},\"colorscale\":[[0.0,\"#0d0887\"],[0.1111111111111111,\"#46039f\"],[0.2222222222222222,\"#7201a8\"],[0.3333333333333333,\"#9c179e\"],[0.4444444444444444,\"#bd3786\"],[0.5555555555555556,\"#d8576b\"],[0.6666666666666666,\"#ed7953\"],[0.7777777777777778,\"#fb9f3a\"],[0.8888888888888888,\"#fdca26\"],[1.0,\"#f0f921\"]],\"type\":\"histogram2d\"}],\"histogram2dcontour\":[{\"colorbar\":{\"outlinewidth\":0,\"ticks\":\"\"},\"colorscale\":[[0.0,\"#0d0887\"],[0.1111111111111111,\"#46039f\"],[0.2222222222222222,\"#7201a8\"],[0.3333333333333333,\"#9c179e\"],[0.4444444444444444,\"#bd3786\"],[0.5555555555555556,\"#d8576b\"],[0.6666666666666666,\"#ed7953\"],[0.7777777777777778,\"#fb9f3a\"],[0.8888888888888888,\"#fdca26\"],[1.0,\"#f0f921\"]],\"type\":\"histogram2dcontour\"}],\"mesh3d\":[{\"colorbar\":{\"outlinewidth\":0,\"ticks\":\"\"},\"type\":\"mesh3d\"}],\"parcoords\":[{\"line\":{\"colorbar\":{\"outlinewidth\":0,\"ticks\":\"\"}},\"type\":\"parcoords\"}],\"pie\":[{\"automargin\":true,\"type\":\"pie\"}],\"scatter\":[{\"marker\":{\"colorbar\":{\"outlinewidth\":0,\"ticks\":\"\"}},\"type\":\"scatter\"}],\"scatter3d\":[{\"line\":{\"colorbar\":{\"outlinewidth\":0,\"ticks\":\"\"}},\"marker\":{\"colorbar\":{\"outlinewidth\":0,\"ticks\":\"\"}},\"type\":\"scatter3d\"}],\"scattercarpet\":[{\"marker\":{\"colorbar\":{\"outlinewidth\":0,\"ticks\":\"\"}},\"type\":\"scattercarpet\"}],\"scattergeo\":[{\"marker\":{\"colorbar\":{\"outlinewidth\":0,\"ticks\":\"\"}},\"type\":\"scattergeo\"}],\"scattergl\":[{\"marker\":{\"colorbar\":{\"outlinewidth\":0,\"ticks\":\"\"}},\"type\":\"scattergl\"}],\"scattermapbox\":[{\"marker\":{\"colorbar\":{\"outlinewidth\":0,\"ticks\":\"\"}},\"type\":\"scattermapbox\"}],\"scatterpolar\":[{\"marker\":{\"colorbar\":{\"outlinewidth\":0,\"ticks\":\"\"}},\"type\":\"scatterpolar\"}],\"scatterpolargl\":[{\"marker\":{\"colorbar\":{\"outlinewidth\":0,\"ticks\":\"\"}},\"type\":\"scatterpolargl\"}],\"scatterternary\":[{\"marker\":{\"colorbar\":{\"outlinewidth\":0,\"ticks\":\"\"}},\"type\":\"scatterternary\"}],\"surface\":[{\"colorbar\":{\"outlinewidth\":0,\"ticks\":\"\"},\"colorscale\":[[0.0,\"#0d0887\"],[0.1111111111111111,\"#46039f\"],[0.2222222222222222,\"#7201a8\"],[0.3333333333333333,\"#9c179e\"],[0.4444444444444444,\"#bd3786\"],[0.5555555555555556,\"#d8576b\"],[0.6666666666666666,\"#ed7953\"],[0.7777777777777778,\"#fb9f3a\"],[0.8888888888888888,\"#fdca26\"],[1.0,\"#f0f921\"]],\"type\":\"surface\"}],\"table\":[{\"cells\":{\"fill\":{\"color\":\"#EBF0F8\"},\"line\":{\"color\":\"white\"}},\"header\":{\"fill\":{\"color\":\"#C8D4E3\"},\"line\":{\"color\":\"white\"}},\"type\":\"table\"}]},\"layout\":{\"annotationdefaults\":{\"arrowcolor\":\"#2a3f5f\",\"arrowhead\":0,\"arrowwidth\":1},\"autotypenumbers\":\"strict\",\"coloraxis\":{\"colorbar\":{\"outlinewidth\":0,\"ticks\":\"\"}},\"colorscale\":{\"diverging\":[[0,\"#8e0152\"],[0.1,\"#c51b7d\"],[0.2,\"#de77ae\"],[0.3,\"#f1b6da\"],[0.4,\"#fde0ef\"],[0.5,\"#f7f7f7\"],[0.6,\"#e6f5d0\"],[0.7,\"#b8e186\"],[0.8,\"#7fbc41\"],[0.9,\"#4d9221\"],[1,\"#276419\"]],\"sequential\":[[0.0,\"#0d0887\"],[0.1111111111111111,\"#46039f\"],[0.2222222222222222,\"#7201a8\"],[0.3333333333333333,\"#9c179e\"],[0.4444444444444444,\"#bd3786\"],[0.5555555555555556,\"#d8576b\"],[0.6666666666666666,\"#ed7953\"],[0.7777777777777778,\"#fb9f3a\"],[0.8888888888888888,\"#fdca26\"],[1.0,\"#f0f921\"]],\"sequentialminus\":[[0.0,\"#0d0887\"],[0.1111111111111111,\"#46039f\"],[0.2222222222222222,\"#7201a8\"],[0.3333333333333333,\"#9c179e\"],[0.4444444444444444,\"#bd3786\"],[0.5555555555555556,\"#d8576b\"],[0.6666666666666666,\"#ed7953\"],[0.7777777777777778,\"#fb9f3a\"],[0.8888888888888888,\"#fdca26\"],[1.0,\"#f0f921\"]]},\"colorway\":[\"#636efa\",\"#EF553B\",\"#00cc96\",\"#ab63fa\",\"#FFA15A\",\"#19d3f3\",\"#FF6692\",\"#B6E880\",\"#FF97FF\",\"#FECB52\"],\"font\":{\"color\":\"#2a3f5f\"},\"geo\":{\"bgcolor\":\"white\",\"lakecolor\":\"white\",\"landcolor\":\"#E5ECF6\",\"showlakes\":true,\"showland\":true,\"subunitcolor\":\"white\"},\"hoverlabel\":{\"align\":\"left\"},\"hovermode\":\"closest\",\"mapbox\":{\"style\":\"light\"},\"paper_bgcolor\":\"white\",\"plot_bgcolor\":\"#E5ECF6\",\"polar\":{\"angularaxis\":{\"gridcolor\":\"white\",\"linecolor\":\"white\",\"ticks\":\"\"},\"bgcolor\":\"#E5ECF6\",\"radialaxis\":{\"gridcolor\":\"white\",\"linecolor\":\"white\",\"ticks\":\"\"}},\"scene\":{\"xaxis\":{\"backgroundcolor\":\"#E5ECF6\",\"gridcolor\":\"white\",\"gridwidth\":2,\"linecolor\":\"white\",\"showbackground\":true,\"ticks\":\"\",\"zerolinecolor\":\"white\"},\"yaxis\":{\"backgroundcolor\":\"#E5ECF6\",\"gridcolor\":\"white\",\"gridwidth\":2,\"linecolor\":\"white\",\"showbackground\":true,\"ticks\":\"\",\"zerolinecolor\":\"white\"},\"zaxis\":{\"backgroundcolor\":\"#E5ECF6\",\"gridcolor\":\"white\",\"gridwidth\":2,\"linecolor\":\"white\",\"showbackground\":true,\"ticks\":\"\",\"zerolinecolor\":\"white\"}},\"shapedefaults\":{\"line\":{\"color\":\"#2a3f5f\"}},\"ternary\":{\"aaxis\":{\"gridcolor\":\"white\",\"linecolor\":\"white\",\"ticks\":\"\"},\"baxis\":{\"gridcolor\":\"white\",\"linecolor\":\"white\",\"ticks\":\"\"},\"bgcolor\":\"#E5ECF6\",\"caxis\":{\"gridcolor\":\"white\",\"linecolor\":\"white\",\"ticks\":\"\"}},\"title\":{\"x\":0.05},\"xaxis\":{\"automargin\":true,\"gridcolor\":\"white\",\"linecolor\":\"white\",\"ticks\":\"\",\"title\":{\"standoff\":15},\"zerolinecolor\":\"white\",\"zerolinewidth\":2},\"yaxis\":{\"automargin\":true,\"gridcolor\":\"white\",\"linecolor\":\"white\",\"ticks\":\"\",\"title\":{\"standoff\":15},\"zerolinecolor\":\"white\",\"zerolinewidth\":2}}},\"xaxis\":{\"anchor\":\"y\",\"domain\":[0.0,0.2888888888888889],\"title\":{\"text\":\"x<br><br><br>a: -44.3<br>b: 109.53<br>c: -71.3<br>d: -1.8<br>e: 8.25<br>f: -0.28\"},\"range\":[0,1]},\"yaxis\":{\"anchor\":\"x\",\"domain\":[0.0,1.0],\"title\":{\"text\":\"t\"},\"range\":[-5,5]},\"xaxis2\":{\"anchor\":\"y2\",\"domain\":[0.35555555555555557,0.6444444444444445],\"title\":{\"text\":\"x<br><br><br>a: -0.99<br>b: 27.5<br>c: -39.58<br>d: 13.94<br>e: -0.53\"},\"range\":[0,1]},\"yaxis2\":{\"anchor\":\"x2\",\"domain\":[0.0,1.0],\"title\":{\"text\":\"t\"},\"range\":[-5,5]},\"xaxis3\":{\"anchor\":\"y3\",\"domain\":[0.7111111111111111,1.0],\"title\":{\"text\":\"x<br><br><br>a: -2679839.23<br>b: 7829710.78<br>c: -6367606.82<br>d: -482294.9<br>e: 587946.58<br>f: 2026643.33<br>g: 1991079.93<br>h: -6604771.0<br>i: 5465733.15<br>j: -2164171.2<br>k: 435901.74<br>l: -40311.96<br>m: 1238.23\"},\"range\":[0,1]},\"yaxis3\":{\"anchor\":\"x3\",\"domain\":[0.0,1.0],\"title\":{\"text\":\"t\"},\"range\":[-5,5]},\"annotations\":[{\"font\":{\"size\":16},\"showarrow\":false,\"text\":\"poly5 fit\",\"x\":0.14444444444444446,\"xanchor\":\"center\",\"xref\":\"paper\",\"y\":1.0,\"yanchor\":\"bottom\",\"yref\":\"paper\"},{\"font\":{\"size\":16},\"showarrow\":false,\"text\":\"poly4 fit\",\"x\":0.5,\"xanchor\":\"center\",\"xref\":\"paper\",\"y\":1.0,\"yanchor\":\"bottom\",\"yref\":\"paper\"},{\"font\":{\"size\":16},\"showarrow\":false,\"text\":\"poly12 fit\",\"x\":0.8555555555555556,\"xanchor\":\"center\",\"xref\":\"paper\",\"y\":1.0,\"yanchor\":\"bottom\",\"yref\":\"paper\"}],\"showlegend\":false,\"title\":{\"text\":\"Polynomial fits and their coefficients\"},\"height\":700,\"width\":1300},                        {\"responsive\": true}                    ).then(function(){\n",
              "                            \n",
              "var gd = document.getElementById('467fe6da-2418-42ef-b676-f82e6ce07d70');\n",
              "var x = new MutationObserver(function (mutations, observer) {{\n",
              "        var display = window.getComputedStyle(gd).display;\n",
              "        if (!display || display === 'none') {{\n",
              "            console.log([gd, 'removed!']);\n",
              "            Plotly.purge(gd);\n",
              "            observer.disconnect();\n",
              "        }}\n",
              "}});\n",
              "\n",
              "// Listen for the removal of the full notebook cells\n",
              "var notebookContainer = gd.closest('#notebook-container');\n",
              "if (notebookContainer) {{\n",
              "    x.observe(notebookContainer, {childList: true});\n",
              "}}\n",
              "\n",
              "// Listen for the clearing of the current output cell\n",
              "var outputEl = gd.closest('.output');\n",
              "if (outputEl) {{\n",
              "    x.observe(outputEl, {childList: true});\n",
              "}}\n",
              "\n",
              "                        })                };                            </script>        </div>\n",
              "</body>\n",
              "</html>"
            ]
          },
          "metadata": {}
        }
      ]
    },
    {
      "cell_type": "markdown",
      "metadata": {
        "id": "4KPPrymvhAmb"
      },
      "source": [
        "Nevertheless you should find *evidence* to support your judgement. Our intuition right now is that \"High degree polynomial fits lead to a high generalization error for this dataset\", how can we test it?\n",
        "\n",
        "As you have learnt in the lecture, a useful study you can perform consists in evaluating the MSE loss on a *test set*. So on samples not used in training. \n",
        "\n",
        "Such the ones that are going to magically appear in the next cell.\n",
        "\n",
        "(Ususally you get all the available data in the beginning, where you should perform a split between training data and test data) "
      ]
    },
    {
      "cell_type": "code",
      "metadata": {
        "id": "QPi-ZFkUliUA"
      },
      "source": [
        "x_test = np.random.rand(10)\n",
        "t_test = np.sin(2 * np.pi * x_test) + 0.1 * np.random.randn(10)"
      ],
      "execution_count": 18,
      "outputs": []
    },
    {
      "cell_type": "markdown",
      "metadata": {
        "id": "YJu_1xXUloK0"
      },
      "source": [
        "> **EXERCISE**: Do a nice plot entitled \"MSE loss **vs** degree of the polynomial fit\" that shows the trends of the training set and the test set."
      ]
    },
    {
      "cell_type": "code",
      "metadata": {
        "id": "HuQphUAXhh_w"
      },
      "source": [
        "# ✏️ your code here "
      ],
      "execution_count": 19,
      "outputs": []
    },
    {
      "cell_type": "markdown",
      "metadata": {
        "id": "5z1iX6ltDTx8"
      },
      "source": [
        "###Regularization"
      ]
    },
    {
      "cell_type": "markdown",
      "metadata": {
        "id": "ENt79TByFzyD"
      },
      "source": [
        "Still, it is not always desirable to work with simple models with few parameters. \n",
        "\n",
        "Think about the true link between the input variable $x$ and the target variable $t$, it is through a $\\sin$ function.\n",
        "And a $\\sin$ function written in a polynomial basis (i.e. its Taylor series) contains terms of *every* odd degree, i.e. infinite terms. Our approximation of the ground truth function should benefit from high order terms, since they are *needed* to express a $\\sin$ function.\n",
        "\n",
        "We want to have many parameters, and we want them to do the right thing: to not overfit.\n",
        "This is why we need **regularizers**.\n",
        "\n",
        "Let's start looking at the effects of applying the simplest and most universal regularizer, *more data*.\n"
      ]
    },
    {
      "cell_type": "code",
      "metadata": {
        "id": "qcikXP28Ntfo",
        "colab": {
          "base_uri": "https://localhost:8080/",
          "height": 737
        },
        "outputId": "3034c65e-c706-4f9d-94ef-b336fafe1dba",
        "cellView": "form"
      },
      "source": [
        "# @title Regularized polynomial fits: more data { run: \"auto\" }\n",
        "\n",
        "training_dataset_size = 75  #@param {type:\"slider\", min:1, max:100, step:1}\n",
        "temp_x, temp_t = x, t\n",
        "x = np.random.rand(training_dataset_size)\n",
        "t = np.sin(2 * np.pi * x) + 0.1 * np.random.randn(training_dataset_size)\n",
        "\n",
        "deg_1 = 2  #@param {type:\"slider\", min:0, max:15, step:1}\n",
        "deg_2 = 6  #@param {type:\"slider\", min:0, max:15, step:1}\n",
        "deg_3 = 13  #@param {type:\"slider\", min:0, max:15, step:1}\n",
        "\n",
        "degree = {}\n",
        "degree[0], degree[1], degree[2] = deg_1, deg_2, deg_3\n",
        "\n",
        "max_degree = max(degree.values())\n",
        "y = torch.from_numpy(t)\n",
        "X_full = torch.ones((y.shape[0], max_degree + 1), dtype=torch.float64)  # double precision is needed for this calculation! \n",
        "for i in range(max_degree):\n",
        "    X_full[:,i] =  torch.from_numpy(x) ** (max_degree - i)\n",
        "\n",
        "theta_collection = {}\n",
        "\n",
        "for i in range(3):\n",
        "    X = X_full[:,-(degree[i] + 1):]\n",
        "    temp_inverse = torch.inverse(torch.einsum('ij,jk->ik', X.t(), X))\n",
        "    theta_collection[i] = torch.einsum('ij,jk,k->i', temp_inverse, X.t(), y)\n",
        "\n",
        "fig = make_subplots(\n",
        "    rows=1, cols=3,\n",
        "    subplot_titles=(f\"poly{degree[0]} fit\", f\"poly{degree[1]} fit\", f\"poly{degree[2]} fit\"))\n",
        "\n",
        "x_funcs = np.arange(0,1,1./100)\n",
        "y_funcs = {}\n",
        "for i in range(3):\n",
        "    theta_funcs = theta_collection[i].numpy()\n",
        "    X_funcs = np.ones((x_funcs.shape[0], degree[i] + 1), dtype=np.float64)\n",
        "    for j in range(degree[i]):\n",
        "        X_funcs[:,j] =  x_funcs ** (degree[i] - j)\n",
        "    y_funcs[i] = np.einsum('ij,j->i', X_funcs, theta_funcs)\n",
        "    coefficients_string = '<br><br><br>' + '<br>'.join([c + f': {np.round(theta_funcs[i], decimals=2)}' for i, c in enumerate('abcdefghijklmnopqrstuvwxyz'[:len(theta_funcs)])])\n",
        "\n",
        "    fig.add_trace(go.Scatter(x=x, y=t, mode='markers', marker=dict(color=\"mediumpurple\")), row=1, col=i + 1)\n",
        "    fig.add_trace(go.Scatter(x=x_funcs, y=np.sin(2*np.pi*x_funcs), mode='lines', line=dict(color=\"lightgreen\")), row=1, col=i + 1)\n",
        "    fig.add_trace(go.Scatter(x=x_funcs, y=y_funcs[i], mode='lines', line=dict(color=\"lightsalmon\")), row=1, col=i + 1)\n",
        "    fig.update_xaxes(title_text=\"x\" + coefficients_string, range = [0,1], row=1, col=i+1)\n",
        "\n",
        "fig.update_layout(showlegend=False)\n",
        "fig.update_yaxes(title_text=\"t\", range = [-5,5])\n",
        "fig.update_layout(height=700, width=1300, title_text=\"Polynomial fits and their coefficients\")\n",
        "fig.show()\n",
        "\n",
        "x, t = temp_x, temp_t"
      ],
      "execution_count": 20,
      "outputs": [
        {
          "output_type": "display_data",
          "data": {
            "text/html": [
              "<html>\n",
              "<head><meta charset=\"utf-8\" /></head>\n",
              "<body>\n",
              "    <div>            <script src=\"https://cdnjs.cloudflare.com/ajax/libs/mathjax/2.7.5/MathJax.js?config=TeX-AMS-MML_SVG\"></script><script type=\"text/javascript\">if (window.MathJax) {MathJax.Hub.Config({SVG: {font: \"STIX-Web\"}});}</script>                <script type=\"text/javascript\">window.PlotlyConfig = {MathJaxConfig: 'local'};</script>\n",
              "        <script src=\"https://cdn.plot.ly/plotly-2.8.3.min.js\"></script>                <div id=\"d84e6cea-95ed-4fb3-9611-617c527208b8\" class=\"plotly-graph-div\" style=\"height:700px; width:1300px;\"></div>            <script type=\"text/javascript\">                                    window.PLOTLYENV=window.PLOTLYENV || {};                                    if (document.getElementById(\"d84e6cea-95ed-4fb3-9611-617c527208b8\")) {                    Plotly.newPlot(                        \"d84e6cea-95ed-4fb3-9611-617c527208b8\",                        [{\"marker\":{\"color\":\"mediumpurple\"},\"mode\":\"markers\",\"x\":[0.7689874151805105,0.944765729882428,0.8496473906774115,0.24734810174319766,0.4505441353100935,0.12915941515149498,0.9540510272587224,0.60617463445088,0.22864280550346272,0.6717006844058567,0.6181282404578958,0.3581627180328405,0.11355759219962902,0.6715731955927996,0.5203077009037933,0.7723183917356393,0.5201635011119934,0.8521815003185401,0.5519068387744855,0.5609379715353863,0.876653602658345,0.40348286621239704,0.13401522845064073,0.028782676313338973,0.755137255673619,0.6203095513534647,0.7040797680992236,0.21296416150891073,0.13637147558676976,0.014544665667881929,0.350587558806597,0.5899176868546331,0.3922440450997323,0.43747492202372906,0.9041586944937484,0.34825546702330035,0.5139894891598108,0.7836530127411431,0.39654278232127016,0.6220867002278735,0.8623637087467452,0.9495206236576421,0.14707348092903794,0.9265876251614944,0.4921162930795382,0.25824438829895835,0.4591357562382613,0.980032575285477,0.4926180939928696,0.3287516102875082,0.6334008543167258,0.24014561877819307,0.07586332810866392,0.12887972191064923,0.12804583895777244,0.15190269351229435,0.13882717264941014,0.6408747448032146,0.18188008439914483,0.3456672833238632,0.8967884099060118,0.47396164026287235,0.6675577385210272,0.17231987120162984,0.19228901880867078,0.04086861626647886,0.16893506307216455,0.2785903390319586,0.17701048427674682,0.08870253375705561,0.12063587110060081,0.46077876803272577,0.2063337184057925,0.36426986104807546,0.5034172708548569],\"y\":[-1.0030869700541025,-0.33590908586968693,-0.7588583526548709,1.1203246932128537,0.3908990511743548,0.6633066347722828,-0.3583531498133372,-0.5607715641460059,0.9362818786731293,-1.0042098367321786,-0.4385126719958622,0.7467477245280314,0.5918341881648834,-1.100238778506168,-0.04211088571582566,-1.0889773770755946,-0.12349031844819512,-0.7040222972411384,-0.4176160263520146,-0.3656494730867589,-0.5473432436158812,0.324267105397709,0.6649542834431234,0.08940852706147241,-1.0181696122117478,-0.6907427190144673,-1.0647907829288896,0.9076092726367068,0.6784593317486224,0.05618075455897162,0.8286638087038088,-0.444333634198128,0.7320300445023946,0.4481924290499091,-0.653844929170768,0.8150815185470195,0.14964753020420118,-0.8762747461282595,0.5611684853204665,-0.535841775506875,-0.7997687561198744,-0.3787203772513928,0.9376459172208558,-0.5760448928372386,-0.14186322126936105,1.0927870849867114,0.25671489178451024,-0.1123936204674302,0.010222971146239185,0.8562091570366543,-0.7892396254269181,0.9354844678255023,0.42062599533230066,0.6827870157700877,0.6376504002327472,0.7614690533445988,0.5155191766759172,-0.7055407665048586,0.948818827197945,0.8162258013680368,-0.5802572056846277,0.19023271314772663,-0.941211380335023,0.8299774391271417,0.9878062917565974,0.274722719684555,1.0773956278067982,1.1458695814367732,0.9899714154236798,0.45275242686289385,0.6309983797664684,0.14374283979857433,0.9905736209047372,0.47904151432814873,-0.06733162397621217],\"type\":\"scatter\",\"xaxis\":\"x\",\"yaxis\":\"y\"},{\"line\":{\"color\":\"lightgreen\"},\"mode\":\"lines\",\"x\":[0.0,0.01,0.02,0.03,0.04,0.05,0.06,0.07,0.08,0.09,0.1,0.11,0.12,0.13,0.14,0.15,0.16,0.17,0.18,0.19,0.2,0.21,0.22,0.23,0.24,0.25,0.26,0.27,0.28,0.29,0.3,0.31,0.32,0.33,0.34,0.35000000000000003,0.36,0.37,0.38,0.39,0.4,0.41000000000000003,0.42,0.43,0.44,0.45,0.46,0.47000000000000003,0.48,0.49,0.5,0.51,0.52,0.53,0.54,0.55,0.56,0.5700000000000001,0.58,0.59,0.6,0.61,0.62,0.63,0.64,0.65,0.66,0.67,0.68,0.6900000000000001,0.7000000000000001,0.71,0.72,0.73,0.74,0.75,0.76,0.77,0.78,0.79,0.8,0.81,0.8200000000000001,0.8300000000000001,0.84,0.85,0.86,0.87,0.88,0.89,0.9,0.91,0.92,0.93,0.9400000000000001,0.9500000000000001,0.96,0.97,0.98,0.99],\"y\":[0.0,0.06279051952931337,0.12533323356430426,0.1873813145857246,0.2486898871648548,0.3090169943749474,0.3681245526846779,0.4257792915650727,0.4817536741017153,0.5358267949789967,0.5877852522924731,0.6374239897486896,0.6845471059286886,0.7289686274214116,0.7705132427757893,0.8090169943749475,0.8443279255020151,0.8763066800438637,0.9048270524660196,0.9297764858882513,0.9510565162951535,0.9685831611286311,0.9822872507286886,0.9921147013144779,0.9980267284282716,1.0,0.9980267284282716,0.9921147013144778,0.9822872507286886,0.9685831611286312,0.9510565162951536,0.9297764858882513,0.9048270524660195,0.8763066800438635,0.844327925502015,0.8090169943749475,0.7705132427757893,0.7289686274214114,0.6845471059286888,0.6374239897486899,0.5877852522924732,0.5358267949789967,0.4817536741017156,0.4257792915650729,0.36812455268467814,0.3090169943749475,0.24868988716485482,0.18738131458572457,0.12533323356430454,0.06279051952931358,1.2246467991473532e-16,-0.06279051952931335,-0.12533323356430429,-0.18738131458572477,-0.24868988716485502,-0.30901699437494773,-0.3681245526846783,-0.42577929156507266,-0.481753674101715,-0.5358267949789964,-0.587785252292473,-0.6374239897486896,-0.6845471059286887,-0.7289686274214113,-0.7705132427757894,-0.8090169943749473,-0.8443279255020153,-0.8763066800438636,-0.9048270524660198,-0.9297764858882515,-0.9510565162951535,-0.968583161128631,-0.9822872507286887,-0.9921147013144778,-0.9980267284282716,-1.0,-0.9980267284282716,-0.9921147013144779,-0.9822872507286887,-0.9685831611286311,-0.9510565162951536,-0.9297764858882512,-0.9048270524660196,-0.8763066800438634,-0.8443279255020155,-0.8090169943749476,-0.7705132427757896,-0.7289686274214116,-0.684547105928689,-0.6374239897486896,-0.5877852522924734,-0.5358267949789963,-0.4817536741017153,-0.4257792915650722,-0.36812455268467786,-0.3090169943749476,-0.24868988716485535,-0.18738131458572468,-0.12533323356430465,-0.06279051952931326],\"type\":\"scatter\",\"xaxis\":\"x\",\"yaxis\":\"y\"},{\"line\":{\"color\":\"lightsalmon\"},\"mode\":\"lines\",\"x\":[0.0,0.01,0.02,0.03,0.04,0.05,0.06,0.07,0.08,0.09,0.1,0.11,0.12,0.13,0.14,0.15,0.16,0.17,0.18,0.19,0.2,0.21,0.22,0.23,0.24,0.25,0.26,0.27,0.28,0.29,0.3,0.31,0.32,0.33,0.34,0.35000000000000003,0.36,0.37,0.38,0.39,0.4,0.41000000000000003,0.42,0.43,0.44,0.45,0.46,0.47000000000000003,0.48,0.49,0.5,0.51,0.52,0.53,0.54,0.55,0.56,0.5700000000000001,0.58,0.59,0.6,0.61,0.62,0.63,0.64,0.65,0.66,0.67,0.68,0.6900000000000001,0.7000000000000001,0.71,0.72,0.73,0.74,0.75,0.76,0.77,0.78,0.79,0.8,0.81,0.8200000000000001,0.8300000000000001,0.84,0.85,0.86,0.87,0.88,0.89,0.9,0.91,0.92,0.93,0.9400000000000001,0.9500000000000001,0.96,0.97,0.98,0.99],\"y\":[1.0149625500050612,0.9955209953352075,0.9760650799758764,0.9565948039270676,0.9371101671887814,0.9176111697610172,0.8980978116437757,0.8785700928370567,0.8590280133408598,0.8394715731551856,0.8199007722800336,0.8003156107154041,0.780716088461297,0.7611022055177125,0.7414739618846502,0.7218313575621103,0.7021743925500927,0.6825030668485976,0.6628173804576252,0.6431173333771749,0.6234029256072471,0.6036741571478417,0.5839310279989588,0.5641735381605982,0.5444016876327602,0.5246154764154445,0.504814904508651,0.4849999719123801,0.46517067862663153,0.4453270246514056,0.4254690099867018,0.4055966346325206,0.38570989858886173,0.3658088018557252,0.34589334443311104,0.32596352632101955,0.3060193475194505,0.2860608080284036,0.26608790784787917,0.24610064697787715,0.22609902541839766,0.20608304316944048,0.18605270023100562,0.1660079966030933,0.1459489322857035,0.125875507278836,0.10578772158249072,0.08568557519666797,0.06556906812136787,0.045438200356589964,0.025292971902334482,0.005133382758601424,-0.015040567074609323,-0.03522887759729754,-0.05543154880946344,-0.0756485807111067,-0.09587997330222775,-0.11612572658282638,-0.13638584055290237,-0.15666031521245616,-0.17694915056148752,-0.19725234659999646,-0.2175699033279831,-0.23790182074544708,-0.25824809885238875,-0.2786087376488081,-0.29898373713470505,-0.31937309731007957,-0.33977681817493166,-0.36019489972926133,-0.3806273419730687,-0.40107414490635307,-0.4215353085291156,-0.44201083284135556,-0.46250071784307323,-0.48300496353426847,-0.5035235699149413,-0.5240565369850917,-0.5446038647447197,-0.5651655531938253,-0.5857416023324082,-0.606332012160469,-0.6269367826780073,-0.6475559138850233,-0.6681894057815165,-0.6888372583674877,-0.7094994716429364,-0.7301760456078628,-0.7508669802622664,-0.7715722756061478,-0.792291931639507,-0.8130259483623435,-0.8337743257746578,-0.8545370638764497,-0.8753141626677191,-0.8961056221484661,-0.9169114423186903,-0.9377316231783924,-0.9585661647275722,-0.9794150669662296],\"type\":\"scatter\",\"xaxis\":\"x\",\"yaxis\":\"y\"},{\"marker\":{\"color\":\"mediumpurple\"},\"mode\":\"markers\",\"x\":[0.7689874151805105,0.944765729882428,0.8496473906774115,0.24734810174319766,0.4505441353100935,0.12915941515149498,0.9540510272587224,0.60617463445088,0.22864280550346272,0.6717006844058567,0.6181282404578958,0.3581627180328405,0.11355759219962902,0.6715731955927996,0.5203077009037933,0.7723183917356393,0.5201635011119934,0.8521815003185401,0.5519068387744855,0.5609379715353863,0.876653602658345,0.40348286621239704,0.13401522845064073,0.028782676313338973,0.755137255673619,0.6203095513534647,0.7040797680992236,0.21296416150891073,0.13637147558676976,0.014544665667881929,0.350587558806597,0.5899176868546331,0.3922440450997323,0.43747492202372906,0.9041586944937484,0.34825546702330035,0.5139894891598108,0.7836530127411431,0.39654278232127016,0.6220867002278735,0.8623637087467452,0.9495206236576421,0.14707348092903794,0.9265876251614944,0.4921162930795382,0.25824438829895835,0.4591357562382613,0.980032575285477,0.4926180939928696,0.3287516102875082,0.6334008543167258,0.24014561877819307,0.07586332810866392,0.12887972191064923,0.12804583895777244,0.15190269351229435,0.13882717264941014,0.6408747448032146,0.18188008439914483,0.3456672833238632,0.8967884099060118,0.47396164026287235,0.6675577385210272,0.17231987120162984,0.19228901880867078,0.04086861626647886,0.16893506307216455,0.2785903390319586,0.17701048427674682,0.08870253375705561,0.12063587110060081,0.46077876803272577,0.2063337184057925,0.36426986104807546,0.5034172708548569],\"y\":[-1.0030869700541025,-0.33590908586968693,-0.7588583526548709,1.1203246932128537,0.3908990511743548,0.6633066347722828,-0.3583531498133372,-0.5607715641460059,0.9362818786731293,-1.0042098367321786,-0.4385126719958622,0.7467477245280314,0.5918341881648834,-1.100238778506168,-0.04211088571582566,-1.0889773770755946,-0.12349031844819512,-0.7040222972411384,-0.4176160263520146,-0.3656494730867589,-0.5473432436158812,0.324267105397709,0.6649542834431234,0.08940852706147241,-1.0181696122117478,-0.6907427190144673,-1.0647907829288896,0.9076092726367068,0.6784593317486224,0.05618075455897162,0.8286638087038088,-0.444333634198128,0.7320300445023946,0.4481924290499091,-0.653844929170768,0.8150815185470195,0.14964753020420118,-0.8762747461282595,0.5611684853204665,-0.535841775506875,-0.7997687561198744,-0.3787203772513928,0.9376459172208558,-0.5760448928372386,-0.14186322126936105,1.0927870849867114,0.25671489178451024,-0.1123936204674302,0.010222971146239185,0.8562091570366543,-0.7892396254269181,0.9354844678255023,0.42062599533230066,0.6827870157700877,0.6376504002327472,0.7614690533445988,0.5155191766759172,-0.7055407665048586,0.948818827197945,0.8162258013680368,-0.5802572056846277,0.19023271314772663,-0.941211380335023,0.8299774391271417,0.9878062917565974,0.274722719684555,1.0773956278067982,1.1458695814367732,0.9899714154236798,0.45275242686289385,0.6309983797664684,0.14374283979857433,0.9905736209047372,0.47904151432814873,-0.06733162397621217],\"type\":\"scatter\",\"xaxis\":\"x2\",\"yaxis\":\"y2\"},{\"line\":{\"color\":\"lightgreen\"},\"mode\":\"lines\",\"x\":[0.0,0.01,0.02,0.03,0.04,0.05,0.06,0.07,0.08,0.09,0.1,0.11,0.12,0.13,0.14,0.15,0.16,0.17,0.18,0.19,0.2,0.21,0.22,0.23,0.24,0.25,0.26,0.27,0.28,0.29,0.3,0.31,0.32,0.33,0.34,0.35000000000000003,0.36,0.37,0.38,0.39,0.4,0.41000000000000003,0.42,0.43,0.44,0.45,0.46,0.47000000000000003,0.48,0.49,0.5,0.51,0.52,0.53,0.54,0.55,0.56,0.5700000000000001,0.58,0.59,0.6,0.61,0.62,0.63,0.64,0.65,0.66,0.67,0.68,0.6900000000000001,0.7000000000000001,0.71,0.72,0.73,0.74,0.75,0.76,0.77,0.78,0.79,0.8,0.81,0.8200000000000001,0.8300000000000001,0.84,0.85,0.86,0.87,0.88,0.89,0.9,0.91,0.92,0.93,0.9400000000000001,0.9500000000000001,0.96,0.97,0.98,0.99],\"y\":[0.0,0.06279051952931337,0.12533323356430426,0.1873813145857246,0.2486898871648548,0.3090169943749474,0.3681245526846779,0.4257792915650727,0.4817536741017153,0.5358267949789967,0.5877852522924731,0.6374239897486896,0.6845471059286886,0.7289686274214116,0.7705132427757893,0.8090169943749475,0.8443279255020151,0.8763066800438637,0.9048270524660196,0.9297764858882513,0.9510565162951535,0.9685831611286311,0.9822872507286886,0.9921147013144779,0.9980267284282716,1.0,0.9980267284282716,0.9921147013144778,0.9822872507286886,0.9685831611286312,0.9510565162951536,0.9297764858882513,0.9048270524660195,0.8763066800438635,0.844327925502015,0.8090169943749475,0.7705132427757893,0.7289686274214114,0.6845471059286888,0.6374239897486899,0.5877852522924732,0.5358267949789967,0.4817536741017156,0.4257792915650729,0.36812455268467814,0.3090169943749475,0.24868988716485482,0.18738131458572457,0.12533323356430454,0.06279051952931358,1.2246467991473532e-16,-0.06279051952931335,-0.12533323356430429,-0.18738131458572477,-0.24868988716485502,-0.30901699437494773,-0.3681245526846783,-0.42577929156507266,-0.481753674101715,-0.5358267949789964,-0.587785252292473,-0.6374239897486896,-0.6845471059286887,-0.7289686274214113,-0.7705132427757894,-0.8090169943749473,-0.8443279255020153,-0.8763066800438636,-0.9048270524660198,-0.9297764858882515,-0.9510565162951535,-0.968583161128631,-0.9822872507286887,-0.9921147013144778,-0.9980267284282716,-1.0,-0.9980267284282716,-0.9921147013144779,-0.9822872507286887,-0.9685831611286311,-0.9510565162951536,-0.9297764858882512,-0.9048270524660196,-0.8763066800438634,-0.8443279255020155,-0.8090169943749476,-0.7705132427757896,-0.7289686274214116,-0.684547105928689,-0.6374239897486896,-0.5877852522924734,-0.5358267949789963,-0.4817536741017153,-0.4257792915650722,-0.36812455268467786,-0.3090169943749476,-0.24868988716485535,-0.18738131458572468,-0.12533323356430465,-0.06279051952931326],\"type\":\"scatter\",\"xaxis\":\"x2\",\"yaxis\":\"y2\"},{\"line\":{\"color\":\"lightsalmon\"},\"mode\":\"lines\",\"x\":[0.0,0.01,0.02,0.03,0.04,0.05,0.06,0.07,0.08,0.09,0.1,0.11,0.12,0.13,0.14,0.15,0.16,0.17,0.18,0.19,0.2,0.21,0.22,0.23,0.24,0.25,0.26,0.27,0.28,0.29,0.3,0.31,0.32,0.33,0.34,0.35000000000000003,0.36,0.37,0.38,0.39,0.4,0.41000000000000003,0.42,0.43,0.44,0.45,0.46,0.47000000000000003,0.48,0.49,0.5,0.51,0.52,0.53,0.54,0.55,0.56,0.5700000000000001,0.58,0.59,0.6,0.61,0.62,0.63,0.64,0.65,0.66,0.67,0.68,0.6900000000000001,0.7000000000000001,0.71,0.72,0.73,0.74,0.75,0.76,0.77,0.78,0.79,0.8,0.81,0.8200000000000001,0.8300000000000001,0.84,0.85,0.86,0.87,0.88,0.89,0.9,0.91,0.92,0.93,0.9400000000000001,0.9500000000000001,0.96,0.97,0.98,0.99],\"y\":[-0.03325517263984601,0.01845446091263247,0.07325114346767017,0.13039649840105802,0.1891986283686562,0.24901080255197539,0.3092301569014738,0.3692964073775722,0.4286905761893845,0.48693373103116644,0.5435857373164799,0.5982440234100749,0.6505423588574883,0.7001496456123588,0.7467687222614593,0.7901351812474458,0.8300161990893226,0.8662093796006268,0.8985416101053254,0.9268679306514334,0.9510704162223458,0.9710570719458878,0.9867607413010817,0.998138027322631,1.0051682268031195,1.0078522774929284,1.0062117182978725,1.0002876624745498,0.9901397838234072,0.9758453158795279,0.9574980641011326,0.9352074310557938,0.9090974546043764,0.8793058590826854,0.8459831194808372,0.8092915386203385,0.7694043373289006,0.7265047576129486,0.6807851788278558,0.6324462468459089,0.5816960162219589,0.5287491053568321,0.4738258646584068,0.4171515577004481,0.35895555537914703,0.29947054306735943,0.2389317407666045,0.1775761362567181,0.11564173124326693,0.053366800502693934,-0.00901083597487684,-0.07125452784505981,-0.1331294962709535,-0.19440352278716233,-0.2548476251660503,-0.31423672028636673,-0.37235027400407006,-0.42897293802549186,-0.4838951737827806,-0.5369138633115611,-0.5878329071309807,-0.6364638091259778,-0.682626248431788,-0.7261486383208577,-0.7668686720919737,-0.8046338559615833,-0.8393020289575972,-0.8707418698152836,-0.8988333908755592,-0.9234684189855784,-0.9445510634014411,-0.961998170693434,-0.9757397666533336,-0.9857194852041289,-0.9918949843119265,-0.9942383489002538,-0.9927364807665668,-0.9873914755010418,-0.9782209864076492,-0.9652585754275975,-0.9485540510649173,-0.9281737933143859,-0.9042010655919057,-0.8767363136668109,-0.8458974515967697,-0.8118201346648846,-0.7746580193189061,-0.7345830101130559,-0.6917854936518211,-0.6464745595362444,-0.5988782083122715,-0.5492435464216783,-0.4978369681551271,-0.444944324607377,-0.3908710796349908,-0.3359424528163686,-0.2805035494134529,-0.2249194773369254,-0.16957545111222316,-0.11487688284935871],\"type\":\"scatter\",\"xaxis\":\"x2\",\"yaxis\":\"y2\"},{\"marker\":{\"color\":\"mediumpurple\"},\"mode\":\"markers\",\"x\":[0.7689874151805105,0.944765729882428,0.8496473906774115,0.24734810174319766,0.4505441353100935,0.12915941515149498,0.9540510272587224,0.60617463445088,0.22864280550346272,0.6717006844058567,0.6181282404578958,0.3581627180328405,0.11355759219962902,0.6715731955927996,0.5203077009037933,0.7723183917356393,0.5201635011119934,0.8521815003185401,0.5519068387744855,0.5609379715353863,0.876653602658345,0.40348286621239704,0.13401522845064073,0.028782676313338973,0.755137255673619,0.6203095513534647,0.7040797680992236,0.21296416150891073,0.13637147558676976,0.014544665667881929,0.350587558806597,0.5899176868546331,0.3922440450997323,0.43747492202372906,0.9041586944937484,0.34825546702330035,0.5139894891598108,0.7836530127411431,0.39654278232127016,0.6220867002278735,0.8623637087467452,0.9495206236576421,0.14707348092903794,0.9265876251614944,0.4921162930795382,0.25824438829895835,0.4591357562382613,0.980032575285477,0.4926180939928696,0.3287516102875082,0.6334008543167258,0.24014561877819307,0.07586332810866392,0.12887972191064923,0.12804583895777244,0.15190269351229435,0.13882717264941014,0.6408747448032146,0.18188008439914483,0.3456672833238632,0.8967884099060118,0.47396164026287235,0.6675577385210272,0.17231987120162984,0.19228901880867078,0.04086861626647886,0.16893506307216455,0.2785903390319586,0.17701048427674682,0.08870253375705561,0.12063587110060081,0.46077876803272577,0.2063337184057925,0.36426986104807546,0.5034172708548569],\"y\":[-1.0030869700541025,-0.33590908586968693,-0.7588583526548709,1.1203246932128537,0.3908990511743548,0.6633066347722828,-0.3583531498133372,-0.5607715641460059,0.9362818786731293,-1.0042098367321786,-0.4385126719958622,0.7467477245280314,0.5918341881648834,-1.100238778506168,-0.04211088571582566,-1.0889773770755946,-0.12349031844819512,-0.7040222972411384,-0.4176160263520146,-0.3656494730867589,-0.5473432436158812,0.324267105397709,0.6649542834431234,0.08940852706147241,-1.0181696122117478,-0.6907427190144673,-1.0647907829288896,0.9076092726367068,0.6784593317486224,0.05618075455897162,0.8286638087038088,-0.444333634198128,0.7320300445023946,0.4481924290499091,-0.653844929170768,0.8150815185470195,0.14964753020420118,-0.8762747461282595,0.5611684853204665,-0.535841775506875,-0.7997687561198744,-0.3787203772513928,0.9376459172208558,-0.5760448928372386,-0.14186322126936105,1.0927870849867114,0.25671489178451024,-0.1123936204674302,0.010222971146239185,0.8562091570366543,-0.7892396254269181,0.9354844678255023,0.42062599533230066,0.6827870157700877,0.6376504002327472,0.7614690533445988,0.5155191766759172,-0.7055407665048586,0.948818827197945,0.8162258013680368,-0.5802572056846277,0.19023271314772663,-0.941211380335023,0.8299774391271417,0.9878062917565974,0.274722719684555,1.0773956278067982,1.1458695814367732,0.9899714154236798,0.45275242686289385,0.6309983797664684,0.14374283979857433,0.9905736209047372,0.47904151432814873,-0.06733162397621217],\"type\":\"scatter\",\"xaxis\":\"x3\",\"yaxis\":\"y3\"},{\"line\":{\"color\":\"lightgreen\"},\"mode\":\"lines\",\"x\":[0.0,0.01,0.02,0.03,0.04,0.05,0.06,0.07,0.08,0.09,0.1,0.11,0.12,0.13,0.14,0.15,0.16,0.17,0.18,0.19,0.2,0.21,0.22,0.23,0.24,0.25,0.26,0.27,0.28,0.29,0.3,0.31,0.32,0.33,0.34,0.35000000000000003,0.36,0.37,0.38,0.39,0.4,0.41000000000000003,0.42,0.43,0.44,0.45,0.46,0.47000000000000003,0.48,0.49,0.5,0.51,0.52,0.53,0.54,0.55,0.56,0.5700000000000001,0.58,0.59,0.6,0.61,0.62,0.63,0.64,0.65,0.66,0.67,0.68,0.6900000000000001,0.7000000000000001,0.71,0.72,0.73,0.74,0.75,0.76,0.77,0.78,0.79,0.8,0.81,0.8200000000000001,0.8300000000000001,0.84,0.85,0.86,0.87,0.88,0.89,0.9,0.91,0.92,0.93,0.9400000000000001,0.9500000000000001,0.96,0.97,0.98,0.99],\"y\":[0.0,0.06279051952931337,0.12533323356430426,0.1873813145857246,0.2486898871648548,0.3090169943749474,0.3681245526846779,0.4257792915650727,0.4817536741017153,0.5358267949789967,0.5877852522924731,0.6374239897486896,0.6845471059286886,0.7289686274214116,0.7705132427757893,0.8090169943749475,0.8443279255020151,0.8763066800438637,0.9048270524660196,0.9297764858882513,0.9510565162951535,0.9685831611286311,0.9822872507286886,0.9921147013144779,0.9980267284282716,1.0,0.9980267284282716,0.9921147013144778,0.9822872507286886,0.9685831611286312,0.9510565162951536,0.9297764858882513,0.9048270524660195,0.8763066800438635,0.844327925502015,0.8090169943749475,0.7705132427757893,0.7289686274214114,0.6845471059286888,0.6374239897486899,0.5877852522924732,0.5358267949789967,0.4817536741017156,0.4257792915650729,0.36812455268467814,0.3090169943749475,0.24868988716485482,0.18738131458572457,0.12533323356430454,0.06279051952931358,1.2246467991473532e-16,-0.06279051952931335,-0.12533323356430429,-0.18738131458572477,-0.24868988716485502,-0.30901699437494773,-0.3681245526846783,-0.42577929156507266,-0.481753674101715,-0.5358267949789964,-0.587785252292473,-0.6374239897486896,-0.6845471059286887,-0.7289686274214113,-0.7705132427757894,-0.8090169943749473,-0.8443279255020153,-0.8763066800438636,-0.9048270524660198,-0.9297764858882515,-0.9510565162951535,-0.968583161128631,-0.9822872507286887,-0.9921147013144778,-0.9980267284282716,-1.0,-0.9980267284282716,-0.9921147013144779,-0.9822872507286887,-0.9685831611286311,-0.9510565162951536,-0.9297764858882512,-0.9048270524660196,-0.8763066800438634,-0.8443279255020155,-0.8090169943749476,-0.7705132427757896,-0.7289686274214116,-0.684547105928689,-0.6374239897486896,-0.5877852522924734,-0.5358267949789963,-0.4817536741017153,-0.4257792915650722,-0.36812455268467786,-0.3090169943749476,-0.24868988716485535,-0.18738131458572468,-0.12533323356430465,-0.06279051952931326],\"type\":\"scatter\",\"xaxis\":\"x3\",\"yaxis\":\"y3\"},{\"line\":{\"color\":\"lightsalmon\"},\"mode\":\"lines\",\"x\":[0.0,0.01,0.02,0.03,0.04,0.05,0.06,0.07,0.08,0.09,0.1,0.11,0.12,0.13,0.14,0.15,0.16,0.17,0.18,0.19,0.2,0.21,0.22,0.23,0.24,0.25,0.26,0.27,0.28,0.29,0.3,0.31,0.32,0.33,0.34,0.35000000000000003,0.36,0.37,0.38,0.39,0.4,0.41000000000000003,0.42,0.43,0.44,0.45,0.46,0.47000000000000003,0.48,0.49,0.5,0.51,0.52,0.53,0.54,0.55,0.56,0.5700000000000001,0.58,0.59,0.6,0.61,0.62,0.63,0.64,0.65,0.66,0.67,0.68,0.6900000000000001,0.7000000000000001,0.71,0.72,0.73,0.74,0.75,0.76,0.77,0.78,0.79,0.8,0.81,0.8200000000000001,0.8300000000000001,0.84,0.85,0.86,0.87,0.88,0.89,0.9,0.91,0.92,0.93,0.9400000000000001,0.9500000000000001,0.96,0.97,0.98,0.99],\"y\":[-0.1393503900886941,0.04139780863962991,0.1608648456975802,0.2418658803719277,0.3005836175654424,0.3480856221346764,0.39156460548622896,0.43534065675935807,0.48166062292589906,0.5313262232640596,0.5841790343297877,0.6394672180331487,0.6961158001825964,0.7529194488340067,0.8086740567162849,0.8622610027301221,0.9126957542286007,0.9591504723257032,1.0009584925797839,1.0376069669525094,1.0687225622334893,1.0940539060458718,1.1134534438535297,1.1268605078726068,1.1342866894780173,1.1358040380853254,1.1315361686495748,1.1216520337494558,1.106361891507845,1.0859148642638274,1.060597422027854,1.0307321268551277,0.9966760272186548,0.9588181837925731,0.9175759289350935,0.8733896014446145,0.8267156466395136,0.7780181210532646,0.727758783599711,0.6763860844816918,0.6243234739636137,0.5719575408556921,0.5196265520107772,0.46760999674279446,0.41611974272018415,0.36529338219224883,0.3151902901754511,0.2657908310447965,0.21699903940680088,0.16864896871447854,0.12051475072439644,0.07232424572976015,0.023775992736773333,-0.02544100362501922,-0.07562528014750569,-0.12703950312061352,-0.1798865630516957,-0.23428621510902303,-0.2902533876549569,-0.3476793260269915,-0.40631674264295725,-0.4657700984753319,-0.525492045613646,-0.5847869086574065,-0.6428218765795464,-0.6986463129433105,-0.7512192751892144,-0.7994449662655825,-0.8422154292202322,-0.8784593487798702,-0.9071953505335841,-0.9275877097679768,-0.9390019075071905,-0.9410570309992181,-0.9336716304533184,-0.9170993467705557,-0.8919504466030048,-0.8591953906288836,-0.8201467505132314,-0.7764162486419082,-0.7298444582847878,-0.6824018596671522,-0.6360615455487277,-0.5926460081827827,-0.5536531907564495,-0.5200704517483246,-0.4921893708524294,-0.4694395368278492,-0.45026571603375487,-0.43208024896739516,-0.4113312886620406,-0.38373775348009076,-0.344753760167805,-0.29033903406889294,-0.2181275276489032,-0.12910444165754598,-0.029922238099970855,0.06399069490726106,0.1243490963242948,0.10474880173569545],\"type\":\"scatter\",\"xaxis\":\"x3\",\"yaxis\":\"y3\"}],                        {\"template\":{\"data\":{\"bar\":[{\"error_x\":{\"color\":\"#2a3f5f\"},\"error_y\":{\"color\":\"#2a3f5f\"},\"marker\":{\"line\":{\"color\":\"#E5ECF6\",\"width\":0.5},\"pattern\":{\"fillmode\":\"overlay\",\"size\":10,\"solidity\":0.2}},\"type\":\"bar\"}],\"barpolar\":[{\"marker\":{\"line\":{\"color\":\"#E5ECF6\",\"width\":0.5},\"pattern\":{\"fillmode\":\"overlay\",\"size\":10,\"solidity\":0.2}},\"type\":\"barpolar\"}],\"carpet\":[{\"aaxis\":{\"endlinecolor\":\"#2a3f5f\",\"gridcolor\":\"white\",\"linecolor\":\"white\",\"minorgridcolor\":\"white\",\"startlinecolor\":\"#2a3f5f\"},\"baxis\":{\"endlinecolor\":\"#2a3f5f\",\"gridcolor\":\"white\",\"linecolor\":\"white\",\"minorgridcolor\":\"white\",\"startlinecolor\":\"#2a3f5f\"},\"type\":\"carpet\"}],\"choropleth\":[{\"colorbar\":{\"outlinewidth\":0,\"ticks\":\"\"},\"type\":\"choropleth\"}],\"contour\":[{\"colorbar\":{\"outlinewidth\":0,\"ticks\":\"\"},\"colorscale\":[[0.0,\"#0d0887\"],[0.1111111111111111,\"#46039f\"],[0.2222222222222222,\"#7201a8\"],[0.3333333333333333,\"#9c179e\"],[0.4444444444444444,\"#bd3786\"],[0.5555555555555556,\"#d8576b\"],[0.6666666666666666,\"#ed7953\"],[0.7777777777777778,\"#fb9f3a\"],[0.8888888888888888,\"#fdca26\"],[1.0,\"#f0f921\"]],\"type\":\"contour\"}],\"contourcarpet\":[{\"colorbar\":{\"outlinewidth\":0,\"ticks\":\"\"},\"type\":\"contourcarpet\"}],\"heatmap\":[{\"colorbar\":{\"outlinewidth\":0,\"ticks\":\"\"},\"colorscale\":[[0.0,\"#0d0887\"],[0.1111111111111111,\"#46039f\"],[0.2222222222222222,\"#7201a8\"],[0.3333333333333333,\"#9c179e\"],[0.4444444444444444,\"#bd3786\"],[0.5555555555555556,\"#d8576b\"],[0.6666666666666666,\"#ed7953\"],[0.7777777777777778,\"#fb9f3a\"],[0.8888888888888888,\"#fdca26\"],[1.0,\"#f0f921\"]],\"type\":\"heatmap\"}],\"heatmapgl\":[{\"colorbar\":{\"outlinewidth\":0,\"ticks\":\"\"},\"colorscale\":[[0.0,\"#0d0887\"],[0.1111111111111111,\"#46039f\"],[0.2222222222222222,\"#7201a8\"],[0.3333333333333333,\"#9c179e\"],[0.4444444444444444,\"#bd3786\"],[0.5555555555555556,\"#d8576b\"],[0.6666666666666666,\"#ed7953\"],[0.7777777777777778,\"#fb9f3a\"],[0.8888888888888888,\"#fdca26\"],[1.0,\"#f0f921\"]],\"type\":\"heatmapgl\"}],\"histogram\":[{\"marker\":{\"pattern\":{\"fillmode\":\"overlay\",\"size\":10,\"solidity\":0.2}},\"type\":\"histogram\"}],\"histogram2d\":[{\"colorbar\":{\"outlinewidth\":0,\"ticks\":\"\"},\"colorscale\":[[0.0,\"#0d0887\"],[0.1111111111111111,\"#46039f\"],[0.2222222222222222,\"#7201a8\"],[0.3333333333333333,\"#9c179e\"],[0.4444444444444444,\"#bd3786\"],[0.5555555555555556,\"#d8576b\"],[0.6666666666666666,\"#ed7953\"],[0.7777777777777778,\"#fb9f3a\"],[0.8888888888888888,\"#fdca26\"],[1.0,\"#f0f921\"]],\"type\":\"histogram2d\"}],\"histogram2dcontour\":[{\"colorbar\":{\"outlinewidth\":0,\"ticks\":\"\"},\"colorscale\":[[0.0,\"#0d0887\"],[0.1111111111111111,\"#46039f\"],[0.2222222222222222,\"#7201a8\"],[0.3333333333333333,\"#9c179e\"],[0.4444444444444444,\"#bd3786\"],[0.5555555555555556,\"#d8576b\"],[0.6666666666666666,\"#ed7953\"],[0.7777777777777778,\"#fb9f3a\"],[0.8888888888888888,\"#fdca26\"],[1.0,\"#f0f921\"]],\"type\":\"histogram2dcontour\"}],\"mesh3d\":[{\"colorbar\":{\"outlinewidth\":0,\"ticks\":\"\"},\"type\":\"mesh3d\"}],\"parcoords\":[{\"line\":{\"colorbar\":{\"outlinewidth\":0,\"ticks\":\"\"}},\"type\":\"parcoords\"}],\"pie\":[{\"automargin\":true,\"type\":\"pie\"}],\"scatter\":[{\"marker\":{\"colorbar\":{\"outlinewidth\":0,\"ticks\":\"\"}},\"type\":\"scatter\"}],\"scatter3d\":[{\"line\":{\"colorbar\":{\"outlinewidth\":0,\"ticks\":\"\"}},\"marker\":{\"colorbar\":{\"outlinewidth\":0,\"ticks\":\"\"}},\"type\":\"scatter3d\"}],\"scattercarpet\":[{\"marker\":{\"colorbar\":{\"outlinewidth\":0,\"ticks\":\"\"}},\"type\":\"scattercarpet\"}],\"scattergeo\":[{\"marker\":{\"colorbar\":{\"outlinewidth\":0,\"ticks\":\"\"}},\"type\":\"scattergeo\"}],\"scattergl\":[{\"marker\":{\"colorbar\":{\"outlinewidth\":0,\"ticks\":\"\"}},\"type\":\"scattergl\"}],\"scattermapbox\":[{\"marker\":{\"colorbar\":{\"outlinewidth\":0,\"ticks\":\"\"}},\"type\":\"scattermapbox\"}],\"scatterpolar\":[{\"marker\":{\"colorbar\":{\"outlinewidth\":0,\"ticks\":\"\"}},\"type\":\"scatterpolar\"}],\"scatterpolargl\":[{\"marker\":{\"colorbar\":{\"outlinewidth\":0,\"ticks\":\"\"}},\"type\":\"scatterpolargl\"}],\"scatterternary\":[{\"marker\":{\"colorbar\":{\"outlinewidth\":0,\"ticks\":\"\"}},\"type\":\"scatterternary\"}],\"surface\":[{\"colorbar\":{\"outlinewidth\":0,\"ticks\":\"\"},\"colorscale\":[[0.0,\"#0d0887\"],[0.1111111111111111,\"#46039f\"],[0.2222222222222222,\"#7201a8\"],[0.3333333333333333,\"#9c179e\"],[0.4444444444444444,\"#bd3786\"],[0.5555555555555556,\"#d8576b\"],[0.6666666666666666,\"#ed7953\"],[0.7777777777777778,\"#fb9f3a\"],[0.8888888888888888,\"#fdca26\"],[1.0,\"#f0f921\"]],\"type\":\"surface\"}],\"table\":[{\"cells\":{\"fill\":{\"color\":\"#EBF0F8\"},\"line\":{\"color\":\"white\"}},\"header\":{\"fill\":{\"color\":\"#C8D4E3\"},\"line\":{\"color\":\"white\"}},\"type\":\"table\"}]},\"layout\":{\"annotationdefaults\":{\"arrowcolor\":\"#2a3f5f\",\"arrowhead\":0,\"arrowwidth\":1},\"autotypenumbers\":\"strict\",\"coloraxis\":{\"colorbar\":{\"outlinewidth\":0,\"ticks\":\"\"}},\"colorscale\":{\"diverging\":[[0,\"#8e0152\"],[0.1,\"#c51b7d\"],[0.2,\"#de77ae\"],[0.3,\"#f1b6da\"],[0.4,\"#fde0ef\"],[0.5,\"#f7f7f7\"],[0.6,\"#e6f5d0\"],[0.7,\"#b8e186\"],[0.8,\"#7fbc41\"],[0.9,\"#4d9221\"],[1,\"#276419\"]],\"sequential\":[[0.0,\"#0d0887\"],[0.1111111111111111,\"#46039f\"],[0.2222222222222222,\"#7201a8\"],[0.3333333333333333,\"#9c179e\"],[0.4444444444444444,\"#bd3786\"],[0.5555555555555556,\"#d8576b\"],[0.6666666666666666,\"#ed7953\"],[0.7777777777777778,\"#fb9f3a\"],[0.8888888888888888,\"#fdca26\"],[1.0,\"#f0f921\"]],\"sequentialminus\":[[0.0,\"#0d0887\"],[0.1111111111111111,\"#46039f\"],[0.2222222222222222,\"#7201a8\"],[0.3333333333333333,\"#9c179e\"],[0.4444444444444444,\"#bd3786\"],[0.5555555555555556,\"#d8576b\"],[0.6666666666666666,\"#ed7953\"],[0.7777777777777778,\"#fb9f3a\"],[0.8888888888888888,\"#fdca26\"],[1.0,\"#f0f921\"]]},\"colorway\":[\"#636efa\",\"#EF553B\",\"#00cc96\",\"#ab63fa\",\"#FFA15A\",\"#19d3f3\",\"#FF6692\",\"#B6E880\",\"#FF97FF\",\"#FECB52\"],\"font\":{\"color\":\"#2a3f5f\"},\"geo\":{\"bgcolor\":\"white\",\"lakecolor\":\"white\",\"landcolor\":\"#E5ECF6\",\"showlakes\":true,\"showland\":true,\"subunitcolor\":\"white\"},\"hoverlabel\":{\"align\":\"left\"},\"hovermode\":\"closest\",\"mapbox\":{\"style\":\"light\"},\"paper_bgcolor\":\"white\",\"plot_bgcolor\":\"#E5ECF6\",\"polar\":{\"angularaxis\":{\"gridcolor\":\"white\",\"linecolor\":\"white\",\"ticks\":\"\"},\"bgcolor\":\"#E5ECF6\",\"radialaxis\":{\"gridcolor\":\"white\",\"linecolor\":\"white\",\"ticks\":\"\"}},\"scene\":{\"xaxis\":{\"backgroundcolor\":\"#E5ECF6\",\"gridcolor\":\"white\",\"gridwidth\":2,\"linecolor\":\"white\",\"showbackground\":true,\"ticks\":\"\",\"zerolinecolor\":\"white\"},\"yaxis\":{\"backgroundcolor\":\"#E5ECF6\",\"gridcolor\":\"white\",\"gridwidth\":2,\"linecolor\":\"white\",\"showbackground\":true,\"ticks\":\"\",\"zerolinecolor\":\"white\"},\"zaxis\":{\"backgroundcolor\":\"#E5ECF6\",\"gridcolor\":\"white\",\"gridwidth\":2,\"linecolor\":\"white\",\"showbackground\":true,\"ticks\":\"\",\"zerolinecolor\":\"white\"}},\"shapedefaults\":{\"line\":{\"color\":\"#2a3f5f\"}},\"ternary\":{\"aaxis\":{\"gridcolor\":\"white\",\"linecolor\":\"white\",\"ticks\":\"\"},\"baxis\":{\"gridcolor\":\"white\",\"linecolor\":\"white\",\"ticks\":\"\"},\"bgcolor\":\"#E5ECF6\",\"caxis\":{\"gridcolor\":\"white\",\"linecolor\":\"white\",\"ticks\":\"\"}},\"title\":{\"x\":0.05},\"xaxis\":{\"automargin\":true,\"gridcolor\":\"white\",\"linecolor\":\"white\",\"ticks\":\"\",\"title\":{\"standoff\":15},\"zerolinecolor\":\"white\",\"zerolinewidth\":2},\"yaxis\":{\"automargin\":true,\"gridcolor\":\"white\",\"linecolor\":\"white\",\"ticks\":\"\",\"title\":{\"standoff\":15},\"zerolinecolor\":\"white\",\"zerolinewidth\":2}}},\"xaxis\":{\"anchor\":\"y\",\"domain\":[0.0,0.2888888888888889],\"title\":{\"text\":\"x<br><br><br>a: -0.07<br>b: -1.94<br>c: 1.01\"},\"range\":[0,1]},\"yaxis\":{\"anchor\":\"x\",\"domain\":[0.0,1.0],\"title\":{\"text\":\"t\"},\"range\":[-5,5]},\"xaxis2\":{\"anchor\":\"y2\",\"domain\":[0.35555555555555557,0.6444444444444445],\"title\":{\"text\":\"x<br><br><br>a: 18.05<br>b: -112.1<br>c: 204.76<br>d: -135.07<br>e: 19.35<br>f: 4.99<br>g: -0.03\"},\"range\":[0,1]},\"yaxis2\":{\"anchor\":\"x2\",\"domain\":[0.0,1.0],\"title\":{\"text\":\"t\"},\"range\":[-5,5]},\"xaxis3\":{\"anchor\":\"y3\",\"domain\":[0.7111111111111111,1.0],\"title\":{\"text\":\"x<br><br><br>a: -166823.86<br>b: 804943.09<br>c: -1528788.59<br>d: 1272842.5<br>e: -2592.69<br>f: -1012139.24<br>g: 1050223.61<br>h: -578642.11<br>i: 199593.93<br>j: -44183.85<br>k: 6003.59<br>l: -458.41<br>m: 22.1<br>n: -0.14\"},\"range\":[0,1]},\"yaxis3\":{\"anchor\":\"x3\",\"domain\":[0.0,1.0],\"title\":{\"text\":\"t\"},\"range\":[-5,5]},\"annotations\":[{\"font\":{\"size\":16},\"showarrow\":false,\"text\":\"poly2 fit\",\"x\":0.14444444444444446,\"xanchor\":\"center\",\"xref\":\"paper\",\"y\":1.0,\"yanchor\":\"bottom\",\"yref\":\"paper\"},{\"font\":{\"size\":16},\"showarrow\":false,\"text\":\"poly6 fit\",\"x\":0.5,\"xanchor\":\"center\",\"xref\":\"paper\",\"y\":1.0,\"yanchor\":\"bottom\",\"yref\":\"paper\"},{\"font\":{\"size\":16},\"showarrow\":false,\"text\":\"poly13 fit\",\"x\":0.8555555555555556,\"xanchor\":\"center\",\"xref\":\"paper\",\"y\":1.0,\"yanchor\":\"bottom\",\"yref\":\"paper\"}],\"showlegend\":false,\"title\":{\"text\":\"Polynomial fits and their coefficients\"},\"height\":700,\"width\":1300},                        {\"responsive\": true}                    ).then(function(){\n",
              "                            \n",
              "var gd = document.getElementById('d84e6cea-95ed-4fb3-9611-617c527208b8');\n",
              "var x = new MutationObserver(function (mutations, observer) {{\n",
              "        var display = window.getComputedStyle(gd).display;\n",
              "        if (!display || display === 'none') {{\n",
              "            console.log([gd, 'removed!']);\n",
              "            Plotly.purge(gd);\n",
              "            observer.disconnect();\n",
              "        }}\n",
              "}});\n",
              "\n",
              "// Listen for the removal of the full notebook cells\n",
              "var notebookContainer = gd.closest('#notebook-container');\n",
              "if (notebookContainer) {{\n",
              "    x.observe(notebookContainer, {childList: true});\n",
              "}}\n",
              "\n",
              "// Listen for the clearing of the current output cell\n",
              "var outputEl = gd.closest('.output');\n",
              "if (outputEl) {{\n",
              "    x.observe(outputEl, {childList: true});\n",
              "}}\n",
              "\n",
              "                        })                };                            </script>        </div>\n",
              "</body>\n",
              "</html>"
            ]
          },
          "metadata": {}
        }
      ]
    },
    {
      "cell_type": "markdown",
      "metadata": {
        "id": "AdW9hYYgPAey"
      },
      "source": [
        "Nevertheless we do not always have access to more data. Usually our goal is precisely to learn a general rule from a *few* samples, take for instance the [ARC challenge](https://www.kaggle.com/c/abstraction-and-reasoning-challenge/overview).\n",
        "\n",
        "Indeed intelligence seems more related to the (small) ratio between the amount of available data and the prediction performance, rather than just to the prediction performance.\n",
        "\n",
        "Have you noticed the huge value of $\\theta$ parameters in the cases of overfitting? Aren't the coefficients of the high order terms in the taylor expansion of the $\\sin$ function smaller and smaller?\n",
        "What if we try to discourage this behaviour adding to the loss a penalization term proportional to the norm of $\\theta$?\n",
        "\n",
        "You have already seen this very common regularization technique in the slides:\n",
        "$$E'(\\theta) = \\lambda \\|\\theta\\|^2 + \\frac{1}{N} \\sum_{i=1}^N(f_\\theta(x_i) - t_i)^2$$\n",
        "\n",
        "> 📖 **EXERCISE**: Obtain the vectorized closed form solution for $\\theta$ that minimizes $E'$. (The one for $E$ was $\\theta = (X^TX)^{-1}X^T\\mathbf{y}$)\n",
        ">\n",
        "> **Hint**: This is the first step\n",
        "> $$ E'(\\theta) = (\\mathbf{y} - X\\theta)^T(\\mathbf{y} - X\\theta) + \\lambda\\theta^T\\theta$$\n",
        "\n",
        "After this pen and paper exercise in the old-fashioned way, let's play with the $\\lambda$ parameter."
      ]
    },
    {
      "cell_type": "code",
      "metadata": {
        "id": "7TO701p_BoFJ",
        "colab": {
          "base_uri": "https://localhost:8080/",
          "height": 737
        },
        "outputId": "d52bab3e-06fd-47a5-d9d5-33b0db0cfbd5"
      },
      "source": [
        "# @title Regularized polynomial fits: weight decay { run: \"auto\" }\n",
        "\n",
        "deg_1 = 2  #@param {type:\"slider\", min:0, max:15, step:1}\n",
        "deg_2 = 6  #@param {type:\"slider\", min:0, max:15, step:1}\n",
        "deg_3 = 12  #@param {type:\"slider\", min:0, max:15, step:1}\n",
        "lam =   0.0001#@param {type:\"number\"}\n",
        "\n",
        "degree = {}\n",
        "degree[0], degree[1], degree[2] = deg_1, deg_2, deg_3\n",
        "\n",
        "max_degree = max(degree.values())\n",
        "y = torch.from_numpy(t)\n",
        "X_full = torch.ones((y.shape[0], max_degree + 1), dtype=torch.float64)  # double precision is needed for this calculation! \n",
        "for i in range(max_degree):\n",
        "    X_full[:,i] =  torch.from_numpy(x) ** (max_degree - i)\n",
        "\n",
        "theta_collection = {}\n",
        "\n",
        "for i in range(3):\n",
        "    X = X_full[:,-(degree[i] + 1):]\n",
        "    temp_inverse = torch.inverse(torch.einsum('ij,jk->ik', X.t(), X) + lam * torch.eye(degree[i] + 1))\n",
        "    theta_collection[i] = torch.einsum('ij,jk,k->i', temp_inverse, X.t(), y)\n",
        "\n",
        "fig = make_subplots(\n",
        "    rows=1, cols=3,\n",
        "    subplot_titles=(f\"poly{degree[0]} fit\", f\"poly{degree[1]} fit\", f\"poly{degree[2]} fit\"))\n",
        "\n",
        "x_funcs = np.arange(0,1,1./100)\n",
        "y_funcs = {}\n",
        "for i in range(3):\n",
        "    theta_funcs = theta_collection[i].numpy()\n",
        "    X_funcs = np.ones((x_funcs.shape[0], degree[i] + 1), dtype=np.float64)\n",
        "    for j in range(degree[i]):\n",
        "        X_funcs[:,j] =  x_funcs ** (degree[i] - j)\n",
        "    y_funcs[i] = np.einsum('ij,j->i', X_funcs, theta_funcs)\n",
        "    coefficients_string = '<br><br><br>' + '<br>'.join([c + f': {np.round(theta_funcs[i], decimals=2)}' for i, c in enumerate('abcdefghijklmnopqrstuvwxyz'[:len(theta_funcs)])])\n",
        "\n",
        "    fig.add_trace(go.Scatter(x=x, y=t, mode='markers', marker=dict(color=\"mediumpurple\")), row=1, col=i + 1)\n",
        "    fig.add_trace(go.Scatter(x=x_funcs, y=np.sin(2*np.pi*x_funcs), mode='lines', line=dict(color=\"lightgreen\")), row=1, col=i + 1)\n",
        "    fig.add_trace(go.Scatter(x=x_funcs, y=y_funcs[i], mode='lines', line=dict(color=\"lightsalmon\")), row=1, col=i + 1)\n",
        "    fig.update_xaxes(title_text=\"x\" + coefficients_string, range = [0,1], row=1, col=i+1)\n",
        "\n",
        "fig.update_layout(showlegend=False)\n",
        "fig.update_yaxes(title_text=\"t\", range = [-5,5])\n",
        "fig.update_layout(height=700, width=1300, title_text=\"Polynomial fits and their coefficients\")\n",
        "fig.show()"
      ],
      "execution_count": 21,
      "outputs": [
        {
          "output_type": "display_data",
          "data": {
            "text/html": [
              "<html>\n",
              "<head><meta charset=\"utf-8\" /></head>\n",
              "<body>\n",
              "    <div>            <script src=\"https://cdnjs.cloudflare.com/ajax/libs/mathjax/2.7.5/MathJax.js?config=TeX-AMS-MML_SVG\"></script><script type=\"text/javascript\">if (window.MathJax) {MathJax.Hub.Config({SVG: {font: \"STIX-Web\"}});}</script>                <script type=\"text/javascript\">window.PlotlyConfig = {MathJaxConfig: 'local'};</script>\n",
              "        <script src=\"https://cdn.plot.ly/plotly-2.8.3.min.js\"></script>                <div id=\"fb6d2add-bbfd-4575-ac11-17e8b3de78c3\" class=\"plotly-graph-div\" style=\"height:700px; width:1300px;\"></div>            <script type=\"text/javascript\">                                    window.PLOTLYENV=window.PLOTLYENV || {};                                    if (document.getElementById(\"fb6d2add-bbfd-4575-ac11-17e8b3de78c3\")) {                    Plotly.newPlot(                        \"fb6d2add-bbfd-4575-ac11-17e8b3de78c3\",                        [{\"marker\":{\"color\":\"mediumpurple\"},\"mode\":\"markers\",\"x\":[0.3745401188473625,0.9507143064099162,0.7319939418114051,0.5986584841970366,0.15601864044243652,0.15599452033620265,0.05808361216819946,0.8661761457749352,0.6011150117432088,0.7080725777960455],\"y\":[0.6621995859491285,-0.2504894367193866,-1.0399487832345553,-0.6275182299806012,0.854857342681687,0.6392487011533475,0.18441089666331875,-0.8014323286500792,-0.6947217251134631,-0.9340757540684701],\"type\":\"scatter\",\"xaxis\":\"x\",\"yaxis\":\"y\"},{\"line\":{\"color\":\"lightgreen\"},\"mode\":\"lines\",\"x\":[0.0,0.01,0.02,0.03,0.04,0.05,0.06,0.07,0.08,0.09,0.1,0.11,0.12,0.13,0.14,0.15,0.16,0.17,0.18,0.19,0.2,0.21,0.22,0.23,0.24,0.25,0.26,0.27,0.28,0.29,0.3,0.31,0.32,0.33,0.34,0.35000000000000003,0.36,0.37,0.38,0.39,0.4,0.41000000000000003,0.42,0.43,0.44,0.45,0.46,0.47000000000000003,0.48,0.49,0.5,0.51,0.52,0.53,0.54,0.55,0.56,0.5700000000000001,0.58,0.59,0.6,0.61,0.62,0.63,0.64,0.65,0.66,0.67,0.68,0.6900000000000001,0.7000000000000001,0.71,0.72,0.73,0.74,0.75,0.76,0.77,0.78,0.79,0.8,0.81,0.8200000000000001,0.8300000000000001,0.84,0.85,0.86,0.87,0.88,0.89,0.9,0.91,0.92,0.93,0.9400000000000001,0.9500000000000001,0.96,0.97,0.98,0.99],\"y\":[0.0,0.06279051952931337,0.12533323356430426,0.1873813145857246,0.2486898871648548,0.3090169943749474,0.3681245526846779,0.4257792915650727,0.4817536741017153,0.5358267949789967,0.5877852522924731,0.6374239897486896,0.6845471059286886,0.7289686274214116,0.7705132427757893,0.8090169943749475,0.8443279255020151,0.8763066800438637,0.9048270524660196,0.9297764858882513,0.9510565162951535,0.9685831611286311,0.9822872507286886,0.9921147013144779,0.9980267284282716,1.0,0.9980267284282716,0.9921147013144778,0.9822872507286886,0.9685831611286312,0.9510565162951536,0.9297764858882513,0.9048270524660195,0.8763066800438635,0.844327925502015,0.8090169943749475,0.7705132427757893,0.7289686274214114,0.6845471059286888,0.6374239897486899,0.5877852522924732,0.5358267949789967,0.4817536741017156,0.4257792915650729,0.36812455268467814,0.3090169943749475,0.24868988716485482,0.18738131458572457,0.12533323356430454,0.06279051952931358,1.2246467991473532e-16,-0.06279051952931335,-0.12533323356430429,-0.18738131458572477,-0.24868988716485502,-0.30901699437494773,-0.3681245526846783,-0.42577929156507266,-0.481753674101715,-0.5358267949789964,-0.587785252292473,-0.6374239897486896,-0.6845471059286887,-0.7289686274214113,-0.7705132427757894,-0.8090169943749473,-0.8443279255020153,-0.8763066800438636,-0.9048270524660198,-0.9297764858882515,-0.9510565162951535,-0.968583161128631,-0.9822872507286887,-0.9921147013144778,-0.9980267284282716,-1.0,-0.9980267284282716,-0.9921147013144779,-0.9822872507286887,-0.9685831611286311,-0.9510565162951536,-0.9297764858882512,-0.9048270524660196,-0.8763066800438634,-0.8443279255020155,-0.8090169943749476,-0.7705132427757896,-0.7289686274214116,-0.684547105928689,-0.6374239897486896,-0.5877852522924734,-0.5358267949789963,-0.4817536741017153,-0.4257792915650722,-0.36812455268467786,-0.3090169943749476,-0.24868988716485535,-0.18738131458572468,-0.12533323356430465,-0.06279051952931326],\"type\":\"scatter\",\"xaxis\":\"x\",\"yaxis\":\"y\"},{\"line\":{\"color\":\"lightsalmon\"},\"mode\":\"lines\",\"x\":[0.0,0.01,0.02,0.03,0.04,0.05,0.06,0.07,0.08,0.09,0.1,0.11,0.12,0.13,0.14,0.15,0.16,0.17,0.18,0.19,0.2,0.21,0.22,0.23,0.24,0.25,0.26,0.27,0.28,0.29,0.3,0.31,0.32,0.33,0.34,0.35000000000000003,0.36,0.37,0.38,0.39,0.4,0.41000000000000003,0.42,0.43,0.44,0.45,0.46,0.47000000000000003,0.48,0.49,0.5,0.51,0.52,0.53,0.54,0.55,0.56,0.5700000000000001,0.58,0.59,0.6,0.61,0.62,0.63,0.64,0.65,0.66,0.67,0.68,0.6900000000000001,0.7000000000000001,0.71,0.72,0.73,0.74,0.75,0.76,0.77,0.78,0.79,0.8,0.81,0.8200000000000001,0.8300000000000001,0.84,0.85,0.86,0.87,0.88,0.89,0.9,0.91,0.92,0.93,0.9400000000000001,0.9500000000000001,0.96,0.97,0.98,0.99],\"y\":[1.012948943825365,0.9765245315225863,0.9404835574921772,0.9048260217341372,0.8695519242484667,0.8346612650351657,0.8001540440942341,0.7660302614256718,0.7322899170294788,0.6989330109056552,0.6659595430542009,0.633369513475116,0.6011629221684005,0.5693397691340545,0.5379000543720777,0.5068437778824705,0.4761709396652326,0.44588153972036393,0.41597557804786467,0.38645305464773494,0.3573139695199744,0.3285583226645834,0.3001861140815617,0.2721973437709093,0.24459201173262646,0.2173701179667129,0.19053166247316866,0.16407664525199384,0.13800506630318843,0.11231692562675244,0.08701222322268576,0.062090959090988385,0.03755313323166054,0.013398745644701782,-0.010372203669887226,-0.03375971471210715,-0.05676378748195754,-0.07938442197943862,-0.10162161820455018,-0.12347537615729243,-0.14494569583766537,-0.166032577245669,-0.1867360203813031,-0.2070560252445679,-0.22699259183546316,-0.24654572015398935,-0.265715410200146,-0.28450166197393334,-0.30290447547535115,-0.3209238507043999,-0.33855978766107886,-0.35581228634538853,-0.3726813467573291,-0.38916696889690017,-0.4052691527641017,-0.42098789835893413,-0.43632320568139704,-0.4512750747314904,-0.4658435055092143,-0.48002849801456904,-0.4938300522475547,-0.5072481682081706,-0.5202828458964173,-0.5329340853122946,-0.5452018864558024,-0.5570862493269408,-0.5685871739257102,-0.5797046602521099,-0.5904387083061402,-0.6007893180878012,-0.6107564895970929,-0.6203402228340149,-0.629540517798568,-0.6383573744907518,-0.6467907929105658,-0.6548407730580106,-0.6625073149330856,-0.6697904185357917,-0.6766900838661281,-0.683206310924096,-0.6893390997096938,-0.6950884502229218,-0.7004543624637809,-0.7054368364322707,-0.7100358721283913,-0.7142514695521425,-0.7180836287035239,-0.7215323495825356,-0.7245976321891789,-0.727279476523452,-0.7295778825853563,-0.7314928503748912,-0.7330243798920568,-0.7341724711368522,-0.7349371241092788,-0.7353183388093365,-0.735316115237024,-0.7349304533923426,-0.734161353275292,-0.7330088148858716],\"type\":\"scatter\",\"xaxis\":\"x\",\"yaxis\":\"y\"},{\"marker\":{\"color\":\"mediumpurple\"},\"mode\":\"markers\",\"x\":[0.3745401188473625,0.9507143064099162,0.7319939418114051,0.5986584841970366,0.15601864044243652,0.15599452033620265,0.05808361216819946,0.8661761457749352,0.6011150117432088,0.7080725777960455],\"y\":[0.6621995859491285,-0.2504894367193866,-1.0399487832345553,-0.6275182299806012,0.854857342681687,0.6392487011533475,0.18441089666331875,-0.8014323286500792,-0.6947217251134631,-0.9340757540684701],\"type\":\"scatter\",\"xaxis\":\"x2\",\"yaxis\":\"y2\"},{\"line\":{\"color\":\"lightgreen\"},\"mode\":\"lines\",\"x\":[0.0,0.01,0.02,0.03,0.04,0.05,0.06,0.07,0.08,0.09,0.1,0.11,0.12,0.13,0.14,0.15,0.16,0.17,0.18,0.19,0.2,0.21,0.22,0.23,0.24,0.25,0.26,0.27,0.28,0.29,0.3,0.31,0.32,0.33,0.34,0.35000000000000003,0.36,0.37,0.38,0.39,0.4,0.41000000000000003,0.42,0.43,0.44,0.45,0.46,0.47000000000000003,0.48,0.49,0.5,0.51,0.52,0.53,0.54,0.55,0.56,0.5700000000000001,0.58,0.59,0.6,0.61,0.62,0.63,0.64,0.65,0.66,0.67,0.68,0.6900000000000001,0.7000000000000001,0.71,0.72,0.73,0.74,0.75,0.76,0.77,0.78,0.79,0.8,0.81,0.8200000000000001,0.8300000000000001,0.84,0.85,0.86,0.87,0.88,0.89,0.9,0.91,0.92,0.93,0.9400000000000001,0.9500000000000001,0.96,0.97,0.98,0.99],\"y\":[0.0,0.06279051952931337,0.12533323356430426,0.1873813145857246,0.2486898871648548,0.3090169943749474,0.3681245526846779,0.4257792915650727,0.4817536741017153,0.5358267949789967,0.5877852522924731,0.6374239897486896,0.6845471059286886,0.7289686274214116,0.7705132427757893,0.8090169943749475,0.8443279255020151,0.8763066800438637,0.9048270524660196,0.9297764858882513,0.9510565162951535,0.9685831611286311,0.9822872507286886,0.9921147013144779,0.9980267284282716,1.0,0.9980267284282716,0.9921147013144778,0.9822872507286886,0.9685831611286312,0.9510565162951536,0.9297764858882513,0.9048270524660195,0.8763066800438635,0.844327925502015,0.8090169943749475,0.7705132427757893,0.7289686274214114,0.6845471059286888,0.6374239897486899,0.5877852522924732,0.5358267949789967,0.4817536741017156,0.4257792915650729,0.36812455268467814,0.3090169943749475,0.24868988716485482,0.18738131458572457,0.12533323356430454,0.06279051952931358,1.2246467991473532e-16,-0.06279051952931335,-0.12533323356430429,-0.18738131458572477,-0.24868988716485502,-0.30901699437494773,-0.3681245526846783,-0.42577929156507266,-0.481753674101715,-0.5358267949789964,-0.587785252292473,-0.6374239897486896,-0.6845471059286887,-0.7289686274214113,-0.7705132427757894,-0.8090169943749473,-0.8443279255020153,-0.8763066800438636,-0.9048270524660198,-0.9297764858882515,-0.9510565162951535,-0.968583161128631,-0.9822872507286887,-0.9921147013144778,-0.9980267284282716,-1.0,-0.9980267284282716,-0.9921147013144779,-0.9822872507286887,-0.9685831611286311,-0.9510565162951536,-0.9297764858882512,-0.9048270524660196,-0.8763066800438634,-0.8443279255020155,-0.8090169943749476,-0.7705132427757896,-0.7289686274214116,-0.684547105928689,-0.6374239897486896,-0.5877852522924734,-0.5358267949789963,-0.4817536741017153,-0.4257792915650722,-0.36812455268467786,-0.3090169943749476,-0.24868988716485535,-0.18738131458572468,-0.12533323356430465,-0.06279051952931326],\"type\":\"scatter\",\"xaxis\":\"x2\",\"yaxis\":\"y2\"},{\"line\":{\"color\":\"lightsalmon\"},\"mode\":\"lines\",\"x\":[0.0,0.01,0.02,0.03,0.04,0.05,0.06,0.07,0.08,0.09,0.1,0.11,0.12,0.13,0.14,0.15,0.16,0.17,0.18,0.19,0.2,0.21,0.22,0.23,0.24,0.25,0.26,0.27,0.28,0.29,0.3,0.31,0.32,0.33,0.34,0.35000000000000003,0.36,0.37,0.38,0.39,0.4,0.41000000000000003,0.42,0.43,0.44,0.45,0.46,0.47000000000000003,0.48,0.49,0.5,0.51,0.52,0.53,0.54,0.55,0.56,0.5700000000000001,0.58,0.59,0.6,0.61,0.62,0.63,0.64,0.65,0.66,0.67,0.68,0.6900000000000001,0.7000000000000001,0.71,0.72,0.73,0.74,0.75,0.76,0.77,0.78,0.79,0.8,0.81,0.8200000000000001,0.8300000000000001,0.84,0.85,0.86,0.87,0.88,0.89,0.9,0.91,0.92,0.93,0.9400000000000001,0.9500000000000001,0.96,0.97,0.98,0.99],\"y\":[-0.20501069290412222,-0.11704994932333658,-0.033026524761727793,0.04705353174578589,0.12318674106026961,0.19537227579071953,0.26361203883686546,0.32791073862283054,0.388275961021646,0.44471823797062227,0.4972511127775763,0.5458912021179141,0.5906582547225705,0.6315752067568023,0.6686682338898424,0.7019668000554029,0.7315037029030409,0.757315115940375,0.7794406273661618,0.7979232755942263,0.8128095814682469,0.824149577167401,0.831996831802861,0.83640847370515,0.8374452094023519,0.8351713392891784,0.8296547699868915,0.8209670233940816,0.8091832424283003,0.7943821934585551,0.7766462654286506,0.7560614656713951,0.732717412413654,0.7067073239722705,0.6781280046408291,0.647079827267286,0.6136667125224511,0.5779961048593223,0.5401789451632846,0.5003296400931547,0.4585660281130921,0.41500934221536,0.369784169333939,0.32301840644900404,0.2748432133822556,0.22539296228310324,0.17480518380570853,0.12322050997687839,0.0707826137548313,0.017638145278785267,-0.03606333519055127,-0.09016942763967695,-0.144524965980116,-0.1989720950353746,-0.2533503508370618,-0.3074967442301464,-0.3612458477873455,-0.4144298860326705,-0.46687882897412347,-0.5184204889455115,-0.5688806207574348,-0.6180830251574001,-0.6658496555990814,-0.7120007283207341,-0.756354835732739,-0.7987290631142994,-0.8389391086192779,-0.8767994065911902,-0.9121232541873123,-0.9447229413119747,-0.9744098838589617,-1.0009947602630689,-1.0242876513608214,-1.0440981835603083,-1.0602356753201843,-1.0725092869377812,-1.0807281736464276,-1.0847016420218285,-1.0842393096976704,-1.0791512683903086,-1.0692482502326275,-1.0543417974170435,-1.0342444351476576,-1.0087698479015224,-0.9777330589990889,-0.940950613483782,-0.8982407643107067,-0.8494236618445292,-0.7943215466664739,-0.7327589456904811,-0.6645628715884939,-0.5895630255249138,-0.5075920032001626,-0.41848550420344033,-0.3220825446745703,-0.21822567327501474,-0.10676119046806143,0.012460628891897585,0.1395853096608981,0.27475394719784063],\"type\":\"scatter\",\"xaxis\":\"x2\",\"yaxis\":\"y2\"},{\"marker\":{\"color\":\"mediumpurple\"},\"mode\":\"markers\",\"x\":[0.3745401188473625,0.9507143064099162,0.7319939418114051,0.5986584841970366,0.15601864044243652,0.15599452033620265,0.05808361216819946,0.8661761457749352,0.6011150117432088,0.7080725777960455],\"y\":[0.6621995859491285,-0.2504894367193866,-1.0399487832345553,-0.6275182299806012,0.854857342681687,0.6392487011533475,0.18441089666331875,-0.8014323286500792,-0.6947217251134631,-0.9340757540684701],\"type\":\"scatter\",\"xaxis\":\"x3\",\"yaxis\":\"y3\"},{\"line\":{\"color\":\"lightgreen\"},\"mode\":\"lines\",\"x\":[0.0,0.01,0.02,0.03,0.04,0.05,0.06,0.07,0.08,0.09,0.1,0.11,0.12,0.13,0.14,0.15,0.16,0.17,0.18,0.19,0.2,0.21,0.22,0.23,0.24,0.25,0.26,0.27,0.28,0.29,0.3,0.31,0.32,0.33,0.34,0.35000000000000003,0.36,0.37,0.38,0.39,0.4,0.41000000000000003,0.42,0.43,0.44,0.45,0.46,0.47000000000000003,0.48,0.49,0.5,0.51,0.52,0.53,0.54,0.55,0.56,0.5700000000000001,0.58,0.59,0.6,0.61,0.62,0.63,0.64,0.65,0.66,0.67,0.68,0.6900000000000001,0.7000000000000001,0.71,0.72,0.73,0.74,0.75,0.76,0.77,0.78,0.79,0.8,0.81,0.8200000000000001,0.8300000000000001,0.84,0.85,0.86,0.87,0.88,0.89,0.9,0.91,0.92,0.93,0.9400000000000001,0.9500000000000001,0.96,0.97,0.98,0.99],\"y\":[0.0,0.06279051952931337,0.12533323356430426,0.1873813145857246,0.2486898871648548,0.3090169943749474,0.3681245526846779,0.4257792915650727,0.4817536741017153,0.5358267949789967,0.5877852522924731,0.6374239897486896,0.6845471059286886,0.7289686274214116,0.7705132427757893,0.8090169943749475,0.8443279255020151,0.8763066800438637,0.9048270524660196,0.9297764858882513,0.9510565162951535,0.9685831611286311,0.9822872507286886,0.9921147013144779,0.9980267284282716,1.0,0.9980267284282716,0.9921147013144778,0.9822872507286886,0.9685831611286312,0.9510565162951536,0.9297764858882513,0.9048270524660195,0.8763066800438635,0.844327925502015,0.8090169943749475,0.7705132427757893,0.7289686274214114,0.6845471059286888,0.6374239897486899,0.5877852522924732,0.5358267949789967,0.4817536741017156,0.4257792915650729,0.36812455268467814,0.3090169943749475,0.24868988716485482,0.18738131458572457,0.12533323356430454,0.06279051952931358,1.2246467991473532e-16,-0.06279051952931335,-0.12533323356430429,-0.18738131458572477,-0.24868988716485502,-0.30901699437494773,-0.3681245526846783,-0.42577929156507266,-0.481753674101715,-0.5358267949789964,-0.587785252292473,-0.6374239897486896,-0.6845471059286887,-0.7289686274214113,-0.7705132427757894,-0.8090169943749473,-0.8443279255020153,-0.8763066800438636,-0.9048270524660198,-0.9297764858882515,-0.9510565162951535,-0.968583161128631,-0.9822872507286887,-0.9921147013144778,-0.9980267284282716,-1.0,-0.9980267284282716,-0.9921147013144779,-0.9822872507286887,-0.9685831611286311,-0.9510565162951536,-0.9297764858882512,-0.9048270524660196,-0.8763066800438634,-0.8443279255020155,-0.8090169943749476,-0.7705132427757896,-0.7289686274214116,-0.684547105928689,-0.6374239897486896,-0.5877852522924734,-0.5358267949789963,-0.4817536741017153,-0.4257792915650722,-0.36812455268467786,-0.3090169943749476,-0.24868988716485535,-0.18738131458572468,-0.12533323356430465,-0.06279051952931326],\"type\":\"scatter\",\"xaxis\":\"x3\",\"yaxis\":\"y3\"},{\"line\":{\"color\":\"lightsalmon\"},\"mode\":\"lines\",\"x\":[0.0,0.01,0.02,0.03,0.04,0.05,0.06,0.07,0.08,0.09,0.1,0.11,0.12,0.13,0.14,0.15,0.16,0.17,0.18,0.19,0.2,0.21,0.22,0.23,0.24,0.25,0.26,0.27,0.28,0.29,0.3,0.31,0.32,0.33,0.34,0.35000000000000003,0.36,0.37,0.38,0.39,0.4,0.41000000000000003,0.42,0.43,0.44,0.45,0.46,0.47000000000000003,0.48,0.49,0.5,0.51,0.52,0.53,0.54,0.55,0.56,0.5700000000000001,0.58,0.59,0.6,0.61,0.62,0.63,0.64,0.65,0.66,0.67,0.68,0.6900000000000001,0.7000000000000001,0.71,0.72,0.73,0.74,0.75,0.76,0.77,0.78,0.79,0.8,0.81,0.8200000000000001,0.8300000000000001,0.84,0.85,0.86,0.87,0.88,0.89,0.9,0.91,0.92,0.93,0.9400000000000001,0.9500000000000001,0.96,0.97,0.98,0.99],\"y\":[-0.18563294163737343,-0.10382730780060444,-0.025218723994116427,0.05016645013015672,0.12230302396491682,0.19116706269549213,0.2567359779521974,0.31898862247735404,0.37790538891414227,0.4334683128203953,0.48566118000534053,0.534469638281029,0.5798813137126505,0.6218859314429785,0.6604754411556875,0.6956441472300933,0.7273888436258253,0.7557089535198823,0.7806066737002797,0.8020871236998913,0.8201584996308976,0.8348322326543284,0.8461231519902417,0.8540496523419696,0.8586338655722776,0.8599018364300277,0.8578837020827348,0.8526138751629839,0.8441312299847512,0.8324792915289827,0.8177064267359522,0.7998660375747313,0.779016755287113,0.7552226351242761,0.7285533508089836,0.6990843878637456,0.6668972348458668,0.6320795714231213,0.5947254521086478,0.5549354843500187,0.5128169995349081,0.46848421533392637,0.4220583876494599,0.37366795027733124,0.32344864021524344,0.271543606367739,0.21810349920134975,0.16328653869500975,0.1072585577093026,0.050193017662897965,-0.007729006844825914,-0.06631887809021464,-0.12538048386578948,-0.1847103689054883,-0.24409791360823085,-0.303325564903445,-0.36216912445072413,-0.42039809973316355,-0.47777612399106406,-0.5340614513504267,-0.5890075339295358,-0.6423636881580963,-0.6938758580174413,-0.7432874834081229,-0.7903404823738365,-0.834776356458768,-0.8763374290500696,-0.9147682271593833,-0.9498170177278089,-0.981237510198711,-1.0087907377931256,-1.0322471306443495,-1.051388794702679,-1.0660120111090956,-1.0759299715594182,-1.08097576603876,-1.0810056402016066,-1.0759025406062852,-1.065579966985509,-1.0499861517480555,-1.0291085879619066,-1.0029789281674741,-0.9716782775122281,-0.9353429058864213,-0.8941704049751351,-0.848426317425635,-0.7984512666629247,-0.7446686172712411,-0.6875926972969975,-0.6278376153207432,-0.5661267066931543,-0.5033026449352107,-0.4403382559664024,-0.37834807454890296,-0.31860068412216513,-0.2625318830520147,-0.21175872223403047,-0.16809446097315472,-0.1335644901130344,-0.11042327351037784],\"type\":\"scatter\",\"xaxis\":\"x3\",\"yaxis\":\"y3\"}],                        {\"template\":{\"data\":{\"bar\":[{\"error_x\":{\"color\":\"#2a3f5f\"},\"error_y\":{\"color\":\"#2a3f5f\"},\"marker\":{\"line\":{\"color\":\"#E5ECF6\",\"width\":0.5},\"pattern\":{\"fillmode\":\"overlay\",\"size\":10,\"solidity\":0.2}},\"type\":\"bar\"}],\"barpolar\":[{\"marker\":{\"line\":{\"color\":\"#E5ECF6\",\"width\":0.5},\"pattern\":{\"fillmode\":\"overlay\",\"size\":10,\"solidity\":0.2}},\"type\":\"barpolar\"}],\"carpet\":[{\"aaxis\":{\"endlinecolor\":\"#2a3f5f\",\"gridcolor\":\"white\",\"linecolor\":\"white\",\"minorgridcolor\":\"white\",\"startlinecolor\":\"#2a3f5f\"},\"baxis\":{\"endlinecolor\":\"#2a3f5f\",\"gridcolor\":\"white\",\"linecolor\":\"white\",\"minorgridcolor\":\"white\",\"startlinecolor\":\"#2a3f5f\"},\"type\":\"carpet\"}],\"choropleth\":[{\"colorbar\":{\"outlinewidth\":0,\"ticks\":\"\"},\"type\":\"choropleth\"}],\"contour\":[{\"colorbar\":{\"outlinewidth\":0,\"ticks\":\"\"},\"colorscale\":[[0.0,\"#0d0887\"],[0.1111111111111111,\"#46039f\"],[0.2222222222222222,\"#7201a8\"],[0.3333333333333333,\"#9c179e\"],[0.4444444444444444,\"#bd3786\"],[0.5555555555555556,\"#d8576b\"],[0.6666666666666666,\"#ed7953\"],[0.7777777777777778,\"#fb9f3a\"],[0.8888888888888888,\"#fdca26\"],[1.0,\"#f0f921\"]],\"type\":\"contour\"}],\"contourcarpet\":[{\"colorbar\":{\"outlinewidth\":0,\"ticks\":\"\"},\"type\":\"contourcarpet\"}],\"heatmap\":[{\"colorbar\":{\"outlinewidth\":0,\"ticks\":\"\"},\"colorscale\":[[0.0,\"#0d0887\"],[0.1111111111111111,\"#46039f\"],[0.2222222222222222,\"#7201a8\"],[0.3333333333333333,\"#9c179e\"],[0.4444444444444444,\"#bd3786\"],[0.5555555555555556,\"#d8576b\"],[0.6666666666666666,\"#ed7953\"],[0.7777777777777778,\"#fb9f3a\"],[0.8888888888888888,\"#fdca26\"],[1.0,\"#f0f921\"]],\"type\":\"heatmap\"}],\"heatmapgl\":[{\"colorbar\":{\"outlinewidth\":0,\"ticks\":\"\"},\"colorscale\":[[0.0,\"#0d0887\"],[0.1111111111111111,\"#46039f\"],[0.2222222222222222,\"#7201a8\"],[0.3333333333333333,\"#9c179e\"],[0.4444444444444444,\"#bd3786\"],[0.5555555555555556,\"#d8576b\"],[0.6666666666666666,\"#ed7953\"],[0.7777777777777778,\"#fb9f3a\"],[0.8888888888888888,\"#fdca26\"],[1.0,\"#f0f921\"]],\"type\":\"heatmapgl\"}],\"histogram\":[{\"marker\":{\"pattern\":{\"fillmode\":\"overlay\",\"size\":10,\"solidity\":0.2}},\"type\":\"histogram\"}],\"histogram2d\":[{\"colorbar\":{\"outlinewidth\":0,\"ticks\":\"\"},\"colorscale\":[[0.0,\"#0d0887\"],[0.1111111111111111,\"#46039f\"],[0.2222222222222222,\"#7201a8\"],[0.3333333333333333,\"#9c179e\"],[0.4444444444444444,\"#bd3786\"],[0.5555555555555556,\"#d8576b\"],[0.6666666666666666,\"#ed7953\"],[0.7777777777777778,\"#fb9f3a\"],[0.8888888888888888,\"#fdca26\"],[1.0,\"#f0f921\"]],\"type\":\"histogram2d\"}],\"histogram2dcontour\":[{\"colorbar\":{\"outlinewidth\":0,\"ticks\":\"\"},\"colorscale\":[[0.0,\"#0d0887\"],[0.1111111111111111,\"#46039f\"],[0.2222222222222222,\"#7201a8\"],[0.3333333333333333,\"#9c179e\"],[0.4444444444444444,\"#bd3786\"],[0.5555555555555556,\"#d8576b\"],[0.6666666666666666,\"#ed7953\"],[0.7777777777777778,\"#fb9f3a\"],[0.8888888888888888,\"#fdca26\"],[1.0,\"#f0f921\"]],\"type\":\"histogram2dcontour\"}],\"mesh3d\":[{\"colorbar\":{\"outlinewidth\":0,\"ticks\":\"\"},\"type\":\"mesh3d\"}],\"parcoords\":[{\"line\":{\"colorbar\":{\"outlinewidth\":0,\"ticks\":\"\"}},\"type\":\"parcoords\"}],\"pie\":[{\"automargin\":true,\"type\":\"pie\"}],\"scatter\":[{\"marker\":{\"colorbar\":{\"outlinewidth\":0,\"ticks\":\"\"}},\"type\":\"scatter\"}],\"scatter3d\":[{\"line\":{\"colorbar\":{\"outlinewidth\":0,\"ticks\":\"\"}},\"marker\":{\"colorbar\":{\"outlinewidth\":0,\"ticks\":\"\"}},\"type\":\"scatter3d\"}],\"scattercarpet\":[{\"marker\":{\"colorbar\":{\"outlinewidth\":0,\"ticks\":\"\"}},\"type\":\"scattercarpet\"}],\"scattergeo\":[{\"marker\":{\"colorbar\":{\"outlinewidth\":0,\"ticks\":\"\"}},\"type\":\"scattergeo\"}],\"scattergl\":[{\"marker\":{\"colorbar\":{\"outlinewidth\":0,\"ticks\":\"\"}},\"type\":\"scattergl\"}],\"scattermapbox\":[{\"marker\":{\"colorbar\":{\"outlinewidth\":0,\"ticks\":\"\"}},\"type\":\"scattermapbox\"}],\"scatterpolar\":[{\"marker\":{\"colorbar\":{\"outlinewidth\":0,\"ticks\":\"\"}},\"type\":\"scatterpolar\"}],\"scatterpolargl\":[{\"marker\":{\"colorbar\":{\"outlinewidth\":0,\"ticks\":\"\"}},\"type\":\"scatterpolargl\"}],\"scatterternary\":[{\"marker\":{\"colorbar\":{\"outlinewidth\":0,\"ticks\":\"\"}},\"type\":\"scatterternary\"}],\"surface\":[{\"colorbar\":{\"outlinewidth\":0,\"ticks\":\"\"},\"colorscale\":[[0.0,\"#0d0887\"],[0.1111111111111111,\"#46039f\"],[0.2222222222222222,\"#7201a8\"],[0.3333333333333333,\"#9c179e\"],[0.4444444444444444,\"#bd3786\"],[0.5555555555555556,\"#d8576b\"],[0.6666666666666666,\"#ed7953\"],[0.7777777777777778,\"#fb9f3a\"],[0.8888888888888888,\"#fdca26\"],[1.0,\"#f0f921\"]],\"type\":\"surface\"}],\"table\":[{\"cells\":{\"fill\":{\"color\":\"#EBF0F8\"},\"line\":{\"color\":\"white\"}},\"header\":{\"fill\":{\"color\":\"#C8D4E3\"},\"line\":{\"color\":\"white\"}},\"type\":\"table\"}]},\"layout\":{\"annotationdefaults\":{\"arrowcolor\":\"#2a3f5f\",\"arrowhead\":0,\"arrowwidth\":1},\"autotypenumbers\":\"strict\",\"coloraxis\":{\"colorbar\":{\"outlinewidth\":0,\"ticks\":\"\"}},\"colorscale\":{\"diverging\":[[0,\"#8e0152\"],[0.1,\"#c51b7d\"],[0.2,\"#de77ae\"],[0.3,\"#f1b6da\"],[0.4,\"#fde0ef\"],[0.5,\"#f7f7f7\"],[0.6,\"#e6f5d0\"],[0.7,\"#b8e186\"],[0.8,\"#7fbc41\"],[0.9,\"#4d9221\"],[1,\"#276419\"]],\"sequential\":[[0.0,\"#0d0887\"],[0.1111111111111111,\"#46039f\"],[0.2222222222222222,\"#7201a8\"],[0.3333333333333333,\"#9c179e\"],[0.4444444444444444,\"#bd3786\"],[0.5555555555555556,\"#d8576b\"],[0.6666666666666666,\"#ed7953\"],[0.7777777777777778,\"#fb9f3a\"],[0.8888888888888888,\"#fdca26\"],[1.0,\"#f0f921\"]],\"sequentialminus\":[[0.0,\"#0d0887\"],[0.1111111111111111,\"#46039f\"],[0.2222222222222222,\"#7201a8\"],[0.3333333333333333,\"#9c179e\"],[0.4444444444444444,\"#bd3786\"],[0.5555555555555556,\"#d8576b\"],[0.6666666666666666,\"#ed7953\"],[0.7777777777777778,\"#fb9f3a\"],[0.8888888888888888,\"#fdca26\"],[1.0,\"#f0f921\"]]},\"colorway\":[\"#636efa\",\"#EF553B\",\"#00cc96\",\"#ab63fa\",\"#FFA15A\",\"#19d3f3\",\"#FF6692\",\"#B6E880\",\"#FF97FF\",\"#FECB52\"],\"font\":{\"color\":\"#2a3f5f\"},\"geo\":{\"bgcolor\":\"white\",\"lakecolor\":\"white\",\"landcolor\":\"#E5ECF6\",\"showlakes\":true,\"showland\":true,\"subunitcolor\":\"white\"},\"hoverlabel\":{\"align\":\"left\"},\"hovermode\":\"closest\",\"mapbox\":{\"style\":\"light\"},\"paper_bgcolor\":\"white\",\"plot_bgcolor\":\"#E5ECF6\",\"polar\":{\"angularaxis\":{\"gridcolor\":\"white\",\"linecolor\":\"white\",\"ticks\":\"\"},\"bgcolor\":\"#E5ECF6\",\"radialaxis\":{\"gridcolor\":\"white\",\"linecolor\":\"white\",\"ticks\":\"\"}},\"scene\":{\"xaxis\":{\"backgroundcolor\":\"#E5ECF6\",\"gridcolor\":\"white\",\"gridwidth\":2,\"linecolor\":\"white\",\"showbackground\":true,\"ticks\":\"\",\"zerolinecolor\":\"white\"},\"yaxis\":{\"backgroundcolor\":\"#E5ECF6\",\"gridcolor\":\"white\",\"gridwidth\":2,\"linecolor\":\"white\",\"showbackground\":true,\"ticks\":\"\",\"zerolinecolor\":\"white\"},\"zaxis\":{\"backgroundcolor\":\"#E5ECF6\",\"gridcolor\":\"white\",\"gridwidth\":2,\"linecolor\":\"white\",\"showbackground\":true,\"ticks\":\"\",\"zerolinecolor\":\"white\"}},\"shapedefaults\":{\"line\":{\"color\":\"#2a3f5f\"}},\"ternary\":{\"aaxis\":{\"gridcolor\":\"white\",\"linecolor\":\"white\",\"ticks\":\"\"},\"baxis\":{\"gridcolor\":\"white\",\"linecolor\":\"white\",\"ticks\":\"\"},\"bgcolor\":\"#E5ECF6\",\"caxis\":{\"gridcolor\":\"white\",\"linecolor\":\"white\",\"ticks\":\"\"}},\"title\":{\"x\":0.05},\"xaxis\":{\"automargin\":true,\"gridcolor\":\"white\",\"linecolor\":\"white\",\"ticks\":\"\",\"title\":{\"standoff\":15},\"zerolinecolor\":\"white\",\"zerolinewidth\":2},\"yaxis\":{\"automargin\":true,\"gridcolor\":\"white\",\"linecolor\":\"white\",\"ticks\":\"\",\"title\":{\"standoff\":15},\"zerolinecolor\":\"white\",\"zerolinewidth\":2}}},\"xaxis\":{\"anchor\":\"y\",\"domain\":[0.0,0.2888888888888889],\"title\":{\"text\":\"x<br><br><br>a: 1.92<br>b: -3.66<br>c: 1.01\"},\"range\":[0,1]},\"yaxis\":{\"anchor\":\"x\",\"domain\":[0.0,1.0],\"title\":{\"text\":\"t\"},\"range\":[-5,5]},\"xaxis2\":{\"anchor\":\"y2\",\"domain\":[0.35555555555555557,0.6444444444444445],\"title\":{\"text\":\"x<br><br><br>a: -4.6<br>b: 7.51<br>c: 9.99<br>d: -1.63<br>e: -19.64<br>f: 8.99<br>g: -0.21\"},\"range\":[0,1]},\"yaxis2\":{\"anchor\":\"x2\",\"domain\":[0.0,1.0],\"title\":{\"text\":\"t\"},\"range\":[-5,5]},\"xaxis3\":{\"anchor\":\"y3\",\"domain\":[0.7111111111111111,1.0],\"title\":{\"text\":\"x<br><br><br>a: -0.53<br>b: -1.56<br>c: -1.97<br>d: -1.51<br>e: -0.06<br>f: 2.29<br>g: 4.95<br>h: 6.45<br>i: 4.19<br>j: -4.66<br>k: -15.85<br>l: 8.34<br>m: -0.19\"},\"range\":[0,1]},\"yaxis3\":{\"anchor\":\"x3\",\"domain\":[0.0,1.0],\"title\":{\"text\":\"t\"},\"range\":[-5,5]},\"annotations\":[{\"font\":{\"size\":16},\"showarrow\":false,\"text\":\"poly2 fit\",\"x\":0.14444444444444446,\"xanchor\":\"center\",\"xref\":\"paper\",\"y\":1.0,\"yanchor\":\"bottom\",\"yref\":\"paper\"},{\"font\":{\"size\":16},\"showarrow\":false,\"text\":\"poly6 fit\",\"x\":0.5,\"xanchor\":\"center\",\"xref\":\"paper\",\"y\":1.0,\"yanchor\":\"bottom\",\"yref\":\"paper\"},{\"font\":{\"size\":16},\"showarrow\":false,\"text\":\"poly12 fit\",\"x\":0.8555555555555556,\"xanchor\":\"center\",\"xref\":\"paper\",\"y\":1.0,\"yanchor\":\"bottom\",\"yref\":\"paper\"}],\"showlegend\":false,\"title\":{\"text\":\"Polynomial fits and their coefficients\"},\"height\":700,\"width\":1300},                        {\"responsive\": true}                    ).then(function(){\n",
              "                            \n",
              "var gd = document.getElementById('fb6d2add-bbfd-4575-ac11-17e8b3de78c3');\n",
              "var x = new MutationObserver(function (mutations, observer) {{\n",
              "        var display = window.getComputedStyle(gd).display;\n",
              "        if (!display || display === 'none') {{\n",
              "            console.log([gd, 'removed!']);\n",
              "            Plotly.purge(gd);\n",
              "            observer.disconnect();\n",
              "        }}\n",
              "}});\n",
              "\n",
              "// Listen for the removal of the full notebook cells\n",
              "var notebookContainer = gd.closest('#notebook-container');\n",
              "if (notebookContainer) {{\n",
              "    x.observe(notebookContainer, {childList: true});\n",
              "}}\n",
              "\n",
              "// Listen for the clearing of the current output cell\n",
              "var outputEl = gd.closest('.output');\n",
              "if (outputEl) {{\n",
              "    x.observe(outputEl, {childList: true});\n",
              "}}\n",
              "\n",
              "                        })                };                            </script>        </div>\n",
              "</body>\n",
              "</html>"
            ]
          },
          "metadata": {}
        }
      ]
    },
    {
      "cell_type": "markdown",
      "metadata": {
        "id": "3vQ8ittKYZjQ"
      },
      "source": [
        "Not so easy to tune, isn't it?\n",
        "\n",
        "It's a good moment to take a break, two new Pytorch classes await us in the next sections!"
      ]
    },
    {
      "cell_type": "markdown",
      "metadata": {
        "id": "Tvpx3YbdcKlK"
      },
      "source": [
        "## PyTorch Dataset"
      ]
    },
    {
      "cell_type": "markdown",
      "source": [
        "In PyTorch (and other common frameworks) you can decouple the code that manages the data and the code that uses the data.\n",
        "This produces simpler and more understandable code, and enables to possibility to re-use the same dataset with different models or the same model with different datasets.\n",
        "\n",
        "In the following sections, we will have a glimpse into how to manage the data pipeline.\n",
        "\n",
        "[`torch.utils.data.Dataset`](https://pytorch.org/docs/stable/data.html?highlight=dataset#torch.utils.data.Dataset) is an abstract class representing a dataset. Your custom dataset should inherit `Dataset` and override the following methods:\n",
        "\n",
        "- `__len__`: so that `len(dataset)` returns the size of the dataset\n",
        "- `__getitem__`: so that `dataset[i]` returns the $i$-th sample from the dataset.\n",
        "\n",
        "Let's create a toy dataset:"
      ],
      "metadata": {
        "id": "gUB7xjinRNYi"
      }
    },
    {
      "cell_type": "code",
      "metadata": {
        "id": "HclJRK7QdOZM",
        "colab": {
          "base_uri": "https://localhost:8080/"
        },
        "outputId": "0b2b0c6c-93ce-4400-ed7d-c014f8b584d0"
      },
      "source": [
        "from torch.utils.data import Dataset\n",
        "\n",
        "class ToyDataset(Dataset):\n",
        "\n",
        "  def __init__(self, n_points: int = 20, noise: float = .1):\n",
        "    super().__init__()  # In python 3 this is enough\n",
        "\n",
        "    self.n_points = n_points\n",
        "    self.x = torch.linspace(-1, 1, n_points)\n",
        "    self.y = self.x ** 3 + noise * torch.randn(n_points)\n",
        "\n",
        "  def __len__(self):\n",
        "    return self.n_points\n",
        "\n",
        "  def __getitem__(self, idx):\n",
        "    return {\n",
        "        'x': self.x[idx],\n",
        "        'y': self.y[idx]\n",
        "    }\n",
        "\n",
        "toydataset = ToyDataset(20, noise=.1)\n",
        "toydataset[5]"
      ],
      "execution_count": 22,
      "outputs": [
        {
          "output_type": "execute_result",
          "data": {
            "text/plain": [
              "{'x': tensor(-0.4737), 'y': tensor(0.0015)}"
            ]
          },
          "metadata": {},
          "execution_count": 22
        }
      ]
    },
    {
      "cell_type": "markdown",
      "metadata": {
        "id": "BZRoEO92fefK"
      },
      "source": [
        "In this case the dataset is composed of simple pairs of points:"
      ]
    },
    {
      "cell_type": "code",
      "metadata": {
        "colab": {
          "base_uri": "https://localhost:8080/"
        },
        "id": "Z-jhx5AUvQ2E",
        "outputId": "8f344046-a67f-44d4-f38e-d5ae47990e4c"
      },
      "source": [
        "toydataset[2]"
      ],
      "execution_count": 23,
      "outputs": [
        {
          "output_type": "execute_result",
          "data": {
            "text/plain": [
              "{'x': tensor(-0.7895), 'y': tensor(-0.4020)}"
            ]
          },
          "metadata": {},
          "execution_count": 23
        }
      ]
    },
    {
      "cell_type": "code",
      "metadata": {
        "id": "M6vM4yKRfZEm",
        "colab": {
          "base_uri": "https://localhost:8080/",
          "height": 542
        },
        "outputId": "de12e47a-bd34-435c-fd6d-5a3cb7f62572"
      },
      "source": [
        "import plotly.express as px\n",
        "fig = px.scatter(x=toydataset.x.numpy(), y=toydataset.y.numpy())\n",
        "fig.show()"
      ],
      "execution_count": 24,
      "outputs": [
        {
          "output_type": "display_data",
          "data": {
            "text/html": [
              "<html>\n",
              "<head><meta charset=\"utf-8\" /></head>\n",
              "<body>\n",
              "    <div>            <script src=\"https://cdnjs.cloudflare.com/ajax/libs/mathjax/2.7.5/MathJax.js?config=TeX-AMS-MML_SVG\"></script><script type=\"text/javascript\">if (window.MathJax) {MathJax.Hub.Config({SVG: {font: \"STIX-Web\"}});}</script>                <script type=\"text/javascript\">window.PlotlyConfig = {MathJaxConfig: 'local'};</script>\n",
              "        <script src=\"https://cdn.plot.ly/plotly-2.8.3.min.js\"></script>                <div id=\"d33d5aea-fb45-44c8-b8a5-55b6c4c9c7f9\" class=\"plotly-graph-div\" style=\"height:525px; width:100%;\"></div>            <script type=\"text/javascript\">                                    window.PLOTLYENV=window.PLOTLYENV || {};                                    if (document.getElementById(\"d33d5aea-fb45-44c8-b8a5-55b6c4c9c7f9\")) {                    Plotly.newPlot(                        \"d33d5aea-fb45-44c8-b8a5-55b6c4c9c7f9\",                        [{\"hovertemplate\":\"x=%{x}<br>y=%{y}<extra></extra>\",\"legendgroup\":\"\",\"marker\":{\"color\":\"#636efa\",\"symbol\":\"circle\"},\"mode\":\"markers\",\"name\":\"\",\"orientation\":\"v\",\"showlegend\":false,\"x\":[-1.0,-0.8947368264198303,-0.7894736528396606,-0.6842105388641357,-0.5789473652839661,-0.4736841917037964,-0.3684210777282715,-0.2631579041481018,-0.15789473056793213,-0.052631571888923645,0.05263158679008484,0.15789473056793213,0.2631579041481018,0.3684210777282715,0.4736841917037964,0.5789473652839661,0.6842105388641357,0.7894736528396606,0.8947368264198303,1.0],\"xaxis\":\"x\",\"y\":[-0.8073084354400635,-0.5675566792488098,-0.40198248624801636,-0.5308611989021301,-0.2698647379875183,0.0015480667352676392,0.030072752386331558,0.14983782172203064,0.03164955973625183,-0.06880809366703033,-0.049189843237400055,0.028085213154554367,-0.004938200116157532,0.05418325215578079,0.08112616837024689,0.28003746271133423,0.2893364131450653,0.4524831473827362,0.7966260313987732,0.937840461730957],\"yaxis\":\"y\",\"type\":\"scatter\"}],                        {\"template\":{\"data\":{\"bar\":[{\"error_x\":{\"color\":\"#2a3f5f\"},\"error_y\":{\"color\":\"#2a3f5f\"},\"marker\":{\"line\":{\"color\":\"#E5ECF6\",\"width\":0.5},\"pattern\":{\"fillmode\":\"overlay\",\"size\":10,\"solidity\":0.2}},\"type\":\"bar\"}],\"barpolar\":[{\"marker\":{\"line\":{\"color\":\"#E5ECF6\",\"width\":0.5},\"pattern\":{\"fillmode\":\"overlay\",\"size\":10,\"solidity\":0.2}},\"type\":\"barpolar\"}],\"carpet\":[{\"aaxis\":{\"endlinecolor\":\"#2a3f5f\",\"gridcolor\":\"white\",\"linecolor\":\"white\",\"minorgridcolor\":\"white\",\"startlinecolor\":\"#2a3f5f\"},\"baxis\":{\"endlinecolor\":\"#2a3f5f\",\"gridcolor\":\"white\",\"linecolor\":\"white\",\"minorgridcolor\":\"white\",\"startlinecolor\":\"#2a3f5f\"},\"type\":\"carpet\"}],\"choropleth\":[{\"colorbar\":{\"outlinewidth\":0,\"ticks\":\"\"},\"type\":\"choropleth\"}],\"contour\":[{\"colorbar\":{\"outlinewidth\":0,\"ticks\":\"\"},\"colorscale\":[[0.0,\"#0d0887\"],[0.1111111111111111,\"#46039f\"],[0.2222222222222222,\"#7201a8\"],[0.3333333333333333,\"#9c179e\"],[0.4444444444444444,\"#bd3786\"],[0.5555555555555556,\"#d8576b\"],[0.6666666666666666,\"#ed7953\"],[0.7777777777777778,\"#fb9f3a\"],[0.8888888888888888,\"#fdca26\"],[1.0,\"#f0f921\"]],\"type\":\"contour\"}],\"contourcarpet\":[{\"colorbar\":{\"outlinewidth\":0,\"ticks\":\"\"},\"type\":\"contourcarpet\"}],\"heatmap\":[{\"colorbar\":{\"outlinewidth\":0,\"ticks\":\"\"},\"colorscale\":[[0.0,\"#0d0887\"],[0.1111111111111111,\"#46039f\"],[0.2222222222222222,\"#7201a8\"],[0.3333333333333333,\"#9c179e\"],[0.4444444444444444,\"#bd3786\"],[0.5555555555555556,\"#d8576b\"],[0.6666666666666666,\"#ed7953\"],[0.7777777777777778,\"#fb9f3a\"],[0.8888888888888888,\"#fdca26\"],[1.0,\"#f0f921\"]],\"type\":\"heatmap\"}],\"heatmapgl\":[{\"colorbar\":{\"outlinewidth\":0,\"ticks\":\"\"},\"colorscale\":[[0.0,\"#0d0887\"],[0.1111111111111111,\"#46039f\"],[0.2222222222222222,\"#7201a8\"],[0.3333333333333333,\"#9c179e\"],[0.4444444444444444,\"#bd3786\"],[0.5555555555555556,\"#d8576b\"],[0.6666666666666666,\"#ed7953\"],[0.7777777777777778,\"#fb9f3a\"],[0.8888888888888888,\"#fdca26\"],[1.0,\"#f0f921\"]],\"type\":\"heatmapgl\"}],\"histogram\":[{\"marker\":{\"pattern\":{\"fillmode\":\"overlay\",\"size\":10,\"solidity\":0.2}},\"type\":\"histogram\"}],\"histogram2d\":[{\"colorbar\":{\"outlinewidth\":0,\"ticks\":\"\"},\"colorscale\":[[0.0,\"#0d0887\"],[0.1111111111111111,\"#46039f\"],[0.2222222222222222,\"#7201a8\"],[0.3333333333333333,\"#9c179e\"],[0.4444444444444444,\"#bd3786\"],[0.5555555555555556,\"#d8576b\"],[0.6666666666666666,\"#ed7953\"],[0.7777777777777778,\"#fb9f3a\"],[0.8888888888888888,\"#fdca26\"],[1.0,\"#f0f921\"]],\"type\":\"histogram2d\"}],\"histogram2dcontour\":[{\"colorbar\":{\"outlinewidth\":0,\"ticks\":\"\"},\"colorscale\":[[0.0,\"#0d0887\"],[0.1111111111111111,\"#46039f\"],[0.2222222222222222,\"#7201a8\"],[0.3333333333333333,\"#9c179e\"],[0.4444444444444444,\"#bd3786\"],[0.5555555555555556,\"#d8576b\"],[0.6666666666666666,\"#ed7953\"],[0.7777777777777778,\"#fb9f3a\"],[0.8888888888888888,\"#fdca26\"],[1.0,\"#f0f921\"]],\"type\":\"histogram2dcontour\"}],\"mesh3d\":[{\"colorbar\":{\"outlinewidth\":0,\"ticks\":\"\"},\"type\":\"mesh3d\"}],\"parcoords\":[{\"line\":{\"colorbar\":{\"outlinewidth\":0,\"ticks\":\"\"}},\"type\":\"parcoords\"}],\"pie\":[{\"automargin\":true,\"type\":\"pie\"}],\"scatter\":[{\"marker\":{\"colorbar\":{\"outlinewidth\":0,\"ticks\":\"\"}},\"type\":\"scatter\"}],\"scatter3d\":[{\"line\":{\"colorbar\":{\"outlinewidth\":0,\"ticks\":\"\"}},\"marker\":{\"colorbar\":{\"outlinewidth\":0,\"ticks\":\"\"}},\"type\":\"scatter3d\"}],\"scattercarpet\":[{\"marker\":{\"colorbar\":{\"outlinewidth\":0,\"ticks\":\"\"}},\"type\":\"scattercarpet\"}],\"scattergeo\":[{\"marker\":{\"colorbar\":{\"outlinewidth\":0,\"ticks\":\"\"}},\"type\":\"scattergeo\"}],\"scattergl\":[{\"marker\":{\"colorbar\":{\"outlinewidth\":0,\"ticks\":\"\"}},\"type\":\"scattergl\"}],\"scattermapbox\":[{\"marker\":{\"colorbar\":{\"outlinewidth\":0,\"ticks\":\"\"}},\"type\":\"scattermapbox\"}],\"scatterpolar\":[{\"marker\":{\"colorbar\":{\"outlinewidth\":0,\"ticks\":\"\"}},\"type\":\"scatterpolar\"}],\"scatterpolargl\":[{\"marker\":{\"colorbar\":{\"outlinewidth\":0,\"ticks\":\"\"}},\"type\":\"scatterpolargl\"}],\"scatterternary\":[{\"marker\":{\"colorbar\":{\"outlinewidth\":0,\"ticks\":\"\"}},\"type\":\"scatterternary\"}],\"surface\":[{\"colorbar\":{\"outlinewidth\":0,\"ticks\":\"\"},\"colorscale\":[[0.0,\"#0d0887\"],[0.1111111111111111,\"#46039f\"],[0.2222222222222222,\"#7201a8\"],[0.3333333333333333,\"#9c179e\"],[0.4444444444444444,\"#bd3786\"],[0.5555555555555556,\"#d8576b\"],[0.6666666666666666,\"#ed7953\"],[0.7777777777777778,\"#fb9f3a\"],[0.8888888888888888,\"#fdca26\"],[1.0,\"#f0f921\"]],\"type\":\"surface\"}],\"table\":[{\"cells\":{\"fill\":{\"color\":\"#EBF0F8\"},\"line\":{\"color\":\"white\"}},\"header\":{\"fill\":{\"color\":\"#C8D4E3\"},\"line\":{\"color\":\"white\"}},\"type\":\"table\"}]},\"layout\":{\"annotationdefaults\":{\"arrowcolor\":\"#2a3f5f\",\"arrowhead\":0,\"arrowwidth\":1},\"autotypenumbers\":\"strict\",\"coloraxis\":{\"colorbar\":{\"outlinewidth\":0,\"ticks\":\"\"}},\"colorscale\":{\"diverging\":[[0,\"#8e0152\"],[0.1,\"#c51b7d\"],[0.2,\"#de77ae\"],[0.3,\"#f1b6da\"],[0.4,\"#fde0ef\"],[0.5,\"#f7f7f7\"],[0.6,\"#e6f5d0\"],[0.7,\"#b8e186\"],[0.8,\"#7fbc41\"],[0.9,\"#4d9221\"],[1,\"#276419\"]],\"sequential\":[[0.0,\"#0d0887\"],[0.1111111111111111,\"#46039f\"],[0.2222222222222222,\"#7201a8\"],[0.3333333333333333,\"#9c179e\"],[0.4444444444444444,\"#bd3786\"],[0.5555555555555556,\"#d8576b\"],[0.6666666666666666,\"#ed7953\"],[0.7777777777777778,\"#fb9f3a\"],[0.8888888888888888,\"#fdca26\"],[1.0,\"#f0f921\"]],\"sequentialminus\":[[0.0,\"#0d0887\"],[0.1111111111111111,\"#46039f\"],[0.2222222222222222,\"#7201a8\"],[0.3333333333333333,\"#9c179e\"],[0.4444444444444444,\"#bd3786\"],[0.5555555555555556,\"#d8576b\"],[0.6666666666666666,\"#ed7953\"],[0.7777777777777778,\"#fb9f3a\"],[0.8888888888888888,\"#fdca26\"],[1.0,\"#f0f921\"]]},\"colorway\":[\"#636efa\",\"#EF553B\",\"#00cc96\",\"#ab63fa\",\"#FFA15A\",\"#19d3f3\",\"#FF6692\",\"#B6E880\",\"#FF97FF\",\"#FECB52\"],\"font\":{\"color\":\"#2a3f5f\"},\"geo\":{\"bgcolor\":\"white\",\"lakecolor\":\"white\",\"landcolor\":\"#E5ECF6\",\"showlakes\":true,\"showland\":true,\"subunitcolor\":\"white\"},\"hoverlabel\":{\"align\":\"left\"},\"hovermode\":\"closest\",\"mapbox\":{\"style\":\"light\"},\"paper_bgcolor\":\"white\",\"plot_bgcolor\":\"#E5ECF6\",\"polar\":{\"angularaxis\":{\"gridcolor\":\"white\",\"linecolor\":\"white\",\"ticks\":\"\"},\"bgcolor\":\"#E5ECF6\",\"radialaxis\":{\"gridcolor\":\"white\",\"linecolor\":\"white\",\"ticks\":\"\"}},\"scene\":{\"xaxis\":{\"backgroundcolor\":\"#E5ECF6\",\"gridcolor\":\"white\",\"gridwidth\":2,\"linecolor\":\"white\",\"showbackground\":true,\"ticks\":\"\",\"zerolinecolor\":\"white\"},\"yaxis\":{\"backgroundcolor\":\"#E5ECF6\",\"gridcolor\":\"white\",\"gridwidth\":2,\"linecolor\":\"white\",\"showbackground\":true,\"ticks\":\"\",\"zerolinecolor\":\"white\"},\"zaxis\":{\"backgroundcolor\":\"#E5ECF6\",\"gridcolor\":\"white\",\"gridwidth\":2,\"linecolor\":\"white\",\"showbackground\":true,\"ticks\":\"\",\"zerolinecolor\":\"white\"}},\"shapedefaults\":{\"line\":{\"color\":\"#2a3f5f\"}},\"ternary\":{\"aaxis\":{\"gridcolor\":\"white\",\"linecolor\":\"white\",\"ticks\":\"\"},\"baxis\":{\"gridcolor\":\"white\",\"linecolor\":\"white\",\"ticks\":\"\"},\"bgcolor\":\"#E5ECF6\",\"caxis\":{\"gridcolor\":\"white\",\"linecolor\":\"white\",\"ticks\":\"\"}},\"title\":{\"x\":0.05},\"xaxis\":{\"automargin\":true,\"gridcolor\":\"white\",\"linecolor\":\"white\",\"ticks\":\"\",\"title\":{\"standoff\":15},\"zerolinecolor\":\"white\",\"zerolinewidth\":2},\"yaxis\":{\"automargin\":true,\"gridcolor\":\"white\",\"linecolor\":\"white\",\"ticks\":\"\",\"title\":{\"standoff\":15},\"zerolinecolor\":\"white\",\"zerolinewidth\":2}}},\"xaxis\":{\"anchor\":\"y\",\"domain\":[0.0,1.0],\"title\":{\"text\":\"x\"}},\"yaxis\":{\"anchor\":\"x\",\"domain\":[0.0,1.0],\"title\":{\"text\":\"y\"}},\"legend\":{\"tracegroupgap\":0},\"margin\":{\"t\":60}},                        {\"responsive\": true}                    ).then(function(){\n",
              "                            \n",
              "var gd = document.getElementById('d33d5aea-fb45-44c8-b8a5-55b6c4c9c7f9');\n",
              "var x = new MutationObserver(function (mutations, observer) {{\n",
              "        var display = window.getComputedStyle(gd).display;\n",
              "        if (!display || display === 'none') {{\n",
              "            console.log([gd, 'removed!']);\n",
              "            Plotly.purge(gd);\n",
              "            observer.disconnect();\n",
              "        }}\n",
              "}});\n",
              "\n",
              "// Listen for the removal of the full notebook cells\n",
              "var notebookContainer = gd.closest('#notebook-container');\n",
              "if (notebookContainer) {{\n",
              "    x.observe(notebookContainer, {childList: true});\n",
              "}}\n",
              "\n",
              "// Listen for the clearing of the current output cell\n",
              "var outputEl = gd.closest('.output');\n",
              "if (outputEl) {{\n",
              "    x.observe(outputEl, {childList: true});\n",
              "}}\n",
              "\n",
              "                        })                };                            </script>        </div>\n",
              "</body>\n",
              "</html>"
            ]
          },
          "metadata": {}
        }
      ]
    },
    {
      "cell_type": "markdown",
      "metadata": {
        "id": "NS0j3M_pgk8s"
      },
      "source": [
        "> **NOTE**\n",
        "> \n",
        "> Small Python reminder. Every object that implements the `__getitem__` method follows the [iterator procotol](https://www.python.org/dev/peps/pep-0234/#python-api-specification). It means that you can **iterate** the dataset:\n",
        "\n",
        "\n"
      ]
    },
    {
      "cell_type": "code",
      "metadata": {
        "id": "sMdwLEFDhZCu",
        "colab": {
          "base_uri": "https://localhost:8080/",
          "height": 49,
          "referenced_widgets": [
            "df2293c2e369468196ccdd9aa8ee589b",
            "f72b61c1dd6f4ed489c71025b4dd22e8",
            "980e570682ae421db80b510b45ec7fc5",
            "59babf2167d24dbb864639b2d6a753f0",
            "1c071d93852140868286ff5ea6361be7",
            "812d68455889467db753613884922382",
            "4dac619916fb4f3b89d159f3380840b1",
            "abd13ec924d24aa3b553197701a4091a",
            "8261ff60e5a7410393a782fa1e9ac3ab",
            "ca661c1741264884a7667646b3392346",
            "d99f3934a8ca4b9f931e4be5c3beadc1"
          ]
        },
        "outputId": "cb338db8-3ec2-4b1f-fb7e-e1911cc1d723"
      },
      "source": [
        "from tqdm.notebook import tqdm as tqdm  # just a progress bar\n",
        "\n",
        "for sample in tqdm(toydataset):\n",
        "  pass"
      ],
      "execution_count": 25,
      "outputs": [
        {
          "output_type": "display_data",
          "data": {
            "text/plain": [
              "  0%|          | 0/20 [00:00<?, ?it/s]"
            ],
            "application/vnd.jupyter.widget-view+json": {
              "version_major": 2,
              "version_minor": 0,
              "model_id": "df2293c2e369468196ccdd9aa8ee589b"
            }
          },
          "metadata": {}
        }
      ]
    },
    {
      "cell_type": "markdown",
      "metadata": {
        "id": "9GXYYwNTfK7D"
      },
      "source": [
        "In the `ToyDataset` the whole dataset is stored **in memory**, i.e. in attributes of the `ToyDataset` class. \n",
        "This is the fastest and simplest way to implement a dataset, but it is **not always feasible**.\n",
        "What if you must train a neural network on 500GB of images? \n",
        "The whole datates does not fit in memory!\n",
        "\n",
        "> For the same reason, using a single file to store the whole dataset does not scale with the dataset size. \n",
        ">\n",
        "> *Obviously, this depends on the file format used, e.g. it is perfectly fine if we are dealing with `HDF5` files* \n",
        "\n",
        "The `Dataset` abstraction is particularly useful when implementing *lazy loading* policies, that is, when you load each item **only when you need it**.\n",
        "You can even apply some preprocessing on the fly, to each item.\n",
        "\n",
        "One example of how it can be done:\n",
        "\n",
        "```python\n",
        "class LazyDataset(Dataset):\n",
        "\n",
        "  def __init__(self, file_paths: Sequence[Path]):\n",
        "    super().__init__()  \n",
        "    self.file_paths = file_paths\n",
        "\n",
        "  def __len__(self):\n",
        "    return len(self.file_paths)\n",
        "\n",
        "  def __getitem__(self, idx):\n",
        "    sample_path = self.file_paths[idx]\n",
        "\n",
        "    # -> Load sample_path in memory\n",
        "    # -> Perform some lightweight preprocessing\n",
        "    # -> Generate (sample_input, sample_output) \n",
        "\n",
        "    return {\n",
        "        'x': sample_input,\n",
        "        'y': sample_output\n",
        "    }\n",
        "\n",
        "```\n",
        " "
      ]
    },
    {
      "cell_type": "markdown",
      "metadata": {
        "id": "P79iR6q0gIzw"
      },
      "source": [
        "**NOTE**\n",
        "\n",
        "The dataset can return any type of object, you are *not* forced to return a dictionary of tensors:\n",
        "\n"
      ]
    },
    {
      "cell_type": "code",
      "metadata": {
        "id": "nDg1ggjdiMA4",
        "colab": {
          "base_uri": "https://localhost:8080/"
        },
        "outputId": "11a70569-8ab0-49a3-a6aa-ad660110168c"
      },
      "source": [
        "from torch.utils.data import Dataset\n",
        "\n",
        "class AnotherDataset(Dataset):\n",
        "  def __init__(self):\n",
        "    super().__init__()  \n",
        "    self.myitems = torch.arange(100)\n",
        "\n",
        "  def __len__(self):\n",
        "    return len(self.myitems)\n",
        "\n",
        "  def __getitem__(self, idx):\n",
        "    return f'Sample{idx}', self.myitems[idx], None, 3.5\n",
        "\n",
        "dataset = AnotherDataset()\n",
        "dataset[5]"
      ],
      "execution_count": 26,
      "outputs": [
        {
          "output_type": "execute_result",
          "data": {
            "text/plain": [
              "('Sample5', tensor(5), None, 3.5)"
            ]
          },
          "metadata": {},
          "execution_count": 26
        }
      ]
    },
    {
      "cell_type": "markdown",
      "metadata": {
        "id": "zOwlr_u2iLh6"
      },
      "source": [
        "\n",
        "However, it is often useful to return a dictionary of tensors. \n",
        "\n",
        "Note that the returned tensors should *not* be on the GPU memory, as of today it [causes problems](https://pytorch.org/docs/stable/data.html#multi-process-data-loading) with the multiprocessing behaviour of the DataLoader.\n",
        "\n",
        "\n",
        "Returning a dictionary of tensors will:\n",
        "\n",
        "- Make your code more readable\n",
        "- Ease the batch creation process: you may use the `DataLoader` default `collate_fn` \n",
        "\n"
      ]
    },
    {
      "cell_type": "markdown",
      "metadata": {
        "id": "ndnx7HJxkvXH"
      },
      "source": [
        "## PyTorch DataLoader"
      ]
    },
    {
      "cell_type": "markdown",
      "source": [
        "\n",
        "[`torch.utils.data.DataLoader`](https://pytorch.org/docs/stable/data.html?highlight=dataloader#torch.utils.data.DataLoader) is an iterator which provides:\n",
        "\n",
        "- Data batching\n",
        "- Data shuffling\n",
        "- Parallel data loading using `multiprocessing` workers. Meaning that while the `GPU` is performing some computation on a batch, in parallel you can load the next batch.\n",
        "\n",
        "\n",
        "Creating a dataloader from a dataset is straightforward, this is one example that highlights some of the most used parameters:"
      ],
      "metadata": {
        "id": "G_peCB8pRTn7"
      }
    },
    {
      "cell_type": "code",
      "metadata": {
        "id": "bNxfH3vayfVx",
        "colab": {
          "base_uri": "https://localhost:8080/",
          "height": 222,
          "referenced_widgets": [
            "dd8ab0f7907c4fdfbada86013fde372e",
            "e6463cb8d7bf4f7386b9d78319242a2b",
            "8b1e7606cc004cbfaa30995eb93f4f33",
            "3958333dc0904478a462c39162060060",
            "aa2b352e5cba491ebe01ab363cf11430",
            "cf683aa850bf4f779014fa3791547f88",
            "a11a1523d599499087d38741db85582d",
            "2ff2399388d44eb78f0b32119c028688",
            "b883bd2276f3449594975e6349fbe5c8",
            "dc947649191444f78484ff2dd59ed6ec",
            "a212a5fa9e6b4d1c9fd1cf743e126078",
            "09718d0407244eadab345e1ebe201c74",
            "1f84842ab0f74359aa8ee18f195804b6",
            "b81ba0c8d1fd435cbfeac30f3debffad",
            "0397443832484bb9ac9df8faef94db7d",
            "13ef383079384058ab690667f51a8a7f",
            "cb5d0a494ff5493ca1b004f2b570069b",
            "e91d7fbe8ad04afda86b217bf2828120",
            "3bb93288c9194f21b98e704d32a7fece",
            "3931adf83f0644a19d2ff08016ee4ff8",
            "ded528b5b55c44faabd637c6b985f3b7",
            "ca60816d05714c1e86d3e5e66114d87a"
          ]
        },
        "outputId": "f1e4545b-f500-440e-ba0f-425b474bf464"
      },
      "source": [
        "from torch.utils.data import DataLoader\n",
        "\n",
        "toydataset = ToyDataset(200)\n",
        "toyloader = DataLoader(toydataset,\n",
        "                       batch_size=8,    # number of elements in each batch\n",
        "                       shuffle=True,    # shuffle the dataset\n",
        "                       num_workers=4,   # number of workers, i.e. batches to prefetch\n",
        "                       pin_memory=True  # return memory pinnded tensors\n",
        "                       )\n",
        "\n",
        "# 200 iterations\n",
        "for sample in tqdm(toydataset): \n",
        "  pass\n",
        "print(sample)\n",
        "\n",
        "# 25 iterations\n",
        "for batch in tqdm(toyloader):  # there is some overhead when using multiple workers!\n",
        "  pass\n",
        "batch"
      ],
      "execution_count": 27,
      "outputs": [
        {
          "output_type": "stream",
          "name": "stderr",
          "text": [
            "/usr/local/lib/python3.9/dist-packages/torch/utils/data/dataloader.py:554: UserWarning:\n",
            "\n",
            "This DataLoader will create 4 worker processes in total. Our suggested max number of worker in current system is 2, which is smaller than what this DataLoader is going to create. Please be aware that excessive worker creation might get DataLoader running slow or even freeze, lower the worker number to avoid potential slowness/freeze if necessary.\n",
            "\n"
          ]
        },
        {
          "output_type": "display_data",
          "data": {
            "text/plain": [
              "  0%|          | 0/200 [00:00<?, ?it/s]"
            ],
            "application/vnd.jupyter.widget-view+json": {
              "version_major": 2,
              "version_minor": 0,
              "model_id": "dd8ab0f7907c4fdfbada86013fde372e"
            }
          },
          "metadata": {}
        },
        {
          "output_type": "stream",
          "name": "stdout",
          "text": [
            "{'x': tensor(1.), 'y': tensor(1.0513)}\n"
          ]
        },
        {
          "output_type": "display_data",
          "data": {
            "text/plain": [
              "  0%|          | 0/25 [00:00<?, ?it/s]"
            ],
            "application/vnd.jupyter.widget-view+json": {
              "version_major": 2,
              "version_minor": 0,
              "model_id": "09718d0407244eadab345e1ebe201c74"
            }
          },
          "metadata": {}
        },
        {
          "output_type": "execute_result",
          "data": {
            "text/plain": [
              "{'x': tensor([ 0.4271, -0.4673, -0.4070, -0.1457,  0.8794,  0.1859, -0.8492, -0.5779]),\n",
              " 'y': tensor([ 0.0288, -0.1731, -0.0191, -0.0736,  0.6671, -0.2229, -0.3858, -0.4136])}"
            ]
          },
          "metadata": {},
          "execution_count": 27
        }
      ]
    },
    {
      "cell_type": "markdown",
      "metadata": {
        "id": "Bm9Uhxbt52fy"
      },
      "source": [
        "If you are not returning a dictionary or some other form of regular structure from the dataset, you must manually specify *how* to combine the samples together to form the batches. This can be done with the `collate_fn` parameter of the `DataLoader`.\n",
        "\n",
        "Please read these [docs](https://pytorch.org/docs/stable/data.html#loading-batched-and-non-batched-data) to understand the default behaviour of the `collate_fn` and how you can define custom `collate_fn` functions."
      ]
    },
    {
      "cell_type": "markdown",
      "metadata": {
        "id": "pALUlr9Czk_B"
      },
      "source": [
        "> **NOTE**\n",
        "> \n",
        "> The `DataLoader` is just an iterator, it can't be indexed!"
      ]
    },
    {
      "cell_type": "code",
      "metadata": {
        "id": "ijjb5ujOzpvQ",
        "colab": {
          "base_uri": "https://localhost:8080/"
        },
        "outputId": "7f4de9a9-8886-4ad8-b663-89f47a11429f"
      },
      "source": [
        "try:\n",
        "  toyloader[0]\n",
        "except Exception as e:\n",
        "  print('Error:', e)"
      ],
      "execution_count": 28,
      "outputs": [
        {
          "output_type": "stream",
          "name": "stdout",
          "text": [
            "Error: 'DataLoader' object is not subscriptable\n"
          ]
        }
      ]
    },
    {
      "cell_type": "markdown",
      "metadata": {
        "id": "SYYP8rCj2-Ae"
      },
      "source": [
        "### 📖 Memory pinning"
      ]
    },
    {
      "cell_type": "markdown",
      "metadata": {
        "id": "GRqZeY_A1Ink"
      },
      "source": [
        "Pytorch tensors support [memory pinning](https://devblogs.nvidia.com/how-optimize-data-transfers-cuda-cc/):"
      ]
    },
    {
      "cell_type": "markdown",
      "metadata": {
        "id": "T1BIKzR36fww"
      },
      "source": [
        "![](https://devblogs.nvidia.com/wp-content/uploads/2012/12/pinned-1024x541.jpg)"
      ]
    },
    {
      "cell_type": "markdown",
      "metadata": {
        "id": "84rs4T_66ffq"
      },
      "source": [
        "\n",
        "Pinned tensors enable:\n",
        "- **Much faster copies** from CPU to GPU. \n",
        "- **Aynchronous GPU copies**, just pass an additional **`non_blocking=True`** argument to a `to()` or a `cuda()` call. Meaning that *while* the tensor is being transferred, the code continues if it does not need that tensor. (**gpu operations are [asynchronous](https://pytorch.org/docs/stable/notes/cuda.html#asynchronous-execution) by default**)\n",
        "\n",
        "Given a tensor you can manually pin it:"
      ]
    },
    {
      "cell_type": "code",
      "metadata": {
        "id": "tF0GVdOq3tnG",
        "colab": {
          "base_uri": "https://localhost:8080/"
        },
        "outputId": "be6fa693-868b-409c-800d-2f3b65fce2e8"
      },
      "source": [
        "t = torch.rand(100)\n",
        "t.is_pinned()"
      ],
      "execution_count": 29,
      "outputs": [
        {
          "output_type": "execute_result",
          "data": {
            "text/plain": [
              "False"
            ]
          },
          "metadata": {},
          "execution_count": 29
        }
      ]
    },
    {
      "cell_type": "code",
      "metadata": {
        "id": "6p_mlBoh3p-a"
      },
      "source": [
        "# be sure to use a GPU runtime, otherwise it won't be pinned\n",
        "t = t.pin_memory()  # rember to reassign"
      ],
      "execution_count": 30,
      "outputs": []
    },
    {
      "cell_type": "code",
      "metadata": {
        "id": "kgFj15grDJPl",
        "colab": {
          "base_uri": "https://localhost:8080/"
        },
        "outputId": "c3ed438b-3a08-4ba4-bbd8-392a879eb4d5"
      },
      "source": [
        "t.is_pinned()"
      ],
      "execution_count": 31,
      "outputs": [
        {
          "output_type": "execute_result",
          "data": {
            "text/plain": [
              "True"
            ]
          },
          "metadata": {},
          "execution_count": 31
        }
      ]
    },
    {
      "cell_type": "markdown",
      "metadata": {
        "id": "nY2UFPT14EkF"
      },
      "source": [
        "Passing `pin_memory=True` to a `DataLoader` will automatically put the fetched data Tensors in pinned memory, and thus enables faster data transfer to CUDA-enabled GPUs. \n",
        "\n",
        "Only the known types returned by the `Dataset` are automatically pinned by the `DataLoader` (Tensor, Map and Sequence of Tensors), if you want to pin some custom type read more [here](https://pytorch.org/docs/stable/data.html#memory-pinning) (tldr: define a `pin_memory()` method on your custom type(s))."
      ]
    },
    {
      "cell_type": "code",
      "metadata": {
        "id": "5gNnoz6U5sMz",
        "colab": {
          "base_uri": "https://localhost:8080/"
        },
        "outputId": "c8663ae7-001e-4e44-8321-faf29d604ad2"
      },
      "source": [
        "batch['x'].is_pinned()  "
      ],
      "execution_count": 32,
      "outputs": [
        {
          "output_type": "execute_result",
          "data": {
            "text/plain": [
              "True"
            ]
          },
          "metadata": {},
          "execution_count": 32
        }
      ]
    },
    {
      "cell_type": "markdown",
      "metadata": {
        "id": "Q4l1TIvepi6H"
      },
      "source": [
        "### Bottlenecks\n",
        "Make sure the data loading is **not a bottleneck** in your pipeline.\n",
        "Your GPU must not **wait for data**.\n",
        "\n"
      ]
    },
    {
      "cell_type": "markdown",
      "metadata": {
        "id": "zFEIytCKlMsQ"
      },
      "source": [
        "#### How to check if your data loading is a bottleneck?\n",
        "\n",
        "##### **Check resource usage**\n",
        "\n",
        "Check the GPU (or CPU) usage, if it is ~$100\\%$ it is being fully utilised. \n",
        "\n",
        "Otherwise you may have a bottleneck somewhere, or, your data operations may not be GPU friendly (e.g. small batches). \n",
        "\n",
        "\n",
        "##### **Check data loading speed**\n",
        "\n",
        "Iterate over the `Dataset` or `DataLoader` and check the data loading speed, i.e. the items per seconds. \n",
        "\n",
        "If the number of items per seconds that you are able to load is greater than the items per seconds that you can process in your train-loop, you don't have a bottleneck in the data loading part of the pipeline. \n",
        "\n",
        "You can use the [tqdm](https://github.com/tqdm/tqdm) package to easily check the iteration speed of any iterable with a minimal overhead."
      ]
    },
    {
      "cell_type": "code",
      "metadata": {
        "id": "-PLGSqUenoTz",
        "colab": {
          "base_uri": "https://localhost:8080/",
          "height": 49,
          "referenced_widgets": [
            "f38ea96fec78448e93eb4d979418097f",
            "a2101aa18f354dfa99023c3e1a832232",
            "93a40db19efa4f99888345aa1fcb724d",
            "a99cf5948db14396a22ac331d9cf2c77",
            "386c63daf6c64e6fb1f20a45bda24834",
            "993b74d31c3949d8970a23d0877ee118",
            "c1775c747f38426392e9ef2fc0e774c2",
            "643123ec106b4b3782fd2798f82e8a87",
            "f515c29c39924cb7a2a7d24ff16d2028",
            "8798a632457543f6b15637ada82270bf",
            "dac3f7c4f1964e84971857009e94a7c9"
          ]
        },
        "outputId": "e00400a8-33d3-4d05-e6bc-0f73490c7bee"
      },
      "source": [
        "# Checking the loading speed\n",
        "from tqdm.notebook import tqdm as tqdm  # just a progress bar\n",
        "\n",
        "toydataset = ToyDataset(20000)\n",
        "toyloader = DataLoader(toydataset,\n",
        "                       batch_size=8,    # number of elements in each batch\n",
        "                       shuffle=True,    # shuffle the dataset\n",
        "                       num_workers=4,   # number of workers, i.e. batches to prefetch\n",
        "                       pin_memory=True  # return memory pinnded tensors\n",
        "                       )\n",
        "for batch in tqdm(toyloader):\n",
        "  pass\n",
        "\n",
        "# tqdm reports ~300.00it/s (iteration each second).\n",
        "# If the train-loop without data loading (e.g. model forward) is faster, the bottleneck is somewhere else."
      ],
      "execution_count": 33,
      "outputs": [
        {
          "output_type": "display_data",
          "data": {
            "text/plain": [
              "  0%|          | 0/2500 [00:00<?, ?it/s]"
            ],
            "application/vnd.jupyter.widget-view+json": {
              "version_major": 2,
              "version_minor": 0,
              "model_id": "f38ea96fec78448e93eb4d979418097f"
            }
          },
          "metadata": {}
        }
      ]
    },
    {
      "cell_type": "markdown",
      "metadata": {
        "id": "DUhUSCRNoTQb"
      },
      "source": [
        "#### How to fix a bottleneck in the data loading?\n",
        "\n",
        "##### 1) **Use in-memory datasets**\n",
        "If your dataset fits on memory, load the whole dataset in memory.\n",
        "\n",
        "##### 2) **Tune DataLoader parameters**\n",
        "Tune the `num_workers` and `batch_size` parameter of the `DataLoader`, pay attention that the batch size has a direct impact on the training. A sane default for `num_workers` is the number of cores in your CPU.\n",
        "\n",
        "##### 3) **Do not preprocess on the fly**\n",
        "If you are preprocessing your files, save the preprocessed files to the disk \n",
        "\n",
        "##### 4) **Speed up raw file loading**\n",
        "If even just loading the files from disk is slow, consider changing the way in which the files are stored (e.g. another [format](https://www.h5py.org/), a [database](https://github.com/google/leveldb))."
      ]
    },
    {
      "cell_type": "markdown",
      "metadata": {
        "id": "34YGEYsZyBvS"
      },
      "source": [
        "> **NOTE**\n",
        "> \n",
        "> You can read much more on the `torch.utils.data` package [here](https://pytorch.org/docs/stable/data.html).\n",
        "> \n",
        "> Moreover, keep in mind that the [`torchvision`](https://pytorch.org/vision/stable/index.html) package provides some common datasets and transforms."
      ]
    },
    {
      "cell_type": "markdown",
      "metadata": {
        "id": "JiCv7axFUEel"
      },
      "source": [
        "> **EXERCISE**\n",
        "> \n",
        "> You want to create a neural network that is able to learn how to recover corrupted images from the [CIFAR10](https://www.cs.toronto.edu/~kriz/cifar.html) dataset. That is, given in input a corrupted image the model outputs the correspondent original uncorrupted image.\n",
        ">\n",
        "> You are free to choose the type of corruption to apply. Possible examples are: random noise, random black patches, random crop, random reflections, all the previous together.\n",
        ">\n",
        "> 1) Think about the data pipeline this model would require. What should the dataset return?\n",
        ">\n",
        "> 2) Create the `Dataset` and `DataLoader` to implement it.\n",
        ">\n",
        "> 3) Plot the images in a **batch** to ensure you are doing everything right.\n",
        "> \n",
        ">  *hint*: you may use [`torchvision.datasets`](https://pytorch.org/vision/stable/datasets.html) and [`torchvision.transforms`](https://pytorch.org/vision/stable/transforms.html)"
      ]
    },
    {
      "cell_type": "markdown",
      "metadata": {
        "id": "U07puKsVdCXZ"
      },
      "source": [
        "> **EXERCISE** *(discuss only)*\n",
        "> \n",
        "> Consider [The Abstraction and Reasoning Corpus (ARC)](https://github.com/fchollet/ARC).\n",
        "> \n",
        "> If you want, you can clone the ARC repository on your computer and play yourself against some proposed tasks, it is enough to open `apps/testing_interface.html` in your browser.\n",
        "> \n",
        "> > *ARC can be seen as a general artificial intelligence benchmark, as a program synthesis benchmark, or as a psychometric intelligence test. It is targeted at both humans and artificially intelligent systems that aim at emulating a human-like form of general fluid intelligence.*\n",
        "> >\n",
        "> > **Dataset goal**\n",
        "> > \n",
        "> > A test-taker is said to solve a task when, upon seeing the task for the first time, they are able to produce the correct output grid for *all* test inputs in the task (this includes picking the dimensions of the output grid). For each test input, the test-taker is allowed 3 trials (this holds for all test-takers, either humans or AI).\n",
        "> >\n",
        "> > **Task file format**\n",
        "> > \n",
        "> > The `data` directory contains two subdirectories:\n",
        "> > \n",
        "> > - `data/training`: contains the task files for training (400 tasks). Use these to prototype your algorithm or to train your algorithm to acquire ARC-relevant cognitive priors.\n",
        "> > - `data/evaluation`: contains the task files for evaluation (400 tasks). Use these to evaluate your final algorithm. To ensure fair evaluation results, do not leak information from the evaluation set into your algorithm (e.g. by looking at the evaluation tasks yourself during development, or by repeatedly modifying an algorithm while using its evaluation score as feedback).\n",
        "> > \n",
        "> > The tasks are stored in JSON format. Each task JSON file contains a dictionary with two fields:\n",
        "> > \n",
        "> > - `\"train\"`: demonstration input/output pairs. It is a list of \"pairs\" (typically 3 pairs).\n",
        "> > - `\"test\"`: test input/output pairs. It is a list of \"pairs\" (typically 1 pair).\n",
        "> > \n",
        "> > A \"pair\" is a dictionary with two fields:\n",
        "> > \n",
        "> > - `\"input\"`: the input \"grid\" for the pair.\n",
        "> > - `\"output\"`: the output \"grid\" for the pair.\n",
        "> > \n",
        "> > A \"grid\" is a rectangular matrix (list of lists) of integers between 0 and 9 (inclusive). The smallest possible grid size is 1x1 and the largest is 30x30.\n",
        "> \n",
        ">\n",
        "> - What would your`Dataset` return for this task? \n",
        "> - What would each batch contain?\n",
        "> \n",
        "> Discuss and compare your choices with your colleagues. Did you all make the same choices? Why or why not?\n"
      ]
    }
  ]
}